{
  "nbformat": 4,
  "nbformat_minor": 0,
  "metadata": {
    "colab": {
      "name": "Gold Case Study-data visualization.ipynb",
      "version": "0.3.2",
      "provenance": [],
      "collapsed_sections": [
        "Vpkf4BOzVZKo",
        "WJxdzfnJoRCx",
        "-cH8TlMVvict"
      ],
      "toc_visible": true,
      "include_colab_link": true
    },
    "kernelspec": {
      "name": "python3",
      "display_name": "Python 3"
    },
    "accelerator": "GPU"
  },
  "cells": [
    {
      "cell_type": "markdown",
      "metadata": {
        "id": "view-in-github",
        "colab_type": "text"
      },
      "source": [
        "<a href=\"https://colab.research.google.com/github/maxmatical/Machine-Learning/blob/master/Gold_Case_Study_data_visualization.ipynb\" target=\"_parent\"><img src=\"https://colab.research.google.com/assets/colab-badge.svg\" alt=\"Open In Colab\"/></a>"
      ]
    },
    {
      "metadata": {
        "id": "TBn1CjquH0Tw",
        "colab_type": "text"
      },
      "cell_type": "markdown",
      "source": [
        "# Installing Required Packages"
      ]
    },
    {
      "metadata": {
        "id": "CVnm8K03HvqE",
        "colab_type": "code",
        "colab": {}
      },
      "cell_type": "code",
      "source": [
        "# Set up environment and download course-v3\n",
        "!pip install torch_nightly -f https://download.pytorch.org/whl/nightly/cu92/torch_nightly.html\n",
        "!pip install fastai\n",
        "!pip install fastprogress\n",
        "!pip install pathlib"
      ],
      "execution_count": 0,
      "outputs": []
    },
    {
      "metadata": {
        "id": "SMiWMiwlH9wX",
        "colab_type": "code",
        "colab": {}
      },
      "cell_type": "code",
      "source": [
        " !curl https://course-v3.fast.ai/setup/colab | bash"
      ],
      "execution_count": 0,
      "outputs": []
    },
    {
      "metadata": {
        "id": "biF4Fc5AH_GV",
        "colab_type": "code",
        "colab": {}
      },
      "cell_type": "code",
      "source": [
        "from fastai import *\n",
        "from fastai.tabular import *\n"
      ],
      "execution_count": 0,
      "outputs": []
    },
    {
      "metadata": {
        "id": "JjVc47GxSnST",
        "colab_type": "code",
        "colab": {}
      },
      "cell_type": "code",
      "source": [
        "import pandas as pd\n",
        "import matplotlib as plt\n",
        "import numpy as np"
      ],
      "execution_count": 0,
      "outputs": []
    },
    {
      "metadata": {
        "id": "BNZwLYN0VBV2",
        "colab_type": "code",
        "colab": {}
      },
      "cell_type": "code",
      "source": [
        "# check the directory of the data \n",
        "!ls -d $PWD/*"
      ],
      "execution_count": 0,
      "outputs": []
    },
    {
      "metadata": {
        "id": "qe1mzLqtR1OF",
        "colab_type": "text"
      },
      "cell_type": "markdown",
      "source": [
        "# Loading in Data"
      ]
    },
    {
      "metadata": {
        "id": "EZE1nXT4SMkd",
        "colab_type": "text"
      },
      "cell_type": "markdown",
      "source": [
        "using a function to concatenate csvs "
      ]
    },
    {
      "metadata": {
        "id": "5hO6VZGsSsGt",
        "colab_type": "code",
        "colab": {}
      },
      "cell_type": "code",
      "source": [
        "path = '/content/data/'\n",
        "os.makedirs(path, exist_ok=True)\n",
        "#path\n"
      ],
      "execution_count": 0,
      "outputs": []
    },
    {
      "metadata": {
        "id": "AGF-sDadS7di",
        "colab_type": "code",
        "outputId": "dec7bc6b-ac2d-4bc3-adec-817fb9dd6d68",
        "colab": {
          "base_uri": "https://localhost:8080/",
          "height": 51
        }
      },
      "cell_type": "code",
      "source": [
        "!ls {path}"
      ],
      "execution_count": 74,
      "outputs": [
        {
          "output_type": "stream",
          "text": [
            " C1_Comdty_t.csv\t'GC1 Comdty_t.csv'   us_macro_t.csv\n",
            " chicago_weather_t.csv\t models\n"
          ],
          "name": "stdout"
        }
      ]
    },
    {
      "metadata": {
        "id": "cN2OO0ggTDra",
        "colab_type": "code",
        "outputId": "15a767a6-fb1b-4e28-bb8a-c0a61ad418c8",
        "colab": {
          "base_uri": "https://localhost:8080/",
          "height": 34
        }
      },
      "cell_type": "code",
      "source": [
        "# check the directory of the data \n",
        "!ls -d $PWD/*"
      ],
      "execution_count": 7,
      "outputs": [
        {
          "output_type": "stream",
          "text": [
            "/content/course-v3  /content/data  /content/models\n"
          ],
          "name": "stdout"
        }
      ]
    },
    {
      "metadata": {
        "id": "VnoWuqCUSSeD",
        "colab_type": "code",
        "colab": {}
      },
      "cell_type": "code",
      "source": [
        "table_names = ['C1_Comdty_t', 'GC1 Comdty_t', 'chicago_weather_t', 'us_macro_t']"
      ],
      "execution_count": 0,
      "outputs": []
    },
    {
      "metadata": {
        "id": "EVx4No0VSbhp",
        "colab_type": "code",
        "colab": {}
      },
      "cell_type": "code",
      "source": [
        "tables = [pd.read_csv(f'{path}{fname}.csv', low_memory=False) for fname in table_names]\n"
      ],
      "execution_count": 0,
      "outputs": []
    },
    {
      "metadata": {
        "id": "zeJ04QfBb-GS",
        "colab_type": "text"
      },
      "cell_type": "markdown",
      "source": [
        "Naming tables"
      ]
    },
    {
      "metadata": {
        "id": "U6P_0sa4bteZ",
        "colab_type": "code",
        "colab": {}
      },
      "cell_type": "code",
      "source": [
        "C1 = tables[0]\n",
        "GC1 = tables[1]\n",
        "chicago_weather = tables[2]\n",
        "us_macro = tables[3]\n"
      ],
      "execution_count": 0,
      "outputs": []
    },
    {
      "metadata": {
        "id": "Qo9DpvQ6cKtW",
        "colab_type": "code",
        "colab": {}
      },
      "cell_type": "code",
      "source": [
        ""
      ],
      "execution_count": 0,
      "outputs": []
    },
    {
      "metadata": {
        "id": "Vpkf4BOzVZKo",
        "colab_type": "text"
      },
      "cell_type": "markdown",
      "source": [
        "# Exploratory Data Analysis"
      ]
    },
    {
      "metadata": {
        "id": "AmfxzwKXSdFj",
        "colab_type": "code",
        "colab": {}
      },
      "cell_type": "code",
      "source": [
        "from IPython.display import HTML, display\n"
      ],
      "execution_count": 0,
      "outputs": []
    },
    {
      "metadata": {
        "id": "I0OzteSEYPI3",
        "colab_type": "code",
        "colab": {}
      },
      "cell_type": "code",
      "source": [
        "! pip install pandas-summary\n",
        "from pandas_summary import DataFrameSummary\n"
      ],
      "execution_count": 0,
      "outputs": []
    },
    {
      "metadata": {
        "id": "NtB3jJXkVd58",
        "colab_type": "code",
        "colab": {}
      },
      "cell_type": "code",
      "source": [
        "# looking at all data\n",
        "for t in tables: display(t.head())"
      ],
      "execution_count": 0,
      "outputs": []
    },
    {
      "metadata": {
        "id": "3nnhZD3LVfch",
        "colab_type": "code",
        "colab": {}
      },
      "cell_type": "code",
      "source": [
        "# looking at summarized data\n",
        "for t in tables: display(t.describe(include='all'))"
      ],
      "execution_count": 0,
      "outputs": []
    },
    {
      "metadata": {
        "id": "x5mcalcDall6",
        "colab_type": "text"
      },
      "cell_type": "markdown",
      "source": [
        "# Data Cleaning and Feature Engineering"
      ]
    },
    {
      "metadata": {
        "id": "9w5d3ZMwfpib",
        "colab_type": "text"
      },
      "cell_type": "markdown",
      "source": [
        "creating Month field for all tables"
      ]
    },
    {
      "metadata": {
        "id": "78FYoxEzftXU",
        "colab_type": "code",
        "colab": {}
      },
      "cell_type": "code",
      "source": [
        "GC1['Month'] = pd.DatetimeIndex(GC1['GC1 Comdty']).month\n",
        "C1['Month'] = pd.DatetimeIndex(C1['C 1 Comdty']).month\n",
        "chicago_weather['Month'] = pd.DatetimeIndex(chicago_weather['DATE']).month\n",
        "us_macro['Month'] = pd.DatetimeIndex(us_macro['date']).month"
      ],
      "execution_count": 0,
      "outputs": []
    },
    {
      "metadata": {
        "id": "aTBrMJU4gtNm",
        "colab_type": "text"
      },
      "cell_type": "markdown",
      "source": [
        "creating year field for year to join chicago_weather and us_macro"
      ]
    },
    {
      "metadata": {
        "id": "iFl3XIWsf_z2",
        "colab_type": "code",
        "colab": {}
      },
      "cell_type": "code",
      "source": [
        "# us_macro['Year'] =  pd.DatetimeIndex(us_macro['date']).year\n",
        "# chicago_weather['Year'] = pd.DatetimeIndex(chicago_weather['DATE']).year\n",
        "\n",
        "chicago_weather['Month_Year'] = pd.to_datetime(chicago_weather['DATE']).dt.to_period('M')\n",
        "us_macro['Month_Year'] = pd.to_datetime(us_macro['date']).dt.to_period('M')\n"
      ],
      "execution_count": 0,
      "outputs": []
    },
    {
      "metadata": {
        "id": "4dwFDgRRhLeh",
        "colab_type": "code",
        "colab": {}
      },
      "cell_type": "code",
      "source": [
        "#GC1"
      ],
      "execution_count": 0,
      "outputs": []
    },
    {
      "metadata": {
        "id": "C3iv1gnybAYq",
        "colab_type": "text"
      },
      "cell_type": "markdown",
      "source": [
        "Join function to join pandas dataframes\n",
        "\n",
        "We don't use an inner join because we won't want to delete any values (yet), we just want them to appear as null, so we can analyze them later"
      ]
    },
    {
      "metadata": {
        "id": "8kba5_s1Z_IM",
        "colab_type": "code",
        "colab": {}
      },
      "cell_type": "code",
      "source": [
        "def join_df(left, right, left_on, right_on=None, suffix='_y'):\n",
        "    if right_on is None: right_on = left_on\n",
        "    return left.merge(right, how='left', left_on=left_on, right_on=right_on, \n",
        "                      suffixes=(\"\", suffix))"
      ],
      "execution_count": 0,
      "outputs": []
    },
    {
      "metadata": {
        "id": "ToubLN69bDcI",
        "colab_type": "code",
        "colab": {}
      },
      "cell_type": "code",
      "source": [
        "# joining corn and gold based on date\n",
        "gold = join_df(GC1,C1, 'GC1 Comdty', 'C 1 Comdty', suffix = '_corn')\n"
      ],
      "execution_count": 0,
      "outputs": []
    },
    {
      "metadata": {
        "id": "5IxJVfJKcUkG",
        "colab_type": "code",
        "colab": {}
      },
      "cell_type": "code",
      "source": [
        "gold"
      ],
      "execution_count": 0,
      "outputs": []
    },
    {
      "metadata": {
        "id": "Av8Vw6-Vhyzy",
        "colab_type": "code",
        "colab": {}
      },
      "cell_type": "code",
      "source": [
        "# joining chicago weather and us macro\n",
        "us_stats = join_df(chicago_weather, us_macro, 'Month_Year', 'Month_Year', suffix = '_us')"
      ],
      "execution_count": 0,
      "outputs": []
    },
    {
      "metadata": {
        "id": "hQney5fpiCkh",
        "colab_type": "code",
        "colab": {}
      },
      "cell_type": "code",
      "source": [
        "us_stats"
      ],
      "execution_count": 0,
      "outputs": []
    },
    {
      "metadata": {
        "id": "c8AR1HVsjQxI",
        "colab_type": "text"
      },
      "cell_type": "markdown",
      "source": [
        "Finally, combine the 2 tables together"
      ]
    },
    {
      "metadata": {
        "id": "qA3mV3VHcZIy",
        "colab_type": "code",
        "colab": {}
      },
      "cell_type": "code",
      "source": [
        "concat_data = join_df(gold, us_stats, 'GC1 Comdty', 'DATE', suffix = '_y')"
      ],
      "execution_count": 0,
      "outputs": []
    },
    {
      "metadata": {
        "id": "yMJpYqzGc6pa",
        "colab_type": "code",
        "colab": {}
      },
      "cell_type": "code",
      "source": [
        "concat_data"
      ],
      "execution_count": 0,
      "outputs": []
    },
    {
      "metadata": {
        "id": "LH3zHznHkMjG",
        "colab_type": "code",
        "colab": {}
      },
      "cell_type": "code",
      "source": [
        "# saving data\n",
        "concat_data.to_csv('concat_data.csv')"
      ],
      "execution_count": 0,
      "outputs": []
    },
    {
      "metadata": {
        "id": "xTPWcu6kkr4x",
        "colab_type": "text"
      },
      "cell_type": "markdown",
      "source": [
        "Next, we want to drop all duplicate/useless information"
      ]
    },
    {
      "metadata": {
        "id": "ABw_PPXYkwMM",
        "colab_type": "code",
        "colab": {}
      },
      "cell_type": "code",
      "source": [
        "concat_clean = concat_data.drop(['Unnamed: 0', 'Bid', 'Ask', 'Unnamed: 0_corn', 'Unnamed: 0.1',\n",
        "                 'C 1 Comdty', 'Bid_corn', 'Ask_corn', 'Month_corn', 'Unnamed: 0_y', 'LATITUDE', 'LONGITUDE',\n",
        "                 'ELEVATION', 'DATE', 'Month_y', 'Month_Year', 'Unnamed: 0_us', 'date', 'Month_us'], axis=1)"
      ],
      "execution_count": 0,
      "outputs": []
    },
    {
      "metadata": {
        "id": "zWRaiOrnkyyl",
        "colab_type": "code",
        "colab": {}
      },
      "cell_type": "code",
      "source": [
        "concat_clean = concat_clean.rename(columns={'GC1 Comdty': 'Date', 'Last':'Price'})"
      ],
      "execution_count": 0,
      "outputs": []
    },
    {
      "metadata": {
        "id": "RD6T1hRspaNK",
        "colab_type": "text"
      },
      "cell_type": "markdown",
      "source": [
        "Optional: remove any instances where there is no price for gold"
      ]
    },
    {
      "metadata": {
        "id": "4BGXewGDpdKh",
        "colab_type": "code",
        "colab": {}
      },
      "cell_type": "code",
      "source": [
        "#concat_clean.dropna(subset=['Price'])\n",
        "\n",
        "#concat_clean = concat_clean.dropna(subset=['Price'])"
      ],
      "execution_count": 0,
      "outputs": []
    },
    {
      "metadata": {
        "id": "Lo8KmWt4rJ_C",
        "colab_type": "code",
        "outputId": "22a707ef-bad0-4589-8d62-5060e4c028cd",
        "colab": {
          "base_uri": "https://localhost:8080/",
          "height": 1989
        }
      },
      "cell_type": "code",
      "source": [
        "concat_clean"
      ],
      "execution_count": 123,
      "outputs": [
        {
          "output_type": "execute_result",
          "data": {
            "text/html": [
              "<div>\n",
              "<style scoped>\n",
              "    .dataframe tbody tr th:only-of-type {\n",
              "        vertical-align: middle;\n",
              "    }\n",
              "\n",
              "    .dataframe tbody tr th {\n",
              "        vertical-align: top;\n",
              "    }\n",
              "\n",
              "    .dataframe thead th {\n",
              "        text-align: right;\n",
              "    }\n",
              "</style>\n",
              "<table border=\"1\" class=\"dataframe\">\n",
              "  <thead>\n",
              "    <tr style=\"text-align: right;\">\n",
              "      <th></th>\n",
              "      <th>Date</th>\n",
              "      <th>Price</th>\n",
              "      <th>High</th>\n",
              "      <th>Low</th>\n",
              "      <th>Volume</th>\n",
              "      <th>Open_Interest</th>\n",
              "      <th>Month</th>\n",
              "      <th>Last_corn</th>\n",
              "      <th>High_corn</th>\n",
              "      <th>Low_corn</th>\n",
              "      <th>Volume_corn</th>\n",
              "      <th>Open_Interest_corn</th>\n",
              "      <th>TAVG</th>\n",
              "      <th>gdp</th>\n",
              "      <th>cpi</th>\n",
              "      <th>int</th>\n",
              "      <th>nettrade</th>\n",
              "      <th>Weekday</th>\n",
              "    </tr>\n",
              "  </thead>\n",
              "  <tbody>\n",
              "    <tr>\n",
              "      <th>0</th>\n",
              "      <td>1/6/2000</td>\n",
              "      <td>282.399994</td>\n",
              "      <td>282.8</td>\n",
              "      <td>280.2</td>\n",
              "      <td>26026.0</td>\n",
              "      <td>67505.0</td>\n",
              "      <td>1</td>\n",
              "      <td>203.75</td>\n",
              "      <td>205.75</td>\n",
              "      <td>203.00</td>\n",
              "      <td>37490.0</td>\n",
              "      <td>216368.0</td>\n",
              "      <td>30.0</td>\n",
              "      <td>9697.2</td>\n",
              "      <td>0.870493</td>\n",
              "      <td>5.73</td>\n",
              "      <td>-29930.0</td>\n",
              "      <td>3</td>\n",
              "    </tr>\n",
              "    <tr>\n",
              "      <th>1</th>\n",
              "      <td>1/7/2000</td>\n",
              "      <td>282.899994</td>\n",
              "      <td>284.5</td>\n",
              "      <td>282.0</td>\n",
              "      <td>19396.0</td>\n",
              "      <td>68731.0</td>\n",
              "      <td>1</td>\n",
              "      <td>203.75</td>\n",
              "      <td>205.75</td>\n",
              "      <td>202.50</td>\n",
              "      <td>46637.0</td>\n",
              "      <td>219250.0</td>\n",
              "      <td>24.0</td>\n",
              "      <td>9697.2</td>\n",
              "      <td>0.870493</td>\n",
              "      <td>5.73</td>\n",
              "      <td>-29930.0</td>\n",
              "      <td>4</td>\n",
              "    </tr>\n",
              "    <tr>\n",
              "      <th>2</th>\n",
              "      <td>1/10/2000</td>\n",
              "      <td>282.700012</td>\n",
              "      <td>283.9</td>\n",
              "      <td>281.8</td>\n",
              "      <td>11612.0</td>\n",
              "      <td>66778.0</td>\n",
              "      <td>1</td>\n",
              "      <td>208.50</td>\n",
              "      <td>209.25</td>\n",
              "      <td>204.75</td>\n",
              "      <td>47788.0</td>\n",
              "      <td>218442.0</td>\n",
              "      <td>40.0</td>\n",
              "      <td>9697.2</td>\n",
              "      <td>0.870493</td>\n",
              "      <td>5.73</td>\n",
              "      <td>-29930.0</td>\n",
              "      <td>0</td>\n",
              "    </tr>\n",
              "    <tr>\n",
              "      <th>3</th>\n",
              "      <td>1/11/2000</td>\n",
              "      <td>284.399994</td>\n",
              "      <td>285.3</td>\n",
              "      <td>281.9</td>\n",
              "      <td>30928.0</td>\n",
              "      <td>64731.0</td>\n",
              "      <td>1</td>\n",
              "      <td>207.25</td>\n",
              "      <td>209.25</td>\n",
              "      <td>206.25</td>\n",
              "      <td>41233.0</td>\n",
              "      <td>218977.0</td>\n",
              "      <td>40.0</td>\n",
              "      <td>9697.2</td>\n",
              "      <td>0.870493</td>\n",
              "      <td>5.73</td>\n",
              "      <td>-29930.0</td>\n",
              "      <td>1</td>\n",
              "    </tr>\n",
              "    <tr>\n",
              "      <th>4</th>\n",
              "      <td>1/12/2000</td>\n",
              "      <td>283.700012</td>\n",
              "      <td>285.0</td>\n",
              "      <td>282.5</td>\n",
              "      <td>13678.0</td>\n",
              "      <td>64629.0</td>\n",
              "      <td>1</td>\n",
              "      <td>215.50</td>\n",
              "      <td>216.75</td>\n",
              "      <td>206.75</td>\n",
              "      <td>122388.0</td>\n",
              "      <td>229517.0</td>\n",
              "      <td>29.0</td>\n",
              "      <td>9697.2</td>\n",
              "      <td>0.870493</td>\n",
              "      <td>5.73</td>\n",
              "      <td>-29930.0</td>\n",
              "      <td>2</td>\n",
              "    </tr>\n",
              "    <tr>\n",
              "      <th>5</th>\n",
              "      <td>1/13/2000</td>\n",
              "      <td>285.100006</td>\n",
              "      <td>285.9</td>\n",
              "      <td>282.9</td>\n",
              "      <td>18081.0</td>\n",
              "      <td>66815.0</td>\n",
              "      <td>1</td>\n",
              "      <td>220.75</td>\n",
              "      <td>221.50</td>\n",
              "      <td>214.50</td>\n",
              "      <td>92040.0</td>\n",
              "      <td>227935.0</td>\n",
              "      <td>23.0</td>\n",
              "      <td>9697.2</td>\n",
              "      <td>0.870493</td>\n",
              "      <td>5.73</td>\n",
              "      <td>-29930.0</td>\n",
              "      <td>3</td>\n",
              "    </tr>\n",
              "    <tr>\n",
              "      <th>6</th>\n",
              "      <td>1/14/2000</td>\n",
              "      <td>284.899994</td>\n",
              "      <td>285.6</td>\n",
              "      <td>284.0</td>\n",
              "      <td>12609.0</td>\n",
              "      <td>63824.0</td>\n",
              "      <td>1</td>\n",
              "      <td>219.00</td>\n",
              "      <td>221.75</td>\n",
              "      <td>218.25</td>\n",
              "      <td>60925.0</td>\n",
              "      <td>225217.0</td>\n",
              "      <td>18.0</td>\n",
              "      <td>9697.2</td>\n",
              "      <td>0.870493</td>\n",
              "      <td>5.73</td>\n",
              "      <td>-29930.0</td>\n",
              "      <td>4</td>\n",
              "    </tr>\n",
              "    <tr>\n",
              "      <th>7</th>\n",
              "      <td>1/18/2000</td>\n",
              "      <td>284.899994</td>\n",
              "      <td>289.8</td>\n",
              "      <td>284.0</td>\n",
              "      <td>32925.0</td>\n",
              "      <td>55526.0</td>\n",
              "      <td>1</td>\n",
              "      <td>220.00</td>\n",
              "      <td>220.50</td>\n",
              "      <td>215.50</td>\n",
              "      <td>47605.0</td>\n",
              "      <td>222740.0</td>\n",
              "      <td>25.0</td>\n",
              "      <td>9697.2</td>\n",
              "      <td>0.870493</td>\n",
              "      <td>5.73</td>\n",
              "      <td>-29930.0</td>\n",
              "      <td>1</td>\n",
              "    </tr>\n",
              "    <tr>\n",
              "      <th>8</th>\n",
              "      <td>1/19/2000</td>\n",
              "      <td>290.299988</td>\n",
              "      <td>291.0</td>\n",
              "      <td>287.5</td>\n",
              "      <td>29268.0</td>\n",
              "      <td>53023.0</td>\n",
              "      <td>1</td>\n",
              "      <td>220.75</td>\n",
              "      <td>221.00</td>\n",
              "      <td>218.75</td>\n",
              "      <td>33932.0</td>\n",
              "      <td>219724.0</td>\n",
              "      <td>20.0</td>\n",
              "      <td>9697.2</td>\n",
              "      <td>0.870493</td>\n",
              "      <td>5.73</td>\n",
              "      <td>-29930.0</td>\n",
              "      <td>2</td>\n",
              "    </tr>\n",
              "    <tr>\n",
              "      <th>9</th>\n",
              "      <td>1/20/2000</td>\n",
              "      <td>289.299988</td>\n",
              "      <td>290.7</td>\n",
              "      <td>288.4</td>\n",
              "      <td>24315.0</td>\n",
              "      <td>50387.0</td>\n",
              "      <td>1</td>\n",
              "      <td>220.75</td>\n",
              "      <td>221.50</td>\n",
              "      <td>218.75</td>\n",
              "      <td>31713.0</td>\n",
              "      <td>217721.0</td>\n",
              "      <td>9.0</td>\n",
              "      <td>9697.2</td>\n",
              "      <td>0.870493</td>\n",
              "      <td>5.73</td>\n",
              "      <td>-29930.0</td>\n",
              "      <td>3</td>\n",
              "    </tr>\n",
              "    <tr>\n",
              "      <th>10</th>\n",
              "      <td>1/21/2000</td>\n",
              "      <td>289.700012</td>\n",
              "      <td>290.3</td>\n",
              "      <td>287.4</td>\n",
              "      <td>21207.0</td>\n",
              "      <td>46206.0</td>\n",
              "      <td>1</td>\n",
              "      <td>222.75</td>\n",
              "      <td>223.00</td>\n",
              "      <td>219.75</td>\n",
              "      <td>41038.0</td>\n",
              "      <td>222340.0</td>\n",
              "      <td>1.0</td>\n",
              "      <td>9697.2</td>\n",
              "      <td>0.870493</td>\n",
              "      <td>5.73</td>\n",
              "      <td>-29930.0</td>\n",
              "      <td>4</td>\n",
              "    </tr>\n",
              "    <tr>\n",
              "      <th>11</th>\n",
              "      <td>1/24/2000</td>\n",
              "      <td>288.100006</td>\n",
              "      <td>289.7</td>\n",
              "      <td>286.3</td>\n",
              "      <td>26876.0</td>\n",
              "      <td>45162.0</td>\n",
              "      <td>1</td>\n",
              "      <td>227.25</td>\n",
              "      <td>227.50</td>\n",
              "      <td>223.00</td>\n",
              "      <td>57766.0</td>\n",
              "      <td>216039.0</td>\n",
              "      <td>2.0</td>\n",
              "      <td>9697.2</td>\n",
              "      <td>0.870493</td>\n",
              "      <td>5.73</td>\n",
              "      <td>-29930.0</td>\n",
              "      <td>0</td>\n",
              "    </tr>\n",
              "    <tr>\n",
              "      <th>12</th>\n",
              "      <td>1/25/2000</td>\n",
              "      <td>286.600006</td>\n",
              "      <td>291.8</td>\n",
              "      <td>286.6</td>\n",
              "      <td>33364.0</td>\n",
              "      <td>37716.0</td>\n",
              "      <td>1</td>\n",
              "      <td>227.50</td>\n",
              "      <td>228.25</td>\n",
              "      <td>226.00</td>\n",
              "      <td>49448.0</td>\n",
              "      <td>209786.0</td>\n",
              "      <td>16.0</td>\n",
              "      <td>9697.2</td>\n",
              "      <td>0.870493</td>\n",
              "      <td>5.73</td>\n",
              "      <td>-29930.0</td>\n",
              "      <td>1</td>\n",
              "    </tr>\n",
              "    <tr>\n",
              "      <th>13</th>\n",
              "      <td>1/26/2000</td>\n",
              "      <td>286.500000</td>\n",
              "      <td>287.5</td>\n",
              "      <td>284.7</td>\n",
              "      <td>36255.0</td>\n",
              "      <td>33544.0</td>\n",
              "      <td>1</td>\n",
              "      <td>223.00</td>\n",
              "      <td>227.00</td>\n",
              "      <td>222.75</td>\n",
              "      <td>41651.0</td>\n",
              "      <td>205223.0</td>\n",
              "      <td>14.0</td>\n",
              "      <td>9697.2</td>\n",
              "      <td>0.870493</td>\n",
              "      <td>5.73</td>\n",
              "      <td>-29930.0</td>\n",
              "      <td>2</td>\n",
              "    </tr>\n",
              "    <tr>\n",
              "      <th>14</th>\n",
              "      <td>1/27/2000</td>\n",
              "      <td>287.100006</td>\n",
              "      <td>287.5</td>\n",
              "      <td>285.6</td>\n",
              "      <td>19792.0</td>\n",
              "      <td>19963.0</td>\n",
              "      <td>1</td>\n",
              "      <td>223.00</td>\n",
              "      <td>227.00</td>\n",
              "      <td>221.25</td>\n",
              "      <td>47550.0</td>\n",
              "      <td>207355.0</td>\n",
              "      <td>15.0</td>\n",
              "      <td>9697.2</td>\n",
              "      <td>0.870493</td>\n",
              "      <td>5.73</td>\n",
              "      <td>-29930.0</td>\n",
              "      <td>3</td>\n",
              "    </tr>\n",
              "    <tr>\n",
              "      <th>15</th>\n",
              "      <td>1/28/2000</td>\n",
              "      <td>283.000000</td>\n",
              "      <td>287.8</td>\n",
              "      <td>280.5</td>\n",
              "      <td>14540.0</td>\n",
              "      <td>12731.0</td>\n",
              "      <td>1</td>\n",
              "      <td>223.50</td>\n",
              "      <td>226.75</td>\n",
              "      <td>222.75</td>\n",
              "      <td>30823.0</td>\n",
              "      <td>205210.0</td>\n",
              "      <td>14.0</td>\n",
              "      <td>9697.2</td>\n",
              "      <td>0.870493</td>\n",
              "      <td>5.73</td>\n",
              "      <td>-29930.0</td>\n",
              "      <td>4</td>\n",
              "    </tr>\n",
              "    <tr>\n",
              "      <th>16</th>\n",
              "      <td>1/31/2000</td>\n",
              "      <td>283.200012</td>\n",
              "      <td>284.5</td>\n",
              "      <td>282.1</td>\n",
              "      <td>2459.0</td>\n",
              "      <td>7036.0</td>\n",
              "      <td>1</td>\n",
              "      <td>220.00</td>\n",
              "      <td>221.75</td>\n",
              "      <td>218.50</td>\n",
              "      <td>47764.0</td>\n",
              "      <td>204513.0</td>\n",
              "      <td>14.0</td>\n",
              "      <td>9697.2</td>\n",
              "      <td>0.870493</td>\n",
              "      <td>5.73</td>\n",
              "      <td>-29930.0</td>\n",
              "      <td>0</td>\n",
              "    </tr>\n",
              "    <tr>\n",
              "      <th>17</th>\n",
              "      <td>2/1/2000</td>\n",
              "      <td>282.500000</td>\n",
              "      <td>284.0</td>\n",
              "      <td>282.2</td>\n",
              "      <td>502.0</td>\n",
              "      <td>2590.0</td>\n",
              "      <td>2</td>\n",
              "      <td>222.00</td>\n",
              "      <td>222.25</td>\n",
              "      <td>219.50</td>\n",
              "      <td>30581.0</td>\n",
              "      <td>201919.0</td>\n",
              "      <td>18.0</td>\n",
              "      <td>9697.2</td>\n",
              "      <td>0.870493</td>\n",
              "      <td>5.73</td>\n",
              "      <td>-29930.0</td>\n",
              "      <td>1</td>\n",
              "    </tr>\n",
              "    <tr>\n",
              "      <th>18</th>\n",
              "      <td>2/2/2000</td>\n",
              "      <td>282.500000</td>\n",
              "      <td>286.7</td>\n",
              "      <td>282.2</td>\n",
              "      <td>233.0</td>\n",
              "      <td>1403.0</td>\n",
              "      <td>2</td>\n",
              "      <td>220.75</td>\n",
              "      <td>223.00</td>\n",
              "      <td>220.50</td>\n",
              "      <td>25326.0</td>\n",
              "      <td>200206.0</td>\n",
              "      <td>17.0</td>\n",
              "      <td>9697.2</td>\n",
              "      <td>0.870493</td>\n",
              "      <td>5.73</td>\n",
              "      <td>-29930.0</td>\n",
              "      <td>2</td>\n",
              "    </tr>\n",
              "    <tr>\n",
              "      <th>19</th>\n",
              "      <td>2/3/2000</td>\n",
              "      <td>287.200012</td>\n",
              "      <td>288.5</td>\n",
              "      <td>284.3</td>\n",
              "      <td>177.0</td>\n",
              "      <td>1429.0</td>\n",
              "      <td>2</td>\n",
              "      <td>218.00</td>\n",
              "      <td>220.50</td>\n",
              "      <td>217.25</td>\n",
              "      <td>38985.0</td>\n",
              "      <td>193383.0</td>\n",
              "      <td>31.0</td>\n",
              "      <td>9697.2</td>\n",
              "      <td>0.870493</td>\n",
              "      <td>5.73</td>\n",
              "      <td>-29930.0</td>\n",
              "      <td>3</td>\n",
              "    </tr>\n",
              "    <tr>\n",
              "      <th>20</th>\n",
              "      <td>2/4/2000</td>\n",
              "      <td>310.399994</td>\n",
              "      <td>315.0</td>\n",
              "      <td>288.9</td>\n",
              "      <td>327.0</td>\n",
              "      <td>708.0</td>\n",
              "      <td>2</td>\n",
              "      <td>219.75</td>\n",
              "      <td>220.25</td>\n",
              "      <td>214.50</td>\n",
              "      <td>52639.0</td>\n",
              "      <td>189481.0</td>\n",
              "      <td>20.0</td>\n",
              "      <td>9697.2</td>\n",
              "      <td>0.870493</td>\n",
              "      <td>5.73</td>\n",
              "      <td>-29930.0</td>\n",
              "      <td>4</td>\n",
              "    </tr>\n",
              "    <tr>\n",
              "      <th>21</th>\n",
              "      <td>2/7/2000</td>\n",
              "      <td>301.899994</td>\n",
              "      <td>322.0</td>\n",
              "      <td>302.0</td>\n",
              "      <td>362.0</td>\n",
              "      <td>1429.0</td>\n",
              "      <td>2</td>\n",
              "      <td>221.50</td>\n",
              "      <td>222.00</td>\n",
              "      <td>220.00</td>\n",
              "      <td>31293.0</td>\n",
              "      <td>182572.0</td>\n",
              "      <td>24.0</td>\n",
              "      <td>9697.2</td>\n",
              "      <td>0.870493</td>\n",
              "      <td>5.73</td>\n",
              "      <td>-29930.0</td>\n",
              "      <td>0</td>\n",
              "    </tr>\n",
              "    <tr>\n",
              "      <th>22</th>\n",
              "      <td>2/8/2000</td>\n",
              "      <td>299.200012</td>\n",
              "      <td>303.9</td>\n",
              "      <td>295.9</td>\n",
              "      <td>86.0</td>\n",
              "      <td>597.0</td>\n",
              "      <td>2</td>\n",
              "      <td>221.25</td>\n",
              "      <td>222.50</td>\n",
              "      <td>219.25</td>\n",
              "      <td>31139.0</td>\n",
              "      <td>176490.0</td>\n",
              "      <td>24.0</td>\n",
              "      <td>9697.2</td>\n",
              "      <td>0.870493</td>\n",
              "      <td>5.73</td>\n",
              "      <td>-29930.0</td>\n",
              "      <td>1</td>\n",
              "    </tr>\n",
              "    <tr>\n",
              "      <th>23</th>\n",
              "      <td>2/9/2000</td>\n",
              "      <td>306.100006</td>\n",
              "      <td>311.0</td>\n",
              "      <td>295.0</td>\n",
              "      <td>32.0</td>\n",
              "      <td>567.0</td>\n",
              "      <td>2</td>\n",
              "      <td>222.50</td>\n",
              "      <td>222.75</td>\n",
              "      <td>219.50</td>\n",
              "      <td>33115.0</td>\n",
              "      <td>168869.0</td>\n",
              "      <td>37.0</td>\n",
              "      <td>9697.2</td>\n",
              "      <td>0.870493</td>\n",
              "      <td>5.73</td>\n",
              "      <td>-29930.0</td>\n",
              "      <td>2</td>\n",
              "    </tr>\n",
              "    <tr>\n",
              "      <th>24</th>\n",
              "      <td>2/10/2000</td>\n",
              "      <td>316.200012</td>\n",
              "      <td>316.0</td>\n",
              "      <td>307.9</td>\n",
              "      <td>627.0</td>\n",
              "      <td>501.0</td>\n",
              "      <td>2</td>\n",
              "      <td>225.50</td>\n",
              "      <td>226.00</td>\n",
              "      <td>222.00</td>\n",
              "      <td>41428.0</td>\n",
              "      <td>162313.0</td>\n",
              "      <td>34.0</td>\n",
              "      <td>9697.2</td>\n",
              "      <td>0.870493</td>\n",
              "      <td>5.73</td>\n",
              "      <td>-29930.0</td>\n",
              "      <td>3</td>\n",
              "    </tr>\n",
              "    <tr>\n",
              "      <th>25</th>\n",
              "      <td>2/11/2000</td>\n",
              "      <td>316.200012</td>\n",
              "      <td>314.0</td>\n",
              "      <td>307.9</td>\n",
              "      <td>36.0</td>\n",
              "      <td>480.0</td>\n",
              "      <td>2</td>\n",
              "      <td>221.75</td>\n",
              "      <td>226.50</td>\n",
              "      <td>221.25</td>\n",
              "      <td>41018.0</td>\n",
              "      <td>155355.0</td>\n",
              "      <td>19.0</td>\n",
              "      <td>9697.2</td>\n",
              "      <td>0.870493</td>\n",
              "      <td>5.73</td>\n",
              "      <td>-29930.0</td>\n",
              "      <td>4</td>\n",
              "    </tr>\n",
              "    <tr>\n",
              "      <th>26</th>\n",
              "      <td>2/14/2000</td>\n",
              "      <td>308.500000</td>\n",
              "      <td>311.0</td>\n",
              "      <td>307.0</td>\n",
              "      <td>22.0</td>\n",
              "      <td>135.0</td>\n",
              "      <td>2</td>\n",
              "      <td>222.25</td>\n",
              "      <td>225.00</td>\n",
              "      <td>221.25</td>\n",
              "      <td>28026.0</td>\n",
              "      <td>150837.0</td>\n",
              "      <td>25.0</td>\n",
              "      <td>9697.2</td>\n",
              "      <td>0.870493</td>\n",
              "      <td>5.73</td>\n",
              "      <td>-29930.0</td>\n",
              "      <td>0</td>\n",
              "    </tr>\n",
              "    <tr>\n",
              "      <th>27</th>\n",
              "      <td>2/15/2000</td>\n",
              "      <td>301.700012</td>\n",
              "      <td>307.5</td>\n",
              "      <td>301.5</td>\n",
              "      <td>89.0</td>\n",
              "      <td>88.0</td>\n",
              "      <td>2</td>\n",
              "      <td>222.25</td>\n",
              "      <td>223.75</td>\n",
              "      <td>219.75</td>\n",
              "      <td>31353.0</td>\n",
              "      <td>149218.0</td>\n",
              "      <td>30.0</td>\n",
              "      <td>9697.2</td>\n",
              "      <td>0.870493</td>\n",
              "      <td>5.73</td>\n",
              "      <td>-29930.0</td>\n",
              "      <td>1</td>\n",
              "    </tr>\n",
              "    <tr>\n",
              "      <th>28</th>\n",
              "      <td>2/16/2000</td>\n",
              "      <td>302.500000</td>\n",
              "      <td>302.3</td>\n",
              "      <td>302.3</td>\n",
              "      <td>119.0</td>\n",
              "      <td>95.0</td>\n",
              "      <td>2</td>\n",
              "      <td>223.00</td>\n",
              "      <td>223.75</td>\n",
              "      <td>221.25</td>\n",
              "      <td>42972.0</td>\n",
              "      <td>137851.0</td>\n",
              "      <td>27.0</td>\n",
              "      <td>9697.2</td>\n",
              "      <td>0.870493</td>\n",
              "      <td>5.73</td>\n",
              "      <td>-29930.0</td>\n",
              "      <td>2</td>\n",
              "    </tr>\n",
              "    <tr>\n",
              "      <th>29</th>\n",
              "      <td>2/17/2000</td>\n",
              "      <td>302.500000</td>\n",
              "      <td>307.0</td>\n",
              "      <td>302.3</td>\n",
              "      <td>18.0</td>\n",
              "      <td>153.0</td>\n",
              "      <td>2</td>\n",
              "      <td>221.25</td>\n",
              "      <td>223.75</td>\n",
              "      <td>221.00</td>\n",
              "      <td>38081.0</td>\n",
              "      <td>125039.0</td>\n",
              "      <td>25.0</td>\n",
              "      <td>9697.2</td>\n",
              "      <td>0.870493</td>\n",
              "      <td>5.73</td>\n",
              "      <td>-29930.0</td>\n",
              "      <td>3</td>\n",
              "    </tr>\n",
              "    <tr>\n",
              "      <th>...</th>\n",
              "      <td>...</td>\n",
              "      <td>...</td>\n",
              "      <td>...</td>\n",
              "      <td>...</td>\n",
              "      <td>...</td>\n",
              "      <td>...</td>\n",
              "      <td>...</td>\n",
              "      <td>...</td>\n",
              "      <td>...</td>\n",
              "      <td>...</td>\n",
              "      <td>...</td>\n",
              "      <td>...</td>\n",
              "      <td>...</td>\n",
              "      <td>...</td>\n",
              "      <td>...</td>\n",
              "      <td>...</td>\n",
              "      <td>...</td>\n",
              "      <td>...</td>\n",
              "    </tr>\n",
              "    <tr>\n",
              "      <th>1366</th>\n",
              "      <td>6/17/2005</td>\n",
              "      <td>436.200012</td>\n",
              "      <td>439.3</td>\n",
              "      <td>429.5</td>\n",
              "      <td>29.0</td>\n",
              "      <td>165.0</td>\n",
              "      <td>6</td>\n",
              "      <td>225.75</td>\n",
              "      <td>227.50</td>\n",
              "      <td>219.00</td>\n",
              "      <td>63536.0</td>\n",
              "      <td>154316.0</td>\n",
              "      <td>60.0</td>\n",
              "      <td>12376.2</td>\n",
              "      <td>0.991850</td>\n",
              "      <td>3.04</td>\n",
              "      <td>-58260.0</td>\n",
              "      <td>4</td>\n",
              "    </tr>\n",
              "    <tr>\n",
              "      <th>1367</th>\n",
              "      <td>6/20/2005</td>\n",
              "      <td>438.399994</td>\n",
              "      <td>440.4</td>\n",
              "      <td>438.0</td>\n",
              "      <td>18.0</td>\n",
              "      <td>171.0</td>\n",
              "      <td>6</td>\n",
              "      <td>235.50</td>\n",
              "      <td>236.25</td>\n",
              "      <td>231.00</td>\n",
              "      <td>74236.0</td>\n",
              "      <td>140728.0</td>\n",
              "      <td>70.0</td>\n",
              "      <td>12376.2</td>\n",
              "      <td>0.991850</td>\n",
              "      <td>3.04</td>\n",
              "      <td>-58260.0</td>\n",
              "      <td>0</td>\n",
              "    </tr>\n",
              "    <tr>\n",
              "      <th>1368</th>\n",
              "      <td>6/21/2005</td>\n",
              "      <td>438.399994</td>\n",
              "      <td>439.0</td>\n",
              "      <td>438.0</td>\n",
              "      <td>5.0</td>\n",
              "      <td>113.0</td>\n",
              "      <td>6</td>\n",
              "      <td>232.25</td>\n",
              "      <td>235.00</td>\n",
              "      <td>231.00</td>\n",
              "      <td>42158.0</td>\n",
              "      <td>128890.0</td>\n",
              "      <td>75.0</td>\n",
              "      <td>12376.2</td>\n",
              "      <td>0.991850</td>\n",
              "      <td>3.04</td>\n",
              "      <td>-58260.0</td>\n",
              "      <td>1</td>\n",
              "    </tr>\n",
              "    <tr>\n",
              "      <th>1369</th>\n",
              "      <td>6/22/2005</td>\n",
              "      <td>438.100006</td>\n",
              "      <td>438.5</td>\n",
              "      <td>437.5</td>\n",
              "      <td>169.0</td>\n",
              "      <td>146.0</td>\n",
              "      <td>6</td>\n",
              "      <td>229.50</td>\n",
              "      <td>237.50</td>\n",
              "      <td>228.50</td>\n",
              "      <td>31001.0</td>\n",
              "      <td>123663.0</td>\n",
              "      <td>71.0</td>\n",
              "      <td>12376.2</td>\n",
              "      <td>0.991850</td>\n",
              "      <td>3.04</td>\n",
              "      <td>-58260.0</td>\n",
              "      <td>2</td>\n",
              "    </tr>\n",
              "    <tr>\n",
              "      <th>1370</th>\n",
              "      <td>6/23/2005</td>\n",
              "      <td>441.700012</td>\n",
              "      <td>442.5</td>\n",
              "      <td>438.3</td>\n",
              "      <td>29.0</td>\n",
              "      <td>107.0</td>\n",
              "      <td>6</td>\n",
              "      <td>229.50</td>\n",
              "      <td>237.50</td>\n",
              "      <td>225.75</td>\n",
              "      <td>31587.0</td>\n",
              "      <td>113249.0</td>\n",
              "      <td>71.0</td>\n",
              "      <td>12376.2</td>\n",
              "      <td>0.991850</td>\n",
              "      <td>3.04</td>\n",
              "      <td>-58260.0</td>\n",
              "      <td>3</td>\n",
              "    </tr>\n",
              "    <tr>\n",
              "      <th>1371</th>\n",
              "      <td>6/24/2005</td>\n",
              "      <td>440.500000</td>\n",
              "      <td>441.5</td>\n",
              "      <td>438.5</td>\n",
              "      <td>31.0</td>\n",
              "      <td>44.0</td>\n",
              "      <td>6</td>\n",
              "      <td>232.75</td>\n",
              "      <td>233.50</td>\n",
              "      <td>225.50</td>\n",
              "      <td>41621.0</td>\n",
              "      <td>85469.0</td>\n",
              "      <td>83.0</td>\n",
              "      <td>12376.2</td>\n",
              "      <td>0.991850</td>\n",
              "      <td>3.04</td>\n",
              "      <td>-58260.0</td>\n",
              "      <td>4</td>\n",
              "    </tr>\n",
              "    <tr>\n",
              "      <th>1372</th>\n",
              "      <td>6/27/2005</td>\n",
              "      <td>440.299988</td>\n",
              "      <td>440.7</td>\n",
              "      <td>439.5</td>\n",
              "      <td>10.0</td>\n",
              "      <td>17.0</td>\n",
              "      <td>6</td>\n",
              "      <td>221.50</td>\n",
              "      <td>233.50</td>\n",
              "      <td>216.00</td>\n",
              "      <td>43390.0</td>\n",
              "      <td>72989.0</td>\n",
              "      <td>82.0</td>\n",
              "      <td>12376.2</td>\n",
              "      <td>0.991850</td>\n",
              "      <td>3.04</td>\n",
              "      <td>-58260.0</td>\n",
              "      <td>0</td>\n",
              "    </tr>\n",
              "    <tr>\n",
              "      <th>1373</th>\n",
              "      <td>6/28/2005</td>\n",
              "      <td>436.399994</td>\n",
              "      <td>437.5</td>\n",
              "      <td>436.0</td>\n",
              "      <td>40.0</td>\n",
              "      <td>10.0</td>\n",
              "      <td>6</td>\n",
              "      <td>218.50</td>\n",
              "      <td>222.25</td>\n",
              "      <td>216.25</td>\n",
              "      <td>55612.0</td>\n",
              "      <td>52288.0</td>\n",
              "      <td>82.0</td>\n",
              "      <td>12376.2</td>\n",
              "      <td>0.991850</td>\n",
              "      <td>3.04</td>\n",
              "      <td>-58260.0</td>\n",
              "      <td>1</td>\n",
              "    </tr>\n",
              "    <tr>\n",
              "      <th>1374</th>\n",
              "      <td>6/29/2005</td>\n",
              "      <td>438.600006</td>\n",
              "      <td>439.6</td>\n",
              "      <td>435.3</td>\n",
              "      <td>45905.0</td>\n",
              "      <td>228155.0</td>\n",
              "      <td>6</td>\n",
              "      <td>216.50</td>\n",
              "      <td>221.00</td>\n",
              "      <td>215.25</td>\n",
              "      <td>55825.0</td>\n",
              "      <td>29884.0</td>\n",
              "      <td>81.0</td>\n",
              "      <td>12376.2</td>\n",
              "      <td>0.991850</td>\n",
              "      <td>3.04</td>\n",
              "      <td>-58260.0</td>\n",
              "      <td>2</td>\n",
              "    </tr>\n",
              "    <tr>\n",
              "      <th>1375</th>\n",
              "      <td>6/30/2005</td>\n",
              "      <td>437.100006</td>\n",
              "      <td>440.3</td>\n",
              "      <td>436.7</td>\n",
              "      <td>42083.0</td>\n",
              "      <td>229862.0</td>\n",
              "      <td>6</td>\n",
              "      <td>212.25</td>\n",
              "      <td>216.25</td>\n",
              "      <td>209.50</td>\n",
              "      <td>22778.0</td>\n",
              "      <td>20439.0</td>\n",
              "      <td>80.0</td>\n",
              "      <td>12376.2</td>\n",
              "      <td>0.991850</td>\n",
              "      <td>3.04</td>\n",
              "      <td>-58260.0</td>\n",
              "      <td>3</td>\n",
              "    </tr>\n",
              "    <tr>\n",
              "      <th>1376</th>\n",
              "      <td>7/1/2005</td>\n",
              "      <td>428.799988</td>\n",
              "      <td>438.2</td>\n",
              "      <td>428.0</td>\n",
              "      <td>91896.0</td>\n",
              "      <td>217979.0</td>\n",
              "      <td>7</td>\n",
              "      <td>212.25</td>\n",
              "      <td>216.25</td>\n",
              "      <td>213.25</td>\n",
              "      <td>24425.0</td>\n",
              "      <td>13930.0</td>\n",
              "      <td>65.0</td>\n",
              "      <td>12589.6</td>\n",
              "      <td>0.997994</td>\n",
              "      <td>3.26</td>\n",
              "      <td>-58063.0</td>\n",
              "      <td>4</td>\n",
              "    </tr>\n",
              "    <tr>\n",
              "      <th>1377</th>\n",
              "      <td>7/4/2005</td>\n",
              "      <td>428.799988</td>\n",
              "      <td>438.2</td>\n",
              "      <td>428.0</td>\n",
              "      <td>508.0</td>\n",
              "      <td>217979.0</td>\n",
              "      <td>7</td>\n",
              "      <td>212.25</td>\n",
              "      <td>216.25</td>\n",
              "      <td>213.25</td>\n",
              "      <td>24425.0</td>\n",
              "      <td>13930.0</td>\n",
              "      <td>73.0</td>\n",
              "      <td>12589.6</td>\n",
              "      <td>0.997994</td>\n",
              "      <td>3.26</td>\n",
              "      <td>-58063.0</td>\n",
              "      <td>0</td>\n",
              "    </tr>\n",
              "    <tr>\n",
              "      <th>1378</th>\n",
              "      <td>7/5/2005</td>\n",
              "      <td>423.899994</td>\n",
              "      <td>428.5</td>\n",
              "      <td>422.6</td>\n",
              "      <td>83906.0</td>\n",
              "      <td>198361.0</td>\n",
              "      <td>7</td>\n",
              "      <td>231.00</td>\n",
              "      <td>235.00</td>\n",
              "      <td>218.75</td>\n",
              "      <td>18309.0</td>\n",
              "      <td>11295.0</td>\n",
              "      <td>72.0</td>\n",
              "      <td>12589.6</td>\n",
              "      <td>0.997994</td>\n",
              "      <td>3.26</td>\n",
              "      <td>-58063.0</td>\n",
              "      <td>1</td>\n",
              "    </tr>\n",
              "    <tr>\n",
              "      <th>1379</th>\n",
              "      <td>7/6/2005</td>\n",
              "      <td>424.500000</td>\n",
              "      <td>425.9</td>\n",
              "      <td>424.0</td>\n",
              "      <td>37975.0</td>\n",
              "      <td>188549.0</td>\n",
              "      <td>7</td>\n",
              "      <td>230.75</td>\n",
              "      <td>234.00</td>\n",
              "      <td>229.50</td>\n",
              "      <td>14446.0</td>\n",
              "      <td>8339.0</td>\n",
              "      <td>70.0</td>\n",
              "      <td>12589.6</td>\n",
              "      <td>0.997994</td>\n",
              "      <td>3.26</td>\n",
              "      <td>-58063.0</td>\n",
              "      <td>2</td>\n",
              "    </tr>\n",
              "    <tr>\n",
              "      <th>1380</th>\n",
              "      <td>7/7/2005</td>\n",
              "      <td>424.200012</td>\n",
              "      <td>430.1</td>\n",
              "      <td>422.5</td>\n",
              "      <td>59936.0</td>\n",
              "      <td>189784.0</td>\n",
              "      <td>7</td>\n",
              "      <td>233.75</td>\n",
              "      <td>235.00</td>\n",
              "      <td>219.75</td>\n",
              "      <td>10767.0</td>\n",
              "      <td>6600.0</td>\n",
              "      <td>70.0</td>\n",
              "      <td>12589.6</td>\n",
              "      <td>0.997994</td>\n",
              "      <td>3.26</td>\n",
              "      <td>-58063.0</td>\n",
              "      <td>3</td>\n",
              "    </tr>\n",
              "    <tr>\n",
              "      <th>1381</th>\n",
              "      <td>7/8/2005</td>\n",
              "      <td>423.799988</td>\n",
              "      <td>425.8</td>\n",
              "      <td>422.3</td>\n",
              "      <td>45995.0</td>\n",
              "      <td>182894.0</td>\n",
              "      <td>7</td>\n",
              "      <td>226.25</td>\n",
              "      <td>233.75</td>\n",
              "      <td>224.00</td>\n",
              "      <td>8778.0</td>\n",
              "      <td>4246.0</td>\n",
              "      <td>71.0</td>\n",
              "      <td>12589.6</td>\n",
              "      <td>0.997994</td>\n",
              "      <td>3.26</td>\n",
              "      <td>-58063.0</td>\n",
              "      <td>4</td>\n",
              "    </tr>\n",
              "    <tr>\n",
              "      <th>1382</th>\n",
              "      <td>7/11/2005</td>\n",
              "      <td>426.299988</td>\n",
              "      <td>427.4</td>\n",
              "      <td>423.8</td>\n",
              "      <td>32566.0</td>\n",
              "      <td>181418.0</td>\n",
              "      <td>7</td>\n",
              "      <td>226.75</td>\n",
              "      <td>228.00</td>\n",
              "      <td>222.50</td>\n",
              "      <td>5220.0</td>\n",
              "      <td>3493.0</td>\n",
              "      <td>76.0</td>\n",
              "      <td>12589.6</td>\n",
              "      <td>0.997994</td>\n",
              "      <td>3.26</td>\n",
              "      <td>-58063.0</td>\n",
              "      <td>0</td>\n",
              "    </tr>\n",
              "    <tr>\n",
              "      <th>1383</th>\n",
              "      <td>7/12/2005</td>\n",
              "      <td>427.100006</td>\n",
              "      <td>428.5</td>\n",
              "      <td>425.5</td>\n",
              "      <td>36332.0</td>\n",
              "      <td>178242.0</td>\n",
              "      <td>7</td>\n",
              "      <td>227.00</td>\n",
              "      <td>228.00</td>\n",
              "      <td>222.50</td>\n",
              "      <td>4886.0</td>\n",
              "      <td>2512.0</td>\n",
              "      <td>77.0</td>\n",
              "      <td>12589.6</td>\n",
              "      <td>0.997994</td>\n",
              "      <td>3.26</td>\n",
              "      <td>-58063.0</td>\n",
              "      <td>1</td>\n",
              "    </tr>\n",
              "    <tr>\n",
              "      <th>1384</th>\n",
              "      <td>7/13/2005</td>\n",
              "      <td>424.600006</td>\n",
              "      <td>428.0</td>\n",
              "      <td>424.0</td>\n",
              "      <td>35368.0</td>\n",
              "      <td>173609.0</td>\n",
              "      <td>7</td>\n",
              "      <td>237.25</td>\n",
              "      <td>238.50</td>\n",
              "      <td>225.00</td>\n",
              "      <td>4586.0</td>\n",
              "      <td>1775.0</td>\n",
              "      <td>79.0</td>\n",
              "      <td>12589.6</td>\n",
              "      <td>0.997994</td>\n",
              "      <td>3.26</td>\n",
              "      <td>-58063.0</td>\n",
              "      <td>2</td>\n",
              "    </tr>\n",
              "    <tr>\n",
              "      <th>1385</th>\n",
              "      <td>7/14/2005</td>\n",
              "      <td>420.200012</td>\n",
              "      <td>425.1</td>\n",
              "      <td>419.2</td>\n",
              "      <td>70709.0</td>\n",
              "      <td>170218.0</td>\n",
              "      <td>7</td>\n",
              "      <td>237.25</td>\n",
              "      <td>238.50</td>\n",
              "      <td>237.00</td>\n",
              "      <td>1356.0</td>\n",
              "      <td>491.0</td>\n",
              "      <td>79.0</td>\n",
              "      <td>12589.6</td>\n",
              "      <td>0.997994</td>\n",
              "      <td>3.26</td>\n",
              "      <td>-58063.0</td>\n",
              "      <td>3</td>\n",
              "    </tr>\n",
              "    <tr>\n",
              "      <th>1386</th>\n",
              "      <td>7/15/2005</td>\n",
              "      <td>421.299988</td>\n",
              "      <td>421.5</td>\n",
              "      <td>418.2</td>\n",
              "      <td>48538.0</td>\n",
              "      <td>166319.0</td>\n",
              "      <td>7</td>\n",
              "      <td>257.75</td>\n",
              "      <td>258.50</td>\n",
              "      <td>248.50</td>\n",
              "      <td>56825.0</td>\n",
              "      <td>292619.0</td>\n",
              "      <td>77.0</td>\n",
              "      <td>12589.6</td>\n",
              "      <td>0.997994</td>\n",
              "      <td>3.26</td>\n",
              "      <td>-58063.0</td>\n",
              "      <td>4</td>\n",
              "    </tr>\n",
              "    <tr>\n",
              "      <th>1387</th>\n",
              "      <td>7/18/2005</td>\n",
              "      <td>421.000000</td>\n",
              "      <td>422.8</td>\n",
              "      <td>420.4</td>\n",
              "      <td>31928.0</td>\n",
              "      <td>162868.0</td>\n",
              "      <td>7</td>\n",
              "      <td>257.75</td>\n",
              "      <td>258.50</td>\n",
              "      <td>251.75</td>\n",
              "      <td>41200.0</td>\n",
              "      <td>289014.0</td>\n",
              "      <td>80.0</td>\n",
              "      <td>12589.6</td>\n",
              "      <td>0.997994</td>\n",
              "      <td>3.26</td>\n",
              "      <td>-58063.0</td>\n",
              "      <td>0</td>\n",
              "    </tr>\n",
              "    <tr>\n",
              "      <th>1388</th>\n",
              "      <td>7/19/2005</td>\n",
              "      <td>420.200012</td>\n",
              "      <td>422.4</td>\n",
              "      <td>418.9</td>\n",
              "      <td>40719.0</td>\n",
              "      <td>158563.0</td>\n",
              "      <td>7</td>\n",
              "      <td>248.50</td>\n",
              "      <td>260.00</td>\n",
              "      <td>245.00</td>\n",
              "      <td>41657.0</td>\n",
              "      <td>285183.0</td>\n",
              "      <td>76.0</td>\n",
              "      <td>12589.6</td>\n",
              "      <td>0.997994</td>\n",
              "      <td>3.26</td>\n",
              "      <td>-58063.0</td>\n",
              "      <td>1</td>\n",
              "    </tr>\n",
              "    <tr>\n",
              "      <th>1389</th>\n",
              "      <td>7/20/2005</td>\n",
              "      <td>422.100006</td>\n",
              "      <td>423.3</td>\n",
              "      <td>420.0</td>\n",
              "      <td>41340.0</td>\n",
              "      <td>151997.0</td>\n",
              "      <td>7</td>\n",
              "      <td>241.50</td>\n",
              "      <td>249.00</td>\n",
              "      <td>238.00</td>\n",
              "      <td>31934.0</td>\n",
              "      <td>284737.0</td>\n",
              "      <td>77.0</td>\n",
              "      <td>12589.6</td>\n",
              "      <td>0.997994</td>\n",
              "      <td>3.26</td>\n",
              "      <td>-58063.0</td>\n",
              "      <td>2</td>\n",
              "    </tr>\n",
              "    <tr>\n",
              "      <th>1390</th>\n",
              "      <td>7/21/2005</td>\n",
              "      <td>425.700012</td>\n",
              "      <td>426.0</td>\n",
              "      <td>422.5</td>\n",
              "      <td>64389.0</td>\n",
              "      <td>139615.0</td>\n",
              "      <td>7</td>\n",
              "      <td>234.00</td>\n",
              "      <td>243.00</td>\n",
              "      <td>232.75</td>\n",
              "      <td>24994.0</td>\n",
              "      <td>284261.0</td>\n",
              "      <td>77.0</td>\n",
              "      <td>12589.6</td>\n",
              "      <td>0.997994</td>\n",
              "      <td>3.26</td>\n",
              "      <td>-58063.0</td>\n",
              "      <td>3</td>\n",
              "    </tr>\n",
              "    <tr>\n",
              "      <th>1391</th>\n",
              "      <td>7/22/2005</td>\n",
              "      <td>425.000000</td>\n",
              "      <td>426.9</td>\n",
              "      <td>424.5</td>\n",
              "      <td>46412.0</td>\n",
              "      <td>126043.0</td>\n",
              "      <td>7</td>\n",
              "      <td>233.50</td>\n",
              "      <td>238.00</td>\n",
              "      <td>232.00</td>\n",
              "      <td>31483.0</td>\n",
              "      <td>279770.0</td>\n",
              "      <td>76.0</td>\n",
              "      <td>12589.6</td>\n",
              "      <td>0.997994</td>\n",
              "      <td>3.26</td>\n",
              "      <td>-58063.0</td>\n",
              "      <td>4</td>\n",
              "    </tr>\n",
              "    <tr>\n",
              "      <th>1392</th>\n",
              "      <td>7/25/2005</td>\n",
              "      <td>425.899994</td>\n",
              "      <td>426.4</td>\n",
              "      <td>424.3</td>\n",
              "      <td>60720.0</td>\n",
              "      <td>95467.0</td>\n",
              "      <td>7</td>\n",
              "      <td>230.50</td>\n",
              "      <td>234.25</td>\n",
              "      <td>227.75</td>\n",
              "      <td>28485.0</td>\n",
              "      <td>281161.0</td>\n",
              "      <td>82.0</td>\n",
              "      <td>12589.6</td>\n",
              "      <td>0.997994</td>\n",
              "      <td>3.26</td>\n",
              "      <td>-58063.0</td>\n",
              "      <td>0</td>\n",
              "    </tr>\n",
              "    <tr>\n",
              "      <th>1393</th>\n",
              "      <td>7/26/2005</td>\n",
              "      <td>423.500000</td>\n",
              "      <td>426.1</td>\n",
              "      <td>422.2</td>\n",
              "      <td>68160.0</td>\n",
              "      <td>68050.0</td>\n",
              "      <td>7</td>\n",
              "      <td>234.25</td>\n",
              "      <td>238.75</td>\n",
              "      <td>230.75</td>\n",
              "      <td>22311.0</td>\n",
              "      <td>279434.0</td>\n",
              "      <td>75.0</td>\n",
              "      <td>12589.6</td>\n",
              "      <td>0.997994</td>\n",
              "      <td>3.26</td>\n",
              "      <td>-58063.0</td>\n",
              "      <td>1</td>\n",
              "    </tr>\n",
              "    <tr>\n",
              "      <th>1394</th>\n",
              "      <td>7/27/2005</td>\n",
              "      <td>424.799988</td>\n",
              "      <td>426.0</td>\n",
              "      <td>421.8</td>\n",
              "      <td>70257.0</td>\n",
              "      <td>35644.0</td>\n",
              "      <td>7</td>\n",
              "      <td>236.50</td>\n",
              "      <td>237.00</td>\n",
              "      <td>232.00</td>\n",
              "      <td>14839.0</td>\n",
              "      <td>279330.0</td>\n",
              "      <td>67.0</td>\n",
              "      <td>12589.6</td>\n",
              "      <td>0.997994</td>\n",
              "      <td>3.26</td>\n",
              "      <td>-58063.0</td>\n",
              "      <td>2</td>\n",
              "    </tr>\n",
              "    <tr>\n",
              "      <th>1395</th>\n",
              "      <td>7/28/2005</td>\n",
              "      <td>427.399994</td>\n",
              "      <td>428.6</td>\n",
              "      <td>424.4</td>\n",
              "      <td>40680.0</td>\n",
              "      <td>9509.0</td>\n",
              "      <td>7</td>\n",
              "      <td>241.00</td>\n",
              "      <td>241.50</td>\n",
              "      <td>236.50</td>\n",
              "      <td>15973.0</td>\n",
              "      <td>277284.0</td>\n",
              "      <td>66.0</td>\n",
              "      <td>12589.6</td>\n",
              "      <td>0.997994</td>\n",
              "      <td>3.26</td>\n",
              "      <td>-58063.0</td>\n",
              "      <td>3</td>\n",
              "    </tr>\n",
              "  </tbody>\n",
              "</table>\n",
              "<p>1396 rows × 18 columns</p>\n",
              "</div>"
            ],
            "text/plain": [
              "           Date       Price   High    Low   Volume  Open_Interest  Month  \\\n",
              "0      1/6/2000  282.399994  282.8  280.2  26026.0        67505.0      1   \n",
              "1      1/7/2000  282.899994  284.5  282.0  19396.0        68731.0      1   \n",
              "2     1/10/2000  282.700012  283.9  281.8  11612.0        66778.0      1   \n",
              "3     1/11/2000  284.399994  285.3  281.9  30928.0        64731.0      1   \n",
              "4     1/12/2000  283.700012  285.0  282.5  13678.0        64629.0      1   \n",
              "5     1/13/2000  285.100006  285.9  282.9  18081.0        66815.0      1   \n",
              "6     1/14/2000  284.899994  285.6  284.0  12609.0        63824.0      1   \n",
              "7     1/18/2000  284.899994  289.8  284.0  32925.0        55526.0      1   \n",
              "8     1/19/2000  290.299988  291.0  287.5  29268.0        53023.0      1   \n",
              "9     1/20/2000  289.299988  290.7  288.4  24315.0        50387.0      1   \n",
              "10    1/21/2000  289.700012  290.3  287.4  21207.0        46206.0      1   \n",
              "11    1/24/2000  288.100006  289.7  286.3  26876.0        45162.0      1   \n",
              "12    1/25/2000  286.600006  291.8  286.6  33364.0        37716.0      1   \n",
              "13    1/26/2000  286.500000  287.5  284.7  36255.0        33544.0      1   \n",
              "14    1/27/2000  287.100006  287.5  285.6  19792.0        19963.0      1   \n",
              "15    1/28/2000  283.000000  287.8  280.5  14540.0        12731.0      1   \n",
              "16    1/31/2000  283.200012  284.5  282.1   2459.0         7036.0      1   \n",
              "17     2/1/2000  282.500000  284.0  282.2    502.0         2590.0      2   \n",
              "18     2/2/2000  282.500000  286.7  282.2    233.0         1403.0      2   \n",
              "19     2/3/2000  287.200012  288.5  284.3    177.0         1429.0      2   \n",
              "20     2/4/2000  310.399994  315.0  288.9    327.0          708.0      2   \n",
              "21     2/7/2000  301.899994  322.0  302.0    362.0         1429.0      2   \n",
              "22     2/8/2000  299.200012  303.9  295.9     86.0          597.0      2   \n",
              "23     2/9/2000  306.100006  311.0  295.0     32.0          567.0      2   \n",
              "24    2/10/2000  316.200012  316.0  307.9    627.0          501.0      2   \n",
              "25    2/11/2000  316.200012  314.0  307.9     36.0          480.0      2   \n",
              "26    2/14/2000  308.500000  311.0  307.0     22.0          135.0      2   \n",
              "27    2/15/2000  301.700012  307.5  301.5     89.0           88.0      2   \n",
              "28    2/16/2000  302.500000  302.3  302.3    119.0           95.0      2   \n",
              "29    2/17/2000  302.500000  307.0  302.3     18.0          153.0      2   \n",
              "...         ...         ...    ...    ...      ...            ...    ...   \n",
              "1366  6/17/2005  436.200012  439.3  429.5     29.0          165.0      6   \n",
              "1367  6/20/2005  438.399994  440.4  438.0     18.0          171.0      6   \n",
              "1368  6/21/2005  438.399994  439.0  438.0      5.0          113.0      6   \n",
              "1369  6/22/2005  438.100006  438.5  437.5    169.0          146.0      6   \n",
              "1370  6/23/2005  441.700012  442.5  438.3     29.0          107.0      6   \n",
              "1371  6/24/2005  440.500000  441.5  438.5     31.0           44.0      6   \n",
              "1372  6/27/2005  440.299988  440.7  439.5     10.0           17.0      6   \n",
              "1373  6/28/2005  436.399994  437.5  436.0     40.0           10.0      6   \n",
              "1374  6/29/2005  438.600006  439.6  435.3  45905.0       228155.0      6   \n",
              "1375  6/30/2005  437.100006  440.3  436.7  42083.0       229862.0      6   \n",
              "1376   7/1/2005  428.799988  438.2  428.0  91896.0       217979.0      7   \n",
              "1377   7/4/2005  428.799988  438.2  428.0    508.0       217979.0      7   \n",
              "1378   7/5/2005  423.899994  428.5  422.6  83906.0       198361.0      7   \n",
              "1379   7/6/2005  424.500000  425.9  424.0  37975.0       188549.0      7   \n",
              "1380   7/7/2005  424.200012  430.1  422.5  59936.0       189784.0      7   \n",
              "1381   7/8/2005  423.799988  425.8  422.3  45995.0       182894.0      7   \n",
              "1382  7/11/2005  426.299988  427.4  423.8  32566.0       181418.0      7   \n",
              "1383  7/12/2005  427.100006  428.5  425.5  36332.0       178242.0      7   \n",
              "1384  7/13/2005  424.600006  428.0  424.0  35368.0       173609.0      7   \n",
              "1385  7/14/2005  420.200012  425.1  419.2  70709.0       170218.0      7   \n",
              "1386  7/15/2005  421.299988  421.5  418.2  48538.0       166319.0      7   \n",
              "1387  7/18/2005  421.000000  422.8  420.4  31928.0       162868.0      7   \n",
              "1388  7/19/2005  420.200012  422.4  418.9  40719.0       158563.0      7   \n",
              "1389  7/20/2005  422.100006  423.3  420.0  41340.0       151997.0      7   \n",
              "1390  7/21/2005  425.700012  426.0  422.5  64389.0       139615.0      7   \n",
              "1391  7/22/2005  425.000000  426.9  424.5  46412.0       126043.0      7   \n",
              "1392  7/25/2005  425.899994  426.4  424.3  60720.0        95467.0      7   \n",
              "1393  7/26/2005  423.500000  426.1  422.2  68160.0        68050.0      7   \n",
              "1394  7/27/2005  424.799988  426.0  421.8  70257.0        35644.0      7   \n",
              "1395  7/28/2005  427.399994  428.6  424.4  40680.0         9509.0      7   \n",
              "\n",
              "      Last_corn  High_corn  Low_corn  Volume_corn  Open_Interest_corn  TAVG  \\\n",
              "0        203.75     205.75    203.00      37490.0            216368.0  30.0   \n",
              "1        203.75     205.75    202.50      46637.0            219250.0  24.0   \n",
              "2        208.50     209.25    204.75      47788.0            218442.0  40.0   \n",
              "3        207.25     209.25    206.25      41233.0            218977.0  40.0   \n",
              "4        215.50     216.75    206.75     122388.0            229517.0  29.0   \n",
              "5        220.75     221.50    214.50      92040.0            227935.0  23.0   \n",
              "6        219.00     221.75    218.25      60925.0            225217.0  18.0   \n",
              "7        220.00     220.50    215.50      47605.0            222740.0  25.0   \n",
              "8        220.75     221.00    218.75      33932.0            219724.0  20.0   \n",
              "9        220.75     221.50    218.75      31713.0            217721.0   9.0   \n",
              "10       222.75     223.00    219.75      41038.0            222340.0   1.0   \n",
              "11       227.25     227.50    223.00      57766.0            216039.0   2.0   \n",
              "12       227.50     228.25    226.00      49448.0            209786.0  16.0   \n",
              "13       223.00     227.00    222.75      41651.0            205223.0  14.0   \n",
              "14       223.00     227.00    221.25      47550.0            207355.0  15.0   \n",
              "15       223.50     226.75    222.75      30823.0            205210.0  14.0   \n",
              "16       220.00     221.75    218.50      47764.0            204513.0  14.0   \n",
              "17       222.00     222.25    219.50      30581.0            201919.0  18.0   \n",
              "18       220.75     223.00    220.50      25326.0            200206.0  17.0   \n",
              "19       218.00     220.50    217.25      38985.0            193383.0  31.0   \n",
              "20       219.75     220.25    214.50      52639.0            189481.0  20.0   \n",
              "21       221.50     222.00    220.00      31293.0            182572.0  24.0   \n",
              "22       221.25     222.50    219.25      31139.0            176490.0  24.0   \n",
              "23       222.50     222.75    219.50      33115.0            168869.0  37.0   \n",
              "24       225.50     226.00    222.00      41428.0            162313.0  34.0   \n",
              "25       221.75     226.50    221.25      41018.0            155355.0  19.0   \n",
              "26       222.25     225.00    221.25      28026.0            150837.0  25.0   \n",
              "27       222.25     223.75    219.75      31353.0            149218.0  30.0   \n",
              "28       223.00     223.75    221.25      42972.0            137851.0  27.0   \n",
              "29       221.25     223.75    221.00      38081.0            125039.0  25.0   \n",
              "...         ...        ...       ...          ...                 ...   ...   \n",
              "1366     225.75     227.50    219.00      63536.0            154316.0  60.0   \n",
              "1367     235.50     236.25    231.00      74236.0            140728.0  70.0   \n",
              "1368     232.25     235.00    231.00      42158.0            128890.0  75.0   \n",
              "1369     229.50     237.50    228.50      31001.0            123663.0  71.0   \n",
              "1370     229.50     237.50    225.75      31587.0            113249.0  71.0   \n",
              "1371     232.75     233.50    225.50      41621.0             85469.0  83.0   \n",
              "1372     221.50     233.50    216.00      43390.0             72989.0  82.0   \n",
              "1373     218.50     222.25    216.25      55612.0             52288.0  82.0   \n",
              "1374     216.50     221.00    215.25      55825.0             29884.0  81.0   \n",
              "1375     212.25     216.25    209.50      22778.0             20439.0  80.0   \n",
              "1376     212.25     216.25    213.25      24425.0             13930.0  65.0   \n",
              "1377     212.25     216.25    213.25      24425.0             13930.0  73.0   \n",
              "1378     231.00     235.00    218.75      18309.0             11295.0  72.0   \n",
              "1379     230.75     234.00    229.50      14446.0              8339.0  70.0   \n",
              "1380     233.75     235.00    219.75      10767.0              6600.0  70.0   \n",
              "1381     226.25     233.75    224.00       8778.0              4246.0  71.0   \n",
              "1382     226.75     228.00    222.50       5220.0              3493.0  76.0   \n",
              "1383     227.00     228.00    222.50       4886.0              2512.0  77.0   \n",
              "1384     237.25     238.50    225.00       4586.0              1775.0  79.0   \n",
              "1385     237.25     238.50    237.00       1356.0               491.0  79.0   \n",
              "1386     257.75     258.50    248.50      56825.0            292619.0  77.0   \n",
              "1387     257.75     258.50    251.75      41200.0            289014.0  80.0   \n",
              "1388     248.50     260.00    245.00      41657.0            285183.0  76.0   \n",
              "1389     241.50     249.00    238.00      31934.0            284737.0  77.0   \n",
              "1390     234.00     243.00    232.75      24994.0            284261.0  77.0   \n",
              "1391     233.50     238.00    232.00      31483.0            279770.0  76.0   \n",
              "1392     230.50     234.25    227.75      28485.0            281161.0  82.0   \n",
              "1393     234.25     238.75    230.75      22311.0            279434.0  75.0   \n",
              "1394     236.50     237.00    232.00      14839.0            279330.0  67.0   \n",
              "1395     241.00     241.50    236.50      15973.0            277284.0  66.0   \n",
              "\n",
              "          gdp       cpi   int  nettrade  Weekday  \n",
              "0      9697.2  0.870493  5.73  -29930.0        3  \n",
              "1      9697.2  0.870493  5.73  -29930.0        4  \n",
              "2      9697.2  0.870493  5.73  -29930.0        0  \n",
              "3      9697.2  0.870493  5.73  -29930.0        1  \n",
              "4      9697.2  0.870493  5.73  -29930.0        2  \n",
              "5      9697.2  0.870493  5.73  -29930.0        3  \n",
              "6      9697.2  0.870493  5.73  -29930.0        4  \n",
              "7      9697.2  0.870493  5.73  -29930.0        1  \n",
              "8      9697.2  0.870493  5.73  -29930.0        2  \n",
              "9      9697.2  0.870493  5.73  -29930.0        3  \n",
              "10     9697.2  0.870493  5.73  -29930.0        4  \n",
              "11     9697.2  0.870493  5.73  -29930.0        0  \n",
              "12     9697.2  0.870493  5.73  -29930.0        1  \n",
              "13     9697.2  0.870493  5.73  -29930.0        2  \n",
              "14     9697.2  0.870493  5.73  -29930.0        3  \n",
              "15     9697.2  0.870493  5.73  -29930.0        4  \n",
              "16     9697.2  0.870493  5.73  -29930.0        0  \n",
              "17     9697.2  0.870493  5.73  -29930.0        1  \n",
              "18     9697.2  0.870493  5.73  -29930.0        2  \n",
              "19     9697.2  0.870493  5.73  -29930.0        3  \n",
              "20     9697.2  0.870493  5.73  -29930.0        4  \n",
              "21     9697.2  0.870493  5.73  -29930.0        0  \n",
              "22     9697.2  0.870493  5.73  -29930.0        1  \n",
              "23     9697.2  0.870493  5.73  -29930.0        2  \n",
              "24     9697.2  0.870493  5.73  -29930.0        3  \n",
              "25     9697.2  0.870493  5.73  -29930.0        4  \n",
              "26     9697.2  0.870493  5.73  -29930.0        0  \n",
              "27     9697.2  0.870493  5.73  -29930.0        1  \n",
              "28     9697.2  0.870493  5.73  -29930.0        2  \n",
              "29     9697.2  0.870493  5.73  -29930.0        3  \n",
              "...       ...       ...   ...       ...      ...  \n",
              "1366  12376.2  0.991850  3.04  -58260.0        4  \n",
              "1367  12376.2  0.991850  3.04  -58260.0        0  \n",
              "1368  12376.2  0.991850  3.04  -58260.0        1  \n",
              "1369  12376.2  0.991850  3.04  -58260.0        2  \n",
              "1370  12376.2  0.991850  3.04  -58260.0        3  \n",
              "1371  12376.2  0.991850  3.04  -58260.0        4  \n",
              "1372  12376.2  0.991850  3.04  -58260.0        0  \n",
              "1373  12376.2  0.991850  3.04  -58260.0        1  \n",
              "1374  12376.2  0.991850  3.04  -58260.0        2  \n",
              "1375  12376.2  0.991850  3.04  -58260.0        3  \n",
              "1376  12589.6  0.997994  3.26  -58063.0        4  \n",
              "1377  12589.6  0.997994  3.26  -58063.0        0  \n",
              "1378  12589.6  0.997994  3.26  -58063.0        1  \n",
              "1379  12589.6  0.997994  3.26  -58063.0        2  \n",
              "1380  12589.6  0.997994  3.26  -58063.0        3  \n",
              "1381  12589.6  0.997994  3.26  -58063.0        4  \n",
              "1382  12589.6  0.997994  3.26  -58063.0        0  \n",
              "1383  12589.6  0.997994  3.26  -58063.0        1  \n",
              "1384  12589.6  0.997994  3.26  -58063.0        2  \n",
              "1385  12589.6  0.997994  3.26  -58063.0        3  \n",
              "1386  12589.6  0.997994  3.26  -58063.0        4  \n",
              "1387  12589.6  0.997994  3.26  -58063.0        0  \n",
              "1388  12589.6  0.997994  3.26  -58063.0        1  \n",
              "1389  12589.6  0.997994  3.26  -58063.0        2  \n",
              "1390  12589.6  0.997994  3.26  -58063.0        3  \n",
              "1391  12589.6  0.997994  3.26  -58063.0        4  \n",
              "1392  12589.6  0.997994  3.26  -58063.0        0  \n",
              "1393  12589.6  0.997994  3.26  -58063.0        1  \n",
              "1394  12589.6  0.997994  3.26  -58063.0        2  \n",
              "1395  12589.6  0.997994  3.26  -58063.0        3  \n",
              "\n",
              "[1396 rows x 18 columns]"
            ]
          },
          "metadata": {
            "tags": []
          },
          "execution_count": 123
        }
      ]
    },
    {
      "metadata": {
        "id": "OXKIADNlmxbx",
        "colab_type": "text"
      },
      "cell_type": "markdown",
      "source": [
        "Save cleaned csv"
      ]
    },
    {
      "metadata": {
        "id": "v0cqC4x0mvFD",
        "colab_type": "code",
        "colab": {}
      },
      "cell_type": "code",
      "source": [
        "concat_clean.to_csv('concat_clean.csv')"
      ],
      "execution_count": 0,
      "outputs": []
    },
    {
      "metadata": {
        "id": "WJxdzfnJoRCx",
        "colab_type": "text"
      },
      "cell_type": "markdown",
      "source": [
        "## Dealing with NaNs"
      ]
    },
    {
      "metadata": {
        "id": "YMrJ6lh3sDu6",
        "colab_type": "text"
      },
      "cell_type": "markdown",
      "source": [
        "Possible Strategies\n",
        "- replace NA with a value not seen in the dataset\n",
        "- replace NA with an avg/median value `df.fillna(df.mean(), inplace=True`)\n",
        "- replace NA with last seen value `df.fillna(method='ffill', inplace=True)`"
      ]
    },
    {
      "metadata": {
        "id": "u-bHBqcluJNx",
        "colab_type": "text"
      },
      "cell_type": "markdown",
      "source": [
        "We try using last strategy (fill in with last seen value)\n",
        "\n",
        "First we want to fill in the 1st row for us_macro stats"
      ]
    },
    {
      "metadata": {
        "id": "UXhTXztcstEl",
        "colab_type": "code",
        "colab": {}
      },
      "cell_type": "code",
      "source": [
        "concat_clean['gdp'][0] = 9697.2\n",
        "concat_clean['cpi'][0] = 0.870492853\n",
        "concat_clean['int'][0] = 5.73\n",
        "concat_clean['nettrade'][0] = -29930"
      ],
      "execution_count": 0,
      "outputs": []
    },
    {
      "metadata": {
        "id": "GXbCjrvtsi5L",
        "colab_type": "code",
        "colab": {}
      },
      "cell_type": "code",
      "source": [
        "#concat_clean = concat_clean.fillna(concat_clean.mean.astype(np.int32))\n",
        "\n",
        "concat_clean.fillna(method='ffill', inplace=True)"
      ],
      "execution_count": 0,
      "outputs": []
    },
    {
      "metadata": {
        "id": "ccpP0qnhs1vn",
        "colab_type": "code",
        "colab": {}
      },
      "cell_type": "code",
      "source": [
        "concat_clean"
      ],
      "execution_count": 0,
      "outputs": []
    },
    {
      "metadata": {
        "id": "17nAXlFtvwnG",
        "colab_type": "text"
      },
      "cell_type": "markdown",
      "source": [
        "saving data"
      ]
    },
    {
      "metadata": {
        "id": "KPywYO6ys8KG",
        "colab_type": "code",
        "colab": {}
      },
      "cell_type": "code",
      "source": [
        "concat_clean.to_csv('concat_clean_fillna.csv')"
      ],
      "execution_count": 0,
      "outputs": []
    },
    {
      "metadata": {
        "id": "9UWQqzABvy5m",
        "colab_type": "code",
        "outputId": "38ec6f8e-cc37-478b-ff8a-565d8e1704cf",
        "colab": {
          "base_uri": "https://localhost:8080/",
          "height": 34
        }
      },
      "cell_type": "code",
      "source": [
        "len(concat_clean)"
      ],
      "execution_count": 23,
      "outputs": [
        {
          "output_type": "execute_result",
          "data": {
            "text/plain": [
              "1396"
            ]
          },
          "metadata": {
            "tags": []
          },
          "execution_count": 23
        }
      ]
    },
    {
      "metadata": {
        "id": "y84MwCwwv1Yv",
        "colab_type": "text"
      },
      "cell_type": "markdown",
      "source": [
        "after cleaning the data, we are left with 1396 observations of 17 features"
      ]
    },
    {
      "metadata": {
        "id": "-cH8TlMVvict",
        "colab_type": "text"
      },
      "cell_type": "markdown",
      "source": [
        "## Engineering New Features"
      ]
    },
    {
      "metadata": {
        "id": "mCax0JolJOzI",
        "colab_type": "text"
      },
      "cell_type": "markdown",
      "source": [
        "changing price to float32"
      ]
    },
    {
      "metadata": {
        "id": "HA0cRArtJRGR",
        "colab_type": "code",
        "colab": {}
      },
      "cell_type": "code",
      "source": [
        "concat_clean['Price'] = concat_clean['Price'].astype('float32')"
      ],
      "execution_count": 0,
      "outputs": []
    },
    {
      "metadata": {
        "id": "PKzJgUaNGuin",
        "colab_type": "text"
      },
      "cell_type": "markdown",
      "source": [
        "Creating day of week feature"
      ]
    },
    {
      "metadata": {
        "id": "kGFYIG2OGwFK",
        "colab_type": "code",
        "colab": {}
      },
      "cell_type": "code",
      "source": [
        "concat_clean['Date-Time'] = pd.to_datetime(concat_clean['Date'])\n"
      ],
      "execution_count": 0,
      "outputs": []
    },
    {
      "metadata": {
        "id": "4G1i4q00Hf-V",
        "colab_type": "code",
        "colab": {}
      },
      "cell_type": "code",
      "source": [
        "concat_clean['Weekday'] = concat_clean['Date-Time'].dt.dayofweek"
      ],
      "execution_count": 0,
      "outputs": []
    },
    {
      "metadata": {
        "id": "f4yKdjPiHus8",
        "colab_type": "code",
        "colab": {}
      },
      "cell_type": "code",
      "source": [
        "# deleting date-time\n",
        "concat_clean = concat_clean.drop(['Date-Time'], axis = 1)"
      ],
      "execution_count": 0,
      "outputs": []
    },
    {
      "metadata": {
        "id": "9WK4Hq2QHpZC",
        "colab_type": "code",
        "colab": {}
      },
      "cell_type": "code",
      "source": [
        "concat_clean"
      ],
      "execution_count": 0,
      "outputs": []
    },
    {
      "metadata": {
        "id": "3NechewH3-Yq",
        "colab_type": "text"
      },
      "cell_type": "markdown",
      "source": [
        "(OPTIONAL)add Year+Month as feature"
      ]
    },
    {
      "metadata": {
        "id": "VPJbxhMvvhgQ",
        "colab_type": "code",
        "colab": {}
      },
      "cell_type": "code",
      "source": [
        "#concat_clean['Month_Year'] = pd.to_datetime(concat_clean['Date']).dt.to_period('M')"
      ],
      "execution_count": 0,
      "outputs": []
    },
    {
      "metadata": {
        "id": "m2dhcLwV4MMM",
        "colab_type": "code",
        "colab": {}
      },
      "cell_type": "code",
      "source": [
        "concat_clean.describe(include='all')\n"
      ],
      "execution_count": 0,
      "outputs": []
    },
    {
      "metadata": {
        "id": "LcF2O1TMypCv",
        "colab_type": "text"
      },
      "cell_type": "markdown",
      "source": [
        "# Visualizing Data"
      ]
    },
    {
      "metadata": {
        "id": "_E7OSD7oz9Vt",
        "colab_type": "text"
      },
      "cell_type": "markdown",
      "source": [
        "## Gold Price"
      ]
    },
    {
      "metadata": {
        "id": "uOrWjzOnz5cX",
        "colab_type": "code",
        "colab": {}
      },
      "cell_type": "code",
      "source": [
        "from statsmodels.graphics.tsaplots import plot_acf, plot_pacf\n",
        "from matplotlib import pyplot\n"
      ],
      "execution_count": 0,
      "outputs": []
    },
    {
      "metadata": {
        "id": "Vi_V2t3LyrrN",
        "colab_type": "code",
        "colab": {}
      },
      "cell_type": "code",
      "source": [
        "gold_price = concat_clean['Price']\n",
        "gdp = concat_clean['gdp']\n",
        "cpi = concat_clean['cpi']\n",
        "interest = concat_clean['int']\n",
        "trade = concat_clean['nettrade']\n",
        "tmp = concat_clean['TAVG']"
      ],
      "execution_count": 0,
      "outputs": []
    },
    {
      "metadata": {
        "id": "De3Xm5rjy8et",
        "colab_type": "code",
        "colab": {
          "base_uri": "https://localhost:8080/",
          "height": 364
        },
        "outputId": "eb5d66b1-3cd9-4432-f6b5-88f347309cc4"
      },
      "cell_type": "code",
      "source": [
        "gold_price.plot()\n"
      ],
      "execution_count": 90,
      "outputs": [
        {
          "output_type": "execute_result",
          "data": {
            "text/plain": [
              "<matplotlib.axes._subplots.AxesSubplot at 0x7f65222f6eb8>"
            ]
          },
          "metadata": {
            "tags": []
          },
          "execution_count": 90
        },
        {
          "output_type": "display_data",
          "data": {
            "image/png": "[encoded data removed]",
            "text/plain": [
              "<matplotlib.figure.Figure at 0x7f65222b9a58>"
            ]
          },
          "metadata": {
            "tags": []
          }
        }
      ]
    },
    {
      "metadata": {
        "id": "06gibo9n4jf7",
        "colab_type": "text"
      },
      "cell_type": "markdown",
      "source": [
        "We can see that gold had a long period of decrease in 2000\n",
        "\n"
      ]
    },
    {
      "metadata": {
        "id": "4f_yyBzjz_mE",
        "colab_type": "text"
      },
      "cell_type": "markdown",
      "source": [
        "ACF Plot"
      ]
    },
    {
      "metadata": {
        "id": "kfBDC91j1LrV",
        "colab_type": "code",
        "colab": {
          "base_uri": "https://localhost:8080/",
          "height": 362
        },
        "outputId": "72b9998f-509e-4c57-c616-ad249bb7273f"
      },
      "cell_type": "code",
      "source": [
        "plot_acf(gold_price, lags = 200)\n",
        "pyplot.show()"
      ],
      "execution_count": 112,
      "outputs": [
        {
          "output_type": "display_data",
          "data": {
            "image/png": "[encoded data removed]",
            "text/plain": [
              "<matplotlib.figure.Figure at 0x7f6520605668>"
            ]
          },
          "metadata": {
            "tags": []
          }
        }
      ]
    },
    {
      "metadata": {
        "id": "_9uM-x0-0AUP",
        "colab_type": "code",
        "colab": {
          "base_uri": "https://localhost:8080/",
          "height": 362
        },
        "outputId": "211de716-88af-456e-dca2-ecd13b44acf7"
      },
      "cell_type": "code",
      "source": [
        "plot_acf(gold_price, lags = 50)\n",
        "pyplot.show()"
      ],
      "execution_count": 103,
      "outputs": [
        {
          "output_type": "display_data",
          "data": {
            "image/png": "[encoded data removed]",
            "text/plain": [
              "<matplotlib.figure.Figure at 0x7f65205bd780>"
            ]
          },
          "metadata": {
            "tags": []
          }
        }
      ]
    },
    {
      "metadata": {
        "id": "fxmT0J3x0UVS",
        "colab_type": "text"
      },
      "cell_type": "markdown",
      "source": [
        "PACF Plot"
      ]
    },
    {
      "metadata": {
        "id": "6RosNS510T40",
        "colab_type": "code",
        "colab": {
          "base_uri": "https://localhost:8080/",
          "height": 362
        },
        "outputId": "92fdc36e-adaf-4c51-88be-390a6866d35d"
      },
      "cell_type": "code",
      "source": [
        "plot_pacf(gold_price, lags = 50)\n",
        "pyplot.show()"
      ],
      "execution_count": 106,
      "outputs": [
        {
          "output_type": "display_data",
          "data": {
            "image/png": "[encoded data removed]",
            "text/plain": [
              "<matplotlib.figure.Figure at 0x7f65202cb278>"
            ]
          },
          "metadata": {
            "tags": []
          }
        }
      ]
    },
    {
      "metadata": {
        "id": "90XYiqSV0gJm",
        "colab_type": "text"
      },
      "cell_type": "markdown",
      "source": [
        "## Corn Price"
      ]
    },
    {
      "metadata": {
        "id": "9dh8qtnjzUYQ",
        "colab_type": "code",
        "colab": {}
      },
      "cell_type": "code",
      "source": [
        "corn_price = concat_clean['Last_corn']"
      ],
      "execution_count": 0,
      "outputs": []
    },
    {
      "metadata": {
        "id": "S4ui-Ii5zd0u",
        "colab_type": "code",
        "colab": {
          "base_uri": "https://localhost:8080/",
          "height": 364
        },
        "outputId": "f08fa72e-812a-4ad5-c64c-3b30bb3ba3b1"
      },
      "cell_type": "code",
      "source": [
        "corn_price.plot()"
      ],
      "execution_count": 96,
      "outputs": [
        {
          "output_type": "execute_result",
          "data": {
            "text/plain": [
              "<matplotlib.axes._subplots.AxesSubplot at 0x7f65223e3b38>"
            ]
          },
          "metadata": {
            "tags": []
          },
          "execution_count": 96
        },
        {
          "output_type": "display_data",
          "data": {
            "image/png": "[encoded data removed]",
            "text/plain": [
              "<matplotlib.figure.Figure at 0x7f6522314eb8>"
            ]
          },
          "metadata": {
            "tags": []
          }
        }
      ]
    },
    {
      "metadata": {
        "id": "eeigZVhA1VNU",
        "colab_type": "code",
        "colab": {
          "base_uri": "https://localhost:8080/",
          "height": 362
        },
        "outputId": "f31fb156-8706-4045-caa8-7ddba51769d7"
      },
      "cell_type": "code",
      "source": [
        "plot_acf(corn_price, lags = 75)\n",
        "pyplot.show()"
      ],
      "execution_count": 114,
      "outputs": [
        {
          "output_type": "display_data",
          "data": {
            "image/png": "[encoded data removed]",
            "text/plain": [
              "<matplotlib.figure.Figure at 0x7f65201c2588>"
            ]
          },
          "metadata": {
            "tags": []
          }
        }
      ]
    },
    {
      "metadata": {
        "id": "wnkjOQg809YI",
        "colab_type": "code",
        "colab": {
          "base_uri": "https://localhost:8080/",
          "height": 362
        },
        "outputId": "05a53ae6-972c-4137-bf3d-138f39ec0737"
      },
      "cell_type": "code",
      "source": [
        "plot_acf(corn_price, lags = 50)\n",
        "pyplot.show()"
      ],
      "execution_count": 107,
      "outputs": [
        {
          "output_type": "display_data",
          "data": {
            "image/png": "[encoded data removed]",
            "text/plain": [
              "<matplotlib.figure.Figure at 0x7f65202d3630>"
            ]
          },
          "metadata": {
            "tags": []
          }
        }
      ]
    },
    {
      "metadata": {
        "id": "kmPEIOXP0_4r",
        "colab_type": "code",
        "colab": {
          "base_uri": "https://localhost:8080/",
          "height": 362
        },
        "outputId": "83c4a6d4-7483-4999-d4d1-86cb45dfb0ab"
      },
      "cell_type": "code",
      "source": [
        "plot_pacf(corn_price, lags = 50)\n",
        "pyplot.show()"
      ],
      "execution_count": 108,
      "outputs": [
        {
          "output_type": "display_data",
          "data": {
            "image/png": "[encoded data removed]",
            "text/plain": [
              "<matplotlib.figure.Figure at 0x7f6520182240>"
            ]
          },
          "metadata": {
            "tags": []
          }
        }
      ]
    },
    {
      "metadata": {
        "id": "4pX3XUfH2GRX",
        "colab_type": "text"
      },
      "cell_type": "markdown",
      "source": [
        "## Looking at correlation between Gold Price and External Factors"
      ]
    },
    {
      "metadata": {
        "id": "JVgzij7i2JPf",
        "colab_type": "code",
        "colab": {
          "base_uri": "https://localhost:8080/",
          "height": 393
        },
        "outputId": "f7dfce50-1c1d-4ad0-dbad-ea76a65b4316"
      },
      "cell_type": "code",
      "source": [
        "points = pyplot.scatter(corn_price, gold_price, lw=0 )\n",
        "pyplot.ylabel('Gold Price')\n",
        "pyplot.xlabel('Corn Price')\n",
        "pyplot.title('Gold Price vs Corn Price')\n",
        "#pyplot.colorbar(points)\n",
        "\n"
      ],
      "execution_count": 136,
      "outputs": [
        {
          "output_type": "execute_result",
          "data": {
            "text/plain": [
              "Text(0.5,1,'Gold Price vs Corn Price')"
            ]
          },
          "metadata": {
            "tags": []
          },
          "execution_count": 136
        },
        {
          "output_type": "display_data",
          "data": {
            "image/png": "[encoded data removed]",
            "text/plain": [
              "<matplotlib.figure.Figure at 0x7f650fd51d68>"
            ]
          },
          "metadata": {
            "tags": []
          }
        }
      ]
    },
    {
      "metadata": {
        "id": "dVdz65R-5fX6",
        "colab_type": "code",
        "colab": {
          "base_uri": "https://localhost:8080/",
          "height": 393
        },
        "outputId": "919be8ed-b237-47f7-df6d-3996a14f446a"
      },
      "cell_type": "code",
      "source": [
        "points = pyplot.scatter(gdp, gold_price, lw=0 )\n",
        "pyplot.ylabel('Gold Price')\n",
        "pyplot.xlabel('GDP')\n",
        "pyplot.title('Gold Price vs GDP')\n",
        "#pyplot.colorbar(points)\n",
        "\n"
      ],
      "execution_count": 135,
      "outputs": [
        {
          "output_type": "execute_result",
          "data": {
            "text/plain": [
              "Text(0.5,1,'Gold Price vs GDP')"
            ]
          },
          "metadata": {
            "tags": []
          },
          "execution_count": 135
        },
        {
          "output_type": "display_data",
          "data": {
            "image/png": "[encoded data removed]",
            "text/plain": [
              "<matplotlib.figure.Figure at 0x7f650fe1c0b8>"
            ]
          },
          "metadata": {
            "tags": []
          }
        }
      ]
    },
    {
      "metadata": {
        "id": "YpfsZX3150Rf",
        "colab_type": "code",
        "colab": {
          "base_uri": "https://localhost:8080/",
          "height": 393
        },
        "outputId": "af3ba32e-3495-445d-84b9-27da3bbed239"
      },
      "cell_type": "code",
      "source": [
        "points = pyplot.scatter(cpi, gold_price, lw=0 )\n",
        "pyplot.ylabel('Gold Price')\n",
        "pyplot.xlabel('CPI')\n",
        "pyplot.title('Gold Price vs CPI')\n",
        "#pyplot.colorbar(points)\n"
      ],
      "execution_count": 133,
      "outputs": [
        {
          "output_type": "execute_result",
          "data": {
            "text/plain": [
              "Text(0.5,1,'Gold Price vs CPI')"
            ]
          },
          "metadata": {
            "tags": []
          },
          "execution_count": 133
        },
        {
          "output_type": "display_data",
          "data": {
            "image/png": "[encoded data removed]",
            "text/plain": [
              "<matplotlib.figure.Figure at 0x7f650fe98e48>"
            ]
          },
          "metadata": {
            "tags": []
          }
        }
      ]
    },
    {
      "metadata": {
        "id": "7_q-yX4053k6",
        "colab_type": "code",
        "colab": {
          "base_uri": "https://localhost:8080/",
          "height": 393
        },
        "outputId": "70412d24-a278-4f79-f3aa-a7a0dd3d8698"
      },
      "cell_type": "code",
      "source": [
        "points = pyplot.scatter(interest, gold_price, lw=0 )\n",
        "pyplot.ylabel('Gold Price')\n",
        "pyplot.xlabel('Interest Rate')\n",
        "pyplot.title('Gold Price vs Interest Rate')\n",
        "#pyplot.colorbar(points)\n"
      ],
      "execution_count": 138,
      "outputs": [
        {
          "output_type": "execute_result",
          "data": {
            "text/plain": [
              "Text(0.5,1,'Gold Price vs Interest Rate')"
            ]
          },
          "metadata": {
            "tags": []
          },
          "execution_count": 138
        },
        {
          "output_type": "display_data",
          "data": {
            "image/png": "[encoded data removed]",
            "text/plain": [
              "<matplotlib.figure.Figure at 0x7f65205049e8>"
            ]
          },
          "metadata": {
            "tags": []
          }
        }
      ]
    },
    {
      "metadata": {
        "id": "CtM5rBLr582h",
        "colab_type": "text"
      },
      "cell_type": "markdown",
      "source": [
        "We can see some sort of negative correlation between interest rate and gold prices"
      ]
    },
    {
      "metadata": {
        "id": "jDjCVOXt65-B",
        "colab_type": "code",
        "colab": {
          "base_uri": "https://localhost:8080/",
          "height": 393
        },
        "outputId": "795f8a0c-5789-420b-e8a9-bd379f3c4acb"
      },
      "cell_type": "code",
      "source": [
        "points = pyplot.scatter(interest, trade, lw=0 )\n",
        "pyplot.ylabel('Gold Price')\n",
        "pyplot.xlabel('Net Trade')\n",
        "pyplot.title('Gold Price vs Net Trade')"
      ],
      "execution_count": 141,
      "outputs": [
        {
          "output_type": "execute_result",
          "data": {
            "text/plain": [
              "Text(0.5,1,'Gold Price vs Net Trade')"
            ]
          },
          "metadata": {
            "tags": []
          },
          "execution_count": 141
        },
        {
          "output_type": "display_data",
          "data": {
            "image/png": "[encoded data removed]",
            "text/plain": [
              "<matplotlib.figure.Figure at 0x7f650f7a1160>"
            ]
          },
          "metadata": {
            "tags": []
          }
        }
      ]
    },
    {
      "metadata": {
        "id": "OhAIcDjP7PoM",
        "colab_type": "code",
        "colab": {
          "base_uri": "https://localhost:8080/",
          "height": 393
        },
        "outputId": "11e0b302-55b3-49b2-800b-5a94a08c22b2"
      },
      "cell_type": "code",
      "source": [
        "points = pyplot.scatter(interest, tmp, lw=0 )\n",
        "pyplot.ylabel('Gold Price')\n",
        "pyplot.xlabel('Average Chicago Temperature')\n",
        "pyplot.title('Gold Price vs Temperature in Chicago')"
      ],
      "execution_count": 142,
      "outputs": [
        {
          "output_type": "execute_result",
          "data": {
            "text/plain": [
              "Text(0.5,1,'Gold Price vs Temperature in Chicago')"
            ]
          },
          "metadata": {
            "tags": []
          },
          "execution_count": 142
        },
        {
          "output_type": "display_data",
          "data": {
            "image/png": "[encoded data removed]",
            "text/plain": [
              "<matplotlib.figure.Figure at 0x7f6520147fd0>"
            ]
          },
          "metadata": {
            "tags": []
          }
        }
      ]
    },
    {
      "metadata": {
        "id": "DKQVBI_p7u-Q",
        "colab_type": "text"
      },
      "cell_type": "markdown",
      "source": [
        "# Other factors of interest not included in data\n",
        "\n",
        "Strength of currency (exchange rate): We can see an inverse correlation between the price of gold and USD Index (https://www.macrotrends.net/1335/dollar-vs-gold-comparison-last-ten-years)\n",
        "\n",
        "\n",
        "Volatility (VIX): There may be correlation between the market volatility and the price of Gold. Gold is typically seen as a hedge against uncertainty, so when uncertainty in the markets is high, people tend to put more money in gold \n",
        "\n",
        "\n",
        "Inflation Rate:  Similar to volatility, gold can be a hedge against rising inflation rates\n",
        "\n",
        "Other Commodities: Other minerals such as Silver, Copper, and others can be closely related to the movement of Gold, as they tend to play a similar role in a portfolio. They may be more correlated with the movement of Gold than Corn\n",
        "\n",
        "\n",
        "\n",
        "---\n",
        "\n",
        "## Correlation Coefficient between various factors and price of Gold\n",
        "\n",
        "![alt text](https://i.imgur.com/1HoAJIZ.png)\n",
        "\n",
        "Source: http://cs229.stanford.edu/proj2013/Potoski-PredictingGoldPrices.pdf"
      ]
    },
    {
      "metadata": {
        "id": "SHlbJN6L7yaW",
        "colab_type": "code",
        "colab": {}
      },
      "cell_type": "code",
      "source": [
        ""
      ],
      "execution_count": 0,
      "outputs": []
    }
  ]
}