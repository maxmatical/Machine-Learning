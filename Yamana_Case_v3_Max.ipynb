{
  "nbformat": 4,
  "nbformat_minor": 0,
  "metadata": {
    "colab": {
      "name": "Yamana Case v3 - Max.ipynb",
      "version": "0.3.2",
      "provenance": [],
      "collapsed_sections": [],
      "toc_visible": true,
      "include_colab_link": true
    },
    "kernelspec": {
      "name": "python3",
      "display_name": "Python 3"
    },
    "accelerator": "GPU"
  },
  "cells": [
    {
      "cell_type": "markdown",
      "metadata": {
        "id": "view-in-github",
        "colab_type": "text"
      },
      "source": [
        "<a href=\"https://colab.research.google.com/github/maxmatical/Machine-Learning/blob/master/Yamana_Case_v3_Max.ipynb\" target=\"_parent\"><img src=\"https://colab.research.google.com/assets/colab-badge.svg\" alt=\"Open In Colab\"/></a>"
      ]
    },
    {
      "metadata": {
        "id": "heeGu_1Ni7Pp",
        "colab_type": "code",
        "colab": {}
      },
      "cell_type": "code",
      "source": [
        "# Set up environment and download course-v3\n",
        "!pip install torch_nightly -f https://download.pytorch.org/whl/nightly/cu92/torch_nightly.html\n",
        "!pip install fastai\n",
        "!pip install fastprogress\n",
        "!pip install pathlib\n",
        "\n",
        "!curl https://course-v3.fast.ai/setup/colab | bash"
      ],
      "execution_count": 0,
      "outputs": []
    },
    {
      "metadata": {
        "id": "OoQiE_vijDC5",
        "colab_type": "code",
        "colab": {}
      },
      "cell_type": "code",
      "source": [
        "from fastai import *\n",
        "from fastai.tabular import *\n",
        "\n",
        "import pandas as pd\n",
        "import matplotlib as plt\n",
        "import numpy as np"
      ],
      "execution_count": 0,
      "outputs": []
    },
    {
      "metadata": {
        "id": "wZX0Q_4RjFmt",
        "colab_type": "code",
        "colab": {}
      },
      "cell_type": "code",
      "source": [
        "path = '/content/data/'\n",
        "os.makedirs(path, exist_ok=True)\n",
        "fname = 'Base de Datos Geometalurgia Goldspot'\n",
        "#path"
      ],
      "execution_count": 0,
      "outputs": []
    },
    {
      "metadata": {
        "id": "xzN62Y-2jJBF",
        "colab_type": "code",
        "colab": {}
      },
      "cell_type": "code",
      "source": [
        "df = pd.read_csv('/content/data/Base de Datos Geometalurgia Goldspot.csv', low_memory=False)"
      ],
      "execution_count": 0,
      "outputs": []
    },
    {
      "metadata": {
        "id": "BCc_7a-fldDM",
        "colab_type": "code",
        "outputId": "674a1f0d-ca7a-4313-faff-94424941fbc2",
        "colab": {
          "base_uri": "https://localhost:8080/",
          "height": 244
        }
      },
      "cell_type": "code",
      "source": [
        "df.head(5)"
      ],
      "execution_count": 0,
      "outputs": [
        {
          "output_type": "execute_result",
          "data": {
            "text/html": [
              "<div>\n",
              "<style scoped>\n",
              "    .dataframe tbody tr th:only-of-type {\n",
              "        vertical-align: middle;\n",
              "    }\n",
              "\n",
              "    .dataframe tbody tr th {\n",
              "        vertical-align: top;\n",
              "    }\n",
              "\n",
              "    .dataframe thead th {\n",
              "        text-align: right;\n",
              "    }\n",
              "</style>\n",
              "<table border=\"1\" class=\"dataframe\">\n",
              "  <thead>\n",
              "    <tr style=\"text-align: right;\">\n",
              "      <th></th>\n",
              "      <th>compid</th>\n",
              "      <th>dhid</th>\n",
              "      <th>midx</th>\n",
              "      <th>midy</th>\n",
              "      <th>midz</th>\n",
              "      <th>topx</th>\n",
              "      <th>topy</th>\n",
              "      <th>topz</th>\n",
              "      <th>botx</th>\n",
              "      <th>boty</th>\n",
              "      <th>...</th>\n",
              "      <th>Te</th>\n",
              "      <th>Th</th>\n",
              "      <th>Ti</th>\n",
              "      <th>Tl</th>\n",
              "      <th>U</th>\n",
              "      <th>V</th>\n",
              "      <th>W</th>\n",
              "      <th>Y</th>\n",
              "      <th>Zn</th>\n",
              "      <th>Zr</th>\n",
              "    </tr>\n",
              "  </thead>\n",
              "  <tbody>\n",
              "    <tr>\n",
              "      <th>0</th>\n",
              "      <td>CAN</td>\n",
              "      <td>OF07482</td>\n",
              "      <td>449967.09</td>\n",
              "      <td>7301211.35</td>\n",
              "      <td>1819.01</td>\n",
              "      <td>449967.61</td>\n",
              "      <td>7301211.40</td>\n",
              "      <td>1819.01</td>\n",
              "      <td>449966.56</td>\n",
              "      <td>7301211.31</td>\n",
              "      <td>...</td>\n",
              "      <td>-99</td>\n",
              "      <td>-99</td>\n",
              "      <td>-99</td>\n",
              "      <td>-99</td>\n",
              "      <td>-99</td>\n",
              "      <td>-99.0</td>\n",
              "      <td>-99</td>\n",
              "      <td>-99</td>\n",
              "      <td>-99</td>\n",
              "      <td>-99.0</td>\n",
              "    </tr>\n",
              "    <tr>\n",
              "      <th>1</th>\n",
              "      <td>CAN</td>\n",
              "      <td>OF07491</td>\n",
              "      <td>449950.70</td>\n",
              "      <td>7301374.94</td>\n",
              "      <td>1836.81</td>\n",
              "      <td>449949.32</td>\n",
              "      <td>7301375.18</td>\n",
              "      <td>1836.81</td>\n",
              "      <td>449952.08</td>\n",
              "      <td>7301374.70</td>\n",
              "      <td>...</td>\n",
              "      <td>-99</td>\n",
              "      <td>-99</td>\n",
              "      <td>-99</td>\n",
              "      <td>-99</td>\n",
              "      <td>-99</td>\n",
              "      <td>-99.0</td>\n",
              "      <td>-99</td>\n",
              "      <td>-99</td>\n",
              "      <td>-99</td>\n",
              "      <td>-99.0</td>\n",
              "    </tr>\n",
              "    <tr>\n",
              "      <th>2</th>\n",
              "      <td>CAN</td>\n",
              "      <td>OF07505</td>\n",
              "      <td>449950.06</td>\n",
              "      <td>7301418.56</td>\n",
              "      <td>1836.86</td>\n",
              "      <td>449949.61</td>\n",
              "      <td>7301418.52</td>\n",
              "      <td>1836.86</td>\n",
              "      <td>449950.50</td>\n",
              "      <td>7301418.60</td>\n",
              "      <td>...</td>\n",
              "      <td>-99</td>\n",
              "      <td>-99</td>\n",
              "      <td>-99</td>\n",
              "      <td>-99</td>\n",
              "      <td>-99</td>\n",
              "      <td>-99.0</td>\n",
              "      <td>-99</td>\n",
              "      <td>-99</td>\n",
              "      <td>-99</td>\n",
              "      <td>-99.0</td>\n",
              "    </tr>\n",
              "    <tr>\n",
              "      <th>3</th>\n",
              "      <td>CAN</td>\n",
              "      <td>OF08219</td>\n",
              "      <td>449896.24</td>\n",
              "      <td>7301571.17</td>\n",
              "      <td>1677.28</td>\n",
              "      <td>449895.20</td>\n",
              "      <td>7301571.08</td>\n",
              "      <td>1677.28</td>\n",
              "      <td>449897.29</td>\n",
              "      <td>7301571.26</td>\n",
              "      <td>...</td>\n",
              "      <td>-99</td>\n",
              "      <td>-99</td>\n",
              "      <td>-99</td>\n",
              "      <td>-99</td>\n",
              "      <td>-99</td>\n",
              "      <td>-99.0</td>\n",
              "      <td>-99</td>\n",
              "      <td>-99</td>\n",
              "      <td>-99</td>\n",
              "      <td>-99.0</td>\n",
              "    </tr>\n",
              "    <tr>\n",
              "      <th>4</th>\n",
              "      <td>CAN</td>\n",
              "      <td>OF08222</td>\n",
              "      <td>449906.02</td>\n",
              "      <td>7301433.32</td>\n",
              "      <td>1601.00</td>\n",
              "      <td>449905.37</td>\n",
              "      <td>7301433.32</td>\n",
              "      <td>1601.00</td>\n",
              "      <td>449906.67</td>\n",
              "      <td>7301433.32</td>\n",
              "      <td>...</td>\n",
              "      <td>-99</td>\n",
              "      <td>-99</td>\n",
              "      <td>24</td>\n",
              "      <td>-99</td>\n",
              "      <td>-99</td>\n",
              "      <td>-99.0</td>\n",
              "      <td>3</td>\n",
              "      <td>-99</td>\n",
              "      <td>1000</td>\n",
              "      <td>-99.0</td>\n",
              "    </tr>\n",
              "  </tbody>\n",
              "</table>\n",
              "<p>5 rows × 72 columns</p>\n",
              "</div>"
            ],
            "text/plain": [
              "  compid     dhid       midx        midy     midz       topx        topy  \\\n",
              "0    CAN  OF07482  449967.09  7301211.35  1819.01  449967.61  7301211.40   \n",
              "1    CAN  OF07491  449950.70  7301374.94  1836.81  449949.32  7301375.18   \n",
              "2    CAN  OF07505  449950.06  7301418.56  1836.86  449949.61  7301418.52   \n",
              "3    CAN  OF08219  449896.24  7301571.17  1677.28  449895.20  7301571.08   \n",
              "4    CAN  OF08222  449906.02  7301433.32  1601.00  449905.37  7301433.32   \n",
              "\n",
              "      topz       botx        boty  ...    Te   Th   Ti   Tl    U     V    W  \\\n",
              "0  1819.01  449966.56  7301211.31  ...   -99  -99  -99  -99  -99 -99.0  -99   \n",
              "1  1836.81  449952.08  7301374.70  ...   -99  -99  -99  -99  -99 -99.0  -99   \n",
              "2  1836.86  449950.50  7301418.60  ...   -99  -99  -99  -99  -99 -99.0  -99   \n",
              "3  1677.28  449897.29  7301571.26  ...   -99  -99  -99  -99  -99 -99.0  -99   \n",
              "4  1601.00  449906.67  7301433.32  ...   -99  -99   24  -99  -99 -99.0    3   \n",
              "\n",
              "    Y    Zn    Zr  \n",
              "0 -99   -99 -99.0  \n",
              "1 -99   -99 -99.0  \n",
              "2 -99   -99 -99.0  \n",
              "3 -99   -99 -99.0  \n",
              "4 -99  1000 -99.0  \n",
              "\n",
              "[5 rows x 72 columns]"
            ]
          },
          "metadata": {
            "tags": []
          },
          "execution_count": 9
        }
      ]
    },
    {
      "metadata": {
        "id": "SeOPgpiZjOWK",
        "colab_type": "text"
      },
      "cell_type": "markdown",
      "source": [
        "### Preprocessing\n",
        "1. remove any instances of \">\", \"<\", and \",\" from the data\n",
        "2. Impute (or remove) any instances of -99 for 'agrec' or 'nacnc'\n",
        "    - if imputing: use median value \n",
        "3. Change any instance of -99 in features to be np.nan (to use FillMissing)\n",
        "4. use FillMissing to change NaN to -99, and add feature for var_na (bool)\n",
        "5. Perform analysis on features to see if any features (other than top/mid/bot) are correlated, remove those variables from the modelling process\n",
        "    - https://chrisalbon.com/machine_learning/feature_selection/drop_highly_correlated_features/\n",
        "6. Split features into 3 dataframes: \n",
        "    - Just geo data\n",
        "    - Just geochemical data\n",
        "    - both\n",
        "7. Model using features, see what kind of results we get with subset of the features\n",
        "8. Perform any feature importance analysis as needed"
      ]
    },
    {
      "metadata": {
        "id": "bMcomeMSjLU0",
        "colab_type": "code",
        "colab": {}
      },
      "cell_type": "code",
      "source": [
        "# stripping all str columns of > and < symbols\n",
        "for column in df.columns:\n",
        "    if df[column].dtype == 'O' and column != 'compid' and column != 'dhid':\n",
        "        df[column] = df[column].map(lambda x: x.lstrip('>,<'))\n",
        "        df[column] = df[column].str.replace(',','.')\n",
        "        df[column] = df[column].astype(float)\n",
        "\n"
      ],
      "execution_count": 0,
      "outputs": []
    },
    {
      "metadata": {
        "id": "QcyydyElmhNL",
        "colab_type": "code",
        "colab": {}
      },
      "cell_type": "code",
      "source": [
        "df['nacnc'] = df['nacnc'].replace(-99,df['nacnc'].median(), inplace = False)\n",
        "\n",
        "df['agrec'] = df['agrec'].replace(-99,df['agrec'].median(), inplace = False)"
      ],
      "execution_count": 0,
      "outputs": []
    },
    {
      "metadata": {
        "id": "vXcmT_rpm-dS",
        "colab_type": "code",
        "colab": {}
      },
      "cell_type": "code",
      "source": [
        "df = df.replace(-99, np.nan, inplace=False)\n"
      ],
      "execution_count": 0,
      "outputs": []
    },
    {
      "metadata": {
        "id": "rgIARC-1p0IW",
        "colab_type": "code",
        "colab": {}
      },
      "cell_type": "code",
      "source": [
        "cat_names = ['geocod', 'bound']\n",
        "cont_names = ['midx', 'midy', 'midz', 'topx', 'topy', 'topz', 'botx', 'boty', 'botz',\n",
        "             'length', 'from', 'to','auppm', 'agppm', 'Al', 'As', 'Au', 'B', 'Ba', 'Be', 'Bi', 'Ca',\n",
        "             'Cd', 'Co', 'Cr', 'Cu', 'Fe', 'Hg', 'K', 'La', 'Li', 'Mg', 'Mn', 'Mo', 'Na',\n",
        "             'Nb', 'Ni', 'P', 'Pb', 'Pd', 'Re', 'S', 'Sb', 'Se', 'Si', 'Sc', 'Sn', 'Sr',\n",
        "             'Ta', 'Te', 'Th', 'Ti', 'Tl', 'U', 'V', 'W', 'Y', 'Zn', 'Zr']"
      ],
      "execution_count": 0,
      "outputs": []
    },
    {
      "metadata": {
        "id": "_xVMra1Hp-Fv",
        "colab_type": "code",
        "colab": {}
      },
      "cell_type": "code",
      "source": [
        "fillmissing = FillMissing(cat_names = cat_names, cont_names = cont_names, fill_strategy='CONSTANT', fill_val = -99.0)\n"
      ],
      "execution_count": 0,
      "outputs": []
    },
    {
      "metadata": {
        "id": "vj7JI564qAhy",
        "colab_type": "code",
        "colab": {}
      },
      "cell_type": "code",
      "source": [
        "fillmissing(df)"
      ],
      "execution_count": 0,
      "outputs": []
    },
    {
      "metadata": {
        "id": "CBI4YWFhqB9Y",
        "colab_type": "code",
        "outputId": "497a4a8b-0f65-460b-ed22-8c3022cf90a4",
        "colab": {
          "base_uri": "https://localhost:8080/",
          "height": 392
        }
      },
      "cell_type": "code",
      "source": [
        "df.head(10)"
      ],
      "execution_count": 0,
      "outputs": [
        {
          "output_type": "execute_result",
          "data": {
            "text/html": [
              "<div>\n",
              "<style scoped>\n",
              "    .dataframe tbody tr th:only-of-type {\n",
              "        vertical-align: middle;\n",
              "    }\n",
              "\n",
              "    .dataframe tbody tr th {\n",
              "        vertical-align: top;\n",
              "    }\n",
              "\n",
              "    .dataframe thead th {\n",
              "        text-align: right;\n",
              "    }\n",
              "</style>\n",
              "<table border=\"1\" class=\"dataframe\">\n",
              "  <thead>\n",
              "    <tr style=\"text-align: right;\">\n",
              "      <th></th>\n",
              "      <th>compid</th>\n",
              "      <th>dhid</th>\n",
              "      <th>midx</th>\n",
              "      <th>midy</th>\n",
              "      <th>midz</th>\n",
              "      <th>topx</th>\n",
              "      <th>topy</th>\n",
              "      <th>topz</th>\n",
              "      <th>botx</th>\n",
              "      <th>boty</th>\n",
              "      <th>...</th>\n",
              "      <th>Te_na</th>\n",
              "      <th>Th_na</th>\n",
              "      <th>Ti_na</th>\n",
              "      <th>Tl_na</th>\n",
              "      <th>U_na</th>\n",
              "      <th>V_na</th>\n",
              "      <th>W_na</th>\n",
              "      <th>Y_na</th>\n",
              "      <th>Zn_na</th>\n",
              "      <th>Zr_na</th>\n",
              "    </tr>\n",
              "  </thead>\n",
              "  <tbody>\n",
              "    <tr>\n",
              "      <th>0</th>\n",
              "      <td>CAN</td>\n",
              "      <td>OF07482</td>\n",
              "      <td>449967.09</td>\n",
              "      <td>7301211.35</td>\n",
              "      <td>1819.01</td>\n",
              "      <td>449967.61</td>\n",
              "      <td>7301211.40</td>\n",
              "      <td>1819.01</td>\n",
              "      <td>449966.56</td>\n",
              "      <td>7301211.31</td>\n",
              "      <td>...</td>\n",
              "      <td>True</td>\n",
              "      <td>True</td>\n",
              "      <td>True</td>\n",
              "      <td>True</td>\n",
              "      <td>True</td>\n",
              "      <td>True</td>\n",
              "      <td>True</td>\n",
              "      <td>True</td>\n",
              "      <td>True</td>\n",
              "      <td>True</td>\n",
              "    </tr>\n",
              "    <tr>\n",
              "      <th>1</th>\n",
              "      <td>CAN</td>\n",
              "      <td>OF07491</td>\n",
              "      <td>449950.70</td>\n",
              "      <td>7301374.94</td>\n",
              "      <td>1836.81</td>\n",
              "      <td>449949.32</td>\n",
              "      <td>7301375.18</td>\n",
              "      <td>1836.81</td>\n",
              "      <td>449952.08</td>\n",
              "      <td>7301374.70</td>\n",
              "      <td>...</td>\n",
              "      <td>True</td>\n",
              "      <td>True</td>\n",
              "      <td>True</td>\n",
              "      <td>True</td>\n",
              "      <td>True</td>\n",
              "      <td>True</td>\n",
              "      <td>True</td>\n",
              "      <td>True</td>\n",
              "      <td>True</td>\n",
              "      <td>True</td>\n",
              "    </tr>\n",
              "    <tr>\n",
              "      <th>2</th>\n",
              "      <td>CAN</td>\n",
              "      <td>OF07505</td>\n",
              "      <td>449950.06</td>\n",
              "      <td>7301418.56</td>\n",
              "      <td>1836.86</td>\n",
              "      <td>449949.61</td>\n",
              "      <td>7301418.52</td>\n",
              "      <td>1836.86</td>\n",
              "      <td>449950.50</td>\n",
              "      <td>7301418.60</td>\n",
              "      <td>...</td>\n",
              "      <td>True</td>\n",
              "      <td>True</td>\n",
              "      <td>True</td>\n",
              "      <td>True</td>\n",
              "      <td>True</td>\n",
              "      <td>True</td>\n",
              "      <td>True</td>\n",
              "      <td>True</td>\n",
              "      <td>True</td>\n",
              "      <td>True</td>\n",
              "    </tr>\n",
              "    <tr>\n",
              "      <th>3</th>\n",
              "      <td>CAN</td>\n",
              "      <td>OF08219</td>\n",
              "      <td>449896.24</td>\n",
              "      <td>7301571.17</td>\n",
              "      <td>1677.28</td>\n",
              "      <td>449895.20</td>\n",
              "      <td>7301571.08</td>\n",
              "      <td>1677.28</td>\n",
              "      <td>449897.29</td>\n",
              "      <td>7301571.26</td>\n",
              "      <td>...</td>\n",
              "      <td>True</td>\n",
              "      <td>True</td>\n",
              "      <td>True</td>\n",
              "      <td>True</td>\n",
              "      <td>True</td>\n",
              "      <td>True</td>\n",
              "      <td>True</td>\n",
              "      <td>True</td>\n",
              "      <td>True</td>\n",
              "      <td>True</td>\n",
              "    </tr>\n",
              "    <tr>\n",
              "      <th>4</th>\n",
              "      <td>CAN</td>\n",
              "      <td>OF08222</td>\n",
              "      <td>449906.02</td>\n",
              "      <td>7301433.32</td>\n",
              "      <td>1601.00</td>\n",
              "      <td>449905.37</td>\n",
              "      <td>7301433.32</td>\n",
              "      <td>1601.00</td>\n",
              "      <td>449906.67</td>\n",
              "      <td>7301433.32</td>\n",
              "      <td>...</td>\n",
              "      <td>True</td>\n",
              "      <td>True</td>\n",
              "      <td>False</td>\n",
              "      <td>True</td>\n",
              "      <td>True</td>\n",
              "      <td>True</td>\n",
              "      <td>False</td>\n",
              "      <td>True</td>\n",
              "      <td>False</td>\n",
              "      <td>True</td>\n",
              "    </tr>\n",
              "    <tr>\n",
              "      <th>5</th>\n",
              "      <td>CAN</td>\n",
              "      <td>OF08223</td>\n",
              "      <td>449940.31</td>\n",
              "      <td>7301543.05</td>\n",
              "      <td>1773.45</td>\n",
              "      <td>449940.01</td>\n",
              "      <td>7301543.08</td>\n",
              "      <td>1773.45</td>\n",
              "      <td>449940.61</td>\n",
              "      <td>7301543.03</td>\n",
              "      <td>...</td>\n",
              "      <td>True</td>\n",
              "      <td>True</td>\n",
              "      <td>True</td>\n",
              "      <td>True</td>\n",
              "      <td>True</td>\n",
              "      <td>True</td>\n",
              "      <td>True</td>\n",
              "      <td>True</td>\n",
              "      <td>True</td>\n",
              "      <td>True</td>\n",
              "    </tr>\n",
              "    <tr>\n",
              "      <th>6</th>\n",
              "      <td>CAN</td>\n",
              "      <td>OF08264</td>\n",
              "      <td>449922.79</td>\n",
              "      <td>7301652.09</td>\n",
              "      <td>1854.98</td>\n",
              "      <td>449921.08</td>\n",
              "      <td>7301651.73</td>\n",
              "      <td>1854.98</td>\n",
              "      <td>449924.50</td>\n",
              "      <td>7301652.46</td>\n",
              "      <td>...</td>\n",
              "      <td>True</td>\n",
              "      <td>True</td>\n",
              "      <td>False</td>\n",
              "      <td>True</td>\n",
              "      <td>True</td>\n",
              "      <td>True</td>\n",
              "      <td>False</td>\n",
              "      <td>True</td>\n",
              "      <td>False</td>\n",
              "      <td>True</td>\n",
              "    </tr>\n",
              "    <tr>\n",
              "      <th>7</th>\n",
              "      <td>CAN</td>\n",
              "      <td>OF08306</td>\n",
              "      <td>449933.71</td>\n",
              "      <td>7301556.51</td>\n",
              "      <td>1773.12</td>\n",
              "      <td>449933.33</td>\n",
              "      <td>7301556.19</td>\n",
              "      <td>1773.12</td>\n",
              "      <td>449934.10</td>\n",
              "      <td>7301556.83</td>\n",
              "      <td>...</td>\n",
              "      <td>True</td>\n",
              "      <td>True</td>\n",
              "      <td>False</td>\n",
              "      <td>True</td>\n",
              "      <td>True</td>\n",
              "      <td>True</td>\n",
              "      <td>False</td>\n",
              "      <td>True</td>\n",
              "      <td>False</td>\n",
              "      <td>True</td>\n",
              "    </tr>\n",
              "    <tr>\n",
              "      <th>8</th>\n",
              "      <td>CAN</td>\n",
              "      <td>OF08389</td>\n",
              "      <td>449872.89</td>\n",
              "      <td>7301556.36</td>\n",
              "      <td>1600.87</td>\n",
              "      <td>449871.73</td>\n",
              "      <td>7301556.05</td>\n",
              "      <td>1600.87</td>\n",
              "      <td>449874.05</td>\n",
              "      <td>7301556.67</td>\n",
              "      <td>...</td>\n",
              "      <td>True</td>\n",
              "      <td>True</td>\n",
              "      <td>False</td>\n",
              "      <td>True</td>\n",
              "      <td>True</td>\n",
              "      <td>True</td>\n",
              "      <td>False</td>\n",
              "      <td>True</td>\n",
              "      <td>False</td>\n",
              "      <td>True</td>\n",
              "    </tr>\n",
              "    <tr>\n",
              "      <th>9</th>\n",
              "      <td>CAN</td>\n",
              "      <td>OF09245</td>\n",
              "      <td>449873.89</td>\n",
              "      <td>7301509.13</td>\n",
              "      <td>1547.19</td>\n",
              "      <td>449873.25</td>\n",
              "      <td>7301508.99</td>\n",
              "      <td>1547.19</td>\n",
              "      <td>449874.52</td>\n",
              "      <td>7301509.26</td>\n",
              "      <td>...</td>\n",
              "      <td>True</td>\n",
              "      <td>True</td>\n",
              "      <td>True</td>\n",
              "      <td>True</td>\n",
              "      <td>True</td>\n",
              "      <td>True</td>\n",
              "      <td>True</td>\n",
              "      <td>True</td>\n",
              "      <td>True</td>\n",
              "      <td>True</td>\n",
              "    </tr>\n",
              "  </tbody>\n",
              "</table>\n",
              "<p>10 rows × 119 columns</p>\n",
              "</div>"
            ],
            "text/plain": [
              "  compid     dhid       midx        midy     midz       topx        topy  \\\n",
              "0    CAN  OF07482  449967.09  7301211.35  1819.01  449967.61  7301211.40   \n",
              "1    CAN  OF07491  449950.70  7301374.94  1836.81  449949.32  7301375.18   \n",
              "2    CAN  OF07505  449950.06  7301418.56  1836.86  449949.61  7301418.52   \n",
              "3    CAN  OF08219  449896.24  7301571.17  1677.28  449895.20  7301571.08   \n",
              "4    CAN  OF08222  449906.02  7301433.32  1601.00  449905.37  7301433.32   \n",
              "5    CAN  OF08223  449940.31  7301543.05  1773.45  449940.01  7301543.08   \n",
              "6    CAN  OF08264  449922.79  7301652.09  1854.98  449921.08  7301651.73   \n",
              "7    CAN  OF08306  449933.71  7301556.51  1773.12  449933.33  7301556.19   \n",
              "8    CAN  OF08389  449872.89  7301556.36  1600.87  449871.73  7301556.05   \n",
              "9    CAN  OF09245  449873.89  7301509.13  1547.19  449873.25  7301508.99   \n",
              "\n",
              "      topz       botx        boty  ...    Te_na  Th_na  Ti_na  Tl_na  U_na  \\\n",
              "0  1819.01  449966.56  7301211.31  ...     True   True   True   True  True   \n",
              "1  1836.81  449952.08  7301374.70  ...     True   True   True   True  True   \n",
              "2  1836.86  449950.50  7301418.60  ...     True   True   True   True  True   \n",
              "3  1677.28  449897.29  7301571.26  ...     True   True   True   True  True   \n",
              "4  1601.00  449906.67  7301433.32  ...     True   True  False   True  True   \n",
              "5  1773.45  449940.61  7301543.03  ...     True   True   True   True  True   \n",
              "6  1854.98  449924.50  7301652.46  ...     True   True  False   True  True   \n",
              "7  1773.12  449934.10  7301556.83  ...     True   True  False   True  True   \n",
              "8  1600.87  449874.05  7301556.67  ...     True   True  False   True  True   \n",
              "9  1547.19  449874.52  7301509.26  ...     True   True   True   True  True   \n",
              "\n",
              "   V_na   W_na  Y_na  Zn_na  Zr_na  \n",
              "0  True   True  True   True   True  \n",
              "1  True   True  True   True   True  \n",
              "2  True   True  True   True   True  \n",
              "3  True   True  True   True   True  \n",
              "4  True  False  True  False   True  \n",
              "5  True   True  True   True   True  \n",
              "6  True  False  True  False   True  \n",
              "7  True  False  True  False   True  \n",
              "8  True  False  True  False   True  \n",
              "9  True   True  True   True   True  \n",
              "\n",
              "[10 rows x 119 columns]"
            ]
          },
          "metadata": {
            "tags": []
          },
          "execution_count": 76
        }
      ]
    },
    {
      "metadata": {
        "id": "p9esCdwOqJqu",
        "colab_type": "code",
        "colab": {}
      },
      "cell_type": "code",
      "source": [
        "cat_names = ['geocod', 'bound',\n",
        "            'Al_na', 'As_na', 'Au_na', 'B_na', 'Ba_na', 'Be_na', 'Bi_na', 'Ca_na',\n",
        "             'Cd_na', 'Co_na', 'Cr_na', 'Cu_na', 'Fe_na', 'Hg_na', 'K_na', 'La_na', 'Li_na', 'Mg_na',\n",
        "             'Mn_na', 'Mo_na', 'Na_na',\n",
        "             'Nb_na', 'Ni_na', 'P_na', 'Pb_na', 'Pd_na', 'Re_na', 'S_na', 'Sb_na', 'Se_na',\n",
        "             'Si_na', 'Sc_na', 'Sn_na', 'Sr_na',\n",
        "             'Ta_na', 'Te_na', 'Th_na', 'Ti_na', 'Tl_na', 'U_na', 'V_na', 'W_na', 'Y_na', 'Zn_na', 'Zr_na']\n",
        "\n",
        "cont_names= ['midx', 'midy', 'midz', 'topx', 'topy', 'topz', 'botx', 'boty', 'botz',\n",
        "             'length', 'from', 'to','auppm', 'agppm', 'Al', 'As', 'Au', 'B', 'Ba', 'Be', 'Bi', 'Ca',\n",
        "             'Cd', 'Co', 'Cr', 'Cu', 'Fe', 'Hg', 'K', 'La', 'Li', 'Mg', 'Mn', 'Mo', 'Na',\n",
        "             'Nb', 'Ni', 'P', 'Pb', 'Pd', 'Re', 'S', 'Sb', 'Se', 'Si', 'Sc', 'Sn', 'Sr',\n",
        "             'Ta', 'Te', 'Th', 'Ti', 'Tl', 'U', 'V', 'W', 'Y', 'Zn', 'Zr']"
      ],
      "execution_count": 0,
      "outputs": []
    },
    {
      "metadata": {
        "id": "7b8fawUbqiJS",
        "colab_type": "text"
      },
      "cell_type": "markdown",
      "source": [
        "Finding correlated features"
      ]
    },
    {
      "metadata": {
        "id": "rXmUtp3yrKEu",
        "colab_type": "code",
        "colab": {}
      },
      "cell_type": "code",
      "source": [
        "df_orig_features = df[['geocod', 'bound', 'midx', 'midy', 'midz', 'topx', 'topy', 'topz', 'botx', 'boty', 'botz',\n",
        "             'length', 'from', 'to','auppm', 'agppm', 'Al', 'As', 'Au', 'B', 'Ba', 'Be', 'Bi', 'Ca',\n",
        "             'Cd', 'Co', 'Cr', 'Cu', 'Fe', 'Hg', 'K', 'La', 'Li', 'Mg', 'Mn', 'Mo', 'Na',\n",
        "             'Nb', 'Ni', 'P', 'Pb', 'Pd', 'Re', 'S', 'Sb', 'Se', 'Si', 'Sc', 'Sn', 'Sr',\n",
        "             'Ta', 'Te', 'Th', 'Ti', 'Tl', 'U', 'V', 'W', 'Y', 'Zn', 'Zr']]"
      ],
      "execution_count": 0,
      "outputs": []
    },
    {
      "metadata": {
        "id": "SaxRUn0aqbgj",
        "colab_type": "code",
        "colab": {}
      },
      "cell_type": "code",
      "source": [
        "corr_matrix = df_orig_features.corr().abs()\n",
        "upper = corr_matrix.where(np.triu(np.ones(corr_matrix.shape), k=1).astype(np.bool))\n",
        "\n"
      ],
      "execution_count": 0,
      "outputs": []
    },
    {
      "metadata": {
        "id": "ephlX4w5r3tH",
        "colab_type": "code",
        "colab": {}
      },
      "cell_type": "code",
      "source": [
        "print(upper)"
      ],
      "execution_count": 0,
      "outputs": []
    },
    {
      "metadata": {
        "id": "Da-eoKr_qj1p",
        "colab_type": "code",
        "outputId": "e9ca2f6e-393b-403d-c733-a39bb3f051fa",
        "colab": {
          "base_uri": "https://localhost:8080/",
          "height": 34
        }
      },
      "cell_type": "code",
      "source": [
        "# Find index of feature columns with correlation greater than 0.95\n",
        "to_drop = [column for column in upper.columns if any(upper[column] > 0.95)]\n",
        "\n",
        "print(to_drop)\n"
      ],
      "execution_count": 0,
      "outputs": [
        {
          "output_type": "stream",
          "text": [
            "['bound', 'topx', 'topy', 'topz', 'botx', 'boty', 'botz', 'Au', 'K', 'Pd', 'Re', 'Sn']\n"
          ],
          "name": "stdout"
        }
      ]
    },
    {
      "metadata": {
        "id": "Egh3bvn6rtbl",
        "colab_type": "text"
      },
      "cell_type": "markdown",
      "source": [
        "['bound', 'topx', 'topy', 'topz', 'botx', 'boty', 'botz', 'Au', 'K', 'Pd', 'Re', 'Sn'] are all highly correlated with other features in the dataset\n",
        "\n",
        "\n",
        "### Questions\n",
        "- should we drop highly correlated chemical information?(Au, K, etc.)\n",
        "- what sets of features does auppm and agppm fit in?\n",
        "- can we include [vsed, tfil, dens] as features (i.e. can they be easily obtained and used to predict our target variables?)"
      ]
    },
    {
      "metadata": {
        "id": "sgvtRdT_roAJ",
        "colab_type": "code",
        "colab": {}
      },
      "cell_type": "code",
      "source": [
        "df_geo = df[['geocod','midx', 'midy', 'midz', 'length', 'from', 'to']]\n",
        "\n",
        "df_chem = df[['auppm', 'agppm', \n",
        "             'Al', 'As', 'Au', 'B', 'Ba', 'Be', 'Bi', 'Ca',\n",
        "             'Cd', 'Co', 'Cr', 'Cu', 'Fe', 'Hg', 'K', 'La', 'Li', 'Mg',\n",
        "             'Mn', 'Mo', 'Na',\n",
        "             'Nb', 'Ni', 'P', 'Pb', 'Pd', 'Re', 'S', 'Sb', 'Se',\n",
        "             'Si', 'Sc', 'Sn', 'Sr',\n",
        "             'Ta', 'Te', 'Th', 'Ti', 'Tl', 'U', 'V', 'W', 'Y', 'Zn', 'Zr', \n",
        "             'Al_na', 'As_na', 'Au_na', 'B_na', 'Ba_na', 'Be_na', 'Bi_na', 'Ca_na',\n",
        "             'Cd_na', 'Co_na', 'Cr_na', 'Cu_na', 'Fe_na', 'Hg_na', 'K_na', 'La_na', 'Li_na', 'Mg_na',\n",
        "             'Mn_na', 'Mo_na', 'Na_na',\n",
        "             'Nb_na', 'Ni_na', 'P_na', 'Pb_na', 'Pd_na', 'Re_na', 'S_na', 'Sb_na', 'Se_na',\n",
        "             'Si_na', 'Sc_na', 'Sn_na', 'Sr_na',\n",
        "             'Ta_na', 'Te_na', 'Th_na', 'Ti_na', 'Tl_na', 'U_na', 'V_na', 'W_na', 'Y_na', 'Zn_na', 'Zr_na']]\n",
        "\n",
        "df_all = df[['geocod','midx', 'midy', 'midz', 'length', 'from', 'to',\n",
        "             'Al', 'As', 'Au', 'B', 'Ba', 'Be', 'Bi', 'Ca',\n",
        "             'Cd', 'Co', 'Cr', 'Cu', 'Fe', 'Hg', 'K', 'La', 'Li', 'Mg',\n",
        "             'Mn', 'Mo', 'Na',\n",
        "             'Nb', 'Ni', 'P', 'Pb', 'Pd', 'Re', 'S', 'Sb', 'Se',\n",
        "             'Si', 'Sc', 'Sn', 'Sr',\n",
        "             'Ta', 'Te', 'Th', 'Ti', 'Tl', 'U', 'V', 'W', 'Y', 'Zn', 'Zr', \n",
        "             'Al_na', 'As_na', 'Au_na', 'B_na', 'Ba_na', 'Be_na', 'Bi_na', 'Ca_na',\n",
        "             'Cd_na', 'Co_na', 'Cr_na', 'Cu_na', 'Fe_na', 'Hg_na', 'K_na', 'La_na', 'Li_na', 'Mg_na',\n",
        "             'Mn_na', 'Mo_na', 'Na_na',\n",
        "             'Nb_na', 'Ni_na', 'P_na', 'Pb_na', 'Pd_na', 'Re_na', 'S_na', 'Sb_na', 'Se_na',\n",
        "             'Si_na', 'Sc_na', 'Sn_na', 'Sr_na',\n",
        "             'Ta_na', 'Te_na', 'Th_na', 'Ti_na', 'Tl_na', 'U_na', 'V_na', 'W_na', 'Y_na', 'Zn_na', 'Zr_na']]\n",
        "\n",
        "y_au = df['aurec']\n",
        "y_ag = df['agrec']\n",
        "y_nac = df['nacnc']\n",
        "y_codt = df['codt']"
      ],
      "execution_count": 0,
      "outputs": []
    },
    {
      "metadata": {
        "id": "WNPsv6K5U3zk",
        "colab_type": "code",
        "colab": {}
      },
      "cell_type": "code",
      "source": [
        "# defining function to evaluate exp_rmspe\n",
        "def inv_y(a): return np.exp(a)\n",
        "\n",
        "def exp_rmspe(y_pred, targ):\n",
        "    targ = inv_y(targ)\n",
        "    pct_var = (targ - inv_y(y_pred))/targ\n",
        "    return math.sqrt((pct_var**2).mean())"
      ],
      "execution_count": 0,
      "outputs": []
    },
    {
      "metadata": {
        "id": "W9fBpkgLtbof",
        "colab_type": "text"
      },
      "cell_type": "markdown",
      "source": [
        "## Predicting codt class"
      ]
    },
    {
      "metadata": {
        "id": "lo-COQJytlVR",
        "colab_type": "text"
      },
      "cell_type": "markdown",
      "source": [
        "### just geo info"
      ]
    },
    {
      "metadata": {
        "id": "yfswArystaKu",
        "colab_type": "code",
        "colab": {}
      },
      "cell_type": "code",
      "source": [
        "from sklearn.ensemble import RandomForestClassifier\n",
        "from sklearn.model_selection import train_test_split"
      ],
      "execution_count": 0,
      "outputs": []
    },
    {
      "metadata": {
        "id": "hEmxBd2qtjBQ",
        "colab_type": "code",
        "colab": {}
      },
      "cell_type": "code",
      "source": [
        "x_train, x_test, y_train, y_test = train_test_split(df_geo, y_codt, test_size = 0.2)"
      ],
      "execution_count": 0,
      "outputs": []
    },
    {
      "metadata": {
        "id": "yyUCnoLdtpcv",
        "colab_type": "code",
        "outputId": "3e336e66-582e-4ba0-e393-3972efebf4ea",
        "colab": {
          "base_uri": "https://localhost:8080/",
          "height": 118
        }
      },
      "cell_type": "code",
      "source": [
        "m = RandomForestClassifier(n_estimators=100, max_features=0.99, min_samples_leaf=2,\n",
        "                          n_jobs=-1, oob_score=True)\n",
        "\n",
        "m.fit(x_train, y_train)"
      ],
      "execution_count": 0,
      "outputs": [
        {
          "output_type": "execute_result",
          "data": {
            "text/plain": [
              "RandomForestClassifier(bootstrap=True, class_weight=None, criterion='gini',\n",
              "            max_depth=None, max_features=0.99, max_leaf_nodes=None,\n",
              "            min_impurity_decrease=0.0, min_impurity_split=None,\n",
              "            min_samples_leaf=2, min_samples_split=2,\n",
              "            min_weight_fraction_leaf=0.0, n_estimators=100, n_jobs=-1,\n",
              "            oob_score=True, random_state=None, verbose=0, warm_start=False)"
            ]
          },
          "metadata": {
            "tags": []
          },
          "execution_count": 90
        }
      ]
    },
    {
      "metadata": {
        "id": "wV_tQTfPtrTu",
        "colab_type": "code",
        "outputId": "95ed8783-349a-4c4f-d464-3d8e635a4022",
        "colab": {
          "base_uri": "https://localhost:8080/",
          "height": 34
        }
      },
      "cell_type": "code",
      "source": [
        "m.score(x_test, y_test)"
      ],
      "execution_count": 0,
      "outputs": [
        {
          "output_type": "execute_result",
          "data": {
            "text/plain": [
              "0.9705882352941176"
            ]
          },
          "metadata": {
            "tags": []
          },
          "execution_count": 91
        }
      ]
    },
    {
      "metadata": {
        "id": "RHRDL2sattIx",
        "colab_type": "code",
        "outputId": "5a94fb21-0ae2-4115-83ed-db2f6b6aa9e0",
        "colab": {
          "base_uri": "https://localhost:8080/",
          "height": 84
        }
      },
      "cell_type": "code",
      "source": [
        "from sklearn.metrics import confusion_matrix\n",
        "\n",
        "confusion_matrix(m.predict(x_test), y_test)"
      ],
      "execution_count": 0,
      "outputs": [
        {
          "output_type": "execute_result",
          "data": {
            "text/plain": [
              "array([[ 97,   0,   1,   1],\n",
              "       [  0,   1,   0,   0],\n",
              "       [  2,   0,  33,   0],\n",
              "       [  1,   3,   0, 133]])"
            ]
          },
          "metadata": {
            "tags": []
          },
          "execution_count": 92
        }
      ]
    },
    {
      "metadata": {
        "id": "OyTVi5bOtvgZ",
        "colab_type": "code",
        "outputId": "19806a0e-47c1-4a0b-96e0-82f628a172b4",
        "colab": {
          "base_uri": "https://localhost:8080/",
          "height": 202
        }
      },
      "cell_type": "code",
      "source": [
        "from sklearn.metrics import classification_report\n",
        "\n",
        "print(classification_report(m.predict(x_test), y_test))"
      ],
      "execution_count": 0,
      "outputs": [
        {
          "output_type": "stream",
          "text": [
            "              precision    recall  f1-score   support\n",
            "\n",
            "           1       0.97      0.98      0.97        99\n",
            "           2       0.25      1.00      0.40         1\n",
            "           3       0.97      0.94      0.96        35\n",
            "           4       0.99      0.97      0.98       137\n",
            "\n",
            "   micro avg       0.97      0.97      0.97       272\n",
            "   macro avg       0.80      0.97      0.83       272\n",
            "weighted avg       0.98      0.97      0.97       272\n",
            "\n"
          ],
          "name": "stdout"
        }
      ]
    },
    {
      "metadata": {
        "colab_type": "text",
        "id": "Z7_UUQAat2Zf"
      },
      "cell_type": "markdown",
      "source": [
        "### just chem info"
      ]
    },
    {
      "metadata": {
        "colab_type": "code",
        "id": "Ld4ZjtEUt2Zk",
        "colab": {}
      },
      "cell_type": "code",
      "source": [
        "x_train, x_test, y_train, y_test = train_test_split(df_chem, y_codt, test_size = 0.2)"
      ],
      "execution_count": 0,
      "outputs": []
    },
    {
      "metadata": {
        "colab_type": "code",
        "outputId": "42f062bc-9571-4d98-cd5b-612beaf6b510",
        "id": "nOOmfKIwt2Zl",
        "colab": {
          "base_uri": "https://localhost:8080/",
          "height": 118
        }
      },
      "cell_type": "code",
      "source": [
        "m = RandomForestClassifier(n_estimators=100, max_features=0.99, min_samples_leaf=2,\n",
        "                          n_jobs=-1, oob_score=True)\n",
        "\n",
        "m.fit(x_train, y_train)"
      ],
      "execution_count": 0,
      "outputs": [
        {
          "output_type": "execute_result",
          "data": {
            "text/plain": [
              "RandomForestClassifier(bootstrap=True, class_weight=None, criterion='gini',\n",
              "            max_depth=None, max_features=0.99, max_leaf_nodes=None,\n",
              "            min_impurity_decrease=0.0, min_impurity_split=None,\n",
              "            min_samples_leaf=2, min_samples_split=2,\n",
              "            min_weight_fraction_leaf=0.0, n_estimators=100, n_jobs=-1,\n",
              "            oob_score=True, random_state=None, verbose=0, warm_start=False)"
            ]
          },
          "metadata": {
            "tags": []
          },
          "execution_count": 100
        }
      ]
    },
    {
      "metadata": {
        "colab_type": "code",
        "outputId": "3b2ceb4e-1c23-496c-9e14-1dc9332899a7",
        "id": "Pub-BXUst2Zo",
        "colab": {
          "base_uri": "https://localhost:8080/",
          "height": 34
        }
      },
      "cell_type": "code",
      "source": [
        "m.score(x_test, y_test)"
      ],
      "execution_count": 0,
      "outputs": [
        {
          "output_type": "execute_result",
          "data": {
            "text/plain": [
              "0.6727941176470589"
            ]
          },
          "metadata": {
            "tags": []
          },
          "execution_count": 101
        }
      ]
    },
    {
      "metadata": {
        "colab_type": "code",
        "outputId": "04196f93-4f07-4377-90ed-46a96057a5d9",
        "id": "M0cCCeXit2Zs",
        "colab": {
          "base_uri": "https://localhost:8080/",
          "height": 84
        }
      },
      "cell_type": "code",
      "source": [
        "from sklearn.metrics import confusion_matrix\n",
        "\n",
        "confusion_matrix(m.predict(x_test), y_test)"
      ],
      "execution_count": 0,
      "outputs": [
        {
          "output_type": "execute_result",
          "data": {
            "text/plain": [
              "array([[73,  1, 14, 37],\n",
              "       [ 0,  0,  0,  1],\n",
              "       [ 4,  0, 15,  1],\n",
              "       [21,  2,  8, 95]])"
            ]
          },
          "metadata": {
            "tags": []
          },
          "execution_count": 102
        }
      ]
    },
    {
      "metadata": {
        "colab_type": "code",
        "outputId": "6f49f950-c8db-42fc-ddf5-77a785b4416c",
        "id": "bt0VIrt7t2Zv",
        "colab": {
          "base_uri": "https://localhost:8080/",
          "height": 202
        }
      },
      "cell_type": "code",
      "source": [
        "from sklearn.metrics import classification_report\n",
        "\n",
        "print(classification_report(m.predict(x_test), y_test))"
      ],
      "execution_count": 0,
      "outputs": [
        {
          "output_type": "stream",
          "text": [
            "              precision    recall  f1-score   support\n",
            "\n",
            "           1       0.74      0.58      0.65       125\n",
            "           2       0.00      0.00      0.00         1\n",
            "           3       0.41      0.75      0.53        20\n",
            "           4       0.71      0.75      0.73       126\n",
            "\n",
            "   micro avg       0.67      0.67      0.67       272\n",
            "   macro avg       0.46      0.52      0.48       272\n",
            "weighted avg       0.70      0.67      0.68       272\n",
            "\n"
          ],
          "name": "stdout"
        }
      ]
    },
    {
      "metadata": {
        "colab_type": "text",
        "id": "ml-l9RK0uNH7"
      },
      "cell_type": "markdown",
      "source": [
        "### All info"
      ]
    },
    {
      "metadata": {
        "colab_type": "code",
        "id": "Lzyxi3ZguNH8",
        "colab": {}
      },
      "cell_type": "code",
      "source": [
        "x_train, x_test, y_train, y_test = train_test_split(df_all, y_codt, test_size = 0.2)"
      ],
      "execution_count": 0,
      "outputs": []
    },
    {
      "metadata": {
        "colab_type": "code",
        "outputId": "28e33f2f-7212-4b07-e8ed-99ef691ac9ce",
        "id": "AKuEQVgDuNH-",
        "colab": {
          "base_uri": "https://localhost:8080/",
          "height": 118
        }
      },
      "cell_type": "code",
      "source": [
        "m = RandomForestClassifier(n_estimators=100, max_features=0.99, min_samples_leaf=2,\n",
        "                          n_jobs=-1, oob_score=True)\n",
        "\n",
        "m.fit(x_train, y_train)"
      ],
      "execution_count": 0,
      "outputs": [
        {
          "output_type": "execute_result",
          "data": {
            "text/plain": [
              "RandomForestClassifier(bootstrap=True, class_weight=None, criterion='gini',\n",
              "            max_depth=None, max_features=0.99, max_leaf_nodes=None,\n",
              "            min_impurity_decrease=0.0, min_impurity_split=None,\n",
              "            min_samples_leaf=2, min_samples_split=2,\n",
              "            min_weight_fraction_leaf=0.0, n_estimators=100, n_jobs=-1,\n",
              "            oob_score=True, random_state=None, verbose=0, warm_start=False)"
            ]
          },
          "metadata": {
            "tags": []
          },
          "execution_count": 113
        }
      ]
    },
    {
      "metadata": {
        "colab_type": "code",
        "outputId": "eb3363ea-f2dc-47bb-98db-552d1666140a",
        "id": "NyRsdayxuNIA",
        "colab": {
          "base_uri": "https://localhost:8080/",
          "height": 34
        }
      },
      "cell_type": "code",
      "source": [
        "m.score(x_test, y_test)"
      ],
      "execution_count": 0,
      "outputs": [
        {
          "output_type": "execute_result",
          "data": {
            "text/plain": [
              "0.9742647058823529"
            ]
          },
          "metadata": {
            "tags": []
          },
          "execution_count": 114
        }
      ]
    },
    {
      "metadata": {
        "colab_type": "code",
        "outputId": "e20ba70c-bc74-44b4-a524-1a4c6d022bb2",
        "id": "UxLfZtUzuNIC",
        "colab": {
          "base_uri": "https://localhost:8080/",
          "height": 84
        }
      },
      "cell_type": "code",
      "source": [
        "from sklearn.metrics import confusion_matrix\n",
        "\n",
        "confusion_matrix(m.predict(x_test), y_test)"
      ],
      "execution_count": 0,
      "outputs": [
        {
          "output_type": "execute_result",
          "data": {
            "text/plain": [
              "array([[109,   0,   2,   1],\n",
              "       [  0,   0,   0,   0],\n",
              "       [  1,   0,  30,   0],\n",
              "       [  1,   2,   0, 126]])"
            ]
          },
          "metadata": {
            "tags": []
          },
          "execution_count": 115
        }
      ]
    },
    {
      "metadata": {
        "colab_type": "code",
        "outputId": "dca4f074-7efe-4a24-bbb7-6c3b3f833dc4",
        "id": "UAkNC7myuNIE",
        "colab": {
          "base_uri": "https://localhost:8080/",
          "height": 255
        }
      },
      "cell_type": "code",
      "source": [
        "from sklearn.metrics import classification_report\n",
        "\n",
        "print(classification_report(m.predict(x_test), y_test))"
      ],
      "execution_count": 0,
      "outputs": [
        {
          "output_type": "stream",
          "text": [
            "              precision    recall  f1-score   support\n",
            "\n",
            "           1       0.98      0.97      0.98       112\n",
            "           2       0.00      0.00      0.00         0\n",
            "           3       0.94      0.97      0.95        31\n",
            "           4       0.99      0.98      0.98       129\n",
            "\n",
            "   micro avg       0.97      0.97      0.97       272\n",
            "   macro avg       0.73      0.73      0.73       272\n",
            "weighted avg       0.98      0.97      0.98       272\n",
            "\n"
          ],
          "name": "stdout"
        },
        {
          "output_type": "stream",
          "text": [
            "/usr/local/lib/python3.6/dist-packages/sklearn/metrics/classification.py:1145: UndefinedMetricWarning: Recall and F-score are ill-defined and being set to 0.0 in labels with no true samples.\n",
            "  'recall', 'true', average, warn_for)\n"
          ],
          "name": "stderr"
        }
      ]
    },
    {
      "metadata": {
        "colab_type": "code",
        "id": "dKRCE2N8uNII",
        "colab": {}
      },
      "cell_type": "code",
      "source": [
        ""
      ],
      "execution_count": 0,
      "outputs": []
    },
    {
      "metadata": {
        "id": "3XeWd1Bm-_Cy",
        "colab_type": "text"
      },
      "cell_type": "markdown",
      "source": [
        "# New Section"
      ]
    }
  ]
}
