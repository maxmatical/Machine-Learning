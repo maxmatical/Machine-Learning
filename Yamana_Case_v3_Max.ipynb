{
  "nbformat": 4,
  "nbformat_minor": 0,
  "metadata": {
    "colab": {
      "name": "Yamana Case v3 - Max.ipynb",
      "version": "0.3.2",
      "provenance": [],
      "collapsed_sections": [
        "W9fBpkgLtbof",
        "xBwMhJ6phe5R"
      ],
      "toc_visible": true,
      "include_colab_link": true
    },
    "kernelspec": {
      "name": "python3",
      "display_name": "Python 3"
    },
    "accelerator": "GPU"
  },
  "cells": [
    {
      "cell_type": "markdown",
      "metadata": {
        "id": "view-in-github",
        "colab_type": "text"
      },
      "source": [
        "<a href=\"https://colab.research.google.com/github/maxmatical/Machine-Learning/blob/master/Yamana_Case_v3_Max.ipynb\" target=\"_parent\"><img src=\"https://colab.research.google.com/assets/colab-badge.svg\" alt=\"Open In Colab\"/></a>"
      ]
    },
    {
      "metadata": {
        "id": "heeGu_1Ni7Pp",
        "colab_type": "code",
        "colab": {}
      },
      "cell_type": "code",
      "source": [
        "# Set up environment and download course-v3\n",
        "!pip install torch_nightly -f https://download.pytorch.org/whl/nightly/cu92/torch_nightly.html\n",
        "!pip install fastai\n",
        "!pip install fastprogress\n",
        "!pip install pathlib\n",
        "\n",
        "!curl https://course-v3.fast.ai/setup/colab | bash"
      ],
      "execution_count": 0,
      "outputs": []
    },
    {
      "metadata": {
        "id": "OoQiE_vijDC5",
        "colab_type": "code",
        "colab": {}
      },
      "cell_type": "code",
      "source": [
        "from fastai import *\n",
        "from fastai.tabular import *\n",
        "\n",
        "import pandas as pd\n",
        "import matplotlib as plt\n",
        "import numpy as np"
      ],
      "execution_count": 0,
      "outputs": []
    },
    {
      "metadata": {
        "id": "wZX0Q_4RjFmt",
        "colab_type": "code",
        "colab": {}
      },
      "cell_type": "code",
      "source": [
        "path = '/content/data/'\n",
        "os.makedirs(path, exist_ok=True)\n",
        "fname = 'Base de Datos Geometalurgia Goldspot'\n",
        "#path"
      ],
      "execution_count": 0,
      "outputs": []
    },
    {
      "metadata": {
        "id": "W5jVrcoudwB1",
        "colab_type": "text"
      },
      "cell_type": "markdown",
      "source": [
        "for some reason \n",
        "\n",
        "\n",
        "\n",
        "```\n",
        "df = pd.read_csv(f'{path}/{name}.csv', low_memory=False)\n",
        "```\n",
        "\n",
        "is causing colab issues and cannot load\n"
      ]
    },
    {
      "metadata": {
        "id": "xzN62Y-2jJBF",
        "colab_type": "code",
        "colab": {}
      },
      "cell_type": "code",
      "source": [
        "df = pd.read_csv('/content/data/Base de Datos Geometalurgia Goldspot.csv', low_memory=False)"
      ],
      "execution_count": 0,
      "outputs": []
    },
    {
      "metadata": {
        "id": "BCc_7a-fldDM",
        "colab_type": "code",
        "outputId": "2db1d529-11e0-42e5-91e7-c2c4dcaa460b",
        "colab": {
          "base_uri": "https://localhost:8080/",
          "height": 244
        }
      },
      "cell_type": "code",
      "source": [
        "df.head(5)"
      ],
      "execution_count": 5,
      "outputs": [
        {
          "output_type": "execute_result",
          "data": {
            "text/html": [
              "<div>\n",
              "<style scoped>\n",
              "    .dataframe tbody tr th:only-of-type {\n",
              "        vertical-align: middle;\n",
              "    }\n",
              "\n",
              "    .dataframe tbody tr th {\n",
              "        vertical-align: top;\n",
              "    }\n",
              "\n",
              "    .dataframe thead th {\n",
              "        text-align: right;\n",
              "    }\n",
              "</style>\n",
              "<table border=\"1\" class=\"dataframe\">\n",
              "  <thead>\n",
              "    <tr style=\"text-align: right;\">\n",
              "      <th></th>\n",
              "      <th>compid</th>\n",
              "      <th>dhid</th>\n",
              "      <th>midx</th>\n",
              "      <th>midy</th>\n",
              "      <th>midz</th>\n",
              "      <th>topx</th>\n",
              "      <th>topy</th>\n",
              "      <th>topz</th>\n",
              "      <th>botx</th>\n",
              "      <th>boty</th>\n",
              "      <th>...</th>\n",
              "      <th>Te</th>\n",
              "      <th>Th</th>\n",
              "      <th>Ti</th>\n",
              "      <th>Tl</th>\n",
              "      <th>U</th>\n",
              "      <th>V</th>\n",
              "      <th>W</th>\n",
              "      <th>Y</th>\n",
              "      <th>Zn</th>\n",
              "      <th>Zr</th>\n",
              "    </tr>\n",
              "  </thead>\n",
              "  <tbody>\n",
              "    <tr>\n",
              "      <th>0</th>\n",
              "      <td>CAN</td>\n",
              "      <td>OF07482</td>\n",
              "      <td>449967.09</td>\n",
              "      <td>7301211.35</td>\n",
              "      <td>1819.01</td>\n",
              "      <td>449967.61</td>\n",
              "      <td>7301211.40</td>\n",
              "      <td>1819.01</td>\n",
              "      <td>449966.56</td>\n",
              "      <td>7301211.31</td>\n",
              "      <td>...</td>\n",
              "      <td>-99</td>\n",
              "      <td>-99</td>\n",
              "      <td>-99</td>\n",
              "      <td>-99</td>\n",
              "      <td>-99</td>\n",
              "      <td>-99.0</td>\n",
              "      <td>-99</td>\n",
              "      <td>-99</td>\n",
              "      <td>-99</td>\n",
              "      <td>-99.0</td>\n",
              "    </tr>\n",
              "    <tr>\n",
              "      <th>1</th>\n",
              "      <td>CAN</td>\n",
              "      <td>OF07491</td>\n",
              "      <td>449950.70</td>\n",
              "      <td>7301374.94</td>\n",
              "      <td>1836.81</td>\n",
              "      <td>449949.32</td>\n",
              "      <td>7301375.18</td>\n",
              "      <td>1836.81</td>\n",
              "      <td>449952.08</td>\n",
              "      <td>7301374.70</td>\n",
              "      <td>...</td>\n",
              "      <td>-99</td>\n",
              "      <td>-99</td>\n",
              "      <td>-99</td>\n",
              "      <td>-99</td>\n",
              "      <td>-99</td>\n",
              "      <td>-99.0</td>\n",
              "      <td>-99</td>\n",
              "      <td>-99</td>\n",
              "      <td>-99</td>\n",
              "      <td>-99.0</td>\n",
              "    </tr>\n",
              "    <tr>\n",
              "      <th>2</th>\n",
              "      <td>CAN</td>\n",
              "      <td>OF07505</td>\n",
              "      <td>449950.06</td>\n",
              "      <td>7301418.56</td>\n",
              "      <td>1836.86</td>\n",
              "      <td>449949.61</td>\n",
              "      <td>7301418.52</td>\n",
              "      <td>1836.86</td>\n",
              "      <td>449950.50</td>\n",
              "      <td>7301418.60</td>\n",
              "      <td>...</td>\n",
              "      <td>-99</td>\n",
              "      <td>-99</td>\n",
              "      <td>-99</td>\n",
              "      <td>-99</td>\n",
              "      <td>-99</td>\n",
              "      <td>-99.0</td>\n",
              "      <td>-99</td>\n",
              "      <td>-99</td>\n",
              "      <td>-99</td>\n",
              "      <td>-99.0</td>\n",
              "    </tr>\n",
              "    <tr>\n",
              "      <th>3</th>\n",
              "      <td>CAN</td>\n",
              "      <td>OF08219</td>\n",
              "      <td>449896.24</td>\n",
              "      <td>7301571.17</td>\n",
              "      <td>1677.28</td>\n",
              "      <td>449895.20</td>\n",
              "      <td>7301571.08</td>\n",
              "      <td>1677.28</td>\n",
              "      <td>449897.29</td>\n",
              "      <td>7301571.26</td>\n",
              "      <td>...</td>\n",
              "      <td>-99</td>\n",
              "      <td>-99</td>\n",
              "      <td>-99</td>\n",
              "      <td>-99</td>\n",
              "      <td>-99</td>\n",
              "      <td>-99.0</td>\n",
              "      <td>-99</td>\n",
              "      <td>-99</td>\n",
              "      <td>-99</td>\n",
              "      <td>-99.0</td>\n",
              "    </tr>\n",
              "    <tr>\n",
              "      <th>4</th>\n",
              "      <td>CAN</td>\n",
              "      <td>OF08222</td>\n",
              "      <td>449906.02</td>\n",
              "      <td>7301433.32</td>\n",
              "      <td>1601.00</td>\n",
              "      <td>449905.37</td>\n",
              "      <td>7301433.32</td>\n",
              "      <td>1601.00</td>\n",
              "      <td>449906.67</td>\n",
              "      <td>7301433.32</td>\n",
              "      <td>...</td>\n",
              "      <td>-99</td>\n",
              "      <td>-99</td>\n",
              "      <td>24</td>\n",
              "      <td>-99</td>\n",
              "      <td>-99</td>\n",
              "      <td>-99.0</td>\n",
              "      <td>3</td>\n",
              "      <td>-99</td>\n",
              "      <td>1000</td>\n",
              "      <td>-99.0</td>\n",
              "    </tr>\n",
              "  </tbody>\n",
              "</table>\n",
              "<p>5 rows × 72 columns</p>\n",
              "</div>"
            ],
            "text/plain": [
              "  compid     dhid       midx        midy     midz       topx        topy  \\\n",
              "0    CAN  OF07482  449967.09  7301211.35  1819.01  449967.61  7301211.40   \n",
              "1    CAN  OF07491  449950.70  7301374.94  1836.81  449949.32  7301375.18   \n",
              "2    CAN  OF07505  449950.06  7301418.56  1836.86  449949.61  7301418.52   \n",
              "3    CAN  OF08219  449896.24  7301571.17  1677.28  449895.20  7301571.08   \n",
              "4    CAN  OF08222  449906.02  7301433.32  1601.00  449905.37  7301433.32   \n",
              "\n",
              "      topz       botx        boty  ...    Te   Th   Ti   Tl    U     V    W  \\\n",
              "0  1819.01  449966.56  7301211.31  ...   -99  -99  -99  -99  -99 -99.0  -99   \n",
              "1  1836.81  449952.08  7301374.70  ...   -99  -99  -99  -99  -99 -99.0  -99   \n",
              "2  1836.86  449950.50  7301418.60  ...   -99  -99  -99  -99  -99 -99.0  -99   \n",
              "3  1677.28  449897.29  7301571.26  ...   -99  -99  -99  -99  -99 -99.0  -99   \n",
              "4  1601.00  449906.67  7301433.32  ...   -99  -99   24  -99  -99 -99.0    3   \n",
              "\n",
              "    Y    Zn    Zr  \n",
              "0 -99   -99 -99.0  \n",
              "1 -99   -99 -99.0  \n",
              "2 -99   -99 -99.0  \n",
              "3 -99   -99 -99.0  \n",
              "4 -99  1000 -99.0  \n",
              "\n",
              "[5 rows x 72 columns]"
            ]
          },
          "metadata": {
            "tags": []
          },
          "execution_count": 5
        }
      ]
    },
    {
      "metadata": {
        "id": "SeOPgpiZjOWK",
        "colab_type": "text"
      },
      "cell_type": "markdown",
      "source": [
        "### Preprocessing\n",
        "1. remove any instances of \">\", \"<\", and \",\" from the data\n",
        "2. Impute (or remove) any instances of -99 for 'agrec' or 'nacnc'\n",
        "    - if imputing: use median value \n",
        "3. Change any instance of -99 in features to be np.nan (to use FillMissing)\n",
        "4. use FillMissing to change NaN to -99, and add feature for var_na (bool)\n",
        "5. Perform analysis on features to see if any features (other than top/mid/bot) are correlated, remove those variables from the modelling process\n",
        "    - https://chrisalbon.com/machine_learning/feature_selection/drop_highly_correlated_features/\n",
        "6. Split features into 3 dataframes: \n",
        "    - Just geo data\n",
        "    - Just geochemical data\n",
        "    - both\n",
        "7. Model using features, see what kind of results we get with subset of the features\n",
        "8. Perform any feature importance analysis as needed"
      ]
    },
    {
      "metadata": {
        "id": "bMcomeMSjLU0",
        "colab_type": "code",
        "colab": {}
      },
      "cell_type": "code",
      "source": [
        "# stripping all str columns of > and < symbols\n",
        "for column in df.columns:\n",
        "    if df[column].dtype == 'O' and column != 'compid' and column != 'dhid':\n",
        "        df[column] = df[column].map(lambda x: x.lstrip('>,<'))\n",
        "        df[column] = df[column].str.replace(',','.')\n",
        "        df[column] = df[column].astype(float)\n",
        "\n"
      ],
      "execution_count": 0,
      "outputs": []
    },
    {
      "metadata": {
        "id": "QcyydyElmhNL",
        "colab_type": "code",
        "colab": {}
      },
      "cell_type": "code",
      "source": [
        "df['nacnc'] = df['nacnc'].replace(-99,df['nacnc'].median(), inplace = False)\n",
        "\n",
        "df['agrec'] = df['agrec'].replace(-99,df['agrec'].median(), inplace = False)"
      ],
      "execution_count": 0,
      "outputs": []
    },
    {
      "metadata": {
        "id": "vXcmT_rpm-dS",
        "colab_type": "code",
        "colab": {}
      },
      "cell_type": "code",
      "source": [
        "df = df.replace(-99, np.nan, inplace=False)\n"
      ],
      "execution_count": 0,
      "outputs": []
    },
    {
      "metadata": {
        "id": "rgIARC-1p0IW",
        "colab_type": "code",
        "colab": {}
      },
      "cell_type": "code",
      "source": [
        "cat_names = ['geocod', 'bound']\n",
        "cont_names = ['midx', 'midy', 'midz', 'topx', 'topy', 'topz', 'botx', 'boty', 'botz',\n",
        "             'length', 'from', 'to','auppm', 'agppm', 'Al', 'As', 'Au', 'B', 'Ba', 'Be', 'Bi', 'Ca',\n",
        "             'Cd', 'Co', 'Cr', 'Cu', 'Fe', 'Hg', 'K', 'La', 'Li', 'Mg', 'Mn', 'Mo', 'Na',\n",
        "             'Nb', 'Ni', 'P', 'Pb', 'Pd', 'Re', 'S', 'Sb', 'Se', 'Si', 'Sc', 'Sn', 'Sr',\n",
        "             'Ta', 'Te', 'Th', 'Ti', 'Tl', 'U', 'V', 'W', 'Y', 'Zn', 'Zr']"
      ],
      "execution_count": 0,
      "outputs": []
    },
    {
      "metadata": {
        "id": "_xVMra1Hp-Fv",
        "colab_type": "code",
        "colab": {}
      },
      "cell_type": "code",
      "source": [
        "fillmissing = FillMissing(cat_names = cat_names, cont_names = cont_names, fill_strategy='CONSTANT', fill_val = -99.0)\n"
      ],
      "execution_count": 0,
      "outputs": []
    },
    {
      "metadata": {
        "id": "vj7JI564qAhy",
        "colab_type": "code",
        "colab": {}
      },
      "cell_type": "code",
      "source": [
        "fillmissing(df)"
      ],
      "execution_count": 0,
      "outputs": []
    },
    {
      "metadata": {
        "id": "CBI4YWFhqB9Y",
        "colab_type": "code",
        "outputId": "77a5a493-125d-4420-8c45-2862f16522d0",
        "colab": {
          "base_uri": "https://localhost:8080/",
          "height": 392
        }
      },
      "cell_type": "code",
      "source": [
        "df.head(10)"
      ],
      "execution_count": 13,
      "outputs": [
        {
          "output_type": "execute_result",
          "data": {
            "text/html": [
              "<div>\n",
              "<style scoped>\n",
              "    .dataframe tbody tr th:only-of-type {\n",
              "        vertical-align: middle;\n",
              "    }\n",
              "\n",
              "    .dataframe tbody tr th {\n",
              "        vertical-align: top;\n",
              "    }\n",
              "\n",
              "    .dataframe thead th {\n",
              "        text-align: right;\n",
              "    }\n",
              "</style>\n",
              "<table border=\"1\" class=\"dataframe\">\n",
              "  <thead>\n",
              "    <tr style=\"text-align: right;\">\n",
              "      <th></th>\n",
              "      <th>compid</th>\n",
              "      <th>dhid</th>\n",
              "      <th>midx</th>\n",
              "      <th>midy</th>\n",
              "      <th>midz</th>\n",
              "      <th>topx</th>\n",
              "      <th>topy</th>\n",
              "      <th>topz</th>\n",
              "      <th>botx</th>\n",
              "      <th>boty</th>\n",
              "      <th>...</th>\n",
              "      <th>Te_na</th>\n",
              "      <th>Th_na</th>\n",
              "      <th>Ti_na</th>\n",
              "      <th>Tl_na</th>\n",
              "      <th>U_na</th>\n",
              "      <th>V_na</th>\n",
              "      <th>W_na</th>\n",
              "      <th>Y_na</th>\n",
              "      <th>Zn_na</th>\n",
              "      <th>Zr_na</th>\n",
              "    </tr>\n",
              "  </thead>\n",
              "  <tbody>\n",
              "    <tr>\n",
              "      <th>0</th>\n",
              "      <td>CAN</td>\n",
              "      <td>OF07482</td>\n",
              "      <td>449967.09</td>\n",
              "      <td>7301211.35</td>\n",
              "      <td>1819.01</td>\n",
              "      <td>449967.61</td>\n",
              "      <td>7301211.40</td>\n",
              "      <td>1819.01</td>\n",
              "      <td>449966.56</td>\n",
              "      <td>7301211.31</td>\n",
              "      <td>...</td>\n",
              "      <td>True</td>\n",
              "      <td>True</td>\n",
              "      <td>True</td>\n",
              "      <td>True</td>\n",
              "      <td>True</td>\n",
              "      <td>True</td>\n",
              "      <td>True</td>\n",
              "      <td>True</td>\n",
              "      <td>True</td>\n",
              "      <td>True</td>\n",
              "    </tr>\n",
              "    <tr>\n",
              "      <th>1</th>\n",
              "      <td>CAN</td>\n",
              "      <td>OF07491</td>\n",
              "      <td>449950.70</td>\n",
              "      <td>7301374.94</td>\n",
              "      <td>1836.81</td>\n",
              "      <td>449949.32</td>\n",
              "      <td>7301375.18</td>\n",
              "      <td>1836.81</td>\n",
              "      <td>449952.08</td>\n",
              "      <td>7301374.70</td>\n",
              "      <td>...</td>\n",
              "      <td>True</td>\n",
              "      <td>True</td>\n",
              "      <td>True</td>\n",
              "      <td>True</td>\n",
              "      <td>True</td>\n",
              "      <td>True</td>\n",
              "      <td>True</td>\n",
              "      <td>True</td>\n",
              "      <td>True</td>\n",
              "      <td>True</td>\n",
              "    </tr>\n",
              "    <tr>\n",
              "      <th>2</th>\n",
              "      <td>CAN</td>\n",
              "      <td>OF07505</td>\n",
              "      <td>449950.06</td>\n",
              "      <td>7301418.56</td>\n",
              "      <td>1836.86</td>\n",
              "      <td>449949.61</td>\n",
              "      <td>7301418.52</td>\n",
              "      <td>1836.86</td>\n",
              "      <td>449950.50</td>\n",
              "      <td>7301418.60</td>\n",
              "      <td>...</td>\n",
              "      <td>True</td>\n",
              "      <td>True</td>\n",
              "      <td>True</td>\n",
              "      <td>True</td>\n",
              "      <td>True</td>\n",
              "      <td>True</td>\n",
              "      <td>True</td>\n",
              "      <td>True</td>\n",
              "      <td>True</td>\n",
              "      <td>True</td>\n",
              "    </tr>\n",
              "    <tr>\n",
              "      <th>3</th>\n",
              "      <td>CAN</td>\n",
              "      <td>OF08219</td>\n",
              "      <td>449896.24</td>\n",
              "      <td>7301571.17</td>\n",
              "      <td>1677.28</td>\n",
              "      <td>449895.20</td>\n",
              "      <td>7301571.08</td>\n",
              "      <td>1677.28</td>\n",
              "      <td>449897.29</td>\n",
              "      <td>7301571.26</td>\n",
              "      <td>...</td>\n",
              "      <td>True</td>\n",
              "      <td>True</td>\n",
              "      <td>True</td>\n",
              "      <td>True</td>\n",
              "      <td>True</td>\n",
              "      <td>True</td>\n",
              "      <td>True</td>\n",
              "      <td>True</td>\n",
              "      <td>True</td>\n",
              "      <td>True</td>\n",
              "    </tr>\n",
              "    <tr>\n",
              "      <th>4</th>\n",
              "      <td>CAN</td>\n",
              "      <td>OF08222</td>\n",
              "      <td>449906.02</td>\n",
              "      <td>7301433.32</td>\n",
              "      <td>1601.00</td>\n",
              "      <td>449905.37</td>\n",
              "      <td>7301433.32</td>\n",
              "      <td>1601.00</td>\n",
              "      <td>449906.67</td>\n",
              "      <td>7301433.32</td>\n",
              "      <td>...</td>\n",
              "      <td>True</td>\n",
              "      <td>True</td>\n",
              "      <td>False</td>\n",
              "      <td>True</td>\n",
              "      <td>True</td>\n",
              "      <td>True</td>\n",
              "      <td>False</td>\n",
              "      <td>True</td>\n",
              "      <td>False</td>\n",
              "      <td>True</td>\n",
              "    </tr>\n",
              "    <tr>\n",
              "      <th>5</th>\n",
              "      <td>CAN</td>\n",
              "      <td>OF08223</td>\n",
              "      <td>449940.31</td>\n",
              "      <td>7301543.05</td>\n",
              "      <td>1773.45</td>\n",
              "      <td>449940.01</td>\n",
              "      <td>7301543.08</td>\n",
              "      <td>1773.45</td>\n",
              "      <td>449940.61</td>\n",
              "      <td>7301543.03</td>\n",
              "      <td>...</td>\n",
              "      <td>True</td>\n",
              "      <td>True</td>\n",
              "      <td>True</td>\n",
              "      <td>True</td>\n",
              "      <td>True</td>\n",
              "      <td>True</td>\n",
              "      <td>True</td>\n",
              "      <td>True</td>\n",
              "      <td>True</td>\n",
              "      <td>True</td>\n",
              "    </tr>\n",
              "    <tr>\n",
              "      <th>6</th>\n",
              "      <td>CAN</td>\n",
              "      <td>OF08264</td>\n",
              "      <td>449922.79</td>\n",
              "      <td>7301652.09</td>\n",
              "      <td>1854.98</td>\n",
              "      <td>449921.08</td>\n",
              "      <td>7301651.73</td>\n",
              "      <td>1854.98</td>\n",
              "      <td>449924.50</td>\n",
              "      <td>7301652.46</td>\n",
              "      <td>...</td>\n",
              "      <td>True</td>\n",
              "      <td>True</td>\n",
              "      <td>False</td>\n",
              "      <td>True</td>\n",
              "      <td>True</td>\n",
              "      <td>True</td>\n",
              "      <td>False</td>\n",
              "      <td>True</td>\n",
              "      <td>False</td>\n",
              "      <td>True</td>\n",
              "    </tr>\n",
              "    <tr>\n",
              "      <th>7</th>\n",
              "      <td>CAN</td>\n",
              "      <td>OF08306</td>\n",
              "      <td>449933.71</td>\n",
              "      <td>7301556.51</td>\n",
              "      <td>1773.12</td>\n",
              "      <td>449933.33</td>\n",
              "      <td>7301556.19</td>\n",
              "      <td>1773.12</td>\n",
              "      <td>449934.10</td>\n",
              "      <td>7301556.83</td>\n",
              "      <td>...</td>\n",
              "      <td>True</td>\n",
              "      <td>True</td>\n",
              "      <td>False</td>\n",
              "      <td>True</td>\n",
              "      <td>True</td>\n",
              "      <td>True</td>\n",
              "      <td>False</td>\n",
              "      <td>True</td>\n",
              "      <td>False</td>\n",
              "      <td>True</td>\n",
              "    </tr>\n",
              "    <tr>\n",
              "      <th>8</th>\n",
              "      <td>CAN</td>\n",
              "      <td>OF08389</td>\n",
              "      <td>449872.89</td>\n",
              "      <td>7301556.36</td>\n",
              "      <td>1600.87</td>\n",
              "      <td>449871.73</td>\n",
              "      <td>7301556.05</td>\n",
              "      <td>1600.87</td>\n",
              "      <td>449874.05</td>\n",
              "      <td>7301556.67</td>\n",
              "      <td>...</td>\n",
              "      <td>True</td>\n",
              "      <td>True</td>\n",
              "      <td>False</td>\n",
              "      <td>True</td>\n",
              "      <td>True</td>\n",
              "      <td>True</td>\n",
              "      <td>False</td>\n",
              "      <td>True</td>\n",
              "      <td>False</td>\n",
              "      <td>True</td>\n",
              "    </tr>\n",
              "    <tr>\n",
              "      <th>9</th>\n",
              "      <td>CAN</td>\n",
              "      <td>OF09245</td>\n",
              "      <td>449873.89</td>\n",
              "      <td>7301509.13</td>\n",
              "      <td>1547.19</td>\n",
              "      <td>449873.25</td>\n",
              "      <td>7301508.99</td>\n",
              "      <td>1547.19</td>\n",
              "      <td>449874.52</td>\n",
              "      <td>7301509.26</td>\n",
              "      <td>...</td>\n",
              "      <td>True</td>\n",
              "      <td>True</td>\n",
              "      <td>True</td>\n",
              "      <td>True</td>\n",
              "      <td>True</td>\n",
              "      <td>True</td>\n",
              "      <td>True</td>\n",
              "      <td>True</td>\n",
              "      <td>True</td>\n",
              "      <td>True</td>\n",
              "    </tr>\n",
              "  </tbody>\n",
              "</table>\n",
              "<p>10 rows × 119 columns</p>\n",
              "</div>"
            ],
            "text/plain": [
              "  compid     dhid       midx        midy     midz       topx        topy  \\\n",
              "0    CAN  OF07482  449967.09  7301211.35  1819.01  449967.61  7301211.40   \n",
              "1    CAN  OF07491  449950.70  7301374.94  1836.81  449949.32  7301375.18   \n",
              "2    CAN  OF07505  449950.06  7301418.56  1836.86  449949.61  7301418.52   \n",
              "3    CAN  OF08219  449896.24  7301571.17  1677.28  449895.20  7301571.08   \n",
              "4    CAN  OF08222  449906.02  7301433.32  1601.00  449905.37  7301433.32   \n",
              "5    CAN  OF08223  449940.31  7301543.05  1773.45  449940.01  7301543.08   \n",
              "6    CAN  OF08264  449922.79  7301652.09  1854.98  449921.08  7301651.73   \n",
              "7    CAN  OF08306  449933.71  7301556.51  1773.12  449933.33  7301556.19   \n",
              "8    CAN  OF08389  449872.89  7301556.36  1600.87  449871.73  7301556.05   \n",
              "9    CAN  OF09245  449873.89  7301509.13  1547.19  449873.25  7301508.99   \n",
              "\n",
              "      topz       botx        boty  ...    Te_na  Th_na  Ti_na  Tl_na  U_na  \\\n",
              "0  1819.01  449966.56  7301211.31  ...     True   True   True   True  True   \n",
              "1  1836.81  449952.08  7301374.70  ...     True   True   True   True  True   \n",
              "2  1836.86  449950.50  7301418.60  ...     True   True   True   True  True   \n",
              "3  1677.28  449897.29  7301571.26  ...     True   True   True   True  True   \n",
              "4  1601.00  449906.67  7301433.32  ...     True   True  False   True  True   \n",
              "5  1773.45  449940.61  7301543.03  ...     True   True   True   True  True   \n",
              "6  1854.98  449924.50  7301652.46  ...     True   True  False   True  True   \n",
              "7  1773.12  449934.10  7301556.83  ...     True   True  False   True  True   \n",
              "8  1600.87  449874.05  7301556.67  ...     True   True  False   True  True   \n",
              "9  1547.19  449874.52  7301509.26  ...     True   True   True   True  True   \n",
              "\n",
              "   V_na   W_na  Y_na  Zn_na  Zr_na  \n",
              "0  True   True  True   True   True  \n",
              "1  True   True  True   True   True  \n",
              "2  True   True  True   True   True  \n",
              "3  True   True  True   True   True  \n",
              "4  True  False  True  False   True  \n",
              "5  True   True  True   True   True  \n",
              "6  True  False  True  False   True  \n",
              "7  True  False  True  False   True  \n",
              "8  True  False  True  False   True  \n",
              "9  True   True  True   True   True  \n",
              "\n",
              "[10 rows x 119 columns]"
            ]
          },
          "metadata": {
            "tags": []
          },
          "execution_count": 13
        }
      ]
    },
    {
      "metadata": {
        "id": "p9esCdwOqJqu",
        "colab_type": "code",
        "colab": {}
      },
      "cell_type": "code",
      "source": [
        "cat_names = ['geocod', 'bound',\n",
        "            'Al_na', 'As_na', 'Au_na', 'B_na', 'Ba_na', 'Be_na', 'Bi_na', 'Ca_na',\n",
        "             'Cd_na', 'Co_na', 'Cr_na', 'Cu_na', 'Fe_na', 'Hg_na', 'K_na', 'La_na', 'Li_na', 'Mg_na',\n",
        "             'Mn_na', 'Mo_na', 'Na_na',\n",
        "             'Nb_na', 'Ni_na', 'P_na', 'Pb_na', 'Pd_na', 'Re_na', 'S_na', 'Sb_na', 'Se_na',\n",
        "             'Si_na', 'Sc_na', 'Sn_na', 'Sr_na',\n",
        "             'Ta_na', 'Te_na', 'Th_na', 'Ti_na', 'Tl_na', 'U_na', 'V_na', 'W_na', 'Y_na', 'Zn_na', 'Zr_na']\n",
        "\n",
        "cont_names= ['midx', 'midy', 'midz', 'topx', 'topy', 'topz', 'botx', 'boty', 'botz',\n",
        "             'length', 'from', 'to','auppm', 'agppm', 'Al', 'As', 'Au', 'B', 'Ba', 'Be', 'Bi', 'Ca',\n",
        "             'Cd', 'Co', 'Cr', 'Cu', 'Fe', 'Hg', 'K', 'La', 'Li', 'Mg', 'Mn', 'Mo', 'Na',\n",
        "             'Nb', 'Ni', 'P', 'Pb', 'Pd', 'Re', 'S', 'Sb', 'Se', 'Si', 'Sc', 'Sn', 'Sr',\n",
        "             'Ta', 'Te', 'Th', 'Ti', 'Tl', 'U', 'V', 'W', 'Y', 'Zn', 'Zr']"
      ],
      "execution_count": 0,
      "outputs": []
    },
    {
      "metadata": {
        "id": "7b8fawUbqiJS",
        "colab_type": "text"
      },
      "cell_type": "markdown",
      "source": [
        "Finding correlated features"
      ]
    },
    {
      "metadata": {
        "id": "rXmUtp3yrKEu",
        "colab_type": "code",
        "colab": {}
      },
      "cell_type": "code",
      "source": [
        "df_orig_features = df[['geocod', 'bound', 'midx', 'midy', 'midz', 'topx', 'topy', 'topz', 'botx', 'boty', 'botz',\n",
        "             'length', 'from', 'to','auppm', 'agppm', 'Al', 'As', 'Au', 'B', 'Ba', 'Be', 'Bi', 'Ca',\n",
        "             'Cd', 'Co', 'Cr', 'Cu', 'Fe', 'Hg', 'K', 'La', 'Li', 'Mg', 'Mn', 'Mo', 'Na',\n",
        "             'Nb', 'Ni', 'P', 'Pb', 'Pd', 'Re', 'S', 'Sb', 'Se', 'Si', 'Sc', 'Sn', 'Sr',\n",
        "             'Ta', 'Te', 'Th', 'Ti', 'Tl', 'U', 'V', 'W', 'Y', 'Zn', 'Zr']]"
      ],
      "execution_count": 0,
      "outputs": []
    },
    {
      "metadata": {
        "id": "SaxRUn0aqbgj",
        "colab_type": "code",
        "colab": {}
      },
      "cell_type": "code",
      "source": [
        "corr_matrix = df_orig_features.corr().abs()\n",
        "upper = corr_matrix.where(np.triu(np.ones(corr_matrix.shape), k=1).astype(np.bool))\n",
        "\n"
      ],
      "execution_count": 0,
      "outputs": []
    },
    {
      "metadata": {
        "id": "ephlX4w5r3tH",
        "colab_type": "code",
        "colab": {}
      },
      "cell_type": "code",
      "source": [
        "print(upper)"
      ],
      "execution_count": 0,
      "outputs": []
    },
    {
      "metadata": {
        "id": "Da-eoKr_qj1p",
        "colab_type": "code",
        "outputId": "a5fbf74c-9132-4934-ffe0-584186d0d5c9",
        "colab": {
          "base_uri": "https://localhost:8080/",
          "height": 34
        }
      },
      "cell_type": "code",
      "source": [
        "# Find index of feature columns with correlation greater than 0.95\n",
        "to_drop = [column for column in upper.columns if any(upper[column] > 0.95)]\n",
        "\n",
        "print(to_drop)\n"
      ],
      "execution_count": 18,
      "outputs": [
        {
          "output_type": "stream",
          "text": [
            "['bound', 'topx', 'topy', 'topz', 'botx', 'boty', 'botz', 'Au', 'K', 'Pd', 'Re', 'Sn']\n"
          ],
          "name": "stdout"
        }
      ]
    },
    {
      "metadata": {
        "id": "Egh3bvn6rtbl",
        "colab_type": "text"
      },
      "cell_type": "markdown",
      "source": [
        "['bound', 'topx', 'topy', 'topz', 'botx', 'boty', 'botz', 'Au', 'K', 'Pd', 'Re', 'Sn'] are all highly correlated with other features in the dataset\n",
        "\n",
        "\n",
        "### Questions\n",
        "- should we drop highly correlated chemical information?(Au, K, etc.)\n",
        "- what sets of features does auppm and agppm fit in?\n",
        "- can we include [vsed, tfil, dens] as features (i.e. can they be easily obtained and used to predict our target variables?)"
      ]
    },
    {
      "metadata": {
        "id": "sgvtRdT_roAJ",
        "colab_type": "code",
        "colab": {}
      },
      "cell_type": "code",
      "source": [
        "df_geo = df[['geocod','midx', 'midy', 'midz', 'length', 'from', 'to']]\n",
        "\n",
        "df_chem = df[['auppm', 'agppm', \n",
        "             'Al', 'As', 'Au', 'B', 'Ba', 'Be', 'Bi', 'Ca',\n",
        "             'Cd', 'Co', 'Cr', 'Cu', 'Fe', 'Hg', 'K', 'La', 'Li', 'Mg',\n",
        "             'Mn', 'Mo', 'Na',\n",
        "             'Nb', 'Ni', 'P', 'Pb', 'Pd', 'Re', 'S', 'Sb', 'Se',\n",
        "             'Si', 'Sc', 'Sn', 'Sr',\n",
        "             'Ta', 'Te', 'Th', 'Ti', 'Tl', 'U', 'V', 'W', 'Y', 'Zn', 'Zr', \n",
        "             'Al_na', 'As_na', 'Au_na', 'B_na', 'Ba_na', 'Be_na', 'Bi_na', 'Ca_na',\n",
        "             'Cd_na', 'Co_na', 'Cr_na', 'Cu_na', 'Fe_na', 'Hg_na', 'K_na', 'La_na', 'Li_na', 'Mg_na',\n",
        "             'Mn_na', 'Mo_na', 'Na_na',\n",
        "             'Nb_na', 'Ni_na', 'P_na', 'Pb_na', 'Pd_na', 'Re_na', 'S_na', 'Sb_na', 'Se_na',\n",
        "             'Si_na', 'Sc_na', 'Sn_na', 'Sr_na',\n",
        "             'Ta_na', 'Te_na', 'Th_na', 'Ti_na', 'Tl_na', 'U_na', 'V_na', 'W_na', 'Y_na', 'Zn_na', 'Zr_na']]\n",
        "\n",
        "df_all = df[['geocod','midx', 'midy', 'midz', 'length', 'from', 'to',\n",
        "             'Al', 'As', 'Au', 'B', 'Ba', 'Be', 'Bi', 'Ca',\n",
        "             'Cd', 'Co', 'Cr', 'Cu', 'Fe', 'Hg', 'K', 'La', 'Li', 'Mg',\n",
        "             'Mn', 'Mo', 'Na',\n",
        "             'Nb', 'Ni', 'P', 'Pb', 'Pd', 'Re', 'S', 'Sb', 'Se',\n",
        "             'Si', 'Sc', 'Sn', 'Sr',\n",
        "             'Ta', 'Te', 'Th', 'Ti', 'Tl', 'U', 'V', 'W', 'Y', 'Zn', 'Zr', \n",
        "             'Al_na', 'As_na', 'Au_na', 'B_na', 'Ba_na', 'Be_na', 'Bi_na', 'Ca_na',\n",
        "             'Cd_na', 'Co_na', 'Cr_na', 'Cu_na', 'Fe_na', 'Hg_na', 'K_na', 'La_na', 'Li_na', 'Mg_na',\n",
        "             'Mn_na', 'Mo_na', 'Na_na',\n",
        "             'Nb_na', 'Ni_na', 'P_na', 'Pb_na', 'Pd_na', 'Re_na', 'S_na', 'Sb_na', 'Se_na',\n",
        "             'Si_na', 'Sc_na', 'Sn_na', 'Sr_na',\n",
        "             'Ta_na', 'Te_na', 'Th_na', 'Ti_na', 'Tl_na', 'U_na', 'V_na', 'W_na', 'Y_na', 'Zn_na', 'Zr_na']]\n",
        "\n",
        "y_au = df['aurec']\n",
        "y_ag = df['agrec']\n",
        "y_nac = df['nacnc']\n",
        "y_codt = df['codt']"
      ],
      "execution_count": 0,
      "outputs": []
    },
    {
      "metadata": {
        "id": "WNPsv6K5U3zk",
        "colab_type": "code",
        "colab": {}
      },
      "cell_type": "code",
      "source": [
        "# defining function to evaluate exp_rmse\n",
        "def inv_y(a): return np.exp(a)\n",
        "\n",
        "def exp_rmspe(y_pred, targ):\n",
        "    targ = inv_y(targ)\n",
        "    pct_var = (targ - inv_y(y_pred))/targ\n",
        "    return math.sqrt((pct_var**2).mean())\n",
        "\n",
        "def rmspe(y_pred, targ):\n",
        "    pct_var = (targ - y_pred)/targ\n",
        "    return math.sqrt((pct_var**2).mean())"
      ],
      "execution_count": 0,
      "outputs": []
    },
    {
      "metadata": {
        "id": "W9fBpkgLtbof",
        "colab_type": "text"
      },
      "cell_type": "markdown",
      "source": [
        "## Predicting codt class"
      ]
    },
    {
      "metadata": {
        "id": "lo-COQJytlVR",
        "colab_type": "text"
      },
      "cell_type": "markdown",
      "source": [
        "### just geo info"
      ]
    },
    {
      "metadata": {
        "id": "yfswArystaKu",
        "colab_type": "code",
        "colab": {}
      },
      "cell_type": "code",
      "source": [
        "from sklearn.ensemble import RandomForestClassifier\n",
        "from sklearn.model_selection import train_test_split"
      ],
      "execution_count": 0,
      "outputs": []
    },
    {
      "metadata": {
        "id": "hEmxBd2qtjBQ",
        "colab_type": "code",
        "colab": {}
      },
      "cell_type": "code",
      "source": [
        "x_train, x_test, y_train, y_test = train_test_split(df_geo, y_codt, test_size = 0.2)"
      ],
      "execution_count": 0,
      "outputs": []
    },
    {
      "metadata": {
        "id": "yyUCnoLdtpcv",
        "colab_type": "code",
        "outputId": "9872c112-f5de-4a61-8819-dd57f1b991dd",
        "colab": {
          "base_uri": "https://localhost:8080/",
          "height": 118
        }
      },
      "cell_type": "code",
      "source": [
        "m = RandomForestClassifier(n_estimators=100, max_features=0.99, min_samples_leaf=2,\n",
        "                          n_jobs=-1, oob_score=True)\n",
        "\n",
        "m.fit(x_train, y_train)"
      ],
      "execution_count": 24,
      "outputs": [
        {
          "output_type": "execute_result",
          "data": {
            "text/plain": [
              "RandomForestClassifier(bootstrap=True, class_weight=None, criterion='gini',\n",
              "            max_depth=None, max_features=0.99, max_leaf_nodes=None,\n",
              "            min_impurity_decrease=0.0, min_impurity_split=None,\n",
              "            min_samples_leaf=2, min_samples_split=2,\n",
              "            min_weight_fraction_leaf=0.0, n_estimators=100, n_jobs=-1,\n",
              "            oob_score=True, random_state=None, verbose=0, warm_start=False)"
            ]
          },
          "metadata": {
            "tags": []
          },
          "execution_count": 24
        }
      ]
    },
    {
      "metadata": {
        "id": "wV_tQTfPtrTu",
        "colab_type": "code",
        "outputId": "092438b3-9da7-442d-95ef-b0eb41863aa6",
        "colab": {
          "base_uri": "https://localhost:8080/",
          "height": 34
        }
      },
      "cell_type": "code",
      "source": [
        "m.score(x_test, y_test)"
      ],
      "execution_count": 25,
      "outputs": [
        {
          "output_type": "execute_result",
          "data": {
            "text/plain": [
              "0.9705882352941176"
            ]
          },
          "metadata": {
            "tags": []
          },
          "execution_count": 25
        }
      ]
    },
    {
      "metadata": {
        "id": "RHRDL2sattIx",
        "colab_type": "code",
        "outputId": "c0715faa-aa52-4fe2-9595-f1cfecad2cdd",
        "colab": {
          "base_uri": "https://localhost:8080/",
          "height": 84
        }
      },
      "cell_type": "code",
      "source": [
        "from sklearn.metrics import confusion_matrix\n",
        "\n",
        "confusion_matrix(m.predict(x_test), y_test)"
      ],
      "execution_count": 26,
      "outputs": [
        {
          "output_type": "execute_result",
          "data": {
            "text/plain": [
              "array([[ 94,   0,   0,   0],\n",
              "       [  0,   1,   0,   0],\n",
              "       [  1,   0,  24,   0],\n",
              "       [  5,   2,   0, 145]])"
            ]
          },
          "metadata": {
            "tags": []
          },
          "execution_count": 26
        }
      ]
    },
    {
      "metadata": {
        "id": "OyTVi5bOtvgZ",
        "colab_type": "code",
        "outputId": "00603c95-e294-4a92-ae11-62caec59049b",
        "colab": {
          "base_uri": "https://localhost:8080/",
          "height": 202
        }
      },
      "cell_type": "code",
      "source": [
        "from sklearn.metrics import classification_report\n",
        "\n",
        "print(classification_report(m.predict(x_test), y_test))"
      ],
      "execution_count": 27,
      "outputs": [
        {
          "output_type": "stream",
          "text": [
            "              precision    recall  f1-score   support\n",
            "\n",
            "           1       0.94      1.00      0.97        94\n",
            "           2       0.33      1.00      0.50         1\n",
            "           3       1.00      0.96      0.98        25\n",
            "           4       1.00      0.95      0.98       152\n",
            "\n",
            "   micro avg       0.97      0.97      0.97       272\n",
            "   macro avg       0.82      0.98      0.86       272\n",
            "weighted avg       0.98      0.97      0.97       272\n",
            "\n"
          ],
          "name": "stdout"
        }
      ]
    },
    {
      "metadata": {
        "colab_type": "text",
        "id": "Z7_UUQAat2Zf"
      },
      "cell_type": "markdown",
      "source": [
        "### just chem info"
      ]
    },
    {
      "metadata": {
        "colab_type": "code",
        "id": "Ld4ZjtEUt2Zk",
        "colab": {}
      },
      "cell_type": "code",
      "source": [
        "x_train, x_test, y_train, y_test = train_test_split(df_chem, y_codt, test_size = 0.2)"
      ],
      "execution_count": 0,
      "outputs": []
    },
    {
      "metadata": {
        "colab_type": "code",
        "outputId": "8c03cfee-7eec-4579-ee7c-58b47032c1b9",
        "id": "nOOmfKIwt2Zl",
        "colab": {
          "base_uri": "https://localhost:8080/",
          "height": 118
        }
      },
      "cell_type": "code",
      "source": [
        "m = RandomForestClassifier(n_estimators=100, max_features=0.99, min_samples_leaf=2,\n",
        "                          n_jobs=-1, oob_score=True)\n",
        "\n",
        "m.fit(x_train, y_train)"
      ],
      "execution_count": 29,
      "outputs": [
        {
          "output_type": "execute_result",
          "data": {
            "text/plain": [
              "RandomForestClassifier(bootstrap=True, class_weight=None, criterion='gini',\n",
              "            max_depth=None, max_features=0.99, max_leaf_nodes=None,\n",
              "            min_impurity_decrease=0.0, min_impurity_split=None,\n",
              "            min_samples_leaf=2, min_samples_split=2,\n",
              "            min_weight_fraction_leaf=0.0, n_estimators=100, n_jobs=-1,\n",
              "            oob_score=True, random_state=None, verbose=0, warm_start=False)"
            ]
          },
          "metadata": {
            "tags": []
          },
          "execution_count": 29
        }
      ]
    },
    {
      "metadata": {
        "colab_type": "code",
        "outputId": "15154b05-936f-4a0b-99e4-44cb6e884778",
        "id": "Pub-BXUst2Zo",
        "colab": {
          "base_uri": "https://localhost:8080/",
          "height": 34
        }
      },
      "cell_type": "code",
      "source": [
        "m.score(x_test, y_test)"
      ],
      "execution_count": 30,
      "outputs": [
        {
          "output_type": "execute_result",
          "data": {
            "text/plain": [
              "0.6176470588235294"
            ]
          },
          "metadata": {
            "tags": []
          },
          "execution_count": 30
        }
      ]
    },
    {
      "metadata": {
        "colab_type": "code",
        "outputId": "69805d8a-edcc-4446-f15a-beee0ef8ee0c",
        "id": "M0cCCeXit2Zs",
        "colab": {
          "base_uri": "https://localhost:8080/",
          "height": 67
        }
      },
      "cell_type": "code",
      "source": [
        "from sklearn.metrics import confusion_matrix\n",
        "\n",
        "confusion_matrix(m.predict(x_test), y_test)"
      ],
      "execution_count": 31,
      "outputs": [
        {
          "output_type": "execute_result",
          "data": {
            "text/plain": [
              "array([[ 50,  13,  27],\n",
              "       [  9,  15,   4],\n",
              "       [ 41,  10, 103]])"
            ]
          },
          "metadata": {
            "tags": []
          },
          "execution_count": 31
        }
      ]
    },
    {
      "metadata": {
        "colab_type": "code",
        "outputId": "6bad57ea-b48a-477d-e651-d32cdb64d725",
        "id": "bt0VIrt7t2Zv",
        "colab": {
          "base_uri": "https://localhost:8080/",
          "height": 185
        }
      },
      "cell_type": "code",
      "source": [
        "from sklearn.metrics import classification_report\n",
        "\n",
        "print(classification_report(m.predict(x_test), y_test))"
      ],
      "execution_count": 32,
      "outputs": [
        {
          "output_type": "stream",
          "text": [
            "              precision    recall  f1-score   support\n",
            "\n",
            "           1       0.50      0.56      0.53        90\n",
            "           3       0.39      0.54      0.45        28\n",
            "           4       0.77      0.67      0.72       154\n",
            "\n",
            "   micro avg       0.62      0.62      0.62       272\n",
            "   macro avg       0.55      0.59      0.57       272\n",
            "weighted avg       0.64      0.62      0.63       272\n",
            "\n"
          ],
          "name": "stdout"
        }
      ]
    },
    {
      "metadata": {
        "colab_type": "text",
        "id": "ml-l9RK0uNH7"
      },
      "cell_type": "markdown",
      "source": [
        "### All info"
      ]
    },
    {
      "metadata": {
        "colab_type": "code",
        "id": "Lzyxi3ZguNH8",
        "colab": {}
      },
      "cell_type": "code",
      "source": [
        "x_train, x_test, y_train, y_test = train_test_split(df_all, y_codt, test_size = 0.2)"
      ],
      "execution_count": 0,
      "outputs": []
    },
    {
      "metadata": {
        "colab_type": "code",
        "outputId": "e2435288-4004-4692-cfc7-faa1168f7dd8",
        "id": "AKuEQVgDuNH-",
        "colab": {
          "base_uri": "https://localhost:8080/",
          "height": 118
        }
      },
      "cell_type": "code",
      "source": [
        "m = RandomForestClassifier(n_estimators=100, max_features=0.99, min_samples_leaf=2,\n",
        "                          n_jobs=-1, oob_score=True)\n",
        "\n",
        "m.fit(x_train, y_train)"
      ],
      "execution_count": 34,
      "outputs": [
        {
          "output_type": "execute_result",
          "data": {
            "text/plain": [
              "RandomForestClassifier(bootstrap=True, class_weight=None, criterion='gini',\n",
              "            max_depth=None, max_features=0.99, max_leaf_nodes=None,\n",
              "            min_impurity_decrease=0.0, min_impurity_split=None,\n",
              "            min_samples_leaf=2, min_samples_split=2,\n",
              "            min_weight_fraction_leaf=0.0, n_estimators=100, n_jobs=-1,\n",
              "            oob_score=True, random_state=None, verbose=0, warm_start=False)"
            ]
          },
          "metadata": {
            "tags": []
          },
          "execution_count": 34
        }
      ]
    },
    {
      "metadata": {
        "colab_type": "code",
        "outputId": "e16d75a0-8fbb-47a1-cbb9-41b4b642f0a9",
        "id": "NyRsdayxuNIA",
        "colab": {
          "base_uri": "https://localhost:8080/",
          "height": 34
        }
      },
      "cell_type": "code",
      "source": [
        "m.score(x_test, y_test)"
      ],
      "execution_count": 35,
      "outputs": [
        {
          "output_type": "execute_result",
          "data": {
            "text/plain": [
              "0.9742647058823529"
            ]
          },
          "metadata": {
            "tags": []
          },
          "execution_count": 35
        }
      ]
    },
    {
      "metadata": {
        "colab_type": "code",
        "outputId": "e7c7bc73-5337-47e5-8afe-8a50b0baa75c",
        "id": "UxLfZtUzuNIC",
        "colab": {
          "base_uri": "https://localhost:8080/",
          "height": 84
        }
      },
      "cell_type": "code",
      "source": [
        "from sklearn.metrics import confusion_matrix\n",
        "\n",
        "confusion_matrix(m.predict(x_test), y_test)"
      ],
      "execution_count": 36,
      "outputs": [
        {
          "output_type": "execute_result",
          "data": {
            "text/plain": [
              "array([[ 87,   0,   1,   1],\n",
              "       [  0,   0,   0,   0],\n",
              "       [  3,   0,  38,   0],\n",
              "       [  1,   1,   0, 140]])"
            ]
          },
          "metadata": {
            "tags": []
          },
          "execution_count": 36
        }
      ]
    },
    {
      "metadata": {
        "colab_type": "code",
        "outputId": "0ccf7d14-0a85-43f8-ca8e-f5e75df62ddf",
        "id": "UAkNC7myuNIE",
        "colab": {
          "base_uri": "https://localhost:8080/",
          "height": 255
        }
      },
      "cell_type": "code",
      "source": [
        "from sklearn.metrics import classification_report\n",
        "\n",
        "print(classification_report(m.predict(x_test), y_test))"
      ],
      "execution_count": 37,
      "outputs": [
        {
          "output_type": "stream",
          "text": [
            "              precision    recall  f1-score   support\n",
            "\n",
            "           1       0.96      0.98      0.97        89\n",
            "           2       0.00      0.00      0.00         0\n",
            "           3       0.97      0.93      0.95        41\n",
            "           4       0.99      0.99      0.99       142\n",
            "\n",
            "   micro avg       0.97      0.97      0.97       272\n",
            "   macro avg       0.73      0.72      0.73       272\n",
            "weighted avg       0.98      0.97      0.98       272\n",
            "\n"
          ],
          "name": "stdout"
        },
        {
          "output_type": "stream",
          "text": [
            "/usr/local/lib/python3.6/dist-packages/sklearn/metrics/classification.py:1145: UndefinedMetricWarning: Recall and F-score are ill-defined and being set to 0.0 in labels with no true samples.\n",
            "  'recall', 'true', average, warn_for)\n"
          ],
          "name": "stderr"
        }
      ]
    },
    {
      "metadata": {
        "colab_type": "text",
        "id": "xBwMhJ6phe5R"
      },
      "cell_type": "markdown",
      "source": [
        "## Predicting aurec"
      ]
    },
    {
      "metadata": {
        "colab_type": "text",
        "id": "Y_7J6SMfhe5P"
      },
      "cell_type": "markdown",
      "source": [
        "### just geo info"
      ]
    },
    {
      "metadata": {
        "colab_type": "code",
        "id": "l6AFV6fuhe5N",
        "colab": {}
      },
      "cell_type": "code",
      "source": [
        "from sklearn.ensemble import RandomForestRegressor\n",
        "from sklearn.model_selection import train_test_split"
      ],
      "execution_count": 0,
      "outputs": []
    },
    {
      "metadata": {
        "colab_type": "code",
        "id": "_rnfwce1he5K",
        "colab": {}
      },
      "cell_type": "code",
      "source": [
        "x_train, x_test, y_train, y_test = train_test_split(df_geo, y_au, test_size = 0.2)"
      ],
      "execution_count": 0,
      "outputs": []
    },
    {
      "metadata": {
        "colab_type": "code",
        "outputId": "aa55a3fd-486b-48fc-ced4-5719fe5fbfef",
        "id": "Ogophg6fhe5G",
        "colab": {
          "base_uri": "https://localhost:8080/",
          "height": 118
        }
      },
      "cell_type": "code",
      "source": [
        "m = RandomForestRegressor(n_estimators=100, max_features=0.99, min_samples_leaf=2,\n",
        "                          n_jobs=-1, oob_score=True)\n",
        "\n",
        "m.fit(x_train, y_train)"
      ],
      "execution_count": 93,
      "outputs": [
        {
          "output_type": "execute_result",
          "data": {
            "text/plain": [
              "RandomForestRegressor(bootstrap=True, criterion='mse', max_depth=None,\n",
              "           max_features=0.99, max_leaf_nodes=None,\n",
              "           min_impurity_decrease=0.0, min_impurity_split=None,\n",
              "           min_samples_leaf=2, min_samples_split=2,\n",
              "           min_weight_fraction_leaf=0.0, n_estimators=100, n_jobs=-1,\n",
              "           oob_score=True, random_state=None, verbose=0, warm_start=False)"
            ]
          },
          "metadata": {
            "tags": []
          },
          "execution_count": 93
        }
      ]
    },
    {
      "metadata": {
        "colab_type": "code",
        "outputId": "1ae6c961-93de-49b7-d105-7faa37119540",
        "id": "7V0m6VQyhe5B",
        "colab": {
          "base_uri": "https://localhost:8080/",
          "height": 34
        }
      },
      "cell_type": "code",
      "source": [
        "\n",
        "preds = m.predict(x_test)\n",
        "rmspe(preds, y_test)"
      ],
      "execution_count": 96,
      "outputs": [
        {
          "output_type": "execute_result",
          "data": {
            "text/plain": [
              "5.506543682975116"
            ]
          },
          "metadata": {
            "tags": []
          },
          "execution_count": 96
        }
      ]
    },
    {
      "metadata": {
        "colab_type": "code",
        "outputId": "751dda25-a5a6-4115-c90f-a0826cb7bfb3",
        "id": "qvQkZR-whe46",
        "colab": {
          "base_uri": "https://localhost:8080/",
          "height": 34
        }
      },
      "cell_type": "code",
      "source": [
        "from sklearn.metrics import mean_squared_error\n",
        "\n",
        "mean_squared_error(preds, y_test)"
      ],
      "execution_count": 97,
      "outputs": [
        {
          "output_type": "execute_result",
          "data": {
            "text/plain": [
              "0.01466183567649596"
            ]
          },
          "metadata": {
            "tags": []
          },
          "execution_count": 97
        }
      ]
    },
    {
      "metadata": {
        "id": "60P_Paw6jNnQ",
        "colab_type": "code",
        "colab": {
          "base_uri": "https://localhost:8080/",
          "height": 34
        },
        "outputId": "6bb6d240-89f6-4543-ac68-c628fa149fa9"
      },
      "cell_type": "code",
      "source": [
        "#RMSE\n",
        "print(math.sqrt(mean_squared_error(preds, y_test)))"
      ],
      "execution_count": 98,
      "outputs": [
        {
          "output_type": "stream",
          "text": [
            "0.12108606722697686\n"
          ],
          "name": "stdout"
        }
      ]
    },
    {
      "metadata": {
        "colab_type": "text",
        "id": "oavXSPfNhe45"
      },
      "cell_type": "markdown",
      "source": [
        "### just chem info"
      ]
    },
    {
      "metadata": {
        "colab_type": "code",
        "id": "dkkMtD9Bhe4z",
        "colab": {}
      },
      "cell_type": "code",
      "source": [
        "x_train, x_test, y_train, y_test = train_test_split(df_chem, y_au, test_size = 0.2)"
      ],
      "execution_count": 0,
      "outputs": []
    },
    {
      "metadata": {
        "colab_type": "code",
        "outputId": "11dfc5c5-5d1a-4e97-e0c5-2f584b9b07bb",
        "id": "Z53VH40Uhe4o",
        "colab": {
          "base_uri": "https://localhost:8080/",
          "height": 118
        }
      },
      "cell_type": "code",
      "source": [
        "m = RandomForestRegressor(n_estimators=100, max_features=0.99, min_samples_leaf=2,\n",
        "                          n_jobs=-1, oob_score=True)\n",
        "\n",
        "m.fit(x_train, y_train)"
      ],
      "execution_count": 100,
      "outputs": [
        {
          "output_type": "execute_result",
          "data": {
            "text/plain": [
              "RandomForestRegressor(bootstrap=True, criterion='mse', max_depth=None,\n",
              "           max_features=0.99, max_leaf_nodes=None,\n",
              "           min_impurity_decrease=0.0, min_impurity_split=None,\n",
              "           min_samples_leaf=2, min_samples_split=2,\n",
              "           min_weight_fraction_leaf=0.0, n_estimators=100, n_jobs=-1,\n",
              "           oob_score=True, random_state=None, verbose=0, warm_start=False)"
            ]
          },
          "metadata": {
            "tags": []
          },
          "execution_count": 100
        }
      ]
    },
    {
      "metadata": {
        "colab_type": "code",
        "outputId": "9bc889e1-215e-43fc-be36-df8f4aed4081",
        "id": "Zt6IkJVGhe4T",
        "colab": {
          "base_uri": "https://localhost:8080/",
          "height": 34
        }
      },
      "cell_type": "code",
      "source": [
        "preds = m.predict(x_test)\n",
        "rmspe(preds, y_test)"
      ],
      "execution_count": 101,
      "outputs": [
        {
          "output_type": "execute_result",
          "data": {
            "text/plain": [
              "5.6545491151356835"
            ]
          },
          "metadata": {
            "tags": []
          },
          "execution_count": 101
        }
      ]
    },
    {
      "metadata": {
        "colab_type": "code",
        "outputId": "e78631eb-06f1-487d-8160-00d000fb530a",
        "id": "mdonfB5the4P",
        "colab": {
          "base_uri": "https://localhost:8080/",
          "height": 34
        }
      },
      "cell_type": "code",
      "source": [
        "from sklearn.metrics import mean_squared_error\n",
        "\n",
        "mean_squared_error(preds, y_test)"
      ],
      "execution_count": 102,
      "outputs": [
        {
          "output_type": "execute_result",
          "data": {
            "text/plain": [
              "0.017046294239391274"
            ]
          },
          "metadata": {
            "tags": []
          },
          "execution_count": 102
        }
      ]
    },
    {
      "metadata": {
        "colab_type": "code",
        "outputId": "5d46b259-62ea-40b1-feda-9c34385e9bcb",
        "id": "aGdls81ljeIT",
        "colab": {
          "base_uri": "https://localhost:8080/",
          "height": 34
        }
      },
      "cell_type": "code",
      "source": [
        "#RMSE\n",
        "print(math.sqrt(mean_squared_error(preds, y_test)))"
      ],
      "execution_count": 103,
      "outputs": [
        {
          "output_type": "stream",
          "text": [
            "0.13056145771011932\n"
          ],
          "name": "stdout"
        }
      ]
    },
    {
      "metadata": {
        "colab_type": "text",
        "id": "KfoCZ7uThe4O"
      },
      "cell_type": "markdown",
      "source": [
        "### All info"
      ]
    },
    {
      "metadata": {
        "colab_type": "code",
        "id": "H1cjISVKhe4L",
        "colab": {}
      },
      "cell_type": "code",
      "source": [
        "x_train, x_test, y_train, y_test = train_test_split(df_all, y_au, test_size = 0.2)"
      ],
      "execution_count": 0,
      "outputs": []
    },
    {
      "metadata": {
        "colab_type": "code",
        "outputId": "52adac15-5e3f-4859-e99f-1a21a0988db0",
        "id": "Q4lmQbbahe3-",
        "colab": {
          "base_uri": "https://localhost:8080/",
          "height": 118
        }
      },
      "cell_type": "code",
      "source": [
        "m = RandomForestRegressor(n_estimators=100, max_features=0.99, min_samples_leaf=2,\n",
        "                          n_jobs=-1, oob_score=True)\n",
        "\n",
        "m.fit(x_train, y_train)"
      ],
      "execution_count": 105,
      "outputs": [
        {
          "output_type": "execute_result",
          "data": {
            "text/plain": [
              "RandomForestRegressor(bootstrap=True, criterion='mse', max_depth=None,\n",
              "           max_features=0.99, max_leaf_nodes=None,\n",
              "           min_impurity_decrease=0.0, min_impurity_split=None,\n",
              "           min_samples_leaf=2, min_samples_split=2,\n",
              "           min_weight_fraction_leaf=0.0, n_estimators=100, n_jobs=-1,\n",
              "           oob_score=True, random_state=None, verbose=0, warm_start=False)"
            ]
          },
          "metadata": {
            "tags": []
          },
          "execution_count": 105
        }
      ]
    },
    {
      "metadata": {
        "colab_type": "code",
        "outputId": "0c23ba62-4488-46bf-8a39-77b7ab5fc5d2",
        "id": "73Fnll8zhe35",
        "colab": {
          "base_uri": "https://localhost:8080/",
          "height": 34
        }
      },
      "cell_type": "code",
      "source": [
        "preds = m.predict(x_test)\n",
        "rmspe(preds, y_test)"
      ],
      "execution_count": 106,
      "outputs": [
        {
          "output_type": "execute_result",
          "data": {
            "text/plain": [
              "5.874248973779329"
            ]
          },
          "metadata": {
            "tags": []
          },
          "execution_count": 106
        }
      ]
    },
    {
      "metadata": {
        "colab_type": "code",
        "outputId": "bfd7e5e3-12ba-4f41-ca19-f0461a933569",
        "id": "WQ14nQmZhe3z",
        "colab": {
          "base_uri": "https://localhost:8080/",
          "height": 34
        }
      },
      "cell_type": "code",
      "source": [
        "from sklearn.metrics import mean_squared_error\n",
        "\n",
        "mean_squared_error(preds, y_test)"
      ],
      "execution_count": 107,
      "outputs": [
        {
          "output_type": "execute_result",
          "data": {
            "text/plain": [
              "0.016531947062479513"
            ]
          },
          "metadata": {
            "tags": []
          },
          "execution_count": 107
        }
      ]
    },
    {
      "metadata": {
        "colab_type": "code",
        "outputId": "c87a1baf-f404-4228-dcb6-09210e3d138e",
        "id": "Im-6ZrDujijW",
        "colab": {
          "base_uri": "https://localhost:8080/",
          "height": 34
        }
      },
      "cell_type": "code",
      "source": [
        "#RMSE\n",
        "print(math.sqrt(mean_squared_error(preds, y_test)))"
      ],
      "execution_count": 108,
      "outputs": [
        {
          "output_type": "stream",
          "text": [
            "0.12857661942390425\n"
          ],
          "name": "stdout"
        }
      ]
    },
    {
      "metadata": {
        "colab_type": "text",
        "id": "wiRhetithh5y"
      },
      "cell_type": "markdown",
      "source": [
        "## Predicting agrec"
      ]
    },
    {
      "metadata": {
        "colab_type": "text",
        "id": "Cq0FpfTthh51"
      },
      "cell_type": "markdown",
      "source": [
        "### just geo info"
      ]
    },
    {
      "metadata": {
        "colab_type": "code",
        "id": "S4c9qRr8hh52",
        "colab": {}
      },
      "cell_type": "code",
      "source": [
        "from sklearn.ensemble import RandomForestRegressor\n",
        "from sklearn.model_selection import train_test_split"
      ],
      "execution_count": 0,
      "outputs": []
    },
    {
      "metadata": {
        "colab_type": "code",
        "id": "PHFZ41Fphh54",
        "colab": {}
      },
      "cell_type": "code",
      "source": [
        "x_train, x_test, y_train, y_test = train_test_split(df_geo, y_ag, test_size = 0.2)"
      ],
      "execution_count": 0,
      "outputs": []
    },
    {
      "metadata": {
        "colab_type": "code",
        "outputId": "c0dd3394-ac23-40d7-9d52-c20cd2e5a1d3",
        "id": "v9ClEqlchh56",
        "colab": {
          "base_uri": "https://localhost:8080/",
          "height": 118
        }
      },
      "cell_type": "code",
      "source": [
        "m = RandomForestRegressor(n_estimators=100, max_features=0.99, min_samples_leaf=2,\n",
        "                          n_jobs=-1, oob_score=True)\n",
        "\n",
        "m.fit(x_train, y_train)"
      ],
      "execution_count": 111,
      "outputs": [
        {
          "output_type": "execute_result",
          "data": {
            "text/plain": [
              "RandomForestRegressor(bootstrap=True, criterion='mse', max_depth=None,\n",
              "           max_features=0.99, max_leaf_nodes=None,\n",
              "           min_impurity_decrease=0.0, min_impurity_split=None,\n",
              "           min_samples_leaf=2, min_samples_split=2,\n",
              "           min_weight_fraction_leaf=0.0, n_estimators=100, n_jobs=-1,\n",
              "           oob_score=True, random_state=None, verbose=0, warm_start=False)"
            ]
          },
          "metadata": {
            "tags": []
          },
          "execution_count": 111
        }
      ]
    },
    {
      "metadata": {
        "colab_type": "code",
        "outputId": "e0562c34-5619-4bfa-e0ab-03ca84cede02",
        "id": "-WnBAayQhh5-",
        "colab": {
          "base_uri": "https://localhost:8080/",
          "height": 34
        }
      },
      "cell_type": "code",
      "source": [
        "\n",
        "preds = m.predict(x_test)\n",
        "rmspe(preds, y_test)"
      ],
      "execution_count": 112,
      "outputs": [
        {
          "output_type": "execute_result",
          "data": {
            "text/plain": [
              "1.157576936383906"
            ]
          },
          "metadata": {
            "tags": []
          },
          "execution_count": 112
        }
      ]
    },
    {
      "metadata": {
        "colab_type": "code",
        "outputId": "751153b3-51b0-4c8e-bd32-ff5a2372a6d5",
        "id": "Jqxge0Xdhh6B",
        "colab": {
          "base_uri": "https://localhost:8080/",
          "height": 34
        }
      },
      "cell_type": "code",
      "source": [
        "from sklearn.metrics import mean_squared_error\n",
        "\n",
        "mean_squared_error(preds, y_test)"
      ],
      "execution_count": 113,
      "outputs": [
        {
          "output_type": "execute_result",
          "data": {
            "text/plain": [
              "0.025568148331839676"
            ]
          },
          "metadata": {
            "tags": []
          },
          "execution_count": 113
        }
      ]
    },
    {
      "metadata": {
        "colab_type": "code",
        "outputId": "bef1f330-34cc-47b4-f312-82fd0f9f4d3a",
        "id": "5jw65xN-jmwn",
        "colab": {
          "base_uri": "https://localhost:8080/",
          "height": 34
        }
      },
      "cell_type": "code",
      "source": [
        "#RMSE\n",
        "print(math.sqrt(mean_squared_error(preds, y_test)))"
      ],
      "execution_count": 114,
      "outputs": [
        {
          "output_type": "stream",
          "text": [
            "0.15990043255676226\n"
          ],
          "name": "stdout"
        }
      ]
    },
    {
      "metadata": {
        "colab_type": "text",
        "id": "y0Xk3qXvhh6G"
      },
      "cell_type": "markdown",
      "source": [
        "### just chem info"
      ]
    },
    {
      "metadata": {
        "colab_type": "code",
        "id": "U_tDfhRdhh6H",
        "colab": {}
      },
      "cell_type": "code",
      "source": [
        "x_train, x_test, y_train, y_test = train_test_split(df_chem, y_ag, test_size = 0.2)"
      ],
      "execution_count": 0,
      "outputs": []
    },
    {
      "metadata": {
        "colab_type": "code",
        "outputId": "f46215ba-23a6-4047-8532-a99b2f9895b8",
        "id": "9FebmnBPhh6J",
        "colab": {
          "base_uri": "https://localhost:8080/",
          "height": 118
        }
      },
      "cell_type": "code",
      "source": [
        "m = RandomForestRegressor(n_estimators=100, max_features=0.99, min_samples_leaf=2,\n",
        "                          n_jobs=-1, oob_score=True)\n",
        "\n",
        "m.fit(x_train, y_train)"
      ],
      "execution_count": 116,
      "outputs": [
        {
          "output_type": "execute_result",
          "data": {
            "text/plain": [
              "RandomForestRegressor(bootstrap=True, criterion='mse', max_depth=None,\n",
              "           max_features=0.99, max_leaf_nodes=None,\n",
              "           min_impurity_decrease=0.0, min_impurity_split=None,\n",
              "           min_samples_leaf=2, min_samples_split=2,\n",
              "           min_weight_fraction_leaf=0.0, n_estimators=100, n_jobs=-1,\n",
              "           oob_score=True, random_state=None, verbose=0, warm_start=False)"
            ]
          },
          "metadata": {
            "tags": []
          },
          "execution_count": 116
        }
      ]
    },
    {
      "metadata": {
        "colab_type": "code",
        "outputId": "51793d63-2aae-4801-944b-4370e63e71c5",
        "id": "cCsPtZ64hh6M",
        "colab": {
          "base_uri": "https://localhost:8080/",
          "height": 34
        }
      },
      "cell_type": "code",
      "source": [
        "preds = m.predict(x_test)\n",
        "rmspe(preds, y_test)"
      ],
      "execution_count": 117,
      "outputs": [
        {
          "output_type": "execute_result",
          "data": {
            "text/plain": [
              "2.6784874577422864"
            ]
          },
          "metadata": {
            "tags": []
          },
          "execution_count": 117
        }
      ]
    },
    {
      "metadata": {
        "colab_type": "code",
        "outputId": "8dcfd0ec-5f10-4647-f2ef-0c53b572f175",
        "id": "W3gCE0Tihh6P",
        "colab": {
          "base_uri": "https://localhost:8080/",
          "height": 34
        }
      },
      "cell_type": "code",
      "source": [
        "from sklearn.metrics import mean_squared_error\n",
        "\n",
        "mean_squared_error(preds, y_test)"
      ],
      "execution_count": 118,
      "outputs": [
        {
          "output_type": "execute_result",
          "data": {
            "text/plain": [
              "0.035023958589523174"
            ]
          },
          "metadata": {
            "tags": []
          },
          "execution_count": 118
        }
      ]
    },
    {
      "metadata": {
        "colab_type": "code",
        "outputId": "fbd1a4ec-4f0f-4945-dbc8-c7d2725644b0",
        "id": "8ZEGeuDajrPJ",
        "colab": {
          "base_uri": "https://localhost:8080/",
          "height": 34
        }
      },
      "cell_type": "code",
      "source": [
        "#RMSE\n",
        "print(math.sqrt(mean_squared_error(preds, y_test)))"
      ],
      "execution_count": 119,
      "outputs": [
        {
          "output_type": "stream",
          "text": [
            "0.18714689040837193\n"
          ],
          "name": "stdout"
        }
      ]
    },
    {
      "metadata": {
        "colab_type": "text",
        "id": "DWZBVQROhh6U"
      },
      "cell_type": "markdown",
      "source": [
        "### All info"
      ]
    },
    {
      "metadata": {
        "colab_type": "code",
        "id": "z931ri05hh6U",
        "colab": {}
      },
      "cell_type": "code",
      "source": [
        "x_train, x_test, y_train, y_test = train_test_split(df_all, y_ag, test_size = 0.2)"
      ],
      "execution_count": 0,
      "outputs": []
    },
    {
      "metadata": {
        "colab_type": "code",
        "outputId": "7afba690-0bf4-4a85-c866-582d6c855564",
        "id": "WY6bwCLVhh6X",
        "colab": {
          "base_uri": "https://localhost:8080/",
          "height": 118
        }
      },
      "cell_type": "code",
      "source": [
        "m = RandomForestRegressor(n_estimators=100, max_features=0.99, min_samples_leaf=2,\n",
        "                          n_jobs=-1, oob_score=True)\n",
        "\n",
        "m.fit(x_train, y_train)"
      ],
      "execution_count": 121,
      "outputs": [
        {
          "output_type": "execute_result",
          "data": {
            "text/plain": [
              "RandomForestRegressor(bootstrap=True, criterion='mse', max_depth=None,\n",
              "           max_features=0.99, max_leaf_nodes=None,\n",
              "           min_impurity_decrease=0.0, min_impurity_split=None,\n",
              "           min_samples_leaf=2, min_samples_split=2,\n",
              "           min_weight_fraction_leaf=0.0, n_estimators=100, n_jobs=-1,\n",
              "           oob_score=True, random_state=None, verbose=0, warm_start=False)"
            ]
          },
          "metadata": {
            "tags": []
          },
          "execution_count": 121
        }
      ]
    },
    {
      "metadata": {
        "colab_type": "code",
        "outputId": "5a8e2565-7b91-4c73-8a1e-9c72447a5ccc",
        "id": "BlmkT1j-hh6c",
        "colab": {
          "base_uri": "https://localhost:8080/",
          "height": 34
        }
      },
      "cell_type": "code",
      "source": [
        "preds = m.predict(x_test)\n",
        "rmspe(preds, y_test)"
      ],
      "execution_count": 123,
      "outputs": [
        {
          "output_type": "execute_result",
          "data": {
            "text/plain": [
              "5.6622341698773315"
            ]
          },
          "metadata": {
            "tags": []
          },
          "execution_count": 123
        }
      ]
    },
    {
      "metadata": {
        "colab_type": "code",
        "outputId": "9322268f-56ec-4010-c163-bf4b2324f80d",
        "id": "HVQp43quhh6t",
        "colab": {
          "base_uri": "https://localhost:8080/",
          "height": 34
        }
      },
      "cell_type": "code",
      "source": [
        "from sklearn.metrics import mean_squared_error\n",
        "\n",
        "mean_squared_error(preds, y_test)"
      ],
      "execution_count": 124,
      "outputs": [
        {
          "output_type": "execute_result",
          "data": {
            "text/plain": [
              "0.026130660214398138"
            ]
          },
          "metadata": {
            "tags": []
          },
          "execution_count": 124
        }
      ]
    },
    {
      "metadata": {
        "colab_type": "code",
        "outputId": "0b338476-bf0f-4823-9aa1-68dd96fdef9e",
        "id": "rofCNu4ejvaz",
        "colab": {
          "base_uri": "https://localhost:8080/",
          "height": 34
        }
      },
      "cell_type": "code",
      "source": [
        "#RMSE\n",
        "print(math.sqrt(mean_squared_error(preds, y_test)))"
      ],
      "execution_count": 125,
      "outputs": [
        {
          "output_type": "stream",
          "text": [
            "0.16164980734414172\n"
          ],
          "name": "stdout"
        }
      ]
    },
    {
      "metadata": {
        "colab_type": "text",
        "id": "6jPe-2jThu_V"
      },
      "cell_type": "markdown",
      "source": [
        "## Predicting nacnc"
      ]
    },
    {
      "metadata": {
        "colab_type": "text",
        "id": "hT94hUd8hu_W"
      },
      "cell_type": "markdown",
      "source": [
        "### just geo info"
      ]
    },
    {
      "metadata": {
        "colab_type": "code",
        "id": "YftCFP6ghu_W",
        "colab": {}
      },
      "cell_type": "code",
      "source": [
        "from sklearn.ensemble import RandomForestRegressor\n",
        "from sklearn.model_selection import train_test_split"
      ],
      "execution_count": 0,
      "outputs": []
    },
    {
      "metadata": {
        "colab_type": "code",
        "id": "tPGM9v15hu_a",
        "colab": {}
      },
      "cell_type": "code",
      "source": [
        "x_train, x_test, y_train, y_test = train_test_split(df_geo, y_nac, test_size = 0.2)"
      ],
      "execution_count": 0,
      "outputs": []
    },
    {
      "metadata": {
        "colab_type": "code",
        "outputId": "b403da71-3f9c-4281-f90c-04a459ad732b",
        "id": "eg6NwBVJhu_c",
        "colab": {
          "base_uri": "https://localhost:8080/",
          "height": 118
        }
      },
      "cell_type": "code",
      "source": [
        "m = RandomForestRegressor(n_estimators=100, max_features=0.99, min_samples_leaf=2,\n",
        "                          n_jobs=-1, oob_score=True)\n",
        "\n",
        "m.fit(x_train, y_train)"
      ],
      "execution_count": 128,
      "outputs": [
        {
          "output_type": "execute_result",
          "data": {
            "text/plain": [
              "RandomForestRegressor(bootstrap=True, criterion='mse', max_depth=None,\n",
              "           max_features=0.99, max_leaf_nodes=None,\n",
              "           min_impurity_decrease=0.0, min_impurity_split=None,\n",
              "           min_samples_leaf=2, min_samples_split=2,\n",
              "           min_weight_fraction_leaf=0.0, n_estimators=100, n_jobs=-1,\n",
              "           oob_score=True, random_state=None, verbose=0, warm_start=False)"
            ]
          },
          "metadata": {
            "tags": []
          },
          "execution_count": 128
        }
      ]
    },
    {
      "metadata": {
        "colab_type": "code",
        "outputId": "c791becd-f579-4307-af45-8685df41c79f",
        "id": "P-yJgEF5hu_e",
        "colab": {
          "base_uri": "https://localhost:8080/",
          "height": 34
        }
      },
      "cell_type": "code",
      "source": [
        "\n",
        "preds = m.predict(x_test)\n",
        "rmspe(preds, y_test)"
      ],
      "execution_count": 129,
      "outputs": [
        {
          "output_type": "execute_result",
          "data": {
            "text/plain": [
              "1.2093399019182263"
            ]
          },
          "metadata": {
            "tags": []
          },
          "execution_count": 129
        }
      ]
    },
    {
      "metadata": {
        "colab_type": "code",
        "outputId": "25e62ed0-b680-4ba2-c323-b4ee981d650b",
        "id": "iTbAuC_2hu_j",
        "colab": {
          "base_uri": "https://localhost:8080/",
          "height": 34
        }
      },
      "cell_type": "code",
      "source": [
        "from sklearn.metrics import mean_squared_error\n",
        "\n",
        "mean_squared_error(preds, y_test)"
      ],
      "execution_count": 130,
      "outputs": [
        {
          "output_type": "execute_result",
          "data": {
            "text/plain": [
              "2.8520566030463574"
            ]
          },
          "metadata": {
            "tags": []
          },
          "execution_count": 130
        }
      ]
    },
    {
      "metadata": {
        "colab_type": "code",
        "outputId": "72f52f7b-80c9-476a-ee59-7d7196a41d9d",
        "id": "HcyfDjGSj4ta",
        "colab": {
          "base_uri": "https://localhost:8080/",
          "height": 34
        }
      },
      "cell_type": "code",
      "source": [
        "#RMSE\n",
        "print(math.sqrt(mean_squared_error(preds, y_test)))"
      ],
      "execution_count": 131,
      "outputs": [
        {
          "output_type": "stream",
          "text": [
            "1.6888033050199651\n"
          ],
          "name": "stdout"
        }
      ]
    },
    {
      "metadata": {
        "colab_type": "text",
        "id": "f_qJQCYphu_m"
      },
      "cell_type": "markdown",
      "source": [
        "### just chem info"
      ]
    },
    {
      "metadata": {
        "colab_type": "code",
        "id": "KB1iUKjAhu_n",
        "colab": {}
      },
      "cell_type": "code",
      "source": [
        "x_train, x_test, y_train, y_test = train_test_split(df_chem, y_nac, test_size = 0.2)"
      ],
      "execution_count": 0,
      "outputs": []
    },
    {
      "metadata": {
        "colab_type": "code",
        "outputId": "b07b71bf-5f9a-429e-9bd9-1ad555525cdb",
        "id": "xBR4Oo8vhu_t",
        "colab": {
          "base_uri": "https://localhost:8080/",
          "height": 118
        }
      },
      "cell_type": "code",
      "source": [
        "m = RandomForestRegressor(n_estimators=100, max_features=0.99, min_samples_leaf=2,\n",
        "                          n_jobs=-1, oob_score=True)\n",
        "\n",
        "m.fit(x_train, y_train)"
      ],
      "execution_count": 133,
      "outputs": [
        {
          "output_type": "execute_result",
          "data": {
            "text/plain": [
              "RandomForestRegressor(bootstrap=True, criterion='mse', max_depth=None,\n",
              "           max_features=0.99, max_leaf_nodes=None,\n",
              "           min_impurity_decrease=0.0, min_impurity_split=None,\n",
              "           min_samples_leaf=2, min_samples_split=2,\n",
              "           min_weight_fraction_leaf=0.0, n_estimators=100, n_jobs=-1,\n",
              "           oob_score=True, random_state=None, verbose=0, warm_start=False)"
            ]
          },
          "metadata": {
            "tags": []
          },
          "execution_count": 133
        }
      ]
    },
    {
      "metadata": {
        "colab_type": "code",
        "outputId": "8af11e3f-5c4a-4b45-b6da-47d9d73ac82b",
        "id": "A5dFqjWvhu_5",
        "colab": {
          "base_uri": "https://localhost:8080/",
          "height": 34
        }
      },
      "cell_type": "code",
      "source": [
        "preds = m.predict(x_test)\n",
        "rmspe(preds, y_test)"
      ],
      "execution_count": 134,
      "outputs": [
        {
          "output_type": "execute_result",
          "data": {
            "text/plain": [
              "2.709661732806832"
            ]
          },
          "metadata": {
            "tags": []
          },
          "execution_count": 134
        }
      ]
    },
    {
      "metadata": {
        "colab_type": "code",
        "outputId": "20f1cefe-460d-4a8f-a061-b1ea07471b97",
        "id": "nk1py6pohvAA",
        "colab": {
          "base_uri": "https://localhost:8080/",
          "height": 34
        }
      },
      "cell_type": "code",
      "source": [
        "from sklearn.metrics import mean_squared_error\n",
        "\n",
        "mean_squared_error(preds, y_test)"
      ],
      "execution_count": 135,
      "outputs": [
        {
          "output_type": "execute_result",
          "data": {
            "text/plain": [
              "3.91099762017964"
            ]
          },
          "metadata": {
            "tags": []
          },
          "execution_count": 135
        }
      ]
    },
    {
      "metadata": {
        "colab_type": "code",
        "outputId": "93c1b82c-41fc-49f1-8cf5-8315dc811837",
        "id": "YZt1_Z7Gj-Y1",
        "colab": {
          "base_uri": "https://localhost:8080/",
          "height": 34
        }
      },
      "cell_type": "code",
      "source": [
        "#RMSE\n",
        "print(math.sqrt(mean_squared_error(preds, y_test)))"
      ],
      "execution_count": 136,
      "outputs": [
        {
          "output_type": "stream",
          "text": [
            "1.9776242363451253\n"
          ],
          "name": "stdout"
        }
      ]
    },
    {
      "metadata": {
        "colab_type": "text",
        "id": "0g7ZfPpJhvAD"
      },
      "cell_type": "markdown",
      "source": [
        "### All info"
      ]
    },
    {
      "metadata": {
        "colab_type": "code",
        "id": "WGZ-QoPFhvAE",
        "colab": {}
      },
      "cell_type": "code",
      "source": [
        "x_train, x_test, y_train, y_test = train_test_split(df_all, y_nac, test_size = 0.2)"
      ],
      "execution_count": 0,
      "outputs": []
    },
    {
      "metadata": {
        "colab_type": "code",
        "outputId": "7309ea00-874b-4e48-b591-198999c7a388",
        "id": "3km_fIxQhvAJ",
        "colab": {
          "base_uri": "https://localhost:8080/",
          "height": 118
        }
      },
      "cell_type": "code",
      "source": [
        "m = RandomForestRegressor(n_estimators=100, max_features=0.99, min_samples_leaf=2,\n",
        "                          n_jobs=-1, oob_score=True)\n",
        "\n",
        "m.fit(x_train, y_train)"
      ],
      "execution_count": 138,
      "outputs": [
        {
          "output_type": "execute_result",
          "data": {
            "text/plain": [
              "RandomForestRegressor(bootstrap=True, criterion='mse', max_depth=None,\n",
              "           max_features=0.99, max_leaf_nodes=None,\n",
              "           min_impurity_decrease=0.0, min_impurity_split=None,\n",
              "           min_samples_leaf=2, min_samples_split=2,\n",
              "           min_weight_fraction_leaf=0.0, n_estimators=100, n_jobs=-1,\n",
              "           oob_score=True, random_state=None, verbose=0, warm_start=False)"
            ]
          },
          "metadata": {
            "tags": []
          },
          "execution_count": 138
        }
      ]
    },
    {
      "metadata": {
        "colab_type": "code",
        "outputId": "4b2086fa-4202-4915-a3a5-5cfa4cfcb757",
        "id": "E7_-PmJkhvAP",
        "colab": {
          "base_uri": "https://localhost:8080/",
          "height": 34
        }
      },
      "cell_type": "code",
      "source": [
        "preds = m.predict(x_test)\n",
        "rmspe(preds, y_test)"
      ],
      "execution_count": 141,
      "outputs": [
        {
          "output_type": "execute_result",
          "data": {
            "text/plain": [
              "1.7520770782183006"
            ]
          },
          "metadata": {
            "tags": []
          },
          "execution_count": 141
        }
      ]
    },
    {
      "metadata": {
        "colab_type": "code",
        "outputId": "345c238d-c788-47a2-90dc-ee04d773494c",
        "id": "ImyLWWf4hvAS",
        "colab": {
          "base_uri": "https://localhost:8080/",
          "height": 34
        }
      },
      "cell_type": "code",
      "source": [
        "from sklearn.metrics import mean_squared_error\n",
        "\n",
        "mean_squared_error(preds, y_test)"
      ],
      "execution_count": 143,
      "outputs": [
        {
          "output_type": "execute_result",
          "data": {
            "text/plain": [
              "2.428839053477464"
            ]
          },
          "metadata": {
            "tags": []
          },
          "execution_count": 143
        }
      ]
    },
    {
      "metadata": {
        "colab_type": "code",
        "outputId": "e824525e-44d1-4b55-d12a-34b9f263d95f",
        "id": "aghZQC5-kEEL",
        "colab": {
          "base_uri": "https://localhost:8080/",
          "height": 34
        }
      },
      "cell_type": "code",
      "source": [
        "#RMSE\n",
        "print(math.sqrt(mean_squared_error(preds, y_test)))"
      ],
      "execution_count": 144,
      "outputs": [
        {
          "output_type": "stream",
          "text": [
            "1.55847330855471\n"
          ],
          "name": "stdout"
        }
      ]
    },
    {
      "metadata": {
        "id": "3-rdvF46kHz7",
        "colab_type": "text"
      },
      "cell_type": "markdown",
      "source": [
        "## Observations\n",
        "\n",
        "- Classifying codt class seems to be more reliant on geo information, dropping geo info from features causes classification accuracy to drop from 96-97% to 60%\n",
        "    - Maybe the codt class is classified based on geo features?\n",
        "\n",
        "- While geo features still yield more gain in predictive power for regression problems (aurec, agrec, nacnc), the decrease is not as drastic. \n",
        "\n",
        "- It might be useful to use ML to predict aurec, agrec, and nacnc because to get a reasonably good prediction (on validation dataset at least), we just need the chemical features, as well as auppm and agppm"
      ]
    },
    {
      "metadata": {
        "id": "yxlijTAfiHhL",
        "colab_type": "code",
        "colab": {}
      },
      "cell_type": "code",
      "source": [
        ""
      ],
      "execution_count": 0,
      "outputs": []
    }
  ]
}