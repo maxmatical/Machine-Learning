{
  "nbformat": 4,
  "nbformat_minor": 0,
  "metadata": {
    "colab": {
      "name": "Yamana Case v4 - Max.ipynb",
      "version": "0.3.2",
      "provenance": [],
      "collapsed_sections": [
        "-BP10L2QIPCo",
        "W9fBpkgLtbof",
        "jttVivCVxDuP",
        "xBwMhJ6phe5R",
        "r0-aDO0W4BY-",
        "wiRhetithh5y",
        "kITWlkxx8WHh",
        "6jPe-2jThu_V"
      ],
      "toc_visible": true,
      "include_colab_link": true
    },
    "kernelspec": {
      "name": "python3",
      "display_name": "Python 3"
    },
    "accelerator": "GPU"
  },
  "cells": [
    {
      "cell_type": "markdown",
      "metadata": {
        "id": "view-in-github",
        "colab_type": "text"
      },
      "source": [
        "<a href=\"https://colab.research.google.com/github/maxmatical/Machine-Learning/blob/master/Yamana_Case_v4_Max.ipynb\" target=\"_parent\"><img src=\"https://colab.research.google.com/assets/colab-badge.svg\" alt=\"Open In Colab\"/></a>"
      ]
    },
    {
      "metadata": {
        "id": "SlbyUNERH43o",
        "colab_type": "text"
      },
      "cell_type": "markdown",
      "source": [
        "## Steps taken in this notebook\n",
        "\n",
        "1. use all features (excluding the highly correlated ones)\n",
        "2. try LR and RF (tuned)\n",
        "    - add feature importance\n",
        "3. Try steps 1 and 2 on the dataset after dropping missing target values"
      ]
    },
    {
      "metadata": {
        "id": "heeGu_1Ni7Pp",
        "colab_type": "code",
        "colab": {}
      },
      "cell_type": "code",
      "source": [
        "# Set up environment and download course-v3\n",
        "!pip install torch_nightly -f https://download.pytorch.org/whl/nightly/cu92/torch_nightly.html\n",
        "!pip install fastai\n",
        "!pip install fastprogress\n",
        "!pip install pathlib\n",
        "\n",
        "!curl https://course-v3.fast.ai/setup/colab | bash"
      ],
      "execution_count": 0,
      "outputs": []
    },
    {
      "metadata": {
        "id": "JLIGWCOPooVx",
        "colab_type": "code",
        "colab": {}
      },
      "cell_type": "code",
      "source": [
        "!pip install scikit-optimize"
      ],
      "execution_count": 0,
      "outputs": []
    },
    {
      "metadata": {
        "id": "OoQiE_vijDC5",
        "colab_type": "code",
        "colab": {}
      },
      "cell_type": "code",
      "source": [
        "from fastai import *\n",
        "from fastai.tabular import *\n",
        "\n",
        "import pandas as pd\n",
        "import matplotlib as plt\n",
        "import numpy as np"
      ],
      "execution_count": 0,
      "outputs": []
    },
    {
      "metadata": {
        "id": "GhG87rGjO1z3",
        "colab_type": "code",
        "colab": {}
      },
      "cell_type": "code",
      "source": [
        "import matplotlib.pyplot as plt\n"
      ],
      "execution_count": 0,
      "outputs": []
    },
    {
      "metadata": {
        "id": "-BP10L2QIPCo",
        "colab_type": "text"
      },
      "cell_type": "markdown",
      "source": [
        "# Using imputed values (median) for target variables"
      ]
    },
    {
      "metadata": {
        "id": "wZX0Q_4RjFmt",
        "colab_type": "code",
        "colab": {}
      },
      "cell_type": "code",
      "source": [
        "path = '/content/data/'\n",
        "os.makedirs(path, exist_ok=True)\n",
        "fname = 'Base de Datos Geometalurgia Goldspot'\n",
        "#path"
      ],
      "execution_count": 0,
      "outputs": []
    },
    {
      "metadata": {
        "id": "W5jVrcoudwB1",
        "colab_type": "text"
      },
      "cell_type": "markdown",
      "source": [
        "for some reason \n",
        "\n",
        "\n",
        "\n",
        "```\n",
        "df = pd.read_csv(f'{path}/{name}.csv', low_memory=False)\n",
        "```\n",
        "\n",
        "is causing colab issues and cannot load\n"
      ]
    },
    {
      "metadata": {
        "id": "xzN62Y-2jJBF",
        "colab_type": "code",
        "colab": {}
      },
      "cell_type": "code",
      "source": [
        "df = pd.read_csv('/content/data/Base de Datos Geometalurgia Goldspot.csv', low_memory=False)"
      ],
      "execution_count": 0,
      "outputs": []
    },
    {
      "metadata": {
        "id": "BCc_7a-fldDM",
        "colab_type": "code",
        "outputId": "7c75e51b-3417-4b57-ab90-ad9e08b358bd",
        "colab": {
          "base_uri": "https://localhost:8080/",
          "height": 244
        }
      },
      "cell_type": "code",
      "source": [
        "df.head(5)"
      ],
      "execution_count": 0,
      "outputs": [
        {
          "output_type": "execute_result",
          "data": {
            "text/html": [
              "<div>\n",
              "<style scoped>\n",
              "    .dataframe tbody tr th:only-of-type {\n",
              "        vertical-align: middle;\n",
              "    }\n",
              "\n",
              "    .dataframe tbody tr th {\n",
              "        vertical-align: top;\n",
              "    }\n",
              "\n",
              "    .dataframe thead th {\n",
              "        text-align: right;\n",
              "    }\n",
              "</style>\n",
              "<table border=\"1\" class=\"dataframe\">\n",
              "  <thead>\n",
              "    <tr style=\"text-align: right;\">\n",
              "      <th></th>\n",
              "      <th>compid</th>\n",
              "      <th>dhid</th>\n",
              "      <th>midx</th>\n",
              "      <th>midy</th>\n",
              "      <th>midz</th>\n",
              "      <th>topx</th>\n",
              "      <th>topy</th>\n",
              "      <th>topz</th>\n",
              "      <th>botx</th>\n",
              "      <th>boty</th>\n",
              "      <th>...</th>\n",
              "      <th>Te</th>\n",
              "      <th>Th</th>\n",
              "      <th>Ti</th>\n",
              "      <th>Tl</th>\n",
              "      <th>U</th>\n",
              "      <th>V</th>\n",
              "      <th>W</th>\n",
              "      <th>Y</th>\n",
              "      <th>Zn</th>\n",
              "      <th>Zr</th>\n",
              "    </tr>\n",
              "  </thead>\n",
              "  <tbody>\n",
              "    <tr>\n",
              "      <th>0</th>\n",
              "      <td>CAN</td>\n",
              "      <td>OF07482</td>\n",
              "      <td>449967.09</td>\n",
              "      <td>7301211.35</td>\n",
              "      <td>1819.01</td>\n",
              "      <td>449967.61</td>\n",
              "      <td>7301211.40</td>\n",
              "      <td>1819.01</td>\n",
              "      <td>449966.56</td>\n",
              "      <td>7301211.31</td>\n",
              "      <td>...</td>\n",
              "      <td>-99</td>\n",
              "      <td>-99</td>\n",
              "      <td>-99</td>\n",
              "      <td>-99</td>\n",
              "      <td>-99</td>\n",
              "      <td>-99.0</td>\n",
              "      <td>-99</td>\n",
              "      <td>-99</td>\n",
              "      <td>-99</td>\n",
              "      <td>-99.0</td>\n",
              "    </tr>\n",
              "    <tr>\n",
              "      <th>1</th>\n",
              "      <td>CAN</td>\n",
              "      <td>OF07491</td>\n",
              "      <td>449950.70</td>\n",
              "      <td>7301374.94</td>\n",
              "      <td>1836.81</td>\n",
              "      <td>449949.32</td>\n",
              "      <td>7301375.18</td>\n",
              "      <td>1836.81</td>\n",
              "      <td>449952.08</td>\n",
              "      <td>7301374.70</td>\n",
              "      <td>...</td>\n",
              "      <td>-99</td>\n",
              "      <td>-99</td>\n",
              "      <td>-99</td>\n",
              "      <td>-99</td>\n",
              "      <td>-99</td>\n",
              "      <td>-99.0</td>\n",
              "      <td>-99</td>\n",
              "      <td>-99</td>\n",
              "      <td>-99</td>\n",
              "      <td>-99.0</td>\n",
              "    </tr>\n",
              "    <tr>\n",
              "      <th>2</th>\n",
              "      <td>CAN</td>\n",
              "      <td>OF07505</td>\n",
              "      <td>449950.06</td>\n",
              "      <td>7301418.56</td>\n",
              "      <td>1836.86</td>\n",
              "      <td>449949.61</td>\n",
              "      <td>7301418.52</td>\n",
              "      <td>1836.86</td>\n",
              "      <td>449950.50</td>\n",
              "      <td>7301418.60</td>\n",
              "      <td>...</td>\n",
              "      <td>-99</td>\n",
              "      <td>-99</td>\n",
              "      <td>-99</td>\n",
              "      <td>-99</td>\n",
              "      <td>-99</td>\n",
              "      <td>-99.0</td>\n",
              "      <td>-99</td>\n",
              "      <td>-99</td>\n",
              "      <td>-99</td>\n",
              "      <td>-99.0</td>\n",
              "    </tr>\n",
              "    <tr>\n",
              "      <th>3</th>\n",
              "      <td>CAN</td>\n",
              "      <td>OF08219</td>\n",
              "      <td>449896.24</td>\n",
              "      <td>7301571.17</td>\n",
              "      <td>1677.28</td>\n",
              "      <td>449895.20</td>\n",
              "      <td>7301571.08</td>\n",
              "      <td>1677.28</td>\n",
              "      <td>449897.29</td>\n",
              "      <td>7301571.26</td>\n",
              "      <td>...</td>\n",
              "      <td>-99</td>\n",
              "      <td>-99</td>\n",
              "      <td>-99</td>\n",
              "      <td>-99</td>\n",
              "      <td>-99</td>\n",
              "      <td>-99.0</td>\n",
              "      <td>-99</td>\n",
              "      <td>-99</td>\n",
              "      <td>-99</td>\n",
              "      <td>-99.0</td>\n",
              "    </tr>\n",
              "    <tr>\n",
              "      <th>4</th>\n",
              "      <td>CAN</td>\n",
              "      <td>OF08222</td>\n",
              "      <td>449906.02</td>\n",
              "      <td>7301433.32</td>\n",
              "      <td>1601.00</td>\n",
              "      <td>449905.37</td>\n",
              "      <td>7301433.32</td>\n",
              "      <td>1601.00</td>\n",
              "      <td>449906.67</td>\n",
              "      <td>7301433.32</td>\n",
              "      <td>...</td>\n",
              "      <td>-99</td>\n",
              "      <td>-99</td>\n",
              "      <td>24</td>\n",
              "      <td>-99</td>\n",
              "      <td>-99</td>\n",
              "      <td>-99.0</td>\n",
              "      <td>3</td>\n",
              "      <td>-99</td>\n",
              "      <td>1000</td>\n",
              "      <td>-99.0</td>\n",
              "    </tr>\n",
              "  </tbody>\n",
              "</table>\n",
              "<p>5 rows × 72 columns</p>\n",
              "</div>"
            ],
            "text/plain": [
              "  compid     dhid       midx        midy     midz       topx        topy  \\\n",
              "0    CAN  OF07482  449967.09  7301211.35  1819.01  449967.61  7301211.40   \n",
              "1    CAN  OF07491  449950.70  7301374.94  1836.81  449949.32  7301375.18   \n",
              "2    CAN  OF07505  449950.06  7301418.56  1836.86  449949.61  7301418.52   \n",
              "3    CAN  OF08219  449896.24  7301571.17  1677.28  449895.20  7301571.08   \n",
              "4    CAN  OF08222  449906.02  7301433.32  1601.00  449905.37  7301433.32   \n",
              "\n",
              "      topz       botx        boty  ...    Te   Th   Ti   Tl    U     V    W  \\\n",
              "0  1819.01  449966.56  7301211.31  ...   -99  -99  -99  -99  -99 -99.0  -99   \n",
              "1  1836.81  449952.08  7301374.70  ...   -99  -99  -99  -99  -99 -99.0  -99   \n",
              "2  1836.86  449950.50  7301418.60  ...   -99  -99  -99  -99  -99 -99.0  -99   \n",
              "3  1677.28  449897.29  7301571.26  ...   -99  -99  -99  -99  -99 -99.0  -99   \n",
              "4  1601.00  449906.67  7301433.32  ...   -99  -99   24  -99  -99 -99.0    3   \n",
              "\n",
              "    Y    Zn    Zr  \n",
              "0 -99   -99 -99.0  \n",
              "1 -99   -99 -99.0  \n",
              "2 -99   -99 -99.0  \n",
              "3 -99   -99 -99.0  \n",
              "4 -99  1000 -99.0  \n",
              "\n",
              "[5 rows x 72 columns]"
            ]
          },
          "metadata": {
            "tags": []
          },
          "execution_count": 6
        }
      ]
    },
    {
      "metadata": {
        "id": "SeOPgpiZjOWK",
        "colab_type": "text"
      },
      "cell_type": "markdown",
      "source": [
        "### Preprocessing\n",
        "1. remove any instances of \">\", \"<\", and \",\" from the data\n",
        "2. Impute (or remove) any instances of -99 for 'agrec' or 'nacnc'\n",
        "    - if imputing: use median value \n",
        "3. Change any instance of -99 in features to be np.nan (to use FillMissing)\n",
        "4. use FillMissing to change NaN to -99, and add feature for var_na (bool)\n",
        "5. Perform analysis on features to see if any features (other than top/mid/bot) are correlated, remove those variables from the modelling process\n",
        "    - https://chrisalbon.com/machine_learning/feature_selection/drop_highly_correlated_features/\n",
        "6. Split features into 3 dataframes: \n",
        "    - Just geo data\n",
        "    - Just geochemical data\n",
        "    - both\n",
        "7. Model using features, see what kind of results we get with subset of the features\n",
        "8. Perform any feature importance analysis as needed"
      ]
    },
    {
      "metadata": {
        "id": "bMcomeMSjLU0",
        "colab_type": "code",
        "colab": {}
      },
      "cell_type": "code",
      "source": [
        "# stripping all str columns of > and < symbols\n",
        "for column in df.columns:\n",
        "    if df[column].dtype == 'O' and column != 'compid' and column != 'dhid':\n",
        "        df[column] = df[column].map(lambda x: x.lstrip('>,<'))\n",
        "        df[column] = df[column].str.replace(',','.')\n",
        "        df[column] = df[column].astype(float)\n",
        "\n"
      ],
      "execution_count": 0,
      "outputs": []
    },
    {
      "metadata": {
        "id": "QcyydyElmhNL",
        "colab_type": "code",
        "colab": {}
      },
      "cell_type": "code",
      "source": [
        "df['nacnc'] = df['nacnc'].replace(-99,df['nacnc'].median(), inplace = False)\n",
        "\n",
        "df['agrec'] = df['agrec'].replace(-99,df['agrec'].median(), inplace = False)"
      ],
      "execution_count": 0,
      "outputs": []
    },
    {
      "metadata": {
        "id": "vXcmT_rpm-dS",
        "colab_type": "code",
        "colab": {}
      },
      "cell_type": "code",
      "source": [
        "df = df.replace(-99, np.nan, inplace=False)\n"
      ],
      "execution_count": 0,
      "outputs": []
    },
    {
      "metadata": {
        "id": "rgIARC-1p0IW",
        "colab_type": "code",
        "colab": {}
      },
      "cell_type": "code",
      "source": [
        "cat_names = ['geocod', 'bound']\n",
        "cont_names = ['midx', 'midy', 'midz', 'topx', 'topy', 'topz', 'botx', 'boty', 'botz',\n",
        "             'length', 'from', 'to','auppm', 'agppm', 'Al', 'As', 'Au', 'B', 'Ba', 'Be', 'Bi', 'Ca',\n",
        "             'Cd', 'Co', 'Cr', 'Cu', 'Fe', 'Hg', 'K', 'La', 'Li', 'Mg', 'Mn', 'Mo', 'Na',\n",
        "             'Nb', 'Ni', 'P', 'Pb', 'Pd', 'Re', 'S', 'Sb', 'Se', 'Si', 'Sc', 'Sn', 'Sr',\n",
        "             'Ta', 'Te', 'Th', 'Ti', 'Tl', 'U', 'V', 'W', 'Y', 'Zn', 'Zr']"
      ],
      "execution_count": 0,
      "outputs": []
    },
    {
      "metadata": {
        "id": "_xVMra1Hp-Fv",
        "colab_type": "code",
        "colab": {}
      },
      "cell_type": "code",
      "source": [
        "fillmissing = FillMissing(cat_names = cat_names, cont_names = cont_names, fill_strategy='CONSTANT', fill_val = -99.0)\n"
      ],
      "execution_count": 0,
      "outputs": []
    },
    {
      "metadata": {
        "id": "vj7JI564qAhy",
        "colab_type": "code",
        "colab": {}
      },
      "cell_type": "code",
      "source": [
        "fillmissing(df)"
      ],
      "execution_count": 0,
      "outputs": []
    },
    {
      "metadata": {
        "id": "CBI4YWFhqB9Y",
        "colab_type": "code",
        "outputId": "379e6933-8def-4b40-8eb2-4f2374bbd5e0",
        "colab": {
          "base_uri": "https://localhost:8080/",
          "height": 408
        }
      },
      "cell_type": "code",
      "source": [
        "df.head(10)"
      ],
      "execution_count": 13,
      "outputs": [
        {
          "output_type": "execute_result",
          "data": {
            "text/html": [
              "<div>\n",
              "<style scoped>\n",
              "    .dataframe tbody tr th:only-of-type {\n",
              "        vertical-align: middle;\n",
              "    }\n",
              "\n",
              "    .dataframe tbody tr th {\n",
              "        vertical-align: top;\n",
              "    }\n",
              "\n",
              "    .dataframe thead th {\n",
              "        text-align: right;\n",
              "    }\n",
              "</style>\n",
              "<table border=\"1\" class=\"dataframe\">\n",
              "  <thead>\n",
              "    <tr style=\"text-align: right;\">\n",
              "      <th></th>\n",
              "      <th>compid</th>\n",
              "      <th>dhid</th>\n",
              "      <th>midx</th>\n",
              "      <th>midy</th>\n",
              "      <th>midz</th>\n",
              "      <th>topx</th>\n",
              "      <th>topy</th>\n",
              "      <th>topz</th>\n",
              "      <th>botx</th>\n",
              "      <th>boty</th>\n",
              "      <th>...</th>\n",
              "      <th>Te_na</th>\n",
              "      <th>Th_na</th>\n",
              "      <th>Ti_na</th>\n",
              "      <th>Tl_na</th>\n",
              "      <th>U_na</th>\n",
              "      <th>V_na</th>\n",
              "      <th>W_na</th>\n",
              "      <th>Y_na</th>\n",
              "      <th>Zn_na</th>\n",
              "      <th>Zr_na</th>\n",
              "    </tr>\n",
              "  </thead>\n",
              "  <tbody>\n",
              "    <tr>\n",
              "      <th>0</th>\n",
              "      <td>CAN</td>\n",
              "      <td>OF07482</td>\n",
              "      <td>449967.09</td>\n",
              "      <td>7301211.35</td>\n",
              "      <td>1819.01</td>\n",
              "      <td>449967.61</td>\n",
              "      <td>7301211.40</td>\n",
              "      <td>1819.01</td>\n",
              "      <td>449966.56</td>\n",
              "      <td>7301211.31</td>\n",
              "      <td>...</td>\n",
              "      <td>True</td>\n",
              "      <td>True</td>\n",
              "      <td>True</td>\n",
              "      <td>True</td>\n",
              "      <td>True</td>\n",
              "      <td>True</td>\n",
              "      <td>True</td>\n",
              "      <td>True</td>\n",
              "      <td>True</td>\n",
              "      <td>True</td>\n",
              "    </tr>\n",
              "    <tr>\n",
              "      <th>1</th>\n",
              "      <td>CAN</td>\n",
              "      <td>OF07491</td>\n",
              "      <td>449950.70</td>\n",
              "      <td>7301374.94</td>\n",
              "      <td>1836.81</td>\n",
              "      <td>449949.32</td>\n",
              "      <td>7301375.18</td>\n",
              "      <td>1836.81</td>\n",
              "      <td>449952.08</td>\n",
              "      <td>7301374.70</td>\n",
              "      <td>...</td>\n",
              "      <td>True</td>\n",
              "      <td>True</td>\n",
              "      <td>True</td>\n",
              "      <td>True</td>\n",
              "      <td>True</td>\n",
              "      <td>True</td>\n",
              "      <td>True</td>\n",
              "      <td>True</td>\n",
              "      <td>True</td>\n",
              "      <td>True</td>\n",
              "    </tr>\n",
              "    <tr>\n",
              "      <th>2</th>\n",
              "      <td>CAN</td>\n",
              "      <td>OF07505</td>\n",
              "      <td>449950.06</td>\n",
              "      <td>7301418.56</td>\n",
              "      <td>1836.86</td>\n",
              "      <td>449949.61</td>\n",
              "      <td>7301418.52</td>\n",
              "      <td>1836.86</td>\n",
              "      <td>449950.50</td>\n",
              "      <td>7301418.60</td>\n",
              "      <td>...</td>\n",
              "      <td>True</td>\n",
              "      <td>True</td>\n",
              "      <td>True</td>\n",
              "      <td>True</td>\n",
              "      <td>True</td>\n",
              "      <td>True</td>\n",
              "      <td>True</td>\n",
              "      <td>True</td>\n",
              "      <td>True</td>\n",
              "      <td>True</td>\n",
              "    </tr>\n",
              "    <tr>\n",
              "      <th>3</th>\n",
              "      <td>CAN</td>\n",
              "      <td>OF08219</td>\n",
              "      <td>449896.24</td>\n",
              "      <td>7301571.17</td>\n",
              "      <td>1677.28</td>\n",
              "      <td>449895.20</td>\n",
              "      <td>7301571.08</td>\n",
              "      <td>1677.28</td>\n",
              "      <td>449897.29</td>\n",
              "      <td>7301571.26</td>\n",
              "      <td>...</td>\n",
              "      <td>True</td>\n",
              "      <td>True</td>\n",
              "      <td>True</td>\n",
              "      <td>True</td>\n",
              "      <td>True</td>\n",
              "      <td>True</td>\n",
              "      <td>True</td>\n",
              "      <td>True</td>\n",
              "      <td>True</td>\n",
              "      <td>True</td>\n",
              "    </tr>\n",
              "    <tr>\n",
              "      <th>4</th>\n",
              "      <td>CAN</td>\n",
              "      <td>OF08222</td>\n",
              "      <td>449906.02</td>\n",
              "      <td>7301433.32</td>\n",
              "      <td>1601.00</td>\n",
              "      <td>449905.37</td>\n",
              "      <td>7301433.32</td>\n",
              "      <td>1601.00</td>\n",
              "      <td>449906.67</td>\n",
              "      <td>7301433.32</td>\n",
              "      <td>...</td>\n",
              "      <td>True</td>\n",
              "      <td>True</td>\n",
              "      <td>False</td>\n",
              "      <td>True</td>\n",
              "      <td>True</td>\n",
              "      <td>True</td>\n",
              "      <td>False</td>\n",
              "      <td>True</td>\n",
              "      <td>False</td>\n",
              "      <td>True</td>\n",
              "    </tr>\n",
              "    <tr>\n",
              "      <th>5</th>\n",
              "      <td>CAN</td>\n",
              "      <td>OF08223</td>\n",
              "      <td>449940.31</td>\n",
              "      <td>7301543.05</td>\n",
              "      <td>1773.45</td>\n",
              "      <td>449940.01</td>\n",
              "      <td>7301543.08</td>\n",
              "      <td>1773.45</td>\n",
              "      <td>449940.61</td>\n",
              "      <td>7301543.03</td>\n",
              "      <td>...</td>\n",
              "      <td>True</td>\n",
              "      <td>True</td>\n",
              "      <td>True</td>\n",
              "      <td>True</td>\n",
              "      <td>True</td>\n",
              "      <td>True</td>\n",
              "      <td>True</td>\n",
              "      <td>True</td>\n",
              "      <td>True</td>\n",
              "      <td>True</td>\n",
              "    </tr>\n",
              "    <tr>\n",
              "      <th>6</th>\n",
              "      <td>CAN</td>\n",
              "      <td>OF08264</td>\n",
              "      <td>449922.79</td>\n",
              "      <td>7301652.09</td>\n",
              "      <td>1854.98</td>\n",
              "      <td>449921.08</td>\n",
              "      <td>7301651.73</td>\n",
              "      <td>1854.98</td>\n",
              "      <td>449924.50</td>\n",
              "      <td>7301652.46</td>\n",
              "      <td>...</td>\n",
              "      <td>True</td>\n",
              "      <td>True</td>\n",
              "      <td>False</td>\n",
              "      <td>True</td>\n",
              "      <td>True</td>\n",
              "      <td>True</td>\n",
              "      <td>False</td>\n",
              "      <td>True</td>\n",
              "      <td>False</td>\n",
              "      <td>True</td>\n",
              "    </tr>\n",
              "    <tr>\n",
              "      <th>7</th>\n",
              "      <td>CAN</td>\n",
              "      <td>OF08306</td>\n",
              "      <td>449933.71</td>\n",
              "      <td>7301556.51</td>\n",
              "      <td>1773.12</td>\n",
              "      <td>449933.33</td>\n",
              "      <td>7301556.19</td>\n",
              "      <td>1773.12</td>\n",
              "      <td>449934.10</td>\n",
              "      <td>7301556.83</td>\n",
              "      <td>...</td>\n",
              "      <td>True</td>\n",
              "      <td>True</td>\n",
              "      <td>False</td>\n",
              "      <td>True</td>\n",
              "      <td>True</td>\n",
              "      <td>True</td>\n",
              "      <td>False</td>\n",
              "      <td>True</td>\n",
              "      <td>False</td>\n",
              "      <td>True</td>\n",
              "    </tr>\n",
              "    <tr>\n",
              "      <th>8</th>\n",
              "      <td>CAN</td>\n",
              "      <td>OF08389</td>\n",
              "      <td>449872.89</td>\n",
              "      <td>7301556.36</td>\n",
              "      <td>1600.87</td>\n",
              "      <td>449871.73</td>\n",
              "      <td>7301556.05</td>\n",
              "      <td>1600.87</td>\n",
              "      <td>449874.05</td>\n",
              "      <td>7301556.67</td>\n",
              "      <td>...</td>\n",
              "      <td>True</td>\n",
              "      <td>True</td>\n",
              "      <td>False</td>\n",
              "      <td>True</td>\n",
              "      <td>True</td>\n",
              "      <td>True</td>\n",
              "      <td>False</td>\n",
              "      <td>True</td>\n",
              "      <td>False</td>\n",
              "      <td>True</td>\n",
              "    </tr>\n",
              "    <tr>\n",
              "      <th>9</th>\n",
              "      <td>CAN</td>\n",
              "      <td>OF09245</td>\n",
              "      <td>449873.89</td>\n",
              "      <td>7301509.13</td>\n",
              "      <td>1547.19</td>\n",
              "      <td>449873.25</td>\n",
              "      <td>7301508.99</td>\n",
              "      <td>1547.19</td>\n",
              "      <td>449874.52</td>\n",
              "      <td>7301509.26</td>\n",
              "      <td>...</td>\n",
              "      <td>True</td>\n",
              "      <td>True</td>\n",
              "      <td>True</td>\n",
              "      <td>True</td>\n",
              "      <td>True</td>\n",
              "      <td>True</td>\n",
              "      <td>True</td>\n",
              "      <td>True</td>\n",
              "      <td>True</td>\n",
              "      <td>True</td>\n",
              "    </tr>\n",
              "  </tbody>\n",
              "</table>\n",
              "<p>10 rows × 119 columns</p>\n",
              "</div>"
            ],
            "text/plain": [
              "  compid     dhid       midx        midy     midz       topx        topy  \\\n",
              "0    CAN  OF07482  449967.09  7301211.35  1819.01  449967.61  7301211.40   \n",
              "1    CAN  OF07491  449950.70  7301374.94  1836.81  449949.32  7301375.18   \n",
              "2    CAN  OF07505  449950.06  7301418.56  1836.86  449949.61  7301418.52   \n",
              "3    CAN  OF08219  449896.24  7301571.17  1677.28  449895.20  7301571.08   \n",
              "4    CAN  OF08222  449906.02  7301433.32  1601.00  449905.37  7301433.32   \n",
              "5    CAN  OF08223  449940.31  7301543.05  1773.45  449940.01  7301543.08   \n",
              "6    CAN  OF08264  449922.79  7301652.09  1854.98  449921.08  7301651.73   \n",
              "7    CAN  OF08306  449933.71  7301556.51  1773.12  449933.33  7301556.19   \n",
              "8    CAN  OF08389  449872.89  7301556.36  1600.87  449871.73  7301556.05   \n",
              "9    CAN  OF09245  449873.89  7301509.13  1547.19  449873.25  7301508.99   \n",
              "\n",
              "      topz       botx        boty  ...    Te_na  Th_na  Ti_na  Tl_na  U_na  \\\n",
              "0  1819.01  449966.56  7301211.31  ...     True   True   True   True  True   \n",
              "1  1836.81  449952.08  7301374.70  ...     True   True   True   True  True   \n",
              "2  1836.86  449950.50  7301418.60  ...     True   True   True   True  True   \n",
              "3  1677.28  449897.29  7301571.26  ...     True   True   True   True  True   \n",
              "4  1601.00  449906.67  7301433.32  ...     True   True  False   True  True   \n",
              "5  1773.45  449940.61  7301543.03  ...     True   True   True   True  True   \n",
              "6  1854.98  449924.50  7301652.46  ...     True   True  False   True  True   \n",
              "7  1773.12  449934.10  7301556.83  ...     True   True  False   True  True   \n",
              "8  1600.87  449874.05  7301556.67  ...     True   True  False   True  True   \n",
              "9  1547.19  449874.52  7301509.26  ...     True   True   True   True  True   \n",
              "\n",
              "   V_na   W_na  Y_na  Zn_na  Zr_na  \n",
              "0  True   True  True   True   True  \n",
              "1  True   True  True   True   True  \n",
              "2  True   True  True   True   True  \n",
              "3  True   True  True   True   True  \n",
              "4  True  False  True  False   True  \n",
              "5  True   True  True   True   True  \n",
              "6  True  False  True  False   True  \n",
              "7  True  False  True  False   True  \n",
              "8  True  False  True  False   True  \n",
              "9  True   True  True   True   True  \n",
              "\n",
              "[10 rows x 119 columns]"
            ]
          },
          "metadata": {
            "tags": []
          },
          "execution_count": 13
        }
      ]
    },
    {
      "metadata": {
        "id": "p9esCdwOqJqu",
        "colab_type": "code",
        "colab": {}
      },
      "cell_type": "code",
      "source": [
        "cat_names = ['geocod', 'bound',\n",
        "            'Al_na', 'As_na', 'Au_na', 'B_na', 'Ba_na', 'Be_na', 'Bi_na', 'Ca_na',\n",
        "             'Cd_na', 'Co_na', 'Cr_na', 'Cu_na', 'Fe_na', 'Hg_na', 'K_na', 'La_na', 'Li_na', 'Mg_na',\n",
        "             'Mn_na', 'Mo_na', 'Na_na',\n",
        "             'Nb_na', 'Ni_na', 'P_na', 'Pb_na', 'Pd_na', 'Re_na', 'S_na', 'Sb_na', 'Se_na',\n",
        "             'Si_na', 'Sc_na', 'Sn_na', 'Sr_na',\n",
        "             'Ta_na', 'Te_na', 'Th_na', 'Ti_na', 'Tl_na', 'U_na', 'V_na', 'W_na', 'Y_na', 'Zn_na', 'Zr_na']\n",
        "\n",
        "cont_names= ['midx', 'midy', 'midz', 'topx', 'topy', 'topz', 'botx', 'boty', 'botz',\n",
        "             'length', 'from', 'to','auppm', 'agppm', 'Al', 'As', 'Au', 'B', 'Ba', 'Be', 'Bi', 'Ca',\n",
        "             'Cd', 'Co', 'Cr', 'Cu', 'Fe', 'Hg', 'K', 'La', 'Li', 'Mg', 'Mn', 'Mo', 'Na',\n",
        "             'Nb', 'Ni', 'P', 'Pb', 'Pd', 'Re', 'S', 'Sb', 'Se', 'Si', 'Sc', 'Sn', 'Sr',\n",
        "             'Ta', 'Te', 'Th', 'Ti', 'Tl', 'U', 'V', 'W', 'Y', 'Zn', 'Zr']"
      ],
      "execution_count": 0,
      "outputs": []
    },
    {
      "metadata": {
        "id": "7b8fawUbqiJS",
        "colab_type": "text"
      },
      "cell_type": "markdown",
      "source": [
        "Finding correlated features"
      ]
    },
    {
      "metadata": {
        "id": "rXmUtp3yrKEu",
        "colab_type": "code",
        "colab": {}
      },
      "cell_type": "code",
      "source": [
        "df_orig_features = df[['geocod', 'bound', 'midx', 'midy', 'midz', 'topx', 'topy', 'topz', 'botx', 'boty', 'botz',\n",
        "             'length', 'from', 'to','auppm', 'agppm', 'Al', 'As', 'Au', 'B', 'Ba', 'Be', 'Bi', 'Ca',\n",
        "             'Cd', 'Co', 'Cr', 'Cu', 'Fe', 'Hg', 'K', 'La', 'Li', 'Mg', 'Mn', 'Mo', 'Na',\n",
        "             'Nb', 'Ni', 'P', 'Pb', 'Pd', 'Re', 'S', 'Sb', 'Se', 'Si', 'Sc', 'Sn', 'Sr',\n",
        "             'Ta', 'Te', 'Th', 'Ti', 'Tl', 'U', 'V', 'W', 'Y', 'Zn', 'Zr']]"
      ],
      "execution_count": 0,
      "outputs": []
    },
    {
      "metadata": {
        "id": "SaxRUn0aqbgj",
        "colab_type": "code",
        "colab": {}
      },
      "cell_type": "code",
      "source": [
        "corr_matrix = df_orig_features.corr().abs()\n",
        "upper = corr_matrix.where(np.triu(np.ones(corr_matrix.shape), k=1).astype(np.bool))\n",
        "\n"
      ],
      "execution_count": 0,
      "outputs": []
    },
    {
      "metadata": {
        "id": "ephlX4w5r3tH",
        "colab_type": "code",
        "colab": {}
      },
      "cell_type": "code",
      "source": [
        "print(upper)"
      ],
      "execution_count": 0,
      "outputs": []
    },
    {
      "metadata": {
        "id": "Da-eoKr_qj1p",
        "colab_type": "code",
        "outputId": "c2792b18-27c4-4e15-b949-7a1993986cf9",
        "colab": {
          "base_uri": "https://localhost:8080/",
          "height": 34
        }
      },
      "cell_type": "code",
      "source": [
        "# Find index of feature columns with correlation greater than 0.95\n",
        "to_drop = [column for column in upper.columns if any(upper[column] > 0.95)]\n",
        "\n",
        "print(to_drop)\n"
      ],
      "execution_count": 0,
      "outputs": [
        {
          "output_type": "stream",
          "text": [
            "['bound', 'topx', 'topy', 'topz', 'botx', 'boty', 'botz', 'Au', 'K', 'Pd', 'Re', 'Sn']\n"
          ],
          "name": "stdout"
        }
      ]
    },
    {
      "metadata": {
        "id": "Egh3bvn6rtbl",
        "colab_type": "text"
      },
      "cell_type": "markdown",
      "source": [
        "['bound', 'topx', 'topy', 'topz', 'botx', 'boty', 'botz', 'Au', 'K', 'Pd', 'Re', 'Sn'] are all highly correlated with other features in the dataset\n",
        "\n",
        "\n",
        "### Questions\n",
        "- should we drop highly correlated chemical information?(Au, K, etc.)\n",
        "- what sets of features does auppm and agppm fit in?\n",
        "- can we include [vsed, tfil, dens] as features (i.e. can they be easily obtained and used to predict our target variables?)"
      ]
    },
    {
      "metadata": {
        "id": "sgvtRdT_roAJ",
        "colab_type": "code",
        "colab": {}
      },
      "cell_type": "code",
      "source": [
        "df_all = df[['geocod','midx', 'midy', 'midz', 'length', 'from', 'to','auppm', 'agppm',\n",
        "             'Al', 'As', 'Au', 'B', 'Ba', 'Be', 'Bi', 'Ca',\n",
        "             'Cd', 'Co', 'Cr', 'Cu', 'Fe', 'Hg', 'K', 'La', 'Li', 'Mg',\n",
        "             'Mn', 'Mo', 'Na',\n",
        "             'Nb', 'Ni', 'P', 'Pb', 'Pd', 'Re', 'S', 'Sb', 'Se',\n",
        "             'Si', 'Sc', 'Sn', 'Sr',\n",
        "             'Ta', 'Te', 'Th', 'Ti', 'Tl', 'U', 'V', 'W', 'Y', 'Zn', 'Zr', \n",
        "             'Al_na', 'As_na', 'Au_na', 'B_na', 'Ba_na', 'Be_na', 'Bi_na', 'Ca_na',\n",
        "             'Cd_na', 'Co_na', 'Cr_na', 'Cu_na', 'Fe_na', 'Hg_na', 'K_na', 'La_na', 'Li_na', 'Mg_na',\n",
        "             'Mn_na', 'Mo_na', 'Na_na',\n",
        "             'Nb_na', 'Ni_na', 'P_na', 'Pb_na', 'Pd_na', 'Re_na', 'S_na', 'Sb_na', 'Se_na',\n",
        "             'Si_na', 'Sc_na', 'Sn_na', 'Sr_na',\n",
        "             'Ta_na', 'Te_na', 'Th_na', 'Ti_na', 'Tl_na', 'U_na', 'V_na', 'W_na', 'Y_na', 'Zn_na', 'Zr_na']]\n",
        "\n",
        "y_au = df['aurec']\n",
        "y_ag = df['agrec']\n",
        "y_nac = df['nacnc']\n",
        "y_codt = df['codt']"
      ],
      "execution_count": 0,
      "outputs": []
    },
    {
      "metadata": {
        "id": "WNPsv6K5U3zk",
        "colab_type": "code",
        "colab": {}
      },
      "cell_type": "code",
      "source": [
        "# defining function to evaluate exp_rmse\n",
        "def inv_y(a): return np.exp(a)\n",
        "\n",
        "def exp_rmspe(y_pred, targ):\n",
        "    targ = inv_y(targ)\n",
        "    pct_var = (targ - inv_y(y_pred))/targ\n",
        "    return math.sqrt((pct_var**2).mean())\n",
        "\n",
        "def rmspe(y_pred, targ):\n",
        "    pct_var = (targ - y_pred)/targ\n",
        "    return math.sqrt((pct_var**2).mean())"
      ],
      "execution_count": 0,
      "outputs": []
    },
    {
      "metadata": {
        "id": "pcbB280FIrAI",
        "colab_type": "code",
        "colab": {}
      },
      "cell_type": "code",
      "source": [
        "from sklearn.ensemble import RandomForestRegressor, RandomForestClassifier\n",
        "from sklearn.model_selection import train_test_split\n",
        "from sklearn.metrics import mean_squared_error\n",
        "from sklearn.feature_selection import f_regression\n",
        "from sklearn.linear_model import LogisticRegression, LinearRegression\n"
      ],
      "execution_count": 0,
      "outputs": []
    },
    {
      "metadata": {
        "id": "tg519k2gO7KW",
        "colab_type": "code",
        "colab": {}
      },
      "cell_type": "code",
      "source": [
        "n_features = df_all.shape[1]\n",
        "from sklearn.model_selection import cross_val_score\n",
        "from skopt.space import Real, Integer, Categorical \n",
        "from skopt.utils import use_named_args\n",
        "from skopt import gp_minimize, forest_minimize, gbrt_minimize\n"
      ],
      "execution_count": 0,
      "outputs": []
    },
    {
      "metadata": {
        "id": "RcK_UvaoQHfG",
        "colab_type": "code",
        "outputId": "7b76c67f-68a8-4304-d477-37ac589c7f41",
        "colab": {
          "base_uri": "https://localhost:8080/",
          "height": 612
        }
      },
      "cell_type": "code",
      "source": [
        "# list of valid scoring methods for objective function\n",
        "from sklearn.metrics import SCORERS\n",
        "\n",
        "sorted(SCORERS.keys()) "
      ],
      "execution_count": 19,
      "outputs": [
        {
          "output_type": "execute_result",
          "data": {
            "text/plain": [
              "['accuracy',\n",
              " 'adjusted_mutual_info_score',\n",
              " 'adjusted_rand_score',\n",
              " 'average_precision',\n",
              " 'balanced_accuracy',\n",
              " 'brier_score_loss',\n",
              " 'completeness_score',\n",
              " 'explained_variance',\n",
              " 'f1',\n",
              " 'f1_macro',\n",
              " 'f1_micro',\n",
              " 'f1_samples',\n",
              " 'f1_weighted',\n",
              " 'fowlkes_mallows_score',\n",
              " 'homogeneity_score',\n",
              " 'mutual_info_score',\n",
              " 'neg_log_loss',\n",
              " 'neg_mean_absolute_error',\n",
              " 'neg_mean_squared_error',\n",
              " 'neg_mean_squared_log_error',\n",
              " 'neg_median_absolute_error',\n",
              " 'normalized_mutual_info_score',\n",
              " 'precision',\n",
              " 'precision_macro',\n",
              " 'precision_micro',\n",
              " 'precision_samples',\n",
              " 'precision_weighted',\n",
              " 'r2',\n",
              " 'recall',\n",
              " 'recall_macro',\n",
              " 'recall_micro',\n",
              " 'recall_samples',\n",
              " 'recall_weighted',\n",
              " 'roc_auc',\n",
              " 'v_measure_score']"
            ]
          },
          "metadata": {
            "tags": []
          },
          "execution_count": 19
        }
      ]
    },
    {
      "metadata": {
        "id": "W9fBpkgLtbof",
        "colab_type": "text"
      },
      "cell_type": "markdown",
      "source": [
        "## Predicting codt class"
      ]
    },
    {
      "metadata": {
        "colab_type": "text",
        "id": "ml-l9RK0uNH7"
      },
      "cell_type": "markdown",
      "source": [
        "### Random Forest"
      ]
    },
    {
      "metadata": {
        "id": "AsXhAO-PPCsw",
        "colab_type": "text"
      },
      "cell_type": "markdown",
      "source": [
        "using bayesian optimization to tune random forest"
      ]
    },
    {
      "metadata": {
        "id": "AO6q4J9kPquL",
        "colab_type": "code",
        "colab": {}
      },
      "cell_type": "code",
      "source": [
        "# Defining initial rf model\n",
        "m = RandomForestClassifier(n_estimators=100, max_features=0.99, min_samples_leaf=2,\n",
        "                          n_jobs=-1, oob_score=True)"
      ],
      "execution_count": 0,
      "outputs": []
    },
    {
      "metadata": {
        "id": "C-Uok-NBPMG1",
        "colab_type": "code",
        "colab": {}
      },
      "cell_type": "code",
      "source": [
        "# defining search space for RF\n",
        "space = [Integer(100,2000, name='n_estimators'),\n",
        "         Real(0.1, 1.0, name='max_features'),\n",
        "         Integer(1, 5, name='max_depth'),\n",
        "         Integer(2, 100, name='min_samples_split'),\n",
        "         Integer(1, 100, name='min_samples_leaf'),\n",
        "         Categorical(['gini', 'entropy'], name = 'criterion')]"
      ],
      "execution_count": 0,
      "outputs": []
    },
    {
      "metadata": {
        "id": "gNBhq2gRPRFD",
        "colab_type": "code",
        "colab": {}
      },
      "cell_type": "code",
      "source": [
        "# estimator parameters\n",
        "@use_named_args(space)\n",
        "def objective(**params):\n",
        "    m.set_params(**params)\n",
        "\n",
        "    return np.mean(cross_val_score(m, df_all, y_codt, cv=5, n_jobs=-1,\n",
        "                                    scoring=\"accuracy\"))"
      ],
      "execution_count": 0,
      "outputs": []
    },
    {
      "metadata": {
        "colab_type": "code",
        "id": "W9f1NT6jPZUs",
        "colab": {}
      },
      "cell_type": "code",
      "source": [
        "#instead of gp_minimize can also use forest_minimize or gbrt_minimize\n",
        "\n",
        "%time res_gp = gp_minimize(objective, space, n_calls=50, random_state=0)\n",
        "\n",
        "\n",
        "\"Best score=%.4f\" % res_gp.fun"
      ],
      "execution_count": 0,
      "outputs": []
    },
    {
      "metadata": {
        "colab_type": "code",
        "outputId": "a55509a2-3249-4051-f624-d6518c6f805b",
        "id": "pEnBalEYPZUw",
        "colab": {
          "base_uri": "https://localhost:8080/",
          "height": 134
        }
      },
      "cell_type": "code",
      "source": [
        "print(\"\"\"Best parameters:\n",
        "- n_estimators=%d\n",
        "- max_features=%d\n",
        "- max_depth=%d\n",
        "- min_samples_split=%d\n",
        "- min_samples_leaf=%d\n",
        "- criterion = %s\"\"\" % (res_gp.x[0], res_gp.x[1], \n",
        "                            res_gp.x[2], res_gp.x[3], \n",
        "                            res_gp.x[4], res_gp.x[5]))"
      ],
      "execution_count": 0,
      "outputs": [
        {
          "output_type": "stream",
          "text": [
            "Best parameters:\n",
            "- n_estimators=100\n",
            "- max_features=0\n",
            "- max_depth=1\n",
            "- min_samples_split=2\n",
            "- min_samples_leaf=100\n",
            "- criterion = gini\n"
          ],
          "name": "stdout"
        }
      ]
    },
    {
      "metadata": {
        "id": "4PhSrYG9he8j",
        "colab_type": "text"
      },
      "cell_type": "markdown",
      "source": [
        "tuning models doesn't seem to help "
      ]
    },
    {
      "metadata": {
        "id": "jeBAfVilhe7K",
        "colab_type": "text"
      },
      "cell_type": "markdown",
      "source": [
        ""
      ]
    },
    {
      "metadata": {
        "id": "7Y8jp2WaPgDt",
        "colab_type": "text"
      },
      "cell_type": "markdown",
      "source": [
        "Fitting model with the tuned hyperparameters"
      ]
    },
    {
      "metadata": {
        "colab_type": "code",
        "id": "Lzyxi3ZguNH8",
        "colab": {}
      },
      "cell_type": "code",
      "source": [
        "x_train, x_test, y_train, y_test = train_test_split(df_all, y_codt, test_size = 0.2)"
      ],
      "execution_count": 0,
      "outputs": []
    },
    {
      "metadata": {
        "colab_type": "code",
        "outputId": "44edf327-f3a0-49ac-8bc2-132c410d679b",
        "id": "AKuEQVgDuNH-",
        "colab": {
          "base_uri": "https://localhost:8080/",
          "height": 119
        }
      },
      "cell_type": "code",
      "source": [
        "m = RandomForestClassifier(n_estimators=100, max_features=0.99, min_samples_leaf=2,\n",
        "                          n_jobs=-1, oob_score=True)\n",
        "\n",
        "m.fit(x_train, y_train)"
      ],
      "execution_count": 82,
      "outputs": [
        {
          "output_type": "execute_result",
          "data": {
            "text/plain": [
              "RandomForestClassifier(bootstrap=True, class_weight=None, criterion='gini',\n",
              "            max_depth=None, max_features=0.99, max_leaf_nodes=None,\n",
              "            min_impurity_decrease=0.0, min_impurity_split=None,\n",
              "            min_samples_leaf=2, min_samples_split=2,\n",
              "            min_weight_fraction_leaf=0.0, n_estimators=100, n_jobs=-1,\n",
              "            oob_score=True, random_state=None, verbose=0, warm_start=False)"
            ]
          },
          "metadata": {
            "tags": []
          },
          "execution_count": 82
        }
      ]
    },
    {
      "metadata": {
        "colab_type": "code",
        "outputId": "c660e783-60d8-4119-ff99-cece963d42c2",
        "id": "NyRsdayxuNIA",
        "colab": {
          "base_uri": "https://localhost:8080/",
          "height": 34
        }
      },
      "cell_type": "code",
      "source": [
        "m.score(x_test, y_test)"
      ],
      "execution_count": 0,
      "outputs": [
        {
          "output_type": "execute_result",
          "data": {
            "text/plain": [
              "0.9705882352941176"
            ]
          },
          "metadata": {
            "tags": []
          },
          "execution_count": 50
        }
      ]
    },
    {
      "metadata": {
        "colab_type": "code",
        "outputId": "8e73a608-c67f-48dc-c050-07141fb782a5",
        "id": "UxLfZtUzuNIC",
        "colab": {
          "base_uri": "https://localhost:8080/",
          "height": 84
        }
      },
      "cell_type": "code",
      "source": [
        "from sklearn.metrics import confusion_matrix\n",
        "\n",
        "confusion_matrix(m.predict(x_test), y_test)"
      ],
      "execution_count": 0,
      "outputs": [
        {
          "output_type": "execute_result",
          "data": {
            "text/plain": [
              "array([[ 98,   0,   1,   0],\n",
              "       [  0,   1,   0,   1],\n",
              "       [  1,   0,  31,   0],\n",
              "       [  1,   4,   0, 134]])"
            ]
          },
          "metadata": {
            "tags": []
          },
          "execution_count": 51
        }
      ]
    },
    {
      "metadata": {
        "colab_type": "code",
        "outputId": "673487a7-7387-4381-89f5-aae558a4e1bf",
        "id": "UAkNC7myuNIE",
        "colab": {
          "base_uri": "https://localhost:8080/",
          "height": 202
        }
      },
      "cell_type": "code",
      "source": [
        "from sklearn.metrics import classification_report\n",
        "\n",
        "print(classification_report(m.predict(x_test), y_test))"
      ],
      "execution_count": 0,
      "outputs": [
        {
          "output_type": "stream",
          "text": [
            "              precision    recall  f1-score   support\n",
            "\n",
            "           1       0.98      0.99      0.98        99\n",
            "           2       0.20      0.50      0.29         2\n",
            "           3       0.97      0.97      0.97        32\n",
            "           4       0.99      0.96      0.98       139\n",
            "\n",
            "   micro avg       0.97      0.97      0.97       272\n",
            "   macro avg       0.79      0.86      0.80       272\n",
            "weighted avg       0.98      0.97      0.97       272\n",
            "\n"
          ],
          "name": "stdout"
        }
      ]
    },
    {
      "metadata": {
        "id": "mBDOLeW-1p2q",
        "colab_type": "code",
        "colab": {
          "base_uri": "https://localhost:8080/",
          "height": 1105
        },
        "outputId": "326e656f-e6dd-4dcc-894f-89b1565e1c10"
      },
      "cell_type": "code",
      "source": [
        "feature_importances = pd.DataFrame(m.feature_importances_,\n",
        "                                   index = x_train.columns,\n",
        "                                    columns=['importance']).sort_values('importance',ascending=False)\n",
        "print(feature_importances)"
      ],
      "execution_count": 83,
      "outputs": [
        {
          "output_type": "stream",
          "text": [
            "        importance\n",
            "midx      0.636016\n",
            "midz      0.258002\n",
            "midy      0.046552\n",
            "geocod    0.026981\n",
            "to        0.005482\n",
            "from      0.003340\n",
            "agppm     0.002808\n",
            "auppm     0.002789\n",
            "Au_na     0.002310\n",
            "Au        0.002258\n",
            "length    0.002168\n",
            "As        0.001667\n",
            "Zn        0.001211\n",
            "Mg        0.001124\n",
            "Cu        0.000872\n",
            "Sb        0.000606\n",
            "Ca        0.000522\n",
            "Ti        0.000516\n",
            "Si        0.000514\n",
            "Mn        0.000418\n",
            "Na        0.000393\n",
            "S         0.000324\n",
            "Te        0.000309\n",
            "V         0.000300\n",
            "K         0.000294\n",
            "Zr        0.000280\n",
            "Al        0.000267\n",
            "Be        0.000241\n",
            "Ba        0.000210\n",
            "Cd        0.000180\n",
            "...            ...\n",
            "Zn_na     0.000000\n",
            "Mn_na     0.000000\n",
            "Ca_na     0.000000\n",
            "Li_na     0.000000\n",
            "U         0.000000\n",
            "Hg        0.000000\n",
            "Nb        0.000000\n",
            "Re        0.000000\n",
            "Se        0.000000\n",
            "Sc        0.000000\n",
            "Sn        0.000000\n",
            "Sr        0.000000\n",
            "Ta        0.000000\n",
            "Bi        0.000000\n",
            "Th        0.000000\n",
            "Tl        0.000000\n",
            "Y         0.000000\n",
            "La_na     0.000000\n",
            "B         0.000000\n",
            "Al_na     0.000000\n",
            "B_na      0.000000\n",
            "Ba_na     0.000000\n",
            "Be_na     0.000000\n",
            "Bi_na     0.000000\n",
            "Cd_na     0.000000\n",
            "Co_na     0.000000\n",
            "Cu_na     0.000000\n",
            "Fe_na     0.000000\n",
            "Hg_na     0.000000\n",
            "Zr_na     0.000000\n",
            "\n",
            "[99 rows x 1 columns]\n"
          ],
          "name": "stdout"
        }
      ]
    },
    {
      "metadata": {
        "id": "jttVivCVxDuP",
        "colab_type": "text"
      },
      "cell_type": "markdown",
      "source": [
        "### Logistic Regression"
      ]
    },
    {
      "metadata": {
        "id": "dLT1o-Uyzyo_",
        "colab_type": "code",
        "colab": {}
      },
      "cell_type": "code",
      "source": [
        "x_train, x_test, y_train, y_test = train_test_split(df_all, y_codt, test_size = 0.2)"
      ],
      "execution_count": 0,
      "outputs": []
    },
    {
      "metadata": {
        "id": "T4HG-ftiz08e",
        "colab_type": "code",
        "colab": {}
      },
      "cell_type": "code",
      "source": [
        "m = LogisticRegression()\n",
        "\n",
        "m.fit(x_train, y_train)"
      ],
      "execution_count": 0,
      "outputs": []
    },
    {
      "metadata": {
        "id": "81StDbdxz_Lc",
        "colab_type": "code",
        "outputId": "ecb8f6da-a58b-47dc-bdb3-144fff7c2608",
        "colab": {
          "base_uri": "https://localhost:8080/",
          "height": 34
        }
      },
      "cell_type": "code",
      "source": [
        "m.score(x_test, y_test)"
      ],
      "execution_count": 0,
      "outputs": [
        {
          "output_type": "execute_result",
          "data": {
            "text/plain": [
              "0.8345588235294118"
            ]
          },
          "metadata": {
            "tags": []
          },
          "execution_count": 72
        }
      ]
    },
    {
      "metadata": {
        "id": "RzyQ0-I40CNt",
        "colab_type": "code",
        "outputId": "8bf4534b-6be1-4198-c9da-0f60316c5bfb",
        "colab": {
          "base_uri": "https://localhost:8080/",
          "height": 67
        }
      },
      "cell_type": "code",
      "source": [
        "confusion_matrix(m.predict(x_test), y_test)"
      ],
      "execution_count": 0,
      "outputs": [
        {
          "output_type": "execute_result",
          "data": {
            "text/plain": [
              "array([[105,  35,   4],\n",
              "       [  0,   1,   0],\n",
              "       [  5,   1, 121]])"
            ]
          },
          "metadata": {
            "tags": []
          },
          "execution_count": 73
        }
      ]
    },
    {
      "metadata": {
        "id": "7oc5keoD0FCy",
        "colab_type": "code",
        "outputId": "0971deef-49fe-49f9-f951-e9d89b5ac29f",
        "colab": {
          "base_uri": "https://localhost:8080/",
          "height": 185
        }
      },
      "cell_type": "code",
      "source": [
        "print(classification_report(m.predict(x_test), y_test))"
      ],
      "execution_count": 0,
      "outputs": [
        {
          "output_type": "stream",
          "text": [
            "              precision    recall  f1-score   support\n",
            "\n",
            "           1       0.95      0.73      0.83       144\n",
            "           3       0.03      1.00      0.05         1\n",
            "           4       0.97      0.95      0.96       127\n",
            "\n",
            "   micro avg       0.83      0.83      0.83       272\n",
            "   macro avg       0.65      0.89      0.61       272\n",
            "weighted avg       0.96      0.83      0.89       272\n",
            "\n"
          ],
          "name": "stdout"
        }
      ]
    },
    {
      "metadata": {
        "id": "zclUZVg4xWOF",
        "colab_type": "text"
      },
      "cell_type": "markdown",
      "source": [
        "### Feature importance\n",
        "\n",
        "- decision tree\n",
        "- regegression p-value test\n",
        "- random forest feature importance"
      ]
    },
    {
      "metadata": {
        "id": "ZGnxq5tn0JYA",
        "colab_type": "code",
        "outputId": "e5d280fb-8c7a-43d2-ab4d-8dc88efc3e0e",
        "colab": {
          "base_uri": "https://localhost:8080/",
          "height": 67
        }
      },
      "cell_type": "code",
      "source": [
        "f_regression(x_train, y_train)"
      ],
      "execution_count": 0,
      "outputs": [
        {
          "output_type": "execute_result",
          "data": {
            "text/plain": [
              "(array([182.839135, 364.594091, 283.908306, 344.416313, ...,   7.784187,   2.053955,   8.07698 ,   1.966259]),\n",
              " array([1.282580e-38, 2.622899e-70, 9.042310e-57, 5.387003e-67, ..., 5.362773e-03, 1.520992e-01, 4.566997e-03,\n",
              "        1.611313e-01]))"
            ]
          },
          "metadata": {
            "tags": []
          },
          "execution_count": 75
        }
      ]
    },
    {
      "metadata": {
        "colab_type": "text",
        "id": "xBwMhJ6phe5R"
      },
      "cell_type": "markdown",
      "source": [
        "## Predicting aurec"
      ]
    },
    {
      "metadata": {
        "colab_type": "text",
        "id": "KfoCZ7uThe4O"
      },
      "cell_type": "markdown",
      "source": [
        "### All info"
      ]
    },
    {
      "metadata": {
        "id": "o2mP8ekwhw5Q",
        "colab_type": "code",
        "colab": {}
      },
      "cell_type": "code",
      "source": [
        "# initial rf model\n",
        "m = RandomForestRegressor(n_estimators=100, max_features=0.99, min_samples_leaf=2,\n",
        "                          n_jobs=-1, oob_score=True)"
      ],
      "execution_count": 0,
      "outputs": []
    },
    {
      "metadata": {
        "colab_type": "code",
        "id": "ReRxk9ALhxU-",
        "colab": {}
      },
      "cell_type": "code",
      "source": [
        "# defining search space\n",
        "space = [Integer(10,2000, name='n_estimators'),\n",
        "         Integer(1, n_features, name='max_features'),\n",
        "         Integer(1, 5, name='max_depth'),\n",
        "         Integer(2, 100, name='min_samples_split'),\n",
        "         Integer(1, 100, name='min_samples_leaf')]\n"
      ],
      "execution_count": 0,
      "outputs": []
    },
    {
      "metadata": {
        "colab_type": "code",
        "id": "i3tMut6ahxVA",
        "colab": {}
      },
      "cell_type": "code",
      "source": [
        "# estimator parameters\n",
        "@use_named_args(space)\n",
        "def objective(**params):\n",
        "    m.set_params(**params)\n",
        "\n",
        "    return -np.mean(cross_val_score(m, df_all, y_au, cv=5, n_jobs=-1,\n",
        "                                    scoring=\"neg_mean_squared_error\"))"
      ],
      "execution_count": 0,
      "outputs": []
    },
    {
      "metadata": {
        "id": "7HXXcOIMetyy",
        "colab_type": "code",
        "colab": {}
      },
      "cell_type": "code",
      "source": [
        "# trying a different objective function\n",
        "@use_named_args(space)\n",
        "def objective(**params):\n",
        "    m.set_params(**params)\n",
        "    i = 0\n",
        "    l_rmse=[]\n",
        "    while i<10:\n",
        "        x_train, x_test, y_train, y_test = train_test_split(df_all, y_nac, test_size = 0.2)\n",
        "        m.fit(x_train, y_train)\n",
        "        preds = m.predict(x_test)\n",
        "        l_rmse.append(math.sqrt(mean_squared_error(preds, y_test)))\n",
        "        i+=1\n",
        "\n",
        "    return np.mean(l_rmse)"
      ],
      "execution_count": 0,
      "outputs": []
    },
    {
      "metadata": {
        "colab_type": "code",
        "id": "-OhfksKrhxVB",
        "colab": {}
      },
      "cell_type": "code",
      "source": [
        "from skopt import gp_minimize, forest_minimize, gbrt_minimize\n",
        "#res_gp = gp_minimize(objective, space, n_calls=50, random_state=0)\n",
        "#instead of gp_minimize can also use forest_minimize or gbrt_minimize\n",
        "\n",
        "%time res_gp = gp_minimize(objective, space, n_calls=50, random_state=0)\n",
        "\n",
        "\n",
        "\"Best score=%.4f\" % res_gp.fun"
      ],
      "execution_count": 0,
      "outputs": []
    },
    {
      "metadata": {
        "colab_type": "code",
        "outputId": "f2aa01f4-7d3f-4dd2-f336-685ff9806ebd",
        "id": "VvCx56GMhxVC",
        "colab": {
          "base_uri": "https://localhost:8080/",
          "height": 119
        }
      },
      "cell_type": "code",
      "source": [
        "# print(\"\"\"Best parameters:\n",
        "# - n_estimators=%d\n",
        "# - max_features=%d\n",
        "# - max_depth=%d\n",
        "# - min_samples_split=%d\n",
        "# - min_samples_leaf=%d\n",
        "# - criterion = %s\"\"\" % (res_gp.x[0], res_gp.x[1], \n",
        "#                             res_gp.x[2], res_gp.x[3], \n",
        "#                             res_gp.x[4], res_gp.x[5]))\n",
        "\n",
        "print(\"\"\"Best parameters:\n",
        "- n_estimators=%d\n",
        "- max_features=%d\n",
        "- max_depth=%d\n",
        "- min_samples_split=%d\n",
        "- min_samples_leaf=%d\"\"\" % (res_gp.x[0], res_gp.x[1], \n",
        "                            res_gp.x[2], res_gp.x[3], \n",
        "                            res_gp.x[4]))"
      ],
      "execution_count": 70,
      "outputs": [
        {
          "output_type": "stream",
          "text": [
            "Best parameters:\n",
            "- n_estimators=1404\n",
            "- max_features=98\n",
            "- max_depth=5\n",
            "- min_samples_split=3\n",
            "- min_samples_leaf=3\n"
          ],
          "name": "stdout"
        }
      ]
    },
    {
      "metadata": {
        "colab_type": "code",
        "outputId": "8acaf11b-6ffb-4116-ef59-81f0d0568a27",
        "id": "Im-6ZrDujijW",
        "colab": {
          "base_uri": "https://localhost:8080/",
          "height": 34
        }
      },
      "cell_type": "code",
      "source": [
        "i = 0\n",
        "l_rmspe = []\n",
        "l_mse = []\n",
        "l_rmse=[]\n",
        "\n",
        "while i <10:\n",
        "    x_train, x_test, y_train, y_test = train_test_split(df_all, y_au, test_size = 0.2)\n",
        "    m = RandomForestRegressor(n_estimators=1404, max_features=98, min_samples_leaf=3, max_depth = 5,\n",
        "                          min_samples_split = 3, n_jobs=-1, oob_score=True)\n",
        "    m.fit(x_train, y_train)\n",
        "    preds = m.predict(x_test)\n",
        "    l_rmspe.append(rmspe(preds, y_test))\n",
        "    l_mse.append(mean_squared_error(preds, y_test))\n",
        "    l_rmse.append(math.sqrt(mean_squared_error(preds, y_test)))\n",
        "    i+=1\n",
        "\n",
        "print(np.mean(l_rmspe), np.mean(l_mse), np.mean(l_rmse))"
      ],
      "execution_count": 71,
      "outputs": [
        {
          "output_type": "stream",
          "text": [
            "1.83986074502853 0.014214545056362682 0.11863280820694873\n"
          ],
          "name": "stdout"
        }
      ]
    },
    {
      "metadata": {
        "id": "iXTobFHGuYPN",
        "colab_type": "code",
        "colab": {
          "base_uri": "https://localhost:8080/",
          "height": 1105
        },
        "outputId": "e80bc047-3cb4-4f84-d8f9-5be393fbc55f"
      },
      "cell_type": "code",
      "source": [
        "feature_importances = pd.DataFrame(m.feature_importances_,\n",
        "                                   index = x_train.columns,\n",
        "                                    columns=['importance']).sort_values('importance',ascending=False)\n",
        "print(feature_importances)"
      ],
      "execution_count": 76,
      "outputs": [
        {
          "output_type": "stream",
          "text": [
            "          importance\n",
            "Au      3.131873e-01\n",
            "auppm   2.304087e-01\n",
            "agppm   1.501268e-01\n",
            "midx    1.007796e-01\n",
            "midy    4.323349e-02\n",
            "midz    3.296875e-02\n",
            "length  2.584065e-02\n",
            "from    1.536959e-02\n",
            "Fe      1.334880e-02\n",
            "to      1.295521e-02\n",
            "As      1.011605e-02\n",
            "geocod  9.184072e-03\n",
            "Cu      6.933313e-03\n",
            "Te      4.964919e-03\n",
            "Al      4.586643e-03\n",
            "S       4.383775e-03\n",
            "Ca      2.251669e-03\n",
            "P       1.945394e-03\n",
            "K       1.828499e-03\n",
            "Mo      1.643639e-03\n",
            "Ni      1.451604e-03\n",
            "W       1.262401e-03\n",
            "Cd      1.258218e-03\n",
            "Na      1.057231e-03\n",
            "Mg      9.809115e-04\n",
            "Sb      8.202728e-04\n",
            "Mn      7.103363e-04\n",
            "Pb      6.835181e-04\n",
            "Cr      6.212240e-04\n",
            "Ta      5.587747e-04\n",
            "...              ...\n",
            "Si_na   1.667031e-05\n",
            "Nb_na   1.659171e-05\n",
            "Li      1.509992e-05\n",
            "Cu_na   1.385502e-05\n",
            "Mo_na   1.312147e-05\n",
            "P_na    1.182222e-05\n",
            "Ti_na   1.093124e-05\n",
            "Zn_na   9.378307e-06\n",
            "Bi_na   9.192515e-06\n",
            "K_na    7.854523e-06\n",
            "S_na    7.550282e-06\n",
            "Tl      7.491754e-06\n",
            "Mg_na   7.341172e-06\n",
            "Ca_na   6.081311e-06\n",
            "U       5.301532e-06\n",
            "Pd_na   3.491841e-06\n",
            "Sb_na   2.182099e-06\n",
            "Cd_na   2.109556e-06\n",
            "Co      1.547061e-06\n",
            "As_na   1.003987e-06\n",
            "Fe_na   8.434703e-07\n",
            "Nb      0.000000e+00\n",
            "Y       0.000000e+00\n",
            "Co_na   0.000000e+00\n",
            "Re_na   0.000000e+00\n",
            "Ta_na   0.000000e+00\n",
            "Mn_na   0.000000e+00\n",
            "Ni_na   0.000000e+00\n",
            "Pb_na   0.000000e+00\n",
            "Re      0.000000e+00\n",
            "\n",
            "[99 rows x 1 columns]\n"
          ],
          "name": "stdout"
        }
      ]
    },
    {
      "metadata": {
        "id": "v2KaE2u-xBsl",
        "colab_type": "code",
        "colab": {}
      },
      "cell_type": "code",
      "source": [
        ""
      ],
      "execution_count": 0,
      "outputs": []
    },
    {
      "metadata": {
        "id": "r0-aDO0W4BY-",
        "colab_type": "text"
      },
      "cell_type": "markdown",
      "source": [
        "### Using linear regression"
      ]
    },
    {
      "metadata": {
        "id": "7w6bxk4o4FLU",
        "colab_type": "code",
        "colab": {
          "base_uri": "https://localhost:8080/",
          "height": 34
        },
        "outputId": "90e68ab1-73a9-4e3c-dc53-bf6682018ad9"
      },
      "cell_type": "code",
      "source": [
        "i = 0\n",
        "l_rmspe = []\n",
        "l_mse = []\n",
        "l_rmse=[]\n",
        "\n",
        "while i <10:\n",
        "    x_train, x_test, y_train, y_test = train_test_split(df_all, y_au, test_size = 0.2)\n",
        "    m = LinearRegression(n_jobs=-1)\n",
        "    m.fit(x_train, y_train)\n",
        "    preds = m.predict(x_test)\n",
        "    l_rmspe.append(rmspe(preds, y_test))\n",
        "    l_mse.append(mean_squared_error(preds, y_test))\n",
        "    l_rmse.append(math.sqrt(mean_squared_error(preds, y_test)))\n",
        "    i+=1\n",
        "\n",
        "print(np.mean(l_rmspe), np.mean(l_mse), np.mean(l_rmse))"
      ],
      "execution_count": 23,
      "outputs": [
        {
          "output_type": "stream",
          "text": [
            "688.2234152896447 1628944.5061169674 598.357988980053\n"
          ],
          "name": "stdout"
        }
      ]
    },
    {
      "metadata": {
        "id": "FiEJ1r8y8gki",
        "colab_type": "text"
      },
      "cell_type": "markdown",
      "source": [
        "### Feature Importance"
      ]
    },
    {
      "metadata": {
        "colab_type": "text",
        "id": "wiRhetithh5y"
      },
      "cell_type": "markdown",
      "source": [
        "## Predicting agrec"
      ]
    },
    {
      "metadata": {
        "colab_type": "text",
        "id": "DWZBVQROhh6U"
      },
      "cell_type": "markdown",
      "source": [
        "### Random Forest"
      ]
    },
    {
      "metadata": {
        "colab_type": "code",
        "id": "flo4kvz24pON",
        "colab": {}
      },
      "cell_type": "code",
      "source": [
        "# initial rf model\n",
        "m = RandomForestRegressor(n_estimators=100, max_features=0.99, min_samples_leaf=2,\n",
        "                          n_jobs=-1, oob_score=True)"
      ],
      "execution_count": 0,
      "outputs": []
    },
    {
      "metadata": {
        "colab_type": "code",
        "id": "wvzVYYek4pOP",
        "colab": {}
      },
      "cell_type": "code",
      "source": [
        "# defining search space\n",
        "space = [Integer(10,2000, name='n_estimators'),\n",
        "         Integer(1, n_features, name='max_features'),\n",
        "         Integer(1, 5, name='max_depth'),\n",
        "         Integer(2, 100, name='min_samples_split'),\n",
        "         Integer(1, 100, name='min_samples_leaf')]\n"
      ],
      "execution_count": 0,
      "outputs": []
    },
    {
      "metadata": {
        "colab_type": "code",
        "id": "xuHsuyFB4pOR",
        "colab": {}
      },
      "cell_type": "code",
      "source": [
        "# estimator parameters\n",
        "@use_named_args(space)\n",
        "def objective(**params):\n",
        "    m.set_params(**params)\n",
        "\n",
        "    return -np.mean(cross_val_score(m, df_all, y_ag, cv=5, n_jobs=-1,\n",
        "                                    scoring=\"neg_mean_squared_error\"))"
      ],
      "execution_count": 0,
      "outputs": []
    },
    {
      "metadata": {
        "id": "kA1ULTATUuo7",
        "colab_type": "code",
        "colab": {}
      },
      "cell_type": "code",
      "source": [
        "# trying a different objective function\n",
        "@use_named_args(space)\n",
        "def objective(**params):\n",
        "    m.set_params(**params)\n",
        "    i = 0\n",
        "    l_rmse=[]\n",
        "    while i<10:\n",
        "        x_train, x_test, y_train, y_test = train_test_split(df_all, y_nac, test_size = 0.2)\n",
        "        m.fit(x_train, y_train)\n",
        "        preds = m.predict(x_test)\n",
        "        l_rmse.append(math.sqrt(mean_squared_error(preds, y_test)))\n",
        "        i+=1\n",
        "\n",
        "    return np.mean(l_rmse)"
      ],
      "execution_count": 0,
      "outputs": []
    },
    {
      "metadata": {
        "colab_type": "code",
        "id": "2O3XN0ER4pOT",
        "colab": {}
      },
      "cell_type": "code",
      "source": [
        "from skopt import gp_minimize, forest_minimize, gbrt_minimize\n",
        "#res_gp = gp_minimize(objective, space, n_calls=50, random_state=0)\n",
        "#instead of gp_minimize can also use forest_minimize or gbrt_minimize\n",
        "\n",
        "%time res_gp = gp_minimize(objective, space, n_calls=50, random_state=0)\n",
        "\n",
        "\n",
        "\"Best score=%.4f\" % res_gp.fun"
      ],
      "execution_count": 0,
      "outputs": []
    },
    {
      "metadata": {
        "colab_type": "code",
        "outputId": "951e9ad2-5daa-42b6-c265-83854a6c0513",
        "id": "J62fYFh54pOU",
        "colab": {
          "base_uri": "https://localhost:8080/",
          "height": 119
        }
      },
      "cell_type": "code",
      "source": [
        "# print(\"\"\"Best parameters:\n",
        "# - n_estimators=%d\n",
        "# - max_features=%d\n",
        "# - max_depth=%d\n",
        "# - min_samples_split=%d\n",
        "# - min_samples_leaf=%d\n",
        "# - criterion = %s\"\"\" % (res_gp.x[0], res_gp.x[1], \n",
        "#                             res_gp.x[2], res_gp.x[3], \n",
        "#                             res_gp.x[4], res_gp.x[5]))\n",
        "\n",
        "print(\"\"\"Best parameters:\n",
        "- n_estimators=%d\n",
        "- max_features=%d\n",
        "- max_depth=%d\n",
        "- min_samples_split=%d\n",
        "- min_samples_leaf=%d\"\"\" % (res_gp.x[0], res_gp.x[1], \n",
        "                            res_gp.x[2], res_gp.x[3], \n",
        "                            res_gp.x[4]))"
      ],
      "execution_count": 64,
      "outputs": [
        {
          "output_type": "stream",
          "text": [
            "Best parameters:\n",
            "- n_estimators=783\n",
            "- max_features=46\n",
            "- max_depth=5\n",
            "- min_samples_split=16\n",
            "- min_samples_leaf=1\n"
          ],
          "name": "stdout"
        }
      ]
    },
    {
      "metadata": {
        "id": "FlHX3wRLsvU3",
        "colab_type": "code",
        "outputId": "0e2b440b-0eae-49a4-f8d3-0c1f36452f8a",
        "colab": {
          "base_uri": "https://localhost:8080/",
          "height": 34
        }
      },
      "cell_type": "code",
      "source": [
        "i = 0\n",
        "l_rmspe = []\n",
        "l_mse = []\n",
        "l_rmse=[]\n",
        "\n",
        "while i <10:\n",
        "    x_train, x_test, y_train, y_test = train_test_split(df_all, y_ag, test_size = 0.2)\n",
        "    m = RandomForestRegressor(n_estimators=783, max_features=46, max_depth = 5,\n",
        "                              min_samples_split = 16, min_samples_leaf=1,\n",
        "                              n_jobs=-1, oob_score=True)\n",
        "    m.fit(x_train, y_train)\n",
        "    preds = m.predict(x_test)\n",
        "    l_rmspe.append(rmspe(preds, y_test))\n",
        "    l_mse.append(mean_squared_error(preds, y_test))\n",
        "    l_rmse.append(math.sqrt(mean_squared_error(preds, y_test)))\n",
        "    i+=1\n",
        "\n",
        "print(np.mean(l_rmspe), np.mean(l_mse), np.mean(l_rmse))\n",
        "    \n",
        "    \n",
        "\n"
      ],
      "execution_count": 77,
      "outputs": [
        {
          "output_type": "stream",
          "text": [
            "3.236608936222217 0.027674334683116957 0.16608432393841577\n"
          ],
          "name": "stdout"
        }
      ]
    },
    {
      "metadata": {
        "id": "1VdlGvgdz6Fc",
        "colab_type": "code",
        "colab": {
          "base_uri": "https://localhost:8080/",
          "height": 1105
        },
        "outputId": "e97558a4-2620-4827-e6ab-38e46d5d8b34"
      },
      "cell_type": "code",
      "source": [
        "feature_importances = pd.DataFrame(m.feature_importances_,\n",
        "                                   index = x_train.columns,\n",
        "                                    columns=['importance']).sort_values('importance',ascending=False)\n",
        "print(feature_importances)"
      ],
      "execution_count": 78,
      "outputs": [
        {
          "output_type": "stream",
          "text": [
            "        importance\n",
            "midy      0.281090\n",
            "midx      0.191005\n",
            "agppm     0.115098\n",
            "Au        0.091671\n",
            "auppm     0.085522\n",
            "midz      0.043657\n",
            "Cu        0.033069\n",
            "geocod    0.023188\n",
            "from      0.013219\n",
            "S         0.012587\n",
            "to        0.012491\n",
            "length    0.012249\n",
            "As        0.009755\n",
            "Pb        0.007756\n",
            "Zn        0.007046\n",
            "Cd        0.006836\n",
            "Al        0.005087\n",
            "K         0.004553\n",
            "Ca        0.004308\n",
            "Mn        0.004288\n",
            "Fe        0.003841\n",
            "Mg        0.003593\n",
            "Bi        0.003486\n",
            "Be        0.003172\n",
            "Sb        0.003022\n",
            "Na        0.002666\n",
            "V         0.002165\n",
            "Ni        0.001803\n",
            "Mo        0.001441\n",
            "P         0.001429\n",
            "...            ...\n",
            "Al_na     0.000033\n",
            "Nb_na     0.000033\n",
            "Sr_na     0.000027\n",
            "Th        0.000026\n",
            "Pd_na     0.000017\n",
            "Sn_na     0.000017\n",
            "U_na      0.000016\n",
            "Y_na      0.000013\n",
            "Ta        0.000012\n",
            "Y         0.000010\n",
            "Mn_na     0.000008\n",
            "Ta_na     0.000008\n",
            "W_na      0.000006\n",
            "Sc        0.000005\n",
            "Pb_na     0.000005\n",
            "Cd_na     0.000002\n",
            "V_na      0.000000\n",
            "Th_na     0.000000\n",
            "As_na     0.000000\n",
            "Sc_na     0.000000\n",
            "Sn        0.000000\n",
            "S_na      0.000000\n",
            "Ni_na     0.000000\n",
            "Mg_na     0.000000\n",
            "Fe_na     0.000000\n",
            "Cu_na     0.000000\n",
            "Cr_na     0.000000\n",
            "Ca_na     0.000000\n",
            "Bi_na     0.000000\n",
            "Co_na     0.000000\n",
            "\n",
            "[99 rows x 1 columns]\n"
          ],
          "name": "stdout"
        }
      ]
    },
    {
      "metadata": {
        "id": "kITWlkxx8WHh",
        "colab_type": "text"
      },
      "cell_type": "markdown",
      "source": [
        "### Linear Regression"
      ]
    },
    {
      "metadata": {
        "id": "gDmMA3jW8Xqp",
        "colab_type": "code",
        "colab": {
          "base_uri": "https://localhost:8080/",
          "height": 34
        },
        "outputId": "8b9647c4-31e0-4f35-8f1b-38f5066861bc"
      },
      "cell_type": "code",
      "source": [
        "i = 0\n",
        "l_rmspe = []\n",
        "l_mse = []\n",
        "l_rmse=[]\n",
        "\n",
        "while i <10:\n",
        "    x_train, x_test, y_train, y_test = train_test_split(df_all, y_au, test_size = 0.2)\n",
        "    m = LinearRegression(n_jobs=-1)\n",
        "    m.fit(x_train, y_train)\n",
        "    preds = m.predict(x_test)\n",
        "    l_rmspe.append(rmspe(preds, y_test))\n",
        "    l_mse.append(mean_squared_error(preds, y_test))\n",
        "    l_rmse.append(math.sqrt(mean_squared_error(preds, y_test)))\n",
        "    i+=1\n",
        "\n",
        "print(np.mean(l_rmspe), np.mean(l_mse), np.mean(l_rmse))"
      ],
      "execution_count": 34,
      "outputs": [
        {
          "output_type": "stream",
          "text": [
            "195.07249448783168 215372.0092706498 168.10968404431244\n"
          ],
          "name": "stdout"
        }
      ]
    },
    {
      "metadata": {
        "id": "f9YANU9O8dJA",
        "colab_type": "text"
      },
      "cell_type": "markdown",
      "source": [
        "### Feature Importance"
      ]
    },
    {
      "metadata": {
        "colab_type": "text",
        "id": "6jPe-2jThu_V"
      },
      "cell_type": "markdown",
      "source": [
        "## Predicting nacnc"
      ]
    },
    {
      "metadata": {
        "colab_type": "text",
        "id": "0g7ZfPpJhvAD"
      },
      "cell_type": "markdown",
      "source": [
        "### All info"
      ]
    },
    {
      "metadata": {
        "colab_type": "code",
        "id": "3km_fIxQhvAJ",
        "colab": {}
      },
      "cell_type": "code",
      "source": [
        "m = RandomForestRegressor(n_estimators=100, max_features=0.99, min_samples_leaf=2,\n",
        "                          n_jobs=-1, oob_score=True)"
      ],
      "execution_count": 0,
      "outputs": []
    },
    {
      "metadata": {
        "colab_type": "code",
        "id": "V4QhlbCZ8vnx",
        "colab": {}
      },
      "cell_type": "code",
      "source": [
        "# defining search space\n",
        "space = [Integer(10,2000, name='n_estimators'),\n",
        "         Integer(1, n_features, name='max_features'),\n",
        "         Integer(1, 5, name='max_depth'),\n",
        "         Integer(2, 100, name='min_samples_split'),\n",
        "         Integer(1, 100, name='min_samples_leaf')]\n"
      ],
      "execution_count": 0,
      "outputs": []
    },
    {
      "metadata": {
        "colab_type": "code",
        "id": "L4UCwYjD8vn0",
        "colab": {}
      },
      "cell_type": "code",
      "source": [
        "# estimator parameters\n",
        "# @use_named_args(space)\n",
        "# def objective(**params):\n",
        "#     m.set_params(**params)\n",
        "\n",
        "#     return -np.mean(cross_val_score(m, df_all, y_nac, cv=5, n_jobs=-1,\n",
        "#                                     scoring=\"neg_mean_squared_error\"))"
      ],
      "execution_count": 0,
      "outputs": []
    },
    {
      "metadata": {
        "id": "QbyCxYZ5NqHY",
        "colab_type": "code",
        "colab": {}
      },
      "cell_type": "code",
      "source": [
        "# trying a different objective function\n",
        "@use_named_args(space)\n",
        "def objective(**params):\n",
        "    m.set_params(**params)\n",
        "    i = 0\n",
        "    l_rmse=[]\n",
        "    while i<10:\n",
        "        x_train, x_test, y_train, y_test = train_test_split(df_all, y_nac, test_size = 0.2)\n",
        "        m.fit(x_train, y_train)\n",
        "        preds = m.predict(x_test)\n",
        "        l_rmse.append(math.sqrt(mean_squared_error(preds, y_test)))\n",
        "        i+=1\n",
        "\n",
        "    return np.mean(l_rmse)"
      ],
      "execution_count": 0,
      "outputs": []
    },
    {
      "metadata": {
        "colab_type": "code",
        "id": "EkRDHgWB8vn3",
        "colab": {}
      },
      "cell_type": "code",
      "source": [
        "from skopt import gp_minimize, forest_minimize, gbrt_minimize\n",
        "#res_gp = gp_minimize(objective, space, n_calls=50, random_state=0)\n",
        "#instead of gp_minimize can also use forest_minimize or gbrt_minimize\n",
        "\n",
        "%time res_gp = gp_minimize(objective, space, n_calls=50, random_state=0)\n",
        "\n",
        "\n",
        "\"Best score=%.4f\" % res_gp.fun"
      ],
      "execution_count": 0,
      "outputs": []
    },
    {
      "metadata": {
        "colab_type": "code",
        "outputId": "b124f97e-4eb9-4765-f172-8b876a42221d",
        "id": "ohFKKBhh8vn7",
        "colab": {
          "base_uri": "https://localhost:8080/",
          "height": 119
        }
      },
      "cell_type": "code",
      "source": [
        "# print(\"\"\"Best parameters:\n",
        "# - n_estimators=%d\n",
        "# - max_features=%d\n",
        "# - max_depth=%d\n",
        "# - min_samples_split=%d\n",
        "# - min_samples_leaf=%d\n",
        "# - criterion = %s\"\"\" % (res_gp.x[0], res_gp.x[1], \n",
        "#                             res_gp.x[2], res_gp.x[3], \n",
        "#                             res_gp.x[4], res_gp.x[5]))\n",
        "\n",
        "print(\"\"\"Best parameters:\n",
        "- n_estimators=%d\n",
        "- max_features=%d\n",
        "- max_depth=%d\n",
        "- min_samples_split=%d\n",
        "- min_samples_leaf=%d\"\"\" % (res_gp.x[0], res_gp.x[1], \n",
        "                            res_gp.x[2], res_gp.x[3], \n",
        "                            res_gp.x[4]))"
      ],
      "execution_count": 50,
      "outputs": [
        {
          "output_type": "stream",
          "text": [
            "Best parameters:\n",
            "- n_estimators=71\n",
            "- max_features=76\n",
            "- max_depth=5\n",
            "- min_samples_split=14\n",
            "- min_samples_leaf=3\n"
          ],
          "name": "stdout"
        }
      ]
    },
    {
      "metadata": {
        "id": "yQMPitRKuEQH",
        "colab_type": "code",
        "outputId": "308a85b5-c14c-4d77-8e25-fb9e51b15a78",
        "colab": {
          "base_uri": "https://localhost:8080/",
          "height": 34
        }
      },
      "cell_type": "code",
      "source": [
        "i = 0\n",
        "l_rmspe = []\n",
        "l_mse = []\n",
        "l_rmse=[]\n",
        "\n",
        "while i <10:\n",
        "    x_train, x_test, y_train, y_test = train_test_split(df_all, y_nac, test_size = 0.2)\n",
        "    m = RandomForestRegressor(n_estimators=71, max_features=70, max_depth = 5,\n",
        "                              min_samples_split = 14, min_samples_leaf=3,\n",
        "                          n_jobs=-1, oob_score=True)\n",
        "    m.fit(x_train, y_train)\n",
        "    preds = m.predict(x_test)\n",
        "    l_rmspe.append(rmspe(preds, y_test))\n",
        "    l_mse.append(mean_squared_error(preds, y_test))\n",
        "    l_rmse.append(math.sqrt(mean_squared_error(preds, y_test)))\n",
        "    i+=1\n",
        "\n",
        "print(np.mean(l_rmspe), np.mean(l_mse), np.mean(l_rmse))"
      ],
      "execution_count": 79,
      "outputs": [
        {
          "output_type": "stream",
          "text": [
            "5.734362323648336 2.575465520999889 1.6033991310665132\n"
          ],
          "name": "stdout"
        }
      ]
    },
    {
      "metadata": {
        "id": "dIO-wiH01O73",
        "colab_type": "code",
        "colab": {
          "base_uri": "https://localhost:8080/",
          "height": 1105
        },
        "outputId": "b3e50368-c510-496b-e67e-0efb80f4db73"
      },
      "cell_type": "code",
      "source": [
        "feature_importances = pd.DataFrame(m.feature_importances_,\n",
        "                                   index = x_train.columns,\n",
        "                                    columns=['importance']).sort_values('importance',ascending=False)\n",
        "print(feature_importances)"
      ],
      "execution_count": 80,
      "outputs": [
        {
          "output_type": "stream",
          "text": [
            "        importance\n",
            "midy      0.253399\n",
            "midx      0.235121\n",
            "agppm     0.127003\n",
            "midz      0.081699\n",
            "Au        0.055066\n",
            "auppm     0.046668\n",
            "Si        0.034176\n",
            "length    0.026882\n",
            "from      0.023109\n",
            "geocod    0.020326\n",
            "Cr        0.013453\n",
            "to        0.012482\n",
            "Pd        0.007295\n",
            "Cu        0.006022\n",
            "Sb        0.005548\n",
            "Hg        0.005322\n",
            "Bi        0.005180\n",
            "Ti        0.004125\n",
            "Ni        0.004111\n",
            "Au_na     0.003805\n",
            "Zr        0.003282\n",
            "Na        0.003246\n",
            "Fe        0.002299\n",
            "Mo        0.002115\n",
            "V         0.001753\n",
            "W         0.001723\n",
            "Pb        0.001640\n",
            "Zn        0.001440\n",
            "Mn        0.001121\n",
            "Ca        0.001088\n",
            "...            ...\n",
            "Ta_na     0.000000\n",
            "Mn_na     0.000000\n",
            "Mo_na     0.000000\n",
            "Cd_na     0.000000\n",
            "Mg_na     0.000000\n",
            "La_na     0.000000\n",
            "La        0.000000\n",
            "Nb        0.000000\n",
            "Co        0.000000\n",
            "Re        0.000000\n",
            "Se        0.000000\n",
            "Sc        0.000000\n",
            "Sn        0.000000\n",
            "Ta        0.000000\n",
            "Th        0.000000\n",
            "Ba        0.000000\n",
            "Tl        0.000000\n",
            "U         0.000000\n",
            "B         0.000000\n",
            "Y         0.000000\n",
            "As_na     0.000000\n",
            "B_na      0.000000\n",
            "Be_na     0.000000\n",
            "Ca_na     0.000000\n",
            "Co_na     0.000000\n",
            "Cr_na     0.000000\n",
            "Cu_na     0.000000\n",
            "Hg_na     0.000000\n",
            "K_na      0.000000\n",
            "Zr_na     0.000000\n",
            "\n",
            "[99 rows x 1 columns]\n"
          ],
          "name": "stdout"
        }
      ]
    },
    {
      "metadata": {
        "id": "3-rdvF46kHz7",
        "colab_type": "text"
      },
      "cell_type": "markdown",
      "source": [
        "## Observations\n",
        "\n"
      ]
    },
    {
      "metadata": {
        "id": "N9rW9ENx2yE-",
        "colab_type": "code",
        "colab": {}
      },
      "cell_type": "code",
      "source": [
        ""
      ],
      "execution_count": 0,
      "outputs": []
    },
    {
      "metadata": {
        "colab_type": "text",
        "id": "Usq2Q9UL2yoq"
      },
      "cell_type": "markdown",
      "source": [
        "#Dropping missing values for target variables"
      ]
    },
    {
      "metadata": {
        "colab_type": "code",
        "id": "djxNFA8v2yoq",
        "colab": {}
      },
      "cell_type": "code",
      "source": [
        "path = '/content/data/'\n",
        "os.makedirs(path, exist_ok=True)\n",
        "fname = 'Base de Datos Geometalurgia Goldspot'\n",
        "#path"
      ],
      "execution_count": 0,
      "outputs": []
    },
    {
      "metadata": {
        "colab_type": "text",
        "id": "eB_FCwir2you"
      },
      "cell_type": "markdown",
      "source": [
        "for some reason \n",
        "\n",
        "\n",
        "\n",
        "```\n",
        "df = pd.read_csv(f'{path}/{name}.csv', low_memory=False)\n",
        "```\n",
        "\n",
        "is causing colab issues and cannot load\n"
      ]
    },
    {
      "metadata": {
        "colab_type": "code",
        "id": "4mJwxDQo2yov",
        "colab": {}
      },
      "cell_type": "code",
      "source": [
        "df = pd.read_csv('/content/data/Base de Datos Geometalurgia Goldspot.csv', low_memory=False)"
      ],
      "execution_count": 0,
      "outputs": []
    },
    {
      "metadata": {
        "colab_type": "code",
        "outputId": "13c6e82f-d188-4628-f156-a0f0bfc1839c",
        "id": "VCrfDQne2yow",
        "colab": {
          "base_uri": "https://localhost:8080/",
          "height": 253
        }
      },
      "cell_type": "code",
      "source": [
        "df.head(5)"
      ],
      "execution_count": 86,
      "outputs": [
        {
          "output_type": "execute_result",
          "data": {
            "text/html": [
              "<div>\n",
              "<style scoped>\n",
              "    .dataframe tbody tr th:only-of-type {\n",
              "        vertical-align: middle;\n",
              "    }\n",
              "\n",
              "    .dataframe tbody tr th {\n",
              "        vertical-align: top;\n",
              "    }\n",
              "\n",
              "    .dataframe thead th {\n",
              "        text-align: right;\n",
              "    }\n",
              "</style>\n",
              "<table border=\"1\" class=\"dataframe\">\n",
              "  <thead>\n",
              "    <tr style=\"text-align: right;\">\n",
              "      <th></th>\n",
              "      <th>compid</th>\n",
              "      <th>dhid</th>\n",
              "      <th>midx</th>\n",
              "      <th>midy</th>\n",
              "      <th>midz</th>\n",
              "      <th>topx</th>\n",
              "      <th>topy</th>\n",
              "      <th>topz</th>\n",
              "      <th>botx</th>\n",
              "      <th>boty</th>\n",
              "      <th>...</th>\n",
              "      <th>Te</th>\n",
              "      <th>Th</th>\n",
              "      <th>Ti</th>\n",
              "      <th>Tl</th>\n",
              "      <th>U</th>\n",
              "      <th>V</th>\n",
              "      <th>W</th>\n",
              "      <th>Y</th>\n",
              "      <th>Zn</th>\n",
              "      <th>Zr</th>\n",
              "    </tr>\n",
              "  </thead>\n",
              "  <tbody>\n",
              "    <tr>\n",
              "      <th>0</th>\n",
              "      <td>CAN</td>\n",
              "      <td>OF07482</td>\n",
              "      <td>449967.09</td>\n",
              "      <td>7301211.35</td>\n",
              "      <td>1819.01</td>\n",
              "      <td>449967.61</td>\n",
              "      <td>7301211.40</td>\n",
              "      <td>1819.01</td>\n",
              "      <td>449966.56</td>\n",
              "      <td>7301211.31</td>\n",
              "      <td>...</td>\n",
              "      <td>-99</td>\n",
              "      <td>-99</td>\n",
              "      <td>-99</td>\n",
              "      <td>-99</td>\n",
              "      <td>-99</td>\n",
              "      <td>-99.0</td>\n",
              "      <td>-99</td>\n",
              "      <td>-99</td>\n",
              "      <td>-99</td>\n",
              "      <td>-99.0</td>\n",
              "    </tr>\n",
              "    <tr>\n",
              "      <th>1</th>\n",
              "      <td>CAN</td>\n",
              "      <td>OF07491</td>\n",
              "      <td>449950.70</td>\n",
              "      <td>7301374.94</td>\n",
              "      <td>1836.81</td>\n",
              "      <td>449949.32</td>\n",
              "      <td>7301375.18</td>\n",
              "      <td>1836.81</td>\n",
              "      <td>449952.08</td>\n",
              "      <td>7301374.70</td>\n",
              "      <td>...</td>\n",
              "      <td>-99</td>\n",
              "      <td>-99</td>\n",
              "      <td>-99</td>\n",
              "      <td>-99</td>\n",
              "      <td>-99</td>\n",
              "      <td>-99.0</td>\n",
              "      <td>-99</td>\n",
              "      <td>-99</td>\n",
              "      <td>-99</td>\n",
              "      <td>-99.0</td>\n",
              "    </tr>\n",
              "    <tr>\n",
              "      <th>2</th>\n",
              "      <td>CAN</td>\n",
              "      <td>OF07505</td>\n",
              "      <td>449950.06</td>\n",
              "      <td>7301418.56</td>\n",
              "      <td>1836.86</td>\n",
              "      <td>449949.61</td>\n",
              "      <td>7301418.52</td>\n",
              "      <td>1836.86</td>\n",
              "      <td>449950.50</td>\n",
              "      <td>7301418.60</td>\n",
              "      <td>...</td>\n",
              "      <td>-99</td>\n",
              "      <td>-99</td>\n",
              "      <td>-99</td>\n",
              "      <td>-99</td>\n",
              "      <td>-99</td>\n",
              "      <td>-99.0</td>\n",
              "      <td>-99</td>\n",
              "      <td>-99</td>\n",
              "      <td>-99</td>\n",
              "      <td>-99.0</td>\n",
              "    </tr>\n",
              "    <tr>\n",
              "      <th>3</th>\n",
              "      <td>CAN</td>\n",
              "      <td>OF08219</td>\n",
              "      <td>449896.24</td>\n",
              "      <td>7301571.17</td>\n",
              "      <td>1677.28</td>\n",
              "      <td>449895.20</td>\n",
              "      <td>7301571.08</td>\n",
              "      <td>1677.28</td>\n",
              "      <td>449897.29</td>\n",
              "      <td>7301571.26</td>\n",
              "      <td>...</td>\n",
              "      <td>-99</td>\n",
              "      <td>-99</td>\n",
              "      <td>-99</td>\n",
              "      <td>-99</td>\n",
              "      <td>-99</td>\n",
              "      <td>-99.0</td>\n",
              "      <td>-99</td>\n",
              "      <td>-99</td>\n",
              "      <td>-99</td>\n",
              "      <td>-99.0</td>\n",
              "    </tr>\n",
              "    <tr>\n",
              "      <th>4</th>\n",
              "      <td>CAN</td>\n",
              "      <td>OF08222</td>\n",
              "      <td>449906.02</td>\n",
              "      <td>7301433.32</td>\n",
              "      <td>1601.00</td>\n",
              "      <td>449905.37</td>\n",
              "      <td>7301433.32</td>\n",
              "      <td>1601.00</td>\n",
              "      <td>449906.67</td>\n",
              "      <td>7301433.32</td>\n",
              "      <td>...</td>\n",
              "      <td>-99</td>\n",
              "      <td>-99</td>\n",
              "      <td>24</td>\n",
              "      <td>-99</td>\n",
              "      <td>-99</td>\n",
              "      <td>-99.0</td>\n",
              "      <td>3</td>\n",
              "      <td>-99</td>\n",
              "      <td>1000</td>\n",
              "      <td>-99.0</td>\n",
              "    </tr>\n",
              "  </tbody>\n",
              "</table>\n",
              "<p>5 rows × 72 columns</p>\n",
              "</div>"
            ],
            "text/plain": [
              "  compid     dhid       midx        midy     midz       topx        topy  \\\n",
              "0    CAN  OF07482  449967.09  7301211.35  1819.01  449967.61  7301211.40   \n",
              "1    CAN  OF07491  449950.70  7301374.94  1836.81  449949.32  7301375.18   \n",
              "2    CAN  OF07505  449950.06  7301418.56  1836.86  449949.61  7301418.52   \n",
              "3    CAN  OF08219  449896.24  7301571.17  1677.28  449895.20  7301571.08   \n",
              "4    CAN  OF08222  449906.02  7301433.32  1601.00  449905.37  7301433.32   \n",
              "\n",
              "      topz       botx        boty  ...    Te   Th   Ti   Tl    U     V    W  \\\n",
              "0  1819.01  449966.56  7301211.31  ...   -99  -99  -99  -99  -99 -99.0  -99   \n",
              "1  1836.81  449952.08  7301374.70  ...   -99  -99  -99  -99  -99 -99.0  -99   \n",
              "2  1836.86  449950.50  7301418.60  ...   -99  -99  -99  -99  -99 -99.0  -99   \n",
              "3  1677.28  449897.29  7301571.26  ...   -99  -99  -99  -99  -99 -99.0  -99   \n",
              "4  1601.00  449906.67  7301433.32  ...   -99  -99   24  -99  -99 -99.0    3   \n",
              "\n",
              "    Y    Zn    Zr  \n",
              "0 -99   -99 -99.0  \n",
              "1 -99   -99 -99.0  \n",
              "2 -99   -99 -99.0  \n",
              "3 -99   -99 -99.0  \n",
              "4 -99  1000 -99.0  \n",
              "\n",
              "[5 rows x 72 columns]"
            ]
          },
          "metadata": {
            "tags": []
          },
          "execution_count": 86
        }
      ]
    },
    {
      "metadata": {
        "colab_type": "text",
        "id": "k9kGw1ty2yoz"
      },
      "cell_type": "markdown",
      "source": [
        "### Preprocessing\n",
        "1. remove any instances of \">\", \"<\", and \",\" from the data\n",
        "2. Impute (or remove) any instances of -99 for 'agrec' or 'nacnc'\n",
        "    - if imputing: use median value \n",
        "3. Change any instance of -99 in features to be np.nan (to use FillMissing)\n",
        "4. use FillMissing to change NaN to -99, and add feature for var_na (bool)\n",
        "5. Perform analysis on features to see if any features (other than top/mid/bot) are correlated, remove those variables from the modelling process\n",
        "    - https://chrisalbon.com/machine_learning/feature_selection/drop_highly_correlated_features/\n",
        "6. Split features into 3 dataframes: \n",
        "    - Just geo data\n",
        "    - Just geochemical data\n",
        "    - both\n",
        "7. Model using features, see what kind of results we get with subset of the features\n",
        "8. Perform any feature importance analysis as needed"
      ]
    },
    {
      "metadata": {
        "colab_type": "code",
        "id": "SoLizEOE2yo0",
        "colab": {}
      },
      "cell_type": "code",
      "source": [
        "# stripping all str columns of > and < symbols\n",
        "for column in df.columns:\n",
        "    if df[column].dtype == 'O' and column != 'compid' and column != 'dhid':\n",
        "        df[column] = df[column].map(lambda x: x.lstrip('>,<'))\n",
        "        df[column] = df[column].str.replace(',','.')\n",
        "        df[column] = df[column].astype(float)\n",
        "\n"
      ],
      "execution_count": 0,
      "outputs": []
    },
    {
      "metadata": {
        "colab_type": "code",
        "id": "5bIstwQ42yo1",
        "colab": {}
      },
      "cell_type": "code",
      "source": [
        "# dropping -99 values in target variables\n",
        "df = df[df['agrec']!=-99]\n",
        "df = df[df['nacnc']!=-99]"
      ],
      "execution_count": 0,
      "outputs": []
    },
    {
      "metadata": {
        "colab_type": "code",
        "id": "8vjs5l562yo2",
        "colab": {}
      },
      "cell_type": "code",
      "source": [
        "df = df.replace(-99, np.nan, inplace=False)\n"
      ],
      "execution_count": 0,
      "outputs": []
    },
    {
      "metadata": {
        "colab_type": "code",
        "id": "oa9ywbOF2yo5",
        "colab": {}
      },
      "cell_type": "code",
      "source": [
        "cat_names = ['geocod', 'bound']\n",
        "cont_names = ['midx', 'midy', 'midz', 'topx', 'topy', 'topz', 'botx', 'boty', 'botz',\n",
        "             'length', 'from', 'to','auppm', 'agppm', 'Al', 'As', 'Au', 'B', 'Ba', 'Be', 'Bi', 'Ca',\n",
        "             'Cd', 'Co', 'Cr', 'Cu', 'Fe', 'Hg', 'K', 'La', 'Li', 'Mg', 'Mn', 'Mo', 'Na',\n",
        "             'Nb', 'Ni', 'P', 'Pb', 'Pd', 'Re', 'S', 'Sb', 'Se', 'Si', 'Sc', 'Sn', 'Sr',\n",
        "             'Ta', 'Te', 'Th', 'Ti', 'Tl', 'U', 'V', 'W', 'Y', 'Zn', 'Zr']"
      ],
      "execution_count": 0,
      "outputs": []
    },
    {
      "metadata": {
        "colab_type": "code",
        "id": "tueN29x-2yo6",
        "colab": {}
      },
      "cell_type": "code",
      "source": [
        "fillmissing = FillMissing(cat_names = cat_names, cont_names = cont_names, fill_strategy='CONSTANT', fill_val = -99.0)\n"
      ],
      "execution_count": 0,
      "outputs": []
    },
    {
      "metadata": {
        "colab_type": "code",
        "id": "wKu3ZKw62yo8",
        "colab": {}
      },
      "cell_type": "code",
      "source": [
        "fillmissing(df)"
      ],
      "execution_count": 0,
      "outputs": []
    },
    {
      "metadata": {
        "colab_type": "code",
        "outputId": "11ef6daf-39ea-4089-f36d-7ba72471a7cb",
        "id": "H-OoMD_S2yo9",
        "colab": {
          "base_uri": "https://localhost:8080/",
          "height": 408
        }
      },
      "cell_type": "code",
      "source": [
        "df.head(10)"
      ],
      "execution_count": 102,
      "outputs": [
        {
          "output_type": "execute_result",
          "data": {
            "text/html": [
              "<div>\n",
              "<style scoped>\n",
              "    .dataframe tbody tr th:only-of-type {\n",
              "        vertical-align: middle;\n",
              "    }\n",
              "\n",
              "    .dataframe tbody tr th {\n",
              "        vertical-align: top;\n",
              "    }\n",
              "\n",
              "    .dataframe thead th {\n",
              "        text-align: right;\n",
              "    }\n",
              "</style>\n",
              "<table border=\"1\" class=\"dataframe\">\n",
              "  <thead>\n",
              "    <tr style=\"text-align: right;\">\n",
              "      <th></th>\n",
              "      <th>compid</th>\n",
              "      <th>dhid</th>\n",
              "      <th>midx</th>\n",
              "      <th>midy</th>\n",
              "      <th>midz</th>\n",
              "      <th>topx</th>\n",
              "      <th>topy</th>\n",
              "      <th>topz</th>\n",
              "      <th>botx</th>\n",
              "      <th>boty</th>\n",
              "      <th>...</th>\n",
              "      <th>Te_na</th>\n",
              "      <th>Th_na</th>\n",
              "      <th>Ti_na</th>\n",
              "      <th>Tl_na</th>\n",
              "      <th>U_na</th>\n",
              "      <th>V_na</th>\n",
              "      <th>W_na</th>\n",
              "      <th>Y_na</th>\n",
              "      <th>Zn_na</th>\n",
              "      <th>Zr_na</th>\n",
              "    </tr>\n",
              "  </thead>\n",
              "  <tbody>\n",
              "    <tr>\n",
              "      <th>0</th>\n",
              "      <td>CAN</td>\n",
              "      <td>OF07482</td>\n",
              "      <td>449967.09</td>\n",
              "      <td>7301211.35</td>\n",
              "      <td>1819.01</td>\n",
              "      <td>449967.61</td>\n",
              "      <td>7301211.40</td>\n",
              "      <td>1819.01</td>\n",
              "      <td>449966.56</td>\n",
              "      <td>7301211.31</td>\n",
              "      <td>...</td>\n",
              "      <td>True</td>\n",
              "      <td>True</td>\n",
              "      <td>True</td>\n",
              "      <td>True</td>\n",
              "      <td>True</td>\n",
              "      <td>True</td>\n",
              "      <td>True</td>\n",
              "      <td>True</td>\n",
              "      <td>True</td>\n",
              "      <td>True</td>\n",
              "    </tr>\n",
              "    <tr>\n",
              "      <th>1</th>\n",
              "      <td>CAN</td>\n",
              "      <td>OF07491</td>\n",
              "      <td>449950.70</td>\n",
              "      <td>7301374.94</td>\n",
              "      <td>1836.81</td>\n",
              "      <td>449949.32</td>\n",
              "      <td>7301375.18</td>\n",
              "      <td>1836.81</td>\n",
              "      <td>449952.08</td>\n",
              "      <td>7301374.70</td>\n",
              "      <td>...</td>\n",
              "      <td>True</td>\n",
              "      <td>True</td>\n",
              "      <td>True</td>\n",
              "      <td>True</td>\n",
              "      <td>True</td>\n",
              "      <td>True</td>\n",
              "      <td>True</td>\n",
              "      <td>True</td>\n",
              "      <td>True</td>\n",
              "      <td>True</td>\n",
              "    </tr>\n",
              "    <tr>\n",
              "      <th>2</th>\n",
              "      <td>CAN</td>\n",
              "      <td>OF07505</td>\n",
              "      <td>449950.06</td>\n",
              "      <td>7301418.56</td>\n",
              "      <td>1836.86</td>\n",
              "      <td>449949.61</td>\n",
              "      <td>7301418.52</td>\n",
              "      <td>1836.86</td>\n",
              "      <td>449950.50</td>\n",
              "      <td>7301418.60</td>\n",
              "      <td>...</td>\n",
              "      <td>True</td>\n",
              "      <td>True</td>\n",
              "      <td>True</td>\n",
              "      <td>True</td>\n",
              "      <td>True</td>\n",
              "      <td>True</td>\n",
              "      <td>True</td>\n",
              "      <td>True</td>\n",
              "      <td>True</td>\n",
              "      <td>True</td>\n",
              "    </tr>\n",
              "    <tr>\n",
              "      <th>3</th>\n",
              "      <td>CAN</td>\n",
              "      <td>OF08219</td>\n",
              "      <td>449896.24</td>\n",
              "      <td>7301571.17</td>\n",
              "      <td>1677.28</td>\n",
              "      <td>449895.20</td>\n",
              "      <td>7301571.08</td>\n",
              "      <td>1677.28</td>\n",
              "      <td>449897.29</td>\n",
              "      <td>7301571.26</td>\n",
              "      <td>...</td>\n",
              "      <td>True</td>\n",
              "      <td>True</td>\n",
              "      <td>True</td>\n",
              "      <td>True</td>\n",
              "      <td>True</td>\n",
              "      <td>True</td>\n",
              "      <td>True</td>\n",
              "      <td>True</td>\n",
              "      <td>True</td>\n",
              "      <td>True</td>\n",
              "    </tr>\n",
              "    <tr>\n",
              "      <th>4</th>\n",
              "      <td>CAN</td>\n",
              "      <td>OF08222</td>\n",
              "      <td>449906.02</td>\n",
              "      <td>7301433.32</td>\n",
              "      <td>1601.00</td>\n",
              "      <td>449905.37</td>\n",
              "      <td>7301433.32</td>\n",
              "      <td>1601.00</td>\n",
              "      <td>449906.67</td>\n",
              "      <td>7301433.32</td>\n",
              "      <td>...</td>\n",
              "      <td>True</td>\n",
              "      <td>True</td>\n",
              "      <td>False</td>\n",
              "      <td>True</td>\n",
              "      <td>True</td>\n",
              "      <td>True</td>\n",
              "      <td>False</td>\n",
              "      <td>True</td>\n",
              "      <td>False</td>\n",
              "      <td>True</td>\n",
              "    </tr>\n",
              "    <tr>\n",
              "      <th>5</th>\n",
              "      <td>CAN</td>\n",
              "      <td>OF08223</td>\n",
              "      <td>449940.31</td>\n",
              "      <td>7301543.05</td>\n",
              "      <td>1773.45</td>\n",
              "      <td>449940.01</td>\n",
              "      <td>7301543.08</td>\n",
              "      <td>1773.45</td>\n",
              "      <td>449940.61</td>\n",
              "      <td>7301543.03</td>\n",
              "      <td>...</td>\n",
              "      <td>True</td>\n",
              "      <td>True</td>\n",
              "      <td>True</td>\n",
              "      <td>True</td>\n",
              "      <td>True</td>\n",
              "      <td>True</td>\n",
              "      <td>True</td>\n",
              "      <td>True</td>\n",
              "      <td>True</td>\n",
              "      <td>True</td>\n",
              "    </tr>\n",
              "    <tr>\n",
              "      <th>6</th>\n",
              "      <td>CAN</td>\n",
              "      <td>OF08264</td>\n",
              "      <td>449922.79</td>\n",
              "      <td>7301652.09</td>\n",
              "      <td>1854.98</td>\n",
              "      <td>449921.08</td>\n",
              "      <td>7301651.73</td>\n",
              "      <td>1854.98</td>\n",
              "      <td>449924.50</td>\n",
              "      <td>7301652.46</td>\n",
              "      <td>...</td>\n",
              "      <td>True</td>\n",
              "      <td>True</td>\n",
              "      <td>False</td>\n",
              "      <td>True</td>\n",
              "      <td>True</td>\n",
              "      <td>True</td>\n",
              "      <td>False</td>\n",
              "      <td>True</td>\n",
              "      <td>False</td>\n",
              "      <td>True</td>\n",
              "    </tr>\n",
              "    <tr>\n",
              "      <th>7</th>\n",
              "      <td>CAN</td>\n",
              "      <td>OF08306</td>\n",
              "      <td>449933.71</td>\n",
              "      <td>7301556.51</td>\n",
              "      <td>1773.12</td>\n",
              "      <td>449933.33</td>\n",
              "      <td>7301556.19</td>\n",
              "      <td>1773.12</td>\n",
              "      <td>449934.10</td>\n",
              "      <td>7301556.83</td>\n",
              "      <td>...</td>\n",
              "      <td>True</td>\n",
              "      <td>True</td>\n",
              "      <td>False</td>\n",
              "      <td>True</td>\n",
              "      <td>True</td>\n",
              "      <td>True</td>\n",
              "      <td>False</td>\n",
              "      <td>True</td>\n",
              "      <td>False</td>\n",
              "      <td>True</td>\n",
              "    </tr>\n",
              "    <tr>\n",
              "      <th>8</th>\n",
              "      <td>CAN</td>\n",
              "      <td>OF08389</td>\n",
              "      <td>449872.89</td>\n",
              "      <td>7301556.36</td>\n",
              "      <td>1600.87</td>\n",
              "      <td>449871.73</td>\n",
              "      <td>7301556.05</td>\n",
              "      <td>1600.87</td>\n",
              "      <td>449874.05</td>\n",
              "      <td>7301556.67</td>\n",
              "      <td>...</td>\n",
              "      <td>True</td>\n",
              "      <td>True</td>\n",
              "      <td>False</td>\n",
              "      <td>True</td>\n",
              "      <td>True</td>\n",
              "      <td>True</td>\n",
              "      <td>False</td>\n",
              "      <td>True</td>\n",
              "      <td>False</td>\n",
              "      <td>True</td>\n",
              "    </tr>\n",
              "    <tr>\n",
              "      <th>9</th>\n",
              "      <td>CAN</td>\n",
              "      <td>OF09245</td>\n",
              "      <td>449873.89</td>\n",
              "      <td>7301509.13</td>\n",
              "      <td>1547.19</td>\n",
              "      <td>449873.25</td>\n",
              "      <td>7301508.99</td>\n",
              "      <td>1547.19</td>\n",
              "      <td>449874.52</td>\n",
              "      <td>7301509.26</td>\n",
              "      <td>...</td>\n",
              "      <td>True</td>\n",
              "      <td>True</td>\n",
              "      <td>True</td>\n",
              "      <td>True</td>\n",
              "      <td>True</td>\n",
              "      <td>True</td>\n",
              "      <td>True</td>\n",
              "      <td>True</td>\n",
              "      <td>True</td>\n",
              "      <td>True</td>\n",
              "    </tr>\n",
              "  </tbody>\n",
              "</table>\n",
              "<p>10 rows × 119 columns</p>\n",
              "</div>"
            ],
            "text/plain": [
              "  compid     dhid       midx        midy     midz       topx        topy  \\\n",
              "0    CAN  OF07482  449967.09  7301211.35  1819.01  449967.61  7301211.40   \n",
              "1    CAN  OF07491  449950.70  7301374.94  1836.81  449949.32  7301375.18   \n",
              "2    CAN  OF07505  449950.06  7301418.56  1836.86  449949.61  7301418.52   \n",
              "3    CAN  OF08219  449896.24  7301571.17  1677.28  449895.20  7301571.08   \n",
              "4    CAN  OF08222  449906.02  7301433.32  1601.00  449905.37  7301433.32   \n",
              "5    CAN  OF08223  449940.31  7301543.05  1773.45  449940.01  7301543.08   \n",
              "6    CAN  OF08264  449922.79  7301652.09  1854.98  449921.08  7301651.73   \n",
              "7    CAN  OF08306  449933.71  7301556.51  1773.12  449933.33  7301556.19   \n",
              "8    CAN  OF08389  449872.89  7301556.36  1600.87  449871.73  7301556.05   \n",
              "9    CAN  OF09245  449873.89  7301509.13  1547.19  449873.25  7301508.99   \n",
              "\n",
              "      topz       botx        boty  ...    Te_na  Th_na  Ti_na  Tl_na  U_na  \\\n",
              "0  1819.01  449966.56  7301211.31  ...     True   True   True   True  True   \n",
              "1  1836.81  449952.08  7301374.70  ...     True   True   True   True  True   \n",
              "2  1836.86  449950.50  7301418.60  ...     True   True   True   True  True   \n",
              "3  1677.28  449897.29  7301571.26  ...     True   True   True   True  True   \n",
              "4  1601.00  449906.67  7301433.32  ...     True   True  False   True  True   \n",
              "5  1773.45  449940.61  7301543.03  ...     True   True   True   True  True   \n",
              "6  1854.98  449924.50  7301652.46  ...     True   True  False   True  True   \n",
              "7  1773.12  449934.10  7301556.83  ...     True   True  False   True  True   \n",
              "8  1600.87  449874.05  7301556.67  ...     True   True  False   True  True   \n",
              "9  1547.19  449874.52  7301509.26  ...     True   True   True   True  True   \n",
              "\n",
              "   V_na   W_na  Y_na  Zn_na  Zr_na  \n",
              "0  True   True  True   True   True  \n",
              "1  True   True  True   True   True  \n",
              "2  True   True  True   True   True  \n",
              "3  True   True  True   True   True  \n",
              "4  True  False  True  False   True  \n",
              "5  True   True  True   True   True  \n",
              "6  True  False  True  False   True  \n",
              "7  True  False  True  False   True  \n",
              "8  True  False  True  False   True  \n",
              "9  True   True  True   True   True  \n",
              "\n",
              "[10 rows x 119 columns]"
            ]
          },
          "metadata": {
            "tags": []
          },
          "execution_count": 102
        }
      ]
    },
    {
      "metadata": {
        "colab_type": "code",
        "id": "sqAn9mS-2ypB",
        "colab": {}
      },
      "cell_type": "code",
      "source": [
        "cat_names = ['geocod', 'bound',\n",
        "            'Al_na', 'As_na', 'Au_na', 'B_na', 'Ba_na', 'Be_na', 'Bi_na', 'Ca_na',\n",
        "             'Cd_na', 'Co_na', 'Cr_na', 'Cu_na', 'Fe_na', 'Hg_na', 'K_na', 'La_na', 'Li_na', 'Mg_na',\n",
        "             'Mn_na', 'Mo_na', 'Na_na',\n",
        "             'Nb_na', 'Ni_na', 'P_na', 'Pb_na', 'Pd_na', 'Re_na', 'S_na', 'Sb_na', 'Se_na',\n",
        "             'Si_na', 'Sc_na', 'Sn_na', 'Sr_na',\n",
        "             'Ta_na', 'Te_na', 'Th_na', 'Ti_na', 'Tl_na', 'U_na', 'V_na', 'W_na', 'Y_na', 'Zn_na', 'Zr_na']\n",
        "\n",
        "cont_names= ['midx', 'midy', 'midz', 'topx', 'topy', 'topz', 'botx', 'boty', 'botz',\n",
        "             'length', 'from', 'to','auppm', 'agppm', 'Al', 'As', 'Au', 'B', 'Ba', 'Be', 'Bi', 'Ca',\n",
        "             'Cd', 'Co', 'Cr', 'Cu', 'Fe', 'Hg', 'K', 'La', 'Li', 'Mg', 'Mn', 'Mo', 'Na',\n",
        "             'Nb', 'Ni', 'P', 'Pb', 'Pd', 'Re', 'S', 'Sb', 'Se', 'Si', 'Sc', 'Sn', 'Sr',\n",
        "             'Ta', 'Te', 'Th', 'Ti', 'Tl', 'U', 'V', 'W', 'Y', 'Zn', 'Zr']"
      ],
      "execution_count": 0,
      "outputs": []
    },
    {
      "metadata": {
        "colab_type": "text",
        "id": "dxt98qlL2ypE"
      },
      "cell_type": "markdown",
      "source": [
        "Finding correlated features"
      ]
    },
    {
      "metadata": {
        "colab_type": "code",
        "id": "StzCuYoy2ypF",
        "colab": {}
      },
      "cell_type": "code",
      "source": [
        "df_orig_features = df[['geocod', 'bound', 'midx', 'midy', 'midz', 'topx', 'topy', 'topz', 'botx', 'boty', 'botz',\n",
        "             'length', 'from', 'to','auppm', 'agppm', 'Al', 'As', 'Au', 'B', 'Ba', 'Be', 'Bi', 'Ca',\n",
        "             'Cd', 'Co', 'Cr', 'Cu', 'Fe', 'Hg', 'K', 'La', 'Li', 'Mg', 'Mn', 'Mo', 'Na',\n",
        "             'Nb', 'Ni', 'P', 'Pb', 'Pd', 'Re', 'S', 'Sb', 'Se', 'Si', 'Sc', 'Sn', 'Sr',\n",
        "             'Ta', 'Te', 'Th', 'Ti', 'Tl', 'U', 'V', 'W', 'Y', 'Zn', 'Zr']]"
      ],
      "execution_count": 0,
      "outputs": []
    },
    {
      "metadata": {
        "colab_type": "code",
        "id": "hfhJ4ZT82ypI",
        "colab": {}
      },
      "cell_type": "code",
      "source": [
        "corr_matrix = df_orig_features.corr().abs()\n",
        "upper = corr_matrix.where(np.triu(np.ones(corr_matrix.shape), k=1).astype(np.bool))\n",
        "\n"
      ],
      "execution_count": 0,
      "outputs": []
    },
    {
      "metadata": {
        "colab_type": "code",
        "id": "AkaROHen2ypM",
        "colab": {}
      },
      "cell_type": "code",
      "source": [
        "print(upper)"
      ],
      "execution_count": 0,
      "outputs": []
    },
    {
      "metadata": {
        "colab_type": "code",
        "outputId": "fc8a4a08-9665-4a91-92bb-d4b3ecdc36f1",
        "id": "IoOp7s-12ypN",
        "colab": {
          "base_uri": "https://localhost:8080/",
          "height": 34
        }
      },
      "cell_type": "code",
      "source": [
        "# Find index of feature columns with correlation greater than 0.95\n",
        "to_drop = [column for column in upper.columns if any(upper[column] > 0.95)]\n",
        "\n",
        "print(to_drop)\n"
      ],
      "execution_count": 107,
      "outputs": [
        {
          "output_type": "stream",
          "text": [
            "['bound', 'topx', 'topy', 'topz', 'botx', 'boty', 'botz', 'Au', 'K', 'Pd', 'Re', 'Sn']\n"
          ],
          "name": "stdout"
        }
      ]
    },
    {
      "metadata": {
        "colab_type": "text",
        "id": "xA0PyD_D2ypQ"
      },
      "cell_type": "markdown",
      "source": [
        "['bound', 'topx', 'topy', 'topz', 'botx', 'boty', 'botz', 'Au', 'K', 'Pd', 'Re', 'Sn'] are all highly correlated with other features in the dataset\n",
        "\n",
        "\n",
        "### Questions\n",
        "- should we drop highly correlated chemical information?(Au, K, etc.)\n",
        "- what sets of features does auppm and agppm fit in?\n",
        "- can we include [vsed, tfil, dens] as features (i.e. can they be easily obtained and used to predict our target variables?)"
      ]
    },
    {
      "metadata": {
        "colab_type": "code",
        "id": "1aLt2vof2ypR",
        "colab": {}
      },
      "cell_type": "code",
      "source": [
        "df_all = df[['geocod','midx', 'midy', 'midz', 'length', 'from', 'to','auppm', 'agppm',\n",
        "             'Al', 'As', 'Au', 'B', 'Ba', 'Be', 'Bi', 'Ca',\n",
        "             'Cd', 'Co', 'Cr', 'Cu', 'Fe', 'Hg', 'K', 'La', 'Li', 'Mg',\n",
        "             'Mn', 'Mo', 'Na',\n",
        "             'Nb', 'Ni', 'P', 'Pb', 'Pd', 'Re', 'S', 'Sb', 'Se',\n",
        "             'Si', 'Sc', 'Sn', 'Sr',\n",
        "             'Ta', 'Te', 'Th', 'Ti', 'Tl', 'U', 'V', 'W', 'Y', 'Zn', 'Zr', \n",
        "             'Al_na', 'As_na', 'Au_na', 'B_na', 'Ba_na', 'Be_na', 'Bi_na', 'Ca_na',\n",
        "             'Cd_na', 'Co_na', 'Cr_na', 'Cu_na', 'Fe_na', 'Hg_na', 'K_na', 'La_na', 'Li_na', 'Mg_na',\n",
        "             'Mn_na', 'Mo_na', 'Na_na',\n",
        "             'Nb_na', 'Ni_na', 'P_na', 'Pb_na', 'Pd_na', 'Re_na', 'S_na', 'Sb_na', 'Se_na',\n",
        "             'Si_na', 'Sc_na', 'Sn_na', 'Sr_na',\n",
        "             'Ta_na', 'Te_na', 'Th_na', 'Ti_na', 'Tl_na', 'U_na', 'V_na', 'W_na', 'Y_na', 'Zn_na', 'Zr_na']]\n",
        "\n",
        "y_au = df['aurec']\n",
        "y_ag = df['agrec']\n",
        "y_nac = df['nacnc']\n",
        "y_codt = df['codt']"
      ],
      "execution_count": 0,
      "outputs": []
    },
    {
      "metadata": {
        "colab_type": "code",
        "id": "z_fYgtHV2ypS",
        "colab": {}
      },
      "cell_type": "code",
      "source": [
        "# defining function to evaluate exp_rmse\n",
        "def inv_y(a): return np.exp(a)\n",
        "\n",
        "def exp_rmspe(y_pred, targ):\n",
        "    targ = inv_y(targ)\n",
        "    pct_var = (targ - inv_y(y_pred))/targ\n",
        "    return math.sqrt((pct_var**2).mean())\n",
        "\n",
        "def rmspe(y_pred, targ):\n",
        "    pct_var = (targ - y_pred)/targ\n",
        "    return math.sqrt((pct_var**2).mean())"
      ],
      "execution_count": 0,
      "outputs": []
    },
    {
      "metadata": {
        "colab_type": "code",
        "id": "sX5H5hkV2ypT",
        "colab": {}
      },
      "cell_type": "code",
      "source": [
        "from sklearn.ensemble import RandomForestRegressor, RandomForestClassifier\n",
        "from sklearn.model_selection import train_test_split\n",
        "from sklearn.metrics import mean_squared_error\n",
        "from sklearn.feature_selection import f_regression\n",
        "from sklearn.linear_model import LogisticRegression, LinearRegression\n"
      ],
      "execution_count": 0,
      "outputs": []
    },
    {
      "metadata": {
        "colab_type": "code",
        "id": "g1B25-1a2ypW",
        "colab": {}
      },
      "cell_type": "code",
      "source": [
        "n_features = df_all.shape[1]\n",
        "from sklearn.model_selection import cross_val_score\n",
        "from skopt.space import Real, Integer, Categorical \n",
        "from skopt.utils import use_named_args\n",
        "from skopt import gp_minimize, forest_minimize, gbrt_minimize\n"
      ],
      "execution_count": 0,
      "outputs": []
    },
    {
      "metadata": {
        "colab_type": "code",
        "outputId": "42d41f65-29b9-4476-9653-87737ffb9388",
        "id": "brBjvMrw2ypX",
        "colab": {
          "base_uri": "https://localhost:8080/",
          "height": 612
        }
      },
      "cell_type": "code",
      "source": [
        "# list of valid scoring methods for objective function\n",
        "from sklearn.metrics import SCORERS\n",
        "\n",
        "sorted(SCORERS.keys()) "
      ],
      "execution_count": 16,
      "outputs": [
        {
          "output_type": "execute_result",
          "data": {
            "text/plain": [
              "['accuracy',\n",
              " 'adjusted_mutual_info_score',\n",
              " 'adjusted_rand_score',\n",
              " 'average_precision',\n",
              " 'balanced_accuracy',\n",
              " 'brier_score_loss',\n",
              " 'completeness_score',\n",
              " 'explained_variance',\n",
              " 'f1',\n",
              " 'f1_macro',\n",
              " 'f1_micro',\n",
              " 'f1_samples',\n",
              " 'f1_weighted',\n",
              " 'fowlkes_mallows_score',\n",
              " 'homogeneity_score',\n",
              " 'mutual_info_score',\n",
              " 'neg_log_loss',\n",
              " 'neg_mean_absolute_error',\n",
              " 'neg_mean_squared_error',\n",
              " 'neg_mean_squared_log_error',\n",
              " 'neg_median_absolute_error',\n",
              " 'normalized_mutual_info_score',\n",
              " 'precision',\n",
              " 'precision_macro',\n",
              " 'precision_micro',\n",
              " 'precision_samples',\n",
              " 'precision_weighted',\n",
              " 'r2',\n",
              " 'recall',\n",
              " 'recall_macro',\n",
              " 'recall_micro',\n",
              " 'recall_samples',\n",
              " 'recall_weighted',\n",
              " 'roc_auc',\n",
              " 'v_measure_score']"
            ]
          },
          "metadata": {
            "tags": []
          },
          "execution_count": 16
        }
      ]
    },
    {
      "metadata": {
        "colab_type": "text",
        "id": "-LIQlwwK2ypZ"
      },
      "cell_type": "markdown",
      "source": [
        "## Predicting codt class"
      ]
    },
    {
      "metadata": {
        "colab_type": "text",
        "id": "FMZvujxk2ypa"
      },
      "cell_type": "markdown",
      "source": [
        "### Random Forest"
      ]
    },
    {
      "metadata": {
        "colab_type": "text",
        "id": "SjwR9d8D2ypb"
      },
      "cell_type": "markdown",
      "source": [
        "using bayesian optimization to tune random forest"
      ]
    },
    {
      "metadata": {
        "colab_type": "code",
        "id": "VIecFdZ82ypd",
        "colab": {}
      },
      "cell_type": "code",
      "source": [
        "# Defining initial rf model\n",
        "m = RandomForestClassifier(n_estimators=100, max_features=0.99, min_samples_leaf=2,\n",
        "                          n_jobs=-1, oob_score=True)"
      ],
      "execution_count": 0,
      "outputs": []
    },
    {
      "metadata": {
        "colab_type": "code",
        "id": "MTkE0dd62ypg",
        "colab": {}
      },
      "cell_type": "code",
      "source": [
        "# defining search space for RF\n",
        "space = [Integer(100,2000, name='n_estimators'),\n",
        "         Real(0.1, 1.0, name='max_features'),\n",
        "         Integer(1, 5, name='max_depth'),\n",
        "         Integer(2, 100, name='min_samples_split'),\n",
        "         Integer(1, 100, name='min_samples_leaf'),\n",
        "         Categorical(['gini', 'entropy'], name = 'criterion')]"
      ],
      "execution_count": 0,
      "outputs": []
    },
    {
      "metadata": {
        "colab_type": "code",
        "id": "Zdz7bCdK2ypi",
        "colab": {}
      },
      "cell_type": "code",
      "source": [
        "# estimator parameters\n",
        "@use_named_args(space)\n",
        "def objective(**params):\n",
        "    m.set_params(**params)\n",
        "\n",
        "    return np.mean(cross_val_score(m, df_all, y_codt, cv=5, n_jobs=-1,\n",
        "                                    scoring=\"accuracy\"))"
      ],
      "execution_count": 0,
      "outputs": []
    },
    {
      "metadata": {
        "colab_type": "code",
        "id": "87mvE4Vo2ypk",
        "colab": {}
      },
      "cell_type": "code",
      "source": [
        "#instead of gp_minimize can also use forest_minimize or gbrt_minimize\n",
        "\n",
        "%time res_gp = gp_minimize(objective, space, n_calls=50, random_state=0)\n",
        "\n",
        "\n",
        "\"Best score=%.4f\" % res_gp.fun"
      ],
      "execution_count": 0,
      "outputs": []
    },
    {
      "metadata": {
        "colab_type": "code",
        "outputId": "a55509a2-3249-4051-f624-d6518c6f805b",
        "id": "77z6iT8s2ypl",
        "colab": {
          "base_uri": "https://localhost:8080/",
          "height": 134
        }
      },
      "cell_type": "code",
      "source": [
        "print(\"\"\"Best parameters:\n",
        "- n_estimators=%d\n",
        "- max_features=%d\n",
        "- max_depth=%d\n",
        "- min_samples_split=%d\n",
        "- min_samples_leaf=%d\n",
        "- criterion = %s\"\"\" % (res_gp.x[0], res_gp.x[1], \n",
        "                            res_gp.x[2], res_gp.x[3], \n",
        "                            res_gp.x[4], res_gp.x[5]))"
      ],
      "execution_count": 0,
      "outputs": [
        {
          "output_type": "stream",
          "text": [
            "Best parameters:\n",
            "- n_estimators=100\n",
            "- max_features=0\n",
            "- max_depth=1\n",
            "- min_samples_split=2\n",
            "- min_samples_leaf=100\n",
            "- criterion = gini\n"
          ],
          "name": "stdout"
        }
      ]
    },
    {
      "metadata": {
        "colab_type": "text",
        "id": "LBqtTl7J2ypn"
      },
      "cell_type": "markdown",
      "source": [
        "tuning models doesn't seem to help "
      ]
    },
    {
      "metadata": {
        "colab_type": "text",
        "id": "hMELNBuy2ypo"
      },
      "cell_type": "markdown",
      "source": [
        ""
      ]
    },
    {
      "metadata": {
        "colab_type": "text",
        "id": "DmXiMxF42ypo"
      },
      "cell_type": "markdown",
      "source": [
        "Fitting model with the tuned hyperparameters"
      ]
    },
    {
      "metadata": {
        "colab_type": "code",
        "id": "VX9LKQNu2ypp",
        "colab": {}
      },
      "cell_type": "code",
      "source": [
        "x_train, x_test, y_train, y_test = train_test_split(df_all, y_codt, test_size = 0.2)"
      ],
      "execution_count": 0,
      "outputs": []
    },
    {
      "metadata": {
        "colab_type": "code",
        "outputId": "9a71aa05-c006-41ba-c6db-707d68bcdb53",
        "id": "kMxTlCxh2ypr",
        "colab": {
          "base_uri": "https://localhost:8080/",
          "height": 119
        }
      },
      "cell_type": "code",
      "source": [
        "m = RandomForestClassifier(n_estimators=100, max_features=0.99, min_samples_leaf=2,\n",
        "                          n_jobs=-1, oob_score=True)\n",
        "\n",
        "m.fit(x_train, y_train)"
      ],
      "execution_count": 20,
      "outputs": [
        {
          "output_type": "execute_result",
          "data": {
            "text/plain": [
              "RandomForestClassifier(bootstrap=True, class_weight=None, criterion='gini',\n",
              "            max_depth=None, max_features=0.99, max_leaf_nodes=None,\n",
              "            min_impurity_decrease=0.0, min_impurity_split=None,\n",
              "            min_samples_leaf=2, min_samples_split=2,\n",
              "            min_weight_fraction_leaf=0.0, n_estimators=100, n_jobs=-1,\n",
              "            oob_score=True, random_state=None, verbose=0, warm_start=False)"
            ]
          },
          "metadata": {
            "tags": []
          },
          "execution_count": 20
        }
      ]
    },
    {
      "metadata": {
        "colab_type": "code",
        "outputId": "ba997a5b-83c7-47ce-e95f-2811d87cf264",
        "id": "uzQVJ90S2ypt",
        "colab": {
          "base_uri": "https://localhost:8080/",
          "height": 34
        }
      },
      "cell_type": "code",
      "source": [
        "m.score(x_test, y_test)"
      ],
      "execution_count": 21,
      "outputs": [
        {
          "output_type": "execute_result",
          "data": {
            "text/plain": [
              "0.9695817490494296"
            ]
          },
          "metadata": {
            "tags": []
          },
          "execution_count": 21
        }
      ]
    },
    {
      "metadata": {
        "colab_type": "code",
        "outputId": "9f25445c-90eb-4eda-8bc1-864cef1d2546",
        "id": "MoziHYLM2ypu",
        "colab": {
          "base_uri": "https://localhost:8080/",
          "height": 85
        }
      },
      "cell_type": "code",
      "source": [
        "from sklearn.metrics import confusion_matrix\n",
        "\n",
        "confusion_matrix(m.predict(x_test), y_test)"
      ],
      "execution_count": 22,
      "outputs": [
        {
          "output_type": "execute_result",
          "data": {
            "text/plain": [
              "array([[102,   0,   2,   1],\n",
              "       [  0,   1,   0,   0],\n",
              "       [  3,   0,  32,   0],\n",
              "       [  2,   0,   0, 120]])"
            ]
          },
          "metadata": {
            "tags": []
          },
          "execution_count": 22
        }
      ]
    },
    {
      "metadata": {
        "colab_type": "code",
        "outputId": "e569b10f-fef1-46a9-ef33-d43cf79a06f1",
        "id": "zUh-46xu2ypw",
        "colab": {
          "base_uri": "https://localhost:8080/",
          "height": 204
        }
      },
      "cell_type": "code",
      "source": [
        "from sklearn.metrics import classification_report\n",
        "\n",
        "print(classification_report(m.predict(x_test), y_test))"
      ],
      "execution_count": 23,
      "outputs": [
        {
          "output_type": "stream",
          "text": [
            "              precision    recall  f1-score   support\n",
            "\n",
            "           1       0.95      0.97      0.96       105\n",
            "           2       1.00      1.00      1.00         1\n",
            "           3       0.94      0.91      0.93        35\n",
            "           4       0.99      0.98      0.99       122\n",
            "\n",
            "   micro avg       0.97      0.97      0.97       263\n",
            "   macro avg       0.97      0.97      0.97       263\n",
            "weighted avg       0.97      0.97      0.97       263\n",
            "\n"
          ],
          "name": "stdout"
        }
      ]
    },
    {
      "metadata": {
        "colab_type": "code",
        "outputId": "1491d148-5852-4e0c-af61-548d037aefe7",
        "id": "WJ5hmymm2yp3",
        "colab": {
          "base_uri": "https://localhost:8080/",
          "height": 119
        }
      },
      "cell_type": "code",
      "source": [
        "feature_importances = pd.DataFrame(m.feature_importances_,\n",
        "                                   index = x_train.columns,\n",
        "                                    columns=['importance']).sort_values('importance',ascending=False)\n",
        "print(feature_importances[:5])"
      ],
      "execution_count": 25,
      "outputs": [
        {
          "output_type": "stream",
          "text": [
            "        importance\n",
            "midx      0.651735\n",
            "midz      0.250366\n",
            "midy      0.043041\n",
            "geocod    0.022391\n",
            "to        0.004532\n"
          ],
          "name": "stdout"
        }
      ]
    },
    {
      "metadata": {
        "id": "Wm8NLS8yOZ7q",
        "colab_type": "code",
        "colab": {
          "base_uri": "https://localhost:8080/",
          "height": 34
        },
        "outputId": "3a068625-4354-4641-a08d-7f612800e19e"
      },
      "cell_type": "code",
      "source": [
        "importances = m.feature_importances_\n",
        "std = np.std([m.feature_importances_ for tree in m.estimators_],\n",
        "             axis=0)\n",
        "indices = np.argsort(importances)[::-1]\n"
      ],
      "execution_count": 27,
      "outputs": [
        {
          "output_type": "stream",
          "text": [
            "Feature ranking:\n"
          ],
          "name": "stdout"
        }
      ]
    },
    {
      "metadata": {
        "id": "SyCQlE3XPT63",
        "colab_type": "code",
        "colab": {}
      },
      "cell_type": "code",
      "source": [
        ""
      ],
      "execution_count": 0,
      "outputs": []
    },
    {
      "metadata": {
        "id": "krDDa-u5OmFz",
        "colab_type": "code",
        "colab": {}
      },
      "cell_type": "code",
      "source": [
        "\n",
        "# # Plot the feature importances of the forest\n",
        "# plt.figure()\n",
        "# plt.title(\"Feature importances for co\")\n",
        "# plt.bar( importances[indices], range(x_train.shape[1]),\n",
        "#        color=\"r\", yerr=std[indices], align=\"center\")\n",
        "# plt.xticks(range(x_train.shape[1]), indices)\n",
        "# plt.xlim([-1, x_train.shape[1]])\n",
        "# plt.show()"
      ],
      "execution_count": 0,
      "outputs": []
    },
    {
      "metadata": {
        "colab_type": "text",
        "id": "diR5Aesb2yqQ"
      },
      "cell_type": "markdown",
      "source": [
        "## Predicting aurec"
      ]
    },
    {
      "metadata": {
        "colab_type": "text",
        "id": "a8NHz5b42yqS"
      },
      "cell_type": "markdown",
      "source": [
        "### All info"
      ]
    },
    {
      "metadata": {
        "colab_type": "code",
        "id": "W4dbf0ZM2yqT",
        "colab": {}
      },
      "cell_type": "code",
      "source": [
        "# initial rf model\n",
        "m = RandomForestRegressor(n_estimators=100, max_features=0.99, min_samples_leaf=2,\n",
        "                          n_jobs=-1, oob_score=True)"
      ],
      "execution_count": 0,
      "outputs": []
    },
    {
      "metadata": {
        "colab_type": "code",
        "id": "4BLydvIq2yqU",
        "colab": {}
      },
      "cell_type": "code",
      "source": [
        "# defining search space\n",
        "space = [Integer(10,2000, name='n_estimators'),\n",
        "         Integer(1, n_features, name='max_features'),\n",
        "         Integer(1, 5, name='max_depth'),\n",
        "         Integer(2, 100, name='min_samples_split'),\n",
        "         Integer(1, 100, name='min_samples_leaf')]\n"
      ],
      "execution_count": 0,
      "outputs": []
    },
    {
      "metadata": {
        "colab_type": "code",
        "id": "BL2zj3sp2yqX",
        "colab": {}
      },
      "cell_type": "code",
      "source": [
        "# estimator parameters\n",
        "@use_named_args(space)\n",
        "def objective(**params):\n",
        "    m.set_params(**params)\n",
        "\n",
        "    return -np.mean(cross_val_score(m, df_all, y_au, cv=5, n_jobs=-1,\n",
        "                                    scoring=\"neg_mean_squared_error\"))"
      ],
      "execution_count": 0,
      "outputs": []
    },
    {
      "metadata": {
        "colab_type": "code",
        "id": "ltiV05I22yqa",
        "colab": {}
      },
      "cell_type": "code",
      "source": [
        "# trying a different objective function\n",
        "@use_named_args(space)\n",
        "def objective(**params):\n",
        "    m.set_params(**params)\n",
        "    i = 0\n",
        "    l_rmse=[]\n",
        "    while i<10:\n",
        "        x_train, x_test, y_train, y_test = train_test_split(df_all, y_nac, test_size = 0.2)\n",
        "        m.fit(x_train, y_train)\n",
        "        preds = m.predict(x_test)\n",
        "        l_rmse.append(math.sqrt(mean_squared_error(preds, y_test)))\n",
        "        i+=1\n",
        "\n",
        "    return np.mean(l_rmse)"
      ],
      "execution_count": 0,
      "outputs": []
    },
    {
      "metadata": {
        "colab_type": "code",
        "id": "SpTKQiMi2yqe",
        "colab": {}
      },
      "cell_type": "code",
      "source": [
        "from skopt import gp_minimize, forest_minimize, gbrt_minimize\n",
        "#res_gp = gp_minimize(objective, space, n_calls=50, random_state=0)\n",
        "#instead of gp_minimize can also use forest_minimize or gbrt_minimize\n",
        "\n",
        "%time res_gp = gp_minimize(objective, space, n_calls=50, random_state=0)\n",
        "\n",
        "\n",
        "\"Best score=%.4f\" % res_gp.fun"
      ],
      "execution_count": 0,
      "outputs": []
    },
    {
      "metadata": {
        "colab_type": "code",
        "outputId": "30382691-c4fd-4fee-c546-9f56a101911b",
        "id": "t3_orxjG2yqg",
        "colab": {
          "base_uri": "https://localhost:8080/",
          "height": 119
        }
      },
      "cell_type": "code",
      "source": [
        "# print(\"\"\"Best parameters:\n",
        "# - n_estimators=%d\n",
        "# - max_features=%d\n",
        "# - max_depth=%d\n",
        "# - min_samples_split=%d\n",
        "# - min_samples_leaf=%d\n",
        "# - criterion = %s\"\"\" % (res_gp.x[0], res_gp.x[1], \n",
        "#                             res_gp.x[2], res_gp.x[3], \n",
        "#                             res_gp.x[4], res_gp.x[5]))\n",
        "\n",
        "print(\"\"\"Best parameters:\n",
        "- n_estimators=%d\n",
        "- max_features=%d\n",
        "- max_depth=%d\n",
        "- min_samples_split=%d\n",
        "- min_samples_leaf=%d\"\"\" % (res_gp.x[0], res_gp.x[1], \n",
        "                            res_gp.x[2], res_gp.x[3], \n",
        "                            res_gp.x[4]))"
      ],
      "execution_count": 125,
      "outputs": [
        {
          "output_type": "stream",
          "text": [
            "Best parameters:\n",
            "- n_estimators=2000\n",
            "- max_features=79\n",
            "- max_depth=5\n",
            "- min_samples_split=100\n",
            "- min_samples_leaf=1\n"
          ],
          "name": "stdout"
        }
      ]
    },
    {
      "metadata": {
        "colab_type": "code",
        "outputId": "5b3eab06-42ed-47a6-aa1d-3a553686a512",
        "id": "PPuiu2Lu2yqi",
        "colab": {
          "base_uri": "https://localhost:8080/",
          "height": 34
        }
      },
      "cell_type": "code",
      "source": [
        "i = 0\n",
        "l_rmspe = []\n",
        "l_mse = []\n",
        "l_rmse=[]\n",
        "\n",
        "while i <10:\n",
        "    x_train, x_test, y_train, y_test = train_test_split(df_all, y_au, test_size = 0.2)\n",
        "    m = RandomForestRegressor(n_estimators=2000, max_features=79, min_samples_leaf=1, max_depth = 5,\n",
        "                          min_samples_split = 100, n_jobs=-1, oob_score=True)\n",
        "    m.fit(x_train, y_train)\n",
        "    preds = m.predict(x_test)\n",
        "    l_rmspe.append(rmspe(preds, y_test))\n",
        "    l_mse.append(mean_squared_error(preds, y_test))\n",
        "    l_rmse.append(math.sqrt(mean_squared_error(preds, y_test)))\n",
        "    i+=1\n",
        "\n",
        "print(np.mean(l_rmspe), np.mean(l_mse), np.mean(l_rmse))"
      ],
      "execution_count": 126,
      "outputs": [
        {
          "output_type": "stream",
          "text": [
            "1.0789921030057927 0.014056742342823633 0.11748708970457952\n"
          ],
          "name": "stdout"
        }
      ]
    },
    {
      "metadata": {
        "colab_type": "code",
        "outputId": "342388be-6eed-487c-9e39-c1306d40fb31",
        "id": "gvD4j_n-2yql",
        "colab": {
          "base_uri": "https://localhost:8080/",
          "height": 1105
        }
      },
      "cell_type": "code",
      "source": [
        "feature_importances = pd.DataFrame(m.feature_importances_,\n",
        "                                   index = x_train.columns,\n",
        "                                    columns=['importance']).sort_values('importance',ascending=False)\n",
        "print(feature_importances)"
      ],
      "execution_count": 127,
      "outputs": [
        {
          "output_type": "stream",
          "text": [
            "        importance\n",
            "Au        0.348066\n",
            "auppm     0.299779\n",
            "agppm     0.134504\n",
            "midx      0.120734\n",
            "midy      0.041039\n",
            "Te        0.010087\n",
            "length    0.007132\n",
            "midz      0.004699\n",
            "from      0.004406\n",
            "Al        0.004195\n",
            "K         0.003618\n",
            "Cu        0.003440\n",
            "Mo        0.002328\n",
            "Ca        0.001719\n",
            "As        0.001664\n",
            "S         0.001375\n",
            "Sb        0.001251\n",
            "W         0.000959\n",
            "Mn        0.000897\n",
            "Cr_na     0.000840\n",
            "P         0.000800\n",
            "Mg        0.000740\n",
            "to        0.000720\n",
            "W_na      0.000668\n",
            "Fe        0.000635\n",
            "geocod    0.000609\n",
            "Zn        0.000403\n",
            "Ba        0.000373\n",
            "Si        0.000329\n",
            "Pb        0.000269\n",
            "...            ...\n",
            "V_na      0.000000\n",
            "B         0.000000\n",
            "Zn_na     0.000000\n",
            "Nb_na     0.000000\n",
            "Hg_na     0.000000\n",
            "Mo_na     0.000000\n",
            "Be_na     0.000000\n",
            "Se        0.000000\n",
            "Nb        0.000000\n",
            "Tl        0.000000\n",
            "U         0.000000\n",
            "Hg        0.000000\n",
            "Zr        0.000000\n",
            "Al_na     0.000000\n",
            "As_na     0.000000\n",
            "B_na      0.000000\n",
            "Ba_na     0.000000\n",
            "Bi_na     0.000000\n",
            "Mn_na     0.000000\n",
            "Ca_na     0.000000\n",
            "Cd_na     0.000000\n",
            "Bi        0.000000\n",
            "Cu_na     0.000000\n",
            "Fe_na     0.000000\n",
            "Pd        0.000000\n",
            "K_na      0.000000\n",
            "La_na     0.000000\n",
            "Li_na     0.000000\n",
            "Mg_na     0.000000\n",
            "Zr_na     0.000000\n",
            "\n",
            "[99 rows x 1 columns]\n"
          ],
          "name": "stdout"
        }
      ]
    },
    {
      "metadata": {
        "colab_type": "code",
        "id": "MZgtQ-j02yqn",
        "colab": {}
      },
      "cell_type": "code",
      "source": [
        ""
      ],
      "execution_count": 0,
      "outputs": []
    },
    {
      "metadata": {
        "colab_type": "text",
        "id": "f3LhOkUa2yqp"
      },
      "cell_type": "markdown",
      "source": [
        "### Using linear regression"
      ]
    },
    {
      "metadata": {
        "colab_type": "code",
        "outputId": "90e68ab1-73a9-4e3c-dc53-bf6682018ad9",
        "id": "YLdjBZdI2yqq",
        "colab": {
          "base_uri": "https://localhost:8080/",
          "height": 34
        }
      },
      "cell_type": "code",
      "source": [
        "i = 0\n",
        "l_rmspe = []\n",
        "l_mse = []\n",
        "l_rmse=[]\n",
        "\n",
        "while i <10:\n",
        "    x_train, x_test, y_train, y_test = train_test_split(df_all, y_au, test_size = 0.2)\n",
        "    m = LinearRegression(n_jobs=-1)\n",
        "    m.fit(x_train, y_train)\n",
        "    preds = m.predict(x_test)\n",
        "    l_rmspe.append(rmspe(preds, y_test))\n",
        "    l_mse.append(mean_squared_error(preds, y_test))\n",
        "    l_rmse.append(math.sqrt(mean_squared_error(preds, y_test)))\n",
        "    i+=1\n",
        "\n",
        "print(np.mean(l_rmspe), np.mean(l_mse), np.mean(l_rmse))"
      ],
      "execution_count": 0,
      "outputs": [
        {
          "output_type": "stream",
          "text": [
            "688.2234152896447 1628944.5061169674 598.357988980053\n"
          ],
          "name": "stdout"
        }
      ]
    },
    {
      "metadata": {
        "colab_type": "text",
        "id": "kqcNDVQo2yqw"
      },
      "cell_type": "markdown",
      "source": [
        "### Feature Importance"
      ]
    },
    {
      "metadata": {
        "colab_type": "text",
        "id": "GK0eUDll2yqx"
      },
      "cell_type": "markdown",
      "source": [
        "## Predicting agrec"
      ]
    },
    {
      "metadata": {
        "colab_type": "text",
        "id": "BrWXCTX12yqx"
      },
      "cell_type": "markdown",
      "source": [
        "### Random Forest"
      ]
    },
    {
      "metadata": {
        "colab_type": "code",
        "id": "UKXa4rA82yqy",
        "colab": {}
      },
      "cell_type": "code",
      "source": [
        "# initial rf model\n",
        "m = RandomForestRegressor(n_estimators=100, max_features=0.99, min_samples_leaf=2,\n",
        "                          n_jobs=-1, oob_score=True)"
      ],
      "execution_count": 0,
      "outputs": []
    },
    {
      "metadata": {
        "colab_type": "code",
        "id": "ahwh3qL52yqy",
        "colab": {}
      },
      "cell_type": "code",
      "source": [
        "# defining search space\n",
        "space = [Integer(10,2000, name='n_estimators'),\n",
        "         Integer(1, n_features, name='max_features'),\n",
        "         Integer(1, 5, name='max_depth'),\n",
        "         Integer(2, 100, name='min_samples_split'),\n",
        "         Integer(1, 100, name='min_samples_leaf')]\n"
      ],
      "execution_count": 0,
      "outputs": []
    },
    {
      "metadata": {
        "colab_type": "code",
        "id": "2hN3vd002yq0",
        "colab": {}
      },
      "cell_type": "code",
      "source": [
        "# estimator parameters\n",
        "@use_named_args(space)\n",
        "def objective(**params):\n",
        "    m.set_params(**params)\n",
        "\n",
        "    return -np.mean(cross_val_score(m, df_all, y_ag, cv=5, n_jobs=-1,\n",
        "                                    scoring=\"neg_mean_squared_error\"))"
      ],
      "execution_count": 0,
      "outputs": []
    },
    {
      "metadata": {
        "colab_type": "code",
        "id": "DFZR1Qv12yq0",
        "colab": {}
      },
      "cell_type": "code",
      "source": [
        "# trying a different objective function\n",
        "@use_named_args(space)\n",
        "def objective(**params):\n",
        "    m.set_params(**params)\n",
        "    i = 0\n",
        "    l_rmse=[]\n",
        "    while i<10:\n",
        "        x_train, x_test, y_train, y_test = train_test_split(df_all, y_nac, test_size = 0.2)\n",
        "        m.fit(x_train, y_train)\n",
        "        preds = m.predict(x_test)\n",
        "        l_rmse.append(math.sqrt(mean_squared_error(preds, y_test)))\n",
        "        i+=1\n",
        "\n",
        "    return np.mean(l_rmse)"
      ],
      "execution_count": 0,
      "outputs": []
    },
    {
      "metadata": {
        "colab_type": "code",
        "id": "BzhM12Kf2yq1",
        "colab": {}
      },
      "cell_type": "code",
      "source": [
        "from skopt import gp_minimize, forest_minimize, gbrt_minimize\n",
        "#res_gp = gp_minimize(objective, space, n_calls=50, random_state=0)\n",
        "#instead of gp_minimize can also use forest_minimize or gbrt_minimize\n",
        "\n",
        "%time res_gp = gp_minimize(objective, space, n_calls=50, random_state=0)\n",
        "\n",
        "\n",
        "\"Best score=%.4f\" % res_gp.fun"
      ],
      "execution_count": 0,
      "outputs": []
    },
    {
      "metadata": {
        "colab_type": "code",
        "outputId": "70b899d8-d401-4654-89e2-b6d9f6786b25",
        "id": "7ZxMaC122yq3",
        "colab": {
          "base_uri": "https://localhost:8080/",
          "height": 119
        }
      },
      "cell_type": "code",
      "source": [
        "# print(\"\"\"Best parameters:\n",
        "# - n_estimators=%d\n",
        "# - max_features=%d\n",
        "# - max_depth=%d\n",
        "# - min_samples_split=%d\n",
        "# - min_samples_leaf=%d\n",
        "# - criterion = %s\"\"\" % (res_gp.x[0], res_gp.x[1], \n",
        "#                             res_gp.x[2], res_gp.x[3], \n",
        "#                             res_gp.x[4], res_gp.x[5]))\n",
        "\n",
        "print(\"\"\"Best parameters:\n",
        "- n_estimators=%d\n",
        "- max_features=%d\n",
        "- max_depth=%d\n",
        "- min_samples_split=%d\n",
        "- min_samples_leaf=%d\"\"\" % (res_gp.x[0], res_gp.x[1], \n",
        "                            res_gp.x[2], res_gp.x[3], \n",
        "                            res_gp.x[4]))"
      ],
      "execution_count": 133,
      "outputs": [
        {
          "output_type": "stream",
          "text": [
            "Best parameters:\n",
            "- n_estimators=2000\n",
            "- max_features=47\n",
            "- max_depth=5\n",
            "- min_samples_split=2\n",
            "- min_samples_leaf=1\n"
          ],
          "name": "stdout"
        }
      ]
    },
    {
      "metadata": {
        "colab_type": "code",
        "outputId": "6c9c63f7-5818-4cba-c5ad-ae3dd59c32b0",
        "id": "s2uy6tOr2yq7",
        "colab": {
          "base_uri": "https://localhost:8080/",
          "height": 34
        }
      },
      "cell_type": "code",
      "source": [
        "i = 0\n",
        "l_rmspe = []\n",
        "l_mse = []\n",
        "l_rmse=[]\n",
        "\n",
        "while i <10:\n",
        "    x_train, x_test, y_train, y_test = train_test_split(df_all, y_ag, test_size = 0.2)\n",
        "    m = RandomForestRegressor(n_estimators=2000, max_features=47, max_depth = 5,\n",
        "                              min_samples_split = 2, min_samples_leaf=1,\n",
        "                              n_jobs=-1, oob_score=True)\n",
        "    m.fit(x_train, y_train)\n",
        "    preds = m.predict(x_test)\n",
        "    l_rmspe.append(rmspe(preds, y_test))\n",
        "    l_mse.append(mean_squared_error(preds, y_test))\n",
        "    l_rmse.append(math.sqrt(mean_squared_error(preds, y_test)))\n",
        "    i+=1\n",
        "\n",
        "print(np.mean(l_rmspe), np.mean(l_mse), np.mean(l_rmse))\n",
        "    \n",
        "    \n",
        "\n"
      ],
      "execution_count": 136,
      "outputs": [
        {
          "output_type": "stream",
          "text": [
            "3.76160750332823 0.02845393680847842 0.16845909087299007\n"
          ],
          "name": "stdout"
        }
      ]
    },
    {
      "metadata": {
        "colab_type": "code",
        "outputId": "06ede2cf-9ae5-4fef-865b-1b98c8926070",
        "id": "fQfLDUmK2yq_",
        "colab": {
          "base_uri": "https://localhost:8080/",
          "height": 1105
        }
      },
      "cell_type": "code",
      "source": [
        "feature_importances = pd.DataFrame(m.feature_importances_,\n",
        "                                   index = x_train.columns,\n",
        "                                    columns=['importance']).sort_values('importance',ascending=False)\n",
        "print(feature_importances)"
      ],
      "execution_count": 135,
      "outputs": [
        {
          "output_type": "stream",
          "text": [
            "          importance\n",
            "midy    3.060188e-01\n",
            "midx    1.727030e-01\n",
            "agppm   1.184096e-01\n",
            "Au      7.775442e-02\n",
            "auppm   7.439559e-02\n",
            "midz    5.211661e-02\n",
            "Cu      3.682217e-02\n",
            "geocod  1.828005e-02\n",
            "length  1.442013e-02\n",
            "from    1.224289e-02\n",
            "Mn      1.107335e-02\n",
            "to      1.104189e-02\n",
            "As      9.576248e-03\n",
            "Sb      8.167864e-03\n",
            "Cd      7.415221e-03\n",
            "Al      6.466568e-03\n",
            "Zn      5.340140e-03\n",
            "Be      5.145300e-03\n",
            "K       4.977417e-03\n",
            "Pb      4.903730e-03\n",
            "Fe      4.662726e-03\n",
            "Mg      4.660834e-03\n",
            "Ca      4.076790e-03\n",
            "Na      3.733249e-03\n",
            "S       3.027758e-03\n",
            "Ni      2.346909e-03\n",
            "Bi      2.282629e-03\n",
            "P       2.182621e-03\n",
            "Mo      2.111129e-03\n",
            "Cr      1.282793e-03\n",
            "...              ...\n",
            "Th      4.785517e-05\n",
            "S_na    4.418905e-05\n",
            "Ni_na   4.211693e-05\n",
            "Pb_na   4.207387e-05\n",
            "Ti_na   3.978728e-05\n",
            "Tl_na   3.932443e-05\n",
            "Nb_na   3.901649e-05\n",
            "Re_na   3.723083e-05\n",
            "Sb_na   3.655410e-05\n",
            "Bi_na   3.476936e-05\n",
            "Zr_na   3.457709e-05\n",
            "V_na    2.834489e-05\n",
            "Sn      2.833296e-05\n",
            "Na_na   2.750926e-05\n",
            "Sr_na   2.621490e-05\n",
            "Ca_na   2.265449e-05\n",
            "Ta_na   2.039732e-05\n",
            "Mo_na   2.032405e-05\n",
            "Co_na   1.680365e-05\n",
            "Th_na   1.577227e-05\n",
            "Cd_na   1.425943e-05\n",
            "La_na   1.325803e-05\n",
            "As_na   1.047600e-05\n",
            "Sc_na   1.012959e-05\n",
            "Al_na   8.990300e-06\n",
            "Be_na   8.824023e-06\n",
            "Y_na    7.889765e-06\n",
            "K_na    7.271340e-06\n",
            "Mg_na   4.421307e-06\n",
            "Fe_na   6.595207e-07\n",
            "\n",
            "[99 rows x 1 columns]\n"
          ],
          "name": "stdout"
        }
      ]
    },
    {
      "metadata": {
        "colab_type": "text",
        "id": "GIiOqCtv2yrF"
      },
      "cell_type": "markdown",
      "source": [
        "### Linear Regression"
      ]
    },
    {
      "metadata": {
        "colab_type": "code",
        "outputId": "8b9647c4-31e0-4f35-8f1b-38f5066861bc",
        "id": "pOUDb7LJ2yrF",
        "colab": {
          "base_uri": "https://localhost:8080/",
          "height": 34
        }
      },
      "cell_type": "code",
      "source": [
        "i = 0\n",
        "l_rmspe = []\n",
        "l_mse = []\n",
        "l_rmse=[]\n",
        "\n",
        "while i <10:\n",
        "    x_train, x_test, y_train, y_test = train_test_split(df_all, y_au, test_size = 0.2)\n",
        "    m = LinearRegression(n_jobs=-1)\n",
        "    m.fit(x_train, y_train)\n",
        "    preds = m.predict(x_test)\n",
        "    l_rmspe.append(rmspe(preds, y_test))\n",
        "    l_mse.append(mean_squared_error(preds, y_test))\n",
        "    l_rmse.append(math.sqrt(mean_squared_error(preds, y_test)))\n",
        "    i+=1\n",
        "\n",
        "print(np.mean(l_rmspe), np.mean(l_mse), np.mean(l_rmse))"
      ],
      "execution_count": 0,
      "outputs": [
        {
          "output_type": "stream",
          "text": [
            "195.07249448783168 215372.0092706498 168.10968404431244\n"
          ],
          "name": "stdout"
        }
      ]
    },
    {
      "metadata": {
        "colab_type": "text",
        "id": "I3vYFwjc2yrJ"
      },
      "cell_type": "markdown",
      "source": [
        "### Feature Importance"
      ]
    },
    {
      "metadata": {
        "colab_type": "text",
        "id": "cwpOoMA-2yrJ"
      },
      "cell_type": "markdown",
      "source": [
        "## Predicting nacnc"
      ]
    },
    {
      "metadata": {
        "colab_type": "text",
        "id": "-X_KXdMI2yrJ"
      },
      "cell_type": "markdown",
      "source": [
        "### All info"
      ]
    },
    {
      "metadata": {
        "colab_type": "code",
        "id": "TESYIUGz2yrJ",
        "colab": {}
      },
      "cell_type": "code",
      "source": [
        "m = RandomForestRegressor(n_estimators=100, max_features=0.99, min_samples_leaf=2,\n",
        "                          n_jobs=-1, oob_score=True)"
      ],
      "execution_count": 0,
      "outputs": []
    },
    {
      "metadata": {
        "colab_type": "code",
        "id": "PuZSJAWu2yrQ",
        "colab": {}
      },
      "cell_type": "code",
      "source": [
        "# defining search space\n",
        "space = [Integer(10,2000, name='n_estimators'),\n",
        "         Integer(1, n_features, name='max_features'),\n",
        "         Integer(1, 5, name='max_depth'),\n",
        "         Integer(2, 100, name='min_samples_split'),\n",
        "         Integer(1, 100, name='min_samples_leaf')]\n"
      ],
      "execution_count": 0,
      "outputs": []
    },
    {
      "metadata": {
        "colab_type": "code",
        "id": "eo5RWDcD2yrS",
        "colab": {}
      },
      "cell_type": "code",
      "source": [
        "# estimator parameters\n",
        "# @use_named_args(space)\n",
        "# def objective(**params):\n",
        "#     m.set_params(**params)\n",
        "\n",
        "#     return -np.mean(cross_val_score(m, df_all, y_nac, cv=5, n_jobs=-1,\n",
        "#                                     scoring=\"neg_mean_squared_error\"))"
      ],
      "execution_count": 0,
      "outputs": []
    },
    {
      "metadata": {
        "colab_type": "code",
        "id": "q92zhXyB2yrT",
        "colab": {}
      },
      "cell_type": "code",
      "source": [
        "# trying a different objective function\n",
        "@use_named_args(space)\n",
        "def objective(**params):\n",
        "    m.set_params(**params)\n",
        "    i = 0\n",
        "    l_rmse=[]\n",
        "    while i<10:\n",
        "        x_train, x_test, y_train, y_test = train_test_split(df_all, y_nac, test_size = 0.2)\n",
        "        m.fit(x_train, y_train)\n",
        "        preds = m.predict(x_test)\n",
        "        l_rmse.append(math.sqrt(mean_squared_error(preds, y_test)))\n",
        "        i+=1\n",
        "\n",
        "    return np.mean(l_rmse)"
      ],
      "execution_count": 0,
      "outputs": []
    },
    {
      "metadata": {
        "colab_type": "code",
        "id": "ANeej0Gk2yrV",
        "colab": {}
      },
      "cell_type": "code",
      "source": [
        "from skopt import gp_minimize, forest_minimize, gbrt_minimize\n",
        "#res_gp = gp_minimize(objective, space, n_calls=50, random_state=0)\n",
        "#instead of gp_minimize can also use forest_minimize or gbrt_minimize\n",
        "\n",
        "%time res_gp = gp_minimize(objective, space, n_calls=50, random_state=0)\n",
        "\n",
        "\n",
        "\"Best score=%.4f\" % res_gp.fun"
      ],
      "execution_count": 0,
      "outputs": []
    },
    {
      "metadata": {
        "colab_type": "code",
        "outputId": "1805433e-9c16-4036-8b33-2ab6eaf44922",
        "id": "f4_keAKj2yrV",
        "colab": {
          "base_uri": "https://localhost:8080/",
          "height": 119
        }
      },
      "cell_type": "code",
      "source": [
        "# print(\"\"\"Best parameters:\n",
        "# - n_estimators=%d\n",
        "# - max_features=%d\n",
        "# - max_depth=%d\n",
        "# - min_samples_split=%d\n",
        "# - min_samples_leaf=%d\n",
        "# - criterion = %s\"\"\" % (res_gp.x[0], res_gp.x[1], \n",
        "#                             res_gp.x[2], res_gp.x[3], \n",
        "#                             res_gp.x[4], res_gp.x[5]))\n",
        "\n",
        "print(\"\"\"Best parameters:\n",
        "- n_estimators=%d\n",
        "- max_features=%d\n",
        "- max_depth=%d\n",
        "- min_samples_split=%d\n",
        "- min_samples_leaf=%d\"\"\" % (res_gp.x[0], res_gp.x[1], \n",
        "                            res_gp.x[2], res_gp.x[3], \n",
        "                            res_gp.x[4]))"
      ],
      "execution_count": 142,
      "outputs": [
        {
          "output_type": "stream",
          "text": [
            "Best parameters:\n",
            "- n_estimators=2000\n",
            "- max_features=57\n",
            "- max_depth=5\n",
            "- min_samples_split=2\n",
            "- min_samples_leaf=1\n"
          ],
          "name": "stdout"
        }
      ]
    },
    {
      "metadata": {
        "colab_type": "code",
        "outputId": "f30d4933-67e2-4dad-f62e-3f6cd0b4ca72",
        "id": "DkdnHA5t2yra",
        "colab": {
          "base_uri": "https://localhost:8080/",
          "height": 34
        }
      },
      "cell_type": "code",
      "source": [
        "i = 0\n",
        "l_rmspe = []\n",
        "l_mse = []\n",
        "l_rmse=[]\n",
        "\n",
        "while i <10:\n",
        "    x_train, x_test, y_train, y_test = train_test_split(df_all, y_nac, test_size = 0.2)\n",
        "    m = RandomForestRegressor(n_estimators=2000, max_features=57, max_depth = 5,\n",
        "                              min_samples_split = 2, min_samples_leaf=1,\n",
        "                          n_jobs=-1, oob_score=True)\n",
        "    m.fit(x_train, y_train)\n",
        "    preds = m.predict(x_test)\n",
        "    l_rmspe.append(rmspe(preds, y_test))\n",
        "    l_mse.append(mean_squared_error(preds, y_test))\n",
        "    l_rmse.append(math.sqrt(mean_squared_error(preds, y_test)))\n",
        "    i+=1\n",
        "\n",
        "print(np.mean(l_rmspe), np.mean(l_mse), np.mean(l_rmse))"
      ],
      "execution_count": 145,
      "outputs": [
        {
          "output_type": "stream",
          "text": [
            "4.134852036876245 2.870554495073887 1.6927921587353747\n"
          ],
          "name": "stdout"
        }
      ]
    },
    {
      "metadata": {
        "colab_type": "code",
        "outputId": "dda9d4a4-9b44-47b8-a75e-fd4658e1f31e",
        "id": "gdNkN-Sg2yrc",
        "colab": {
          "base_uri": "https://localhost:8080/",
          "height": 1105
        }
      },
      "cell_type": "code",
      "source": [
        "feature_importances = pd.DataFrame(m.feature_importances_,\n",
        "                                   index = x_train.columns,\n",
        "                                    columns=['importance']).sort_values('importance',ascending=False)\n",
        "print(feature_importances)"
      ],
      "execution_count": 144,
      "outputs": [
        {
          "output_type": "stream",
          "text": [
            "          importance\n",
            "midx    2.075027e-01\n",
            "midy    2.002600e-01\n",
            "midz    9.953809e-02\n",
            "agppm   8.999698e-02\n",
            "auppm   8.754112e-02\n",
            "Au      8.740838e-02\n",
            "Si      4.401867e-02\n",
            "Cr      2.835189e-02\n",
            "Sb      2.026161e-02\n",
            "length  1.929463e-02\n",
            "geocod  1.722855e-02\n",
            "from    1.597678e-02\n",
            "to      1.278347e-02\n",
            "Cu      5.855616e-03\n",
            "Ti      3.854497e-03\n",
            "Na      3.825642e-03\n",
            "Hg      3.352738e-03\n",
            "Bi      3.187677e-03\n",
            "V       3.074214e-03\n",
            "Pd      2.512209e-03\n",
            "Ni      2.412585e-03\n",
            "Zr_na   2.361689e-03\n",
            "Pb      2.253683e-03\n",
            "Sr_na   2.075198e-03\n",
            "Ba_na   2.031136e-03\n",
            "Tl_na   1.970587e-03\n",
            "La_na   1.946017e-03\n",
            "Te_na   1.877490e-03\n",
            "V_na    1.829781e-03\n",
            "S       1.787789e-03\n",
            "...              ...\n",
            "Mn_na   4.051975e-05\n",
            "Fe_na   3.823522e-05\n",
            "Bi_na   3.791566e-05\n",
            "Ta      3.642196e-05\n",
            "Tl      3.617716e-05\n",
            "Be_na   3.464187e-05\n",
            "Sc_na   3.387120e-05\n",
            "Hg_na   3.209409e-05\n",
            "Sc      3.172204e-05\n",
            "Th      2.827392e-05\n",
            "S_na    2.759931e-05\n",
            "Li_na   2.750368e-05\n",
            "Mo_na   2.646930e-05\n",
            "Si_na   2.574035e-05\n",
            "Ti_na   2.447410e-05\n",
            "Ni_na   2.423321e-05\n",
            "Re_na   2.306644e-05\n",
            "Ta_na   2.177455e-05\n",
            "Th_na   2.169260e-05\n",
            "Co      2.067936e-05\n",
            "U       2.017675e-05\n",
            "Pb_na   1.896711e-05\n",
            "La      1.857759e-05\n",
            "Y       1.823106e-05\n",
            "Cd_na   1.820965e-05\n",
            "Sn      1.751889e-05\n",
            "Pd_na   1.665330e-05\n",
            "Nb_na   9.626453e-06\n",
            "Nb      1.921816e-06\n",
            "Re      9.632782e-07\n",
            "\n",
            "[99 rows x 1 columns]\n"
          ],
          "name": "stdout"
        }
      ]
    },
    {
      "metadata": {
        "colab_type": "text",
        "id": "SwWycX2t2yrd"
      },
      "cell_type": "markdown",
      "source": [
        "## Observations\n",
        "\n",
        "- Dropping observations where the target variable was missing (eg agrec, nacnc) did not yield any increase in predictive power\n",
        "\n"
      ]
    },
    {
      "metadata": {
        "colab_type": "code",
        "id": "dlrlI_Lc2yre",
        "colab": {}
      },
      "cell_type": "code",
      "source": [
        ""
      ],
      "execution_count": 0,
      "outputs": []
    }
  ]
}