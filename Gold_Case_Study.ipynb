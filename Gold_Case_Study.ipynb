{
  "nbformat": 4,
  "nbformat_minor": 0,
  "metadata": {
    "colab": {
      "name": "Gold Case Study.ipynb",
      "version": "0.3.2",
      "provenance": [],
      "collapsed_sections": [],
      "toc_visible": true,
      "include_colab_link": true
    },
    "kernelspec": {
      "name": "python3",
      "display_name": "Python 3"
    }
  },
  "cells": [
    {
      "cell_type": "markdown",
      "metadata": {
        "id": "view-in-github",
        "colab_type": "text"
      },
      "source": [
        "<a href=\"https://colab.research.google.com/github/maxmatical/Machine-Learning/blob/master/Gold_Case_Study.ipynb\" target=\"_parent\"><img src=\"https://colab.research.google.com/assets/colab-badge.svg\" alt=\"Open In Colab\"/></a>"
      ]
    },
    {
      "metadata": {
        "id": "TBn1CjquH0Tw",
        "colab_type": "text"
      },
      "cell_type": "markdown",
      "source": [
        "# Installing Required Packages"
      ]
    },
    {
      "metadata": {
        "id": "CVnm8K03HvqE",
        "colab_type": "code",
        "colab": {}
      },
      "cell_type": "code",
      "source": [
        "# Set up environment and download course-v3\n",
        "!pip install torch_nightly -f https://download.pytorch.org/whl/nightly/cu92/torch_nightly.html\n",
        "!pip install fastai\n",
        "!pip install fastprogress\n",
        "!pip install pathlib"
      ],
      "execution_count": 0,
      "outputs": []
    },
    {
      "metadata": {
        "id": "SMiWMiwlH9wX",
        "colab_type": "code",
        "colab": {}
      },
      "cell_type": "code",
      "source": [
        " !curl https://course-v3.fast.ai/setup/colab | bash"
      ],
      "execution_count": 0,
      "outputs": []
    },
    {
      "metadata": {
        "id": "biF4Fc5AH_GV",
        "colab_type": "code",
        "colab": {}
      },
      "cell_type": "code",
      "source": [
        "from fastai import *\n",
        "from fastai.tabular import *\n"
      ],
      "execution_count": 0,
      "outputs": []
    },
    {
      "metadata": {
        "id": "JjVc47GxSnST",
        "colab_type": "code",
        "colab": {}
      },
      "cell_type": "code",
      "source": [
        "import pandas as pd\n",
        "import matplotlib as plt\n",
        "import numpy as np"
      ],
      "execution_count": 0,
      "outputs": []
    },
    {
      "metadata": {
        "id": "BNZwLYN0VBV2",
        "colab_type": "code",
        "colab": {
          "base_uri": "https://localhost:8080/",
          "height": 34
        },
        "outputId": "c78a2da2-f509-44be-a35c-5c5b68d41f19"
      },
      "cell_type": "code",
      "source": [
        "# check the directory of the data \n",
        "!ls -d $PWD/*"
      ],
      "execution_count": 6,
      "outputs": [
        {
          "output_type": "stream",
          "text": [
            "/content/course-v3  /content/data  /content/models\n"
          ],
          "name": "stdout"
        }
      ]
    },
    {
      "metadata": {
        "id": "qe1mzLqtR1OF",
        "colab_type": "text"
      },
      "cell_type": "markdown",
      "source": [
        "# Loading in Data"
      ]
    },
    {
      "metadata": {
        "id": "EZE1nXT4SMkd",
        "colab_type": "text"
      },
      "cell_type": "markdown",
      "source": [
        "using a function to concatenate csvs "
      ]
    },
    {
      "metadata": {
        "id": "5hO6VZGsSsGt",
        "colab_type": "code",
        "colab": {}
      },
      "cell_type": "code",
      "source": [
        "path = '/content/data/'\n",
        "os.makedirs(path, exist_ok=True)\n",
        "#path\n"
      ],
      "execution_count": 0,
      "outputs": []
    },
    {
      "metadata": {
        "id": "AGF-sDadS7di",
        "colab_type": "code",
        "colab": {
          "base_uri": "https://localhost:8080/",
          "height": 34
        },
        "outputId": "2af61f40-83db-4f5e-a3c6-15d8574c348b"
      },
      "cell_type": "code",
      "source": [
        "!ls {path}"
      ],
      "execution_count": 7,
      "outputs": [
        {
          "output_type": "stream",
          "text": [
            " C1_Comdty_t.csv   chicago_weather_t.csv  'GC1 Comdty_t.csv'   us_macro_t.csv\n"
          ],
          "name": "stdout"
        }
      ]
    },
    {
      "metadata": {
        "id": "cN2OO0ggTDra",
        "colab_type": "code",
        "colab": {
          "base_uri": "https://localhost:8080/",
          "height": 34
        },
        "outputId": "baa4f6bb-21ac-4a44-f82e-4958e87cbd56"
      },
      "cell_type": "code",
      "source": [
        "# check the directory of the data \n",
        "!ls -d $PWD/*"
      ],
      "execution_count": 8,
      "outputs": [
        {
          "output_type": "stream",
          "text": [
            "/content/course-v3  /content/data  /content/models\n"
          ],
          "name": "stdout"
        }
      ]
    },
    {
      "metadata": {
        "id": "VnoWuqCUSSeD",
        "colab_type": "code",
        "colab": {}
      },
      "cell_type": "code",
      "source": [
        "table_names = ['C1_Comdty_t', 'GC1 Comdty_t', 'chicago_weather_t', 'us_macro_t']"
      ],
      "execution_count": 0,
      "outputs": []
    },
    {
      "metadata": {
        "id": "EVx4No0VSbhp",
        "colab_type": "code",
        "colab": {}
      },
      "cell_type": "code",
      "source": [
        "tables = [pd.read_csv(f'{path}{fname}.csv', low_memory=False) for fname in table_names]\n"
      ],
      "execution_count": 0,
      "outputs": []
    },
    {
      "metadata": {
        "id": "zeJ04QfBb-GS",
        "colab_type": "text"
      },
      "cell_type": "markdown",
      "source": [
        "Naming tables"
      ]
    },
    {
      "metadata": {
        "id": "U6P_0sa4bteZ",
        "colab_type": "code",
        "colab": {}
      },
      "cell_type": "code",
      "source": [
        "C1 = tables[0]\n",
        "GC1 = tables[1]\n",
        "chicago_weather = tables[2]\n",
        "us_macro = tables[3]\n"
      ],
      "execution_count": 0,
      "outputs": []
    },
    {
      "metadata": {
        "id": "Qo9DpvQ6cKtW",
        "colab_type": "code",
        "colab": {}
      },
      "cell_type": "code",
      "source": [
        ""
      ],
      "execution_count": 0,
      "outputs": []
    },
    {
      "metadata": {
        "id": "Vpkf4BOzVZKo",
        "colab_type": "text"
      },
      "cell_type": "markdown",
      "source": [
        "# Exploratory Data Analysis"
      ]
    },
    {
      "metadata": {
        "id": "AmfxzwKXSdFj",
        "colab_type": "code",
        "colab": {}
      },
      "cell_type": "code",
      "source": [
        "from IPython.display import HTML, display\n"
      ],
      "execution_count": 0,
      "outputs": []
    },
    {
      "metadata": {
        "id": "I0OzteSEYPI3",
        "colab_type": "code",
        "colab": {}
      },
      "cell_type": "code",
      "source": [
        "! pip install pandas-summary\n",
        "from pandas_summary import DataFrameSummary\n"
      ],
      "execution_count": 0,
      "outputs": []
    },
    {
      "metadata": {
        "id": "NtB3jJXkVd58",
        "colab_type": "code",
        "colab": {
          "base_uri": "https://localhost:8080/",
          "height": 765
        },
        "outputId": "b9f8c9bd-d125-4398-b253-ab725a2042f3"
      },
      "cell_type": "code",
      "source": [
        "# looking at all data\n",
        "for t in tables: display(t.head())"
      ],
      "execution_count": 15,
      "outputs": [
        {
          "output_type": "display_data",
          "data": {
            "text/html": [
              "<div>\n",
              "<style scoped>\n",
              "    .dataframe tbody tr th:only-of-type {\n",
              "        vertical-align: middle;\n",
              "    }\n",
              "\n",
              "    .dataframe tbody tr th {\n",
              "        vertical-align: top;\n",
              "    }\n",
              "\n",
              "    .dataframe thead th {\n",
              "        text-align: right;\n",
              "    }\n",
              "</style>\n",
              "<table border=\"1\" class=\"dataframe\">\n",
              "  <thead>\n",
              "    <tr style=\"text-align: right;\">\n",
              "      <th></th>\n",
              "      <th>Unnamed: 0</th>\n",
              "      <th>Unnamed: 0.1</th>\n",
              "      <th>C 1 Comdty</th>\n",
              "      <th>Bid</th>\n",
              "      <th>Ask</th>\n",
              "      <th>Last</th>\n",
              "      <th>High</th>\n",
              "      <th>Low</th>\n",
              "      <th>Volume</th>\n",
              "      <th>Open_Interest</th>\n",
              "    </tr>\n",
              "  </thead>\n",
              "  <tbody>\n",
              "    <tr>\n",
              "      <th>0</th>\n",
              "      <td>1</td>\n",
              "      <td>3</td>\n",
              "      <td>1/6/2000</td>\n",
              "      <td>NaN</td>\n",
              "      <td>NaN</td>\n",
              "      <td>203.75</td>\n",
              "      <td>205.75</td>\n",
              "      <td>203.00</td>\n",
              "      <td>37490.0</td>\n",
              "      <td>216368.0</td>\n",
              "    </tr>\n",
              "    <tr>\n",
              "      <th>1</th>\n",
              "      <td>2</td>\n",
              "      <td>4</td>\n",
              "      <td>1/7/2000</td>\n",
              "      <td>NaN</td>\n",
              "      <td>NaN</td>\n",
              "      <td>NaN</td>\n",
              "      <td>NaN</td>\n",
              "      <td>202.50</td>\n",
              "      <td>46637.0</td>\n",
              "      <td>219250.0</td>\n",
              "    </tr>\n",
              "    <tr>\n",
              "      <th>2</th>\n",
              "      <td>3</td>\n",
              "      <td>5</td>\n",
              "      <td>1/10/2000</td>\n",
              "      <td>NaN</td>\n",
              "      <td>NaN</td>\n",
              "      <td>208.50</td>\n",
              "      <td>209.25</td>\n",
              "      <td>204.75</td>\n",
              "      <td>47788.0</td>\n",
              "      <td>218442.0</td>\n",
              "    </tr>\n",
              "    <tr>\n",
              "      <th>3</th>\n",
              "      <td>4</td>\n",
              "      <td>6</td>\n",
              "      <td>1/11/2000</td>\n",
              "      <td>NaN</td>\n",
              "      <td>NaN</td>\n",
              "      <td>207.25</td>\n",
              "      <td>209.25</td>\n",
              "      <td>206.25</td>\n",
              "      <td>41233.0</td>\n",
              "      <td>218977.0</td>\n",
              "    </tr>\n",
              "    <tr>\n",
              "      <th>4</th>\n",
              "      <td>5</td>\n",
              "      <td>7</td>\n",
              "      <td>1/12/2000</td>\n",
              "      <td>206.75</td>\n",
              "      <td>NaN</td>\n",
              "      <td>215.50</td>\n",
              "      <td>216.75</td>\n",
              "      <td>206.75</td>\n",
              "      <td>122388.0</td>\n",
              "      <td>229517.0</td>\n",
              "    </tr>\n",
              "  </tbody>\n",
              "</table>\n",
              "</div>"
            ],
            "text/plain": [
              "   Unnamed: 0  Unnamed: 0.1 C 1 Comdty     Bid  Ask    Last    High     Low  \\\n",
              "0           1             3   1/6/2000     NaN  NaN  203.75  205.75  203.00   \n",
              "1           2             4   1/7/2000     NaN  NaN     NaN     NaN  202.50   \n",
              "2           3             5  1/10/2000     NaN  NaN  208.50  209.25  204.75   \n",
              "3           4             6  1/11/2000     NaN  NaN  207.25  209.25  206.25   \n",
              "4           5             7  1/12/2000  206.75  NaN  215.50  216.75  206.75   \n",
              "\n",
              "     Volume  Open_Interest  \n",
              "0   37490.0       216368.0  \n",
              "1   46637.0       219250.0  \n",
              "2   47788.0       218442.0  \n",
              "3   41233.0       218977.0  \n",
              "4  122388.0       229517.0  "
            ]
          },
          "metadata": {
            "tags": []
          }
        },
        {
          "output_type": "display_data",
          "data": {
            "text/html": [
              "<div>\n",
              "<style scoped>\n",
              "    .dataframe tbody tr th:only-of-type {\n",
              "        vertical-align: middle;\n",
              "    }\n",
              "\n",
              "    .dataframe tbody tr th {\n",
              "        vertical-align: top;\n",
              "    }\n",
              "\n",
              "    .dataframe thead th {\n",
              "        text-align: right;\n",
              "    }\n",
              "</style>\n",
              "<table border=\"1\" class=\"dataframe\">\n",
              "  <thead>\n",
              "    <tr style=\"text-align: right;\">\n",
              "      <th></th>\n",
              "      <th>Unnamed: 0</th>\n",
              "      <th>GC1 Comdty</th>\n",
              "      <th>Bid</th>\n",
              "      <th>Ask</th>\n",
              "      <th>Last</th>\n",
              "      <th>High</th>\n",
              "      <th>Low</th>\n",
              "      <th>Volume</th>\n",
              "      <th>Open_Interest</th>\n",
              "    </tr>\n",
              "  </thead>\n",
              "  <tbody>\n",
              "    <tr>\n",
              "      <th>0</th>\n",
              "      <td>2</td>\n",
              "      <td>1/6/2000</td>\n",
              "      <td>NaN</td>\n",
              "      <td>NaN</td>\n",
              "      <td>282.4</td>\n",
              "      <td>282.8</td>\n",
              "      <td>280.2</td>\n",
              "      <td>26026.0</td>\n",
              "      <td>67505.0</td>\n",
              "    </tr>\n",
              "    <tr>\n",
              "      <th>1</th>\n",
              "      <td>3</td>\n",
              "      <td>1/7/2000</td>\n",
              "      <td>NaN</td>\n",
              "      <td>NaN</td>\n",
              "      <td>282.9</td>\n",
              "      <td>284.5</td>\n",
              "      <td>282.0</td>\n",
              "      <td>19396.0</td>\n",
              "      <td>68731.0</td>\n",
              "    </tr>\n",
              "    <tr>\n",
              "      <th>2</th>\n",
              "      <td>4</td>\n",
              "      <td>1/10/2000</td>\n",
              "      <td>NaN</td>\n",
              "      <td>NaN</td>\n",
              "      <td>282.7</td>\n",
              "      <td>283.9</td>\n",
              "      <td>281.8</td>\n",
              "      <td>11612.0</td>\n",
              "      <td>66778.0</td>\n",
              "    </tr>\n",
              "    <tr>\n",
              "      <th>3</th>\n",
              "      <td>5</td>\n",
              "      <td>1/11/2000</td>\n",
              "      <td>NaN</td>\n",
              "      <td>NaN</td>\n",
              "      <td>284.4</td>\n",
              "      <td>285.3</td>\n",
              "      <td>281.9</td>\n",
              "      <td>30928.0</td>\n",
              "      <td>64731.0</td>\n",
              "    </tr>\n",
              "    <tr>\n",
              "      <th>4</th>\n",
              "      <td>6</td>\n",
              "      <td>1/12/2000</td>\n",
              "      <td>NaN</td>\n",
              "      <td>NaN</td>\n",
              "      <td>283.7</td>\n",
              "      <td>285.0</td>\n",
              "      <td>282.5</td>\n",
              "      <td>13678.0</td>\n",
              "      <td>64629.0</td>\n",
              "    </tr>\n",
              "  </tbody>\n",
              "</table>\n",
              "</div>"
            ],
            "text/plain": [
              "   Unnamed: 0 GC1 Comdty  Bid  Ask   Last   High    Low   Volume  \\\n",
              "0           2   1/6/2000  NaN  NaN  282.4  282.8  280.2  26026.0   \n",
              "1           3   1/7/2000  NaN  NaN  282.9  284.5  282.0  19396.0   \n",
              "2           4  1/10/2000  NaN  NaN  282.7  283.9  281.8  11612.0   \n",
              "3           5  1/11/2000  NaN  NaN  284.4  285.3  281.9  30928.0   \n",
              "4           6  1/12/2000  NaN  NaN  283.7  285.0  282.5  13678.0   \n",
              "\n",
              "   Open_Interest  \n",
              "0        67505.0  \n",
              "1        68731.0  \n",
              "2        66778.0  \n",
              "3        64731.0  \n",
              "4        64629.0  "
            ]
          },
          "metadata": {
            "tags": []
          }
        },
        {
          "output_type": "display_data",
          "data": {
            "text/html": [
              "<div>\n",
              "<style scoped>\n",
              "    .dataframe tbody tr th:only-of-type {\n",
              "        vertical-align: middle;\n",
              "    }\n",
              "\n",
              "    .dataframe tbody tr th {\n",
              "        vertical-align: top;\n",
              "    }\n",
              "\n",
              "    .dataframe thead th {\n",
              "        text-align: right;\n",
              "    }\n",
              "</style>\n",
              "<table border=\"1\" class=\"dataframe\">\n",
              "  <thead>\n",
              "    <tr style=\"text-align: right;\">\n",
              "      <th></th>\n",
              "      <th>Unnamed: 0</th>\n",
              "      <th>LATITUDE</th>\n",
              "      <th>LONGITUDE</th>\n",
              "      <th>ELEVATION</th>\n",
              "      <th>DATE</th>\n",
              "      <th>TAVG</th>\n",
              "    </tr>\n",
              "  </thead>\n",
              "  <tbody>\n",
              "    <tr>\n",
              "      <th>0</th>\n",
              "      <td>639</td>\n",
              "      <td>41.91444</td>\n",
              "      <td>-88.24639</td>\n",
              "      <td>229.8</td>\n",
              "      <td>1/6/2000</td>\n",
              "      <td>30.0</td>\n",
              "    </tr>\n",
              "    <tr>\n",
              "      <th>1</th>\n",
              "      <td>640</td>\n",
              "      <td>41.91444</td>\n",
              "      <td>-88.24639</td>\n",
              "      <td>229.8</td>\n",
              "      <td>1/7/2000</td>\n",
              "      <td>24.0</td>\n",
              "    </tr>\n",
              "    <tr>\n",
              "      <th>2</th>\n",
              "      <td>641</td>\n",
              "      <td>41.91444</td>\n",
              "      <td>-88.24639</td>\n",
              "      <td>229.8</td>\n",
              "      <td>1/8/2000</td>\n",
              "      <td>34.0</td>\n",
              "    </tr>\n",
              "    <tr>\n",
              "      <th>3</th>\n",
              "      <td>642</td>\n",
              "      <td>41.91444</td>\n",
              "      <td>-88.24639</td>\n",
              "      <td>229.8</td>\n",
              "      <td>1/9/2000</td>\n",
              "      <td>38.0</td>\n",
              "    </tr>\n",
              "    <tr>\n",
              "      <th>4</th>\n",
              "      <td>643</td>\n",
              "      <td>41.91444</td>\n",
              "      <td>-88.24639</td>\n",
              "      <td>229.8</td>\n",
              "      <td>1/10/2000</td>\n",
              "      <td>40.0</td>\n",
              "    </tr>\n",
              "  </tbody>\n",
              "</table>\n",
              "</div>"
            ],
            "text/plain": [
              "   Unnamed: 0  LATITUDE  LONGITUDE  ELEVATION       DATE  TAVG\n",
              "0         639  41.91444  -88.24639      229.8   1/6/2000  30.0\n",
              "1         640  41.91444  -88.24639      229.8   1/7/2000  24.0\n",
              "2         641  41.91444  -88.24639      229.8   1/8/2000  34.0\n",
              "3         642  41.91444  -88.24639      229.8   1/9/2000  38.0\n",
              "4         643  41.91444  -88.24639      229.8  1/10/2000  40.0"
            ]
          },
          "metadata": {
            "tags": []
          }
        },
        {
          "output_type": "display_data",
          "data": {
            "text/html": [
              "<div>\n",
              "<style scoped>\n",
              "    .dataframe tbody tr th:only-of-type {\n",
              "        vertical-align: middle;\n",
              "    }\n",
              "\n",
              "    .dataframe tbody tr th {\n",
              "        vertical-align: top;\n",
              "    }\n",
              "\n",
              "    .dataframe thead th {\n",
              "        text-align: right;\n",
              "    }\n",
              "</style>\n",
              "<table border=\"1\" class=\"dataframe\">\n",
              "  <thead>\n",
              "    <tr style=\"text-align: right;\">\n",
              "      <th></th>\n",
              "      <th>Unnamed: 0</th>\n",
              "      <th>date</th>\n",
              "      <th>gdp</th>\n",
              "      <th>cpi</th>\n",
              "      <th>int</th>\n",
              "      <th>nettrade</th>\n",
              "    </tr>\n",
              "  </thead>\n",
              "  <tbody>\n",
              "    <tr>\n",
              "      <th>0</th>\n",
              "      <td>493</td>\n",
              "      <td>2000-02-01</td>\n",
              "      <td>9697.2</td>\n",
              "      <td>0.870493</td>\n",
              "      <td>5.73</td>\n",
              "      <td>-29930</td>\n",
              "    </tr>\n",
              "    <tr>\n",
              "      <th>1</th>\n",
              "      <td>494</td>\n",
              "      <td>2000-03-01</td>\n",
              "      <td>9697.2</td>\n",
              "      <td>0.875613</td>\n",
              "      <td>5.85</td>\n",
              "      <td>-31154</td>\n",
              "    </tr>\n",
              "    <tr>\n",
              "      <th>2</th>\n",
              "      <td>495</td>\n",
              "      <td>2000-04-01</td>\n",
              "      <td>9937.3</td>\n",
              "      <td>0.875101</td>\n",
              "      <td>6.02</td>\n",
              "      <td>-28800</td>\n",
              "    </tr>\n",
              "    <tr>\n",
              "      <th>3</th>\n",
              "      <td>496</td>\n",
              "      <td>2000-05-01</td>\n",
              "      <td>9937.3</td>\n",
              "      <td>0.876638</td>\n",
              "      <td>6.27</td>\n",
              "      <td>-29813</td>\n",
              "    </tr>\n",
              "    <tr>\n",
              "      <th>4</th>\n",
              "      <td>497</td>\n",
              "      <td>2000-06-01</td>\n",
              "      <td>9937.3</td>\n",
              "      <td>0.881758</td>\n",
              "      <td>6.53</td>\n",
              "      <td>-30966</td>\n",
              "    </tr>\n",
              "  </tbody>\n",
              "</table>\n",
              "</div>"
            ],
            "text/plain": [
              "   Unnamed: 0        date     gdp       cpi   int  nettrade\n",
              "0         493  2000-02-01  9697.2  0.870493  5.73    -29930\n",
              "1         494  2000-03-01  9697.2  0.875613  5.85    -31154\n",
              "2         495  2000-04-01  9937.3  0.875101  6.02    -28800\n",
              "3         496  2000-05-01  9937.3  0.876638  6.27    -29813\n",
              "4         497  2000-06-01  9937.3  0.881758  6.53    -30966"
            ]
          },
          "metadata": {
            "tags": []
          }
        }
      ]
    },
    {
      "metadata": {
        "id": "3nnhZD3LVfch",
        "colab_type": "code",
        "colab": {
          "base_uri": "https://localhost:8080/",
          "height": 1546
        },
        "outputId": "9df99242-28f2-4e3d-9fa2-f0479ac5c157"
      },
      "cell_type": "code",
      "source": [
        "# looking at summarized data\n",
        "for t in tables: display(t.describe(include='all'))"
      ],
      "execution_count": 16,
      "outputs": [
        {
          "output_type": "display_data",
          "data": {
            "text/html": [
              "<div>\n",
              "<style scoped>\n",
              "    .dataframe tbody tr th:only-of-type {\n",
              "        vertical-align: middle;\n",
              "    }\n",
              "\n",
              "    .dataframe tbody tr th {\n",
              "        vertical-align: top;\n",
              "    }\n",
              "\n",
              "    .dataframe thead th {\n",
              "        text-align: right;\n",
              "    }\n",
              "</style>\n",
              "<table border=\"1\" class=\"dataframe\">\n",
              "  <thead>\n",
              "    <tr style=\"text-align: right;\">\n",
              "      <th></th>\n",
              "      <th>Unnamed: 0</th>\n",
              "      <th>Unnamed: 0.1</th>\n",
              "      <th>C 1 Comdty</th>\n",
              "      <th>Bid</th>\n",
              "      <th>Ask</th>\n",
              "      <th>Last</th>\n",
              "      <th>High</th>\n",
              "      <th>Low</th>\n",
              "      <th>Volume</th>\n",
              "      <th>Open_Interest</th>\n",
              "    </tr>\n",
              "  </thead>\n",
              "  <tbody>\n",
              "    <tr>\n",
              "      <th>count</th>\n",
              "      <td>1407.000000</td>\n",
              "      <td>1407.000000</td>\n",
              "      <td>1407</td>\n",
              "      <td>1239.000000</td>\n",
              "      <td>1236.000000</td>\n",
              "      <td>1219.000000</td>\n",
              "      <td>1221.000000</td>\n",
              "      <td>1398.000000</td>\n",
              "      <td>1401.000000</td>\n",
              "      <td>1378.000000</td>\n",
              "    </tr>\n",
              "    <tr>\n",
              "      <th>unique</th>\n",
              "      <td>NaN</td>\n",
              "      <td>NaN</td>\n",
              "      <td>1407</td>\n",
              "      <td>NaN</td>\n",
              "      <td>NaN</td>\n",
              "      <td>NaN</td>\n",
              "      <td>NaN</td>\n",
              "      <td>NaN</td>\n",
              "      <td>NaN</td>\n",
              "      <td>NaN</td>\n",
              "    </tr>\n",
              "    <tr>\n",
              "      <th>top</th>\n",
              "      <td>NaN</td>\n",
              "      <td>NaN</td>\n",
              "      <td>1/4/2001</td>\n",
              "      <td>NaN</td>\n",
              "      <td>NaN</td>\n",
              "      <td>NaN</td>\n",
              "      <td>NaN</td>\n",
              "      <td>NaN</td>\n",
              "      <td>NaN</td>\n",
              "      <td>NaN</td>\n",
              "    </tr>\n",
              "    <tr>\n",
              "      <th>freq</th>\n",
              "      <td>NaN</td>\n",
              "      <td>NaN</td>\n",
              "      <td>1</td>\n",
              "      <td>NaN</td>\n",
              "      <td>NaN</td>\n",
              "      <td>NaN</td>\n",
              "      <td>NaN</td>\n",
              "      <td>NaN</td>\n",
              "      <td>NaN</td>\n",
              "      <td>NaN</td>\n",
              "    </tr>\n",
              "    <tr>\n",
              "      <th>mean</th>\n",
              "      <td>704.000000</td>\n",
              "      <td>706.000000</td>\n",
              "      <td>NaN</td>\n",
              "      <td>225.809120</td>\n",
              "      <td>226.861044</td>\n",
              "      <td>225.142535</td>\n",
              "      <td>227.457002</td>\n",
              "      <td>222.868562</td>\n",
              "      <td>32661.112777</td>\n",
              "      <td>150877.849782</td>\n",
              "    </tr>\n",
              "    <tr>\n",
              "      <th>std</th>\n",
              "      <td>406.310226</td>\n",
              "      <td>406.310226</td>\n",
              "      <td>NaN</td>\n",
              "      <td>28.902182</td>\n",
              "      <td>29.306922</td>\n",
              "      <td>28.416617</td>\n",
              "      <td>28.987133</td>\n",
              "      <td>28.010566</td>\n",
              "      <td>20621.578476</td>\n",
              "      <td>103454.178684</td>\n",
              "    </tr>\n",
              "    <tr>\n",
              "      <th>min</th>\n",
              "      <td>1.000000</td>\n",
              "      <td>3.000000</td>\n",
              "      <td>NaN</td>\n",
              "      <td>174.750000</td>\n",
              "      <td>175.500000</td>\n",
              "      <td>174.750000</td>\n",
              "      <td>175.750000</td>\n",
              "      <td>174.000000</td>\n",
              "      <td>3.000000</td>\n",
              "      <td>58.000000</td>\n",
              "    </tr>\n",
              "    <tr>\n",
              "      <th>25%</th>\n",
              "      <td>352.500000</td>\n",
              "      <td>354.500000</td>\n",
              "      <td>NaN</td>\n",
              "      <td>206.250000</td>\n",
              "      <td>206.500000</td>\n",
              "      <td>206.500000</td>\n",
              "      <td>208.000000</td>\n",
              "      <td>204.750000</td>\n",
              "      <td>18551.000000</td>\n",
              "      <td>55845.000000</td>\n",
              "    </tr>\n",
              "    <tr>\n",
              "      <th>50%</th>\n",
              "      <td>704.000000</td>\n",
              "      <td>706.000000</td>\n",
              "      <td>NaN</td>\n",
              "      <td>216.250000</td>\n",
              "      <td>218.000000</td>\n",
              "      <td>218.250000</td>\n",
              "      <td>220.500000</td>\n",
              "      <td>215.500000</td>\n",
              "      <td>31483.000000</td>\n",
              "      <td>157563.500000</td>\n",
              "    </tr>\n",
              "    <tr>\n",
              "      <th>75%</th>\n",
              "      <td>1055.500000</td>\n",
              "      <td>1057.500000</td>\n",
              "      <td>NaN</td>\n",
              "      <td>238.750000</td>\n",
              "      <td>239.500000</td>\n",
              "      <td>238.125000</td>\n",
              "      <td>240.000000</td>\n",
              "      <td>235.500000</td>\n",
              "      <td>43027.000000</td>\n",
              "      <td>225627.000000</td>\n",
              "    </tr>\n",
              "    <tr>\n",
              "      <th>max</th>\n",
              "      <td>1407.000000</td>\n",
              "      <td>1409.000000</td>\n",
              "      <td>NaN</td>\n",
              "      <td>331.000000</td>\n",
              "      <td>332.000000</td>\n",
              "      <td>330.500000</td>\n",
              "      <td>335.250000</td>\n",
              "      <td>329.000000</td>\n",
              "      <td>180995.000000</td>\n",
              "      <td>394859.000000</td>\n",
              "    </tr>\n",
              "  </tbody>\n",
              "</table>\n",
              "</div>"
            ],
            "text/plain": [
              "         Unnamed: 0  Unnamed: 0.1 C 1 Comdty          Bid          Ask  \\\n",
              "count   1407.000000   1407.000000       1407  1239.000000  1236.000000   \n",
              "unique          NaN           NaN       1407          NaN          NaN   \n",
              "top             NaN           NaN   1/4/2001          NaN          NaN   \n",
              "freq            NaN           NaN          1          NaN          NaN   \n",
              "mean     704.000000    706.000000        NaN   225.809120   226.861044   \n",
              "std      406.310226    406.310226        NaN    28.902182    29.306922   \n",
              "min        1.000000      3.000000        NaN   174.750000   175.500000   \n",
              "25%      352.500000    354.500000        NaN   206.250000   206.500000   \n",
              "50%      704.000000    706.000000        NaN   216.250000   218.000000   \n",
              "75%     1055.500000   1057.500000        NaN   238.750000   239.500000   \n",
              "max     1407.000000   1409.000000        NaN   331.000000   332.000000   \n",
              "\n",
              "               Last         High          Low         Volume  Open_Interest  \n",
              "count   1219.000000  1221.000000  1398.000000    1401.000000    1378.000000  \n",
              "unique          NaN          NaN          NaN            NaN            NaN  \n",
              "top             NaN          NaN          NaN            NaN            NaN  \n",
              "freq            NaN          NaN          NaN            NaN            NaN  \n",
              "mean     225.142535   227.457002   222.868562   32661.112777  150877.849782  \n",
              "std       28.416617    28.987133    28.010566   20621.578476  103454.178684  \n",
              "min      174.750000   175.750000   174.000000       3.000000      58.000000  \n",
              "25%      206.500000   208.000000   204.750000   18551.000000   55845.000000  \n",
              "50%      218.250000   220.500000   215.500000   31483.000000  157563.500000  \n",
              "75%      238.125000   240.000000   235.500000   43027.000000  225627.000000  \n",
              "max      330.500000   335.250000   329.000000  180995.000000  394859.000000  "
            ]
          },
          "metadata": {
            "tags": []
          }
        },
        {
          "output_type": "display_data",
          "data": {
            "text/html": [
              "<div>\n",
              "<style scoped>\n",
              "    .dataframe tbody tr th:only-of-type {\n",
              "        vertical-align: middle;\n",
              "    }\n",
              "\n",
              "    .dataframe tbody tr th {\n",
              "        vertical-align: top;\n",
              "    }\n",
              "\n",
              "    .dataframe thead th {\n",
              "        text-align: right;\n",
              "    }\n",
              "</style>\n",
              "<table border=\"1\" class=\"dataframe\">\n",
              "  <thead>\n",
              "    <tr style=\"text-align: right;\">\n",
              "      <th></th>\n",
              "      <th>Unnamed: 0</th>\n",
              "      <th>GC1 Comdty</th>\n",
              "      <th>Bid</th>\n",
              "      <th>Ask</th>\n",
              "      <th>Last</th>\n",
              "      <th>High</th>\n",
              "      <th>Low</th>\n",
              "      <th>Volume</th>\n",
              "      <th>Open_Interest</th>\n",
              "    </tr>\n",
              "  </thead>\n",
              "  <tbody>\n",
              "    <tr>\n",
              "      <th>count</th>\n",
              "      <td>1396.0000</td>\n",
              "      <td>1396</td>\n",
              "      <td>436.000000</td>\n",
              "      <td>396.000000</td>\n",
              "      <td>1296.000000</td>\n",
              "      <td>1367.000000</td>\n",
              "      <td>1276.000000</td>\n",
              "      <td>1369.000000</td>\n",
              "      <td>1373.000000</td>\n",
              "    </tr>\n",
              "    <tr>\n",
              "      <th>unique</th>\n",
              "      <td>NaN</td>\n",
              "      <td>1396</td>\n",
              "      <td>NaN</td>\n",
              "      <td>NaN</td>\n",
              "      <td>NaN</td>\n",
              "      <td>NaN</td>\n",
              "      <td>NaN</td>\n",
              "      <td>NaN</td>\n",
              "      <td>NaN</td>\n",
              "    </tr>\n",
              "    <tr>\n",
              "      <th>top</th>\n",
              "      <td>NaN</td>\n",
              "      <td>1/4/2001</td>\n",
              "      <td>NaN</td>\n",
              "      <td>NaN</td>\n",
              "      <td>NaN</td>\n",
              "      <td>NaN</td>\n",
              "      <td>NaN</td>\n",
              "      <td>NaN</td>\n",
              "      <td>NaN</td>\n",
              "    </tr>\n",
              "    <tr>\n",
              "      <th>freq</th>\n",
              "      <td>NaN</td>\n",
              "      <td>1</td>\n",
              "      <td>NaN</td>\n",
              "      <td>NaN</td>\n",
              "      <td>NaN</td>\n",
              "      <td>NaN</td>\n",
              "      <td>NaN</td>\n",
              "      <td>NaN</td>\n",
              "      <td>NaN</td>\n",
              "    </tr>\n",
              "    <tr>\n",
              "      <th>mean</th>\n",
              "      <td>699.5000</td>\n",
              "      <td>NaN</td>\n",
              "      <td>338.472706</td>\n",
              "      <td>359.319697</td>\n",
              "      <td>337.959954</td>\n",
              "      <td>340.268544</td>\n",
              "      <td>336.725549</td>\n",
              "      <td>17745.529584</td>\n",
              "      <td>49112.310998</td>\n",
              "    </tr>\n",
              "    <tr>\n",
              "      <th>std</th>\n",
              "      <td>403.1348</td>\n",
              "      <td>NaN</td>\n",
              "      <td>60.427160</td>\n",
              "      <td>391.190553</td>\n",
              "      <td>60.446796</td>\n",
              "      <td>60.722680</td>\n",
              "      <td>59.827686</td>\n",
              "      <td>23229.368493</td>\n",
              "      <td>62446.246605</td>\n",
              "    </tr>\n",
              "    <tr>\n",
              "      <th>min</th>\n",
              "      <td>2.0000</td>\n",
              "      <td>NaN</td>\n",
              "      <td>255.000000</td>\n",
              "      <td>257.300000</td>\n",
              "      <td>255.100000</td>\n",
              "      <td>255.000000</td>\n",
              "      <td>255.000000</td>\n",
              "      <td>1.000000</td>\n",
              "      <td>2.000000</td>\n",
              "    </tr>\n",
              "    <tr>\n",
              "      <th>25%</th>\n",
              "      <td>350.7500</td>\n",
              "      <td>NaN</td>\n",
              "      <td>278.200000</td>\n",
              "      <td>277.700000</td>\n",
              "      <td>279.200000</td>\n",
              "      <td>280.850000</td>\n",
              "      <td>278.275000</td>\n",
              "      <td>130.000000</td>\n",
              "      <td>500.000000</td>\n",
              "    </tr>\n",
              "    <tr>\n",
              "      <th>50%</th>\n",
              "      <td>699.5000</td>\n",
              "      <td>NaN</td>\n",
              "      <td>322.150000</td>\n",
              "      <td>321.750000</td>\n",
              "      <td>321.650000</td>\n",
              "      <td>323.700000</td>\n",
              "      <td>321.000000</td>\n",
              "      <td>2122.000000</td>\n",
              "      <td>11883.000000</td>\n",
              "    </tr>\n",
              "    <tr>\n",
              "      <th>75%</th>\n",
              "      <td>1048.2500</td>\n",
              "      <td>NaN</td>\n",
              "      <td>399.500000</td>\n",
              "      <td>406.350000</td>\n",
              "      <td>397.750000</td>\n",
              "      <td>401.150000</td>\n",
              "      <td>395.000000</td>\n",
              "      <td>32108.000000</td>\n",
              "      <td>83636.000000</td>\n",
              "    </tr>\n",
              "    <tr>\n",
              "      <th>max</th>\n",
              "      <td>1397.0000</td>\n",
              "      <td>NaN</td>\n",
              "      <td>455.500000</td>\n",
              "      <td>8024.000000</td>\n",
              "      <td>456.000000</td>\n",
              "      <td>456.500000</td>\n",
              "      <td>451.500000</td>\n",
              "      <td>112943.000000</td>\n",
              "      <td>253662.000000</td>\n",
              "    </tr>\n",
              "  </tbody>\n",
              "</table>\n",
              "</div>"
            ],
            "text/plain": [
              "        Unnamed: 0 GC1 Comdty         Bid          Ask         Last  \\\n",
              "count    1396.0000       1396  436.000000   396.000000  1296.000000   \n",
              "unique         NaN       1396         NaN          NaN          NaN   \n",
              "top            NaN   1/4/2001         NaN          NaN          NaN   \n",
              "freq           NaN          1         NaN          NaN          NaN   \n",
              "mean      699.5000        NaN  338.472706   359.319697   337.959954   \n",
              "std       403.1348        NaN   60.427160   391.190553    60.446796   \n",
              "min         2.0000        NaN  255.000000   257.300000   255.100000   \n",
              "25%       350.7500        NaN  278.200000   277.700000   279.200000   \n",
              "50%       699.5000        NaN  322.150000   321.750000   321.650000   \n",
              "75%      1048.2500        NaN  399.500000   406.350000   397.750000   \n",
              "max      1397.0000        NaN  455.500000  8024.000000   456.000000   \n",
              "\n",
              "               High          Low         Volume  Open_Interest  \n",
              "count   1367.000000  1276.000000    1369.000000    1373.000000  \n",
              "unique          NaN          NaN            NaN            NaN  \n",
              "top             NaN          NaN            NaN            NaN  \n",
              "freq            NaN          NaN            NaN            NaN  \n",
              "mean     340.268544   336.725549   17745.529584   49112.310998  \n",
              "std       60.722680    59.827686   23229.368493   62446.246605  \n",
              "min      255.000000   255.000000       1.000000       2.000000  \n",
              "25%      280.850000   278.275000     130.000000     500.000000  \n",
              "50%      323.700000   321.000000    2122.000000   11883.000000  \n",
              "75%      401.150000   395.000000   32108.000000   83636.000000  \n",
              "max      456.500000   451.500000  112943.000000  253662.000000  "
            ]
          },
          "metadata": {
            "tags": []
          }
        },
        {
          "output_type": "display_data",
          "data": {
            "text/html": [
              "<div>\n",
              "<style scoped>\n",
              "    .dataframe tbody tr th:only-of-type {\n",
              "        vertical-align: middle;\n",
              "    }\n",
              "\n",
              "    .dataframe tbody tr th {\n",
              "        vertical-align: top;\n",
              "    }\n",
              "\n",
              "    .dataframe thead th {\n",
              "        text-align: right;\n",
              "    }\n",
              "</style>\n",
              "<table border=\"1\" class=\"dataframe\">\n",
              "  <thead>\n",
              "    <tr style=\"text-align: right;\">\n",
              "      <th></th>\n",
              "      <th>Unnamed: 0</th>\n",
              "      <th>LATITUDE</th>\n",
              "      <th>LONGITUDE</th>\n",
              "      <th>ELEVATION</th>\n",
              "      <th>DATE</th>\n",
              "      <th>TAVG</th>\n",
              "    </tr>\n",
              "  </thead>\n",
              "  <tbody>\n",
              "    <tr>\n",
              "      <th>count</th>\n",
              "      <td>2012.00000</td>\n",
              "      <td>2.012000e+03</td>\n",
              "      <td>2.012000e+03</td>\n",
              "      <td>2.012000e+03</td>\n",
              "      <td>2012</td>\n",
              "      <td>1878.000000</td>\n",
              "    </tr>\n",
              "    <tr>\n",
              "      <th>unique</th>\n",
              "      <td>NaN</td>\n",
              "      <td>NaN</td>\n",
              "      <td>NaN</td>\n",
              "      <td>NaN</td>\n",
              "      <td>2012</td>\n",
              "      <td>NaN</td>\n",
              "    </tr>\n",
              "    <tr>\n",
              "      <th>top</th>\n",
              "      <td>NaN</td>\n",
              "      <td>NaN</td>\n",
              "      <td>NaN</td>\n",
              "      <td>NaN</td>\n",
              "      <td>10/12/2003</td>\n",
              "      <td>NaN</td>\n",
              "    </tr>\n",
              "    <tr>\n",
              "      <th>freq</th>\n",
              "      <td>NaN</td>\n",
              "      <td>NaN</td>\n",
              "      <td>NaN</td>\n",
              "      <td>NaN</td>\n",
              "      <td>1</td>\n",
              "      <td>NaN</td>\n",
              "    </tr>\n",
              "    <tr>\n",
              "      <th>mean</th>\n",
              "      <td>1644.50000</td>\n",
              "      <td>4.191444e+01</td>\n",
              "      <td>-8.824639e+01</td>\n",
              "      <td>2.298000e+02</td>\n",
              "      <td>NaN</td>\n",
              "      <td>48.767838</td>\n",
              "    </tr>\n",
              "    <tr>\n",
              "      <th>std</th>\n",
              "      <td>580.95869</td>\n",
              "      <td>7.107194e-15</td>\n",
              "      <td>1.421439e-14</td>\n",
              "      <td>2.842878e-14</td>\n",
              "      <td>NaN</td>\n",
              "      <td>19.950989</td>\n",
              "    </tr>\n",
              "    <tr>\n",
              "      <th>min</th>\n",
              "      <td>639.00000</td>\n",
              "      <td>4.191444e+01</td>\n",
              "      <td>-8.824639e+01</td>\n",
              "      <td>2.298000e+02</td>\n",
              "      <td>NaN</td>\n",
              "      <td>-5.000000</td>\n",
              "    </tr>\n",
              "    <tr>\n",
              "      <th>25%</th>\n",
              "      <td>1141.75000</td>\n",
              "      <td>4.191444e+01</td>\n",
              "      <td>-8.824639e+01</td>\n",
              "      <td>2.298000e+02</td>\n",
              "      <td>NaN</td>\n",
              "      <td>33.000000</td>\n",
              "    </tr>\n",
              "    <tr>\n",
              "      <th>50%</th>\n",
              "      <td>1644.50000</td>\n",
              "      <td>4.191444e+01</td>\n",
              "      <td>-8.824639e+01</td>\n",
              "      <td>2.298000e+02</td>\n",
              "      <td>NaN</td>\n",
              "      <td>50.000000</td>\n",
              "    </tr>\n",
              "    <tr>\n",
              "      <th>75%</th>\n",
              "      <td>2147.25000</td>\n",
              "      <td>4.191444e+01</td>\n",
              "      <td>-8.824639e+01</td>\n",
              "      <td>2.298000e+02</td>\n",
              "      <td>NaN</td>\n",
              "      <td>66.000000</td>\n",
              "    </tr>\n",
              "    <tr>\n",
              "      <th>max</th>\n",
              "      <td>2650.00000</td>\n",
              "      <td>4.191444e+01</td>\n",
              "      <td>-8.824639e+01</td>\n",
              "      <td>2.298000e+02</td>\n",
              "      <td>NaN</td>\n",
              "      <td>88.000000</td>\n",
              "    </tr>\n",
              "  </tbody>\n",
              "</table>\n",
              "</div>"
            ],
            "text/plain": [
              "        Unnamed: 0      LATITUDE     LONGITUDE     ELEVATION        DATE  \\\n",
              "count   2012.00000  2.012000e+03  2.012000e+03  2.012000e+03        2012   \n",
              "unique         NaN           NaN           NaN           NaN        2012   \n",
              "top            NaN           NaN           NaN           NaN  10/12/2003   \n",
              "freq           NaN           NaN           NaN           NaN           1   \n",
              "mean    1644.50000  4.191444e+01 -8.824639e+01  2.298000e+02         NaN   \n",
              "std      580.95869  7.107194e-15  1.421439e-14  2.842878e-14         NaN   \n",
              "min      639.00000  4.191444e+01 -8.824639e+01  2.298000e+02         NaN   \n",
              "25%     1141.75000  4.191444e+01 -8.824639e+01  2.298000e+02         NaN   \n",
              "50%     1644.50000  4.191444e+01 -8.824639e+01  2.298000e+02         NaN   \n",
              "75%     2147.25000  4.191444e+01 -8.824639e+01  2.298000e+02         NaN   \n",
              "max     2650.00000  4.191444e+01 -8.824639e+01  2.298000e+02         NaN   \n",
              "\n",
              "               TAVG  \n",
              "count   1878.000000  \n",
              "unique          NaN  \n",
              "top             NaN  \n",
              "freq            NaN  \n",
              "mean      48.767838  \n",
              "std       19.950989  \n",
              "min       -5.000000  \n",
              "25%       33.000000  \n",
              "50%       50.000000  \n",
              "75%       66.000000  \n",
              "max       88.000000  "
            ]
          },
          "metadata": {
            "tags": []
          }
        },
        {
          "output_type": "display_data",
          "data": {
            "text/html": [
              "<div>\n",
              "<style scoped>\n",
              "    .dataframe tbody tr th:only-of-type {\n",
              "        vertical-align: middle;\n",
              "    }\n",
              "\n",
              "    .dataframe tbody tr th {\n",
              "        vertical-align: top;\n",
              "    }\n",
              "\n",
              "    .dataframe thead th {\n",
              "        text-align: right;\n",
              "    }\n",
              "</style>\n",
              "<table border=\"1\" class=\"dataframe\">\n",
              "  <thead>\n",
              "    <tr style=\"text-align: right;\">\n",
              "      <th></th>\n",
              "      <th>Unnamed: 0</th>\n",
              "      <th>date</th>\n",
              "      <th>gdp</th>\n",
              "      <th>cpi</th>\n",
              "      <th>int</th>\n",
              "      <th>nettrade</th>\n",
              "    </tr>\n",
              "  </thead>\n",
              "  <tbody>\n",
              "    <tr>\n",
              "      <th>count</th>\n",
              "      <td>66.000000</td>\n",
              "      <td>66</td>\n",
              "      <td>62.000000</td>\n",
              "      <td>62.000000</td>\n",
              "      <td>66.000000</td>\n",
              "      <td>66.000000</td>\n",
              "    </tr>\n",
              "    <tr>\n",
              "      <th>unique</th>\n",
              "      <td>NaN</td>\n",
              "      <td>66</td>\n",
              "      <td>NaN</td>\n",
              "      <td>NaN</td>\n",
              "      <td>NaN</td>\n",
              "      <td>NaN</td>\n",
              "    </tr>\n",
              "    <tr>\n",
              "      <th>top</th>\n",
              "      <td>NaN</td>\n",
              "      <td>2002-09-01</td>\n",
              "      <td>NaN</td>\n",
              "      <td>NaN</td>\n",
              "      <td>NaN</td>\n",
              "      <td>NaN</td>\n",
              "    </tr>\n",
              "    <tr>\n",
              "      <th>freq</th>\n",
              "      <td>NaN</td>\n",
              "      <td>1</td>\n",
              "      <td>NaN</td>\n",
              "      <td>NaN</td>\n",
              "      <td>NaN</td>\n",
              "      <td>NaN</td>\n",
              "    </tr>\n",
              "    <tr>\n",
              "      <th>mean</th>\n",
              "      <td>525.500000</td>\n",
              "      <td>NaN</td>\n",
              "      <td>10867.387097</td>\n",
              "      <td>0.932129</td>\n",
              "      <td>2.806818</td>\n",
              "      <td>-39772.803030</td>\n",
              "    </tr>\n",
              "    <tr>\n",
              "      <th>std</th>\n",
              "      <td>19.196354</td>\n",
              "      <td>NaN</td>\n",
              "      <td>802.593775</td>\n",
              "      <td>0.035268</td>\n",
              "      <td>1.953010</td>\n",
              "      <td>9715.739331</td>\n",
              "    </tr>\n",
              "    <tr>\n",
              "      <th>min</th>\n",
              "      <td>493.000000</td>\n",
              "      <td>NaN</td>\n",
              "      <td>9697.200000</td>\n",
              "      <td>0.870493</td>\n",
              "      <td>0.980000</td>\n",
              "      <td>-58819.000000</td>\n",
              "    </tr>\n",
              "    <tr>\n",
              "      <th>25%</th>\n",
              "      <td>509.250000</td>\n",
              "      <td>NaN</td>\n",
              "      <td>10221.600000</td>\n",
              "      <td>0.908385</td>\n",
              "      <td>1.260000</td>\n",
              "      <td>-45951.000000</td>\n",
              "    </tr>\n",
              "    <tr>\n",
              "      <th>50%</th>\n",
              "      <td>525.500000</td>\n",
              "      <td>NaN</td>\n",
              "      <td>10572.300000</td>\n",
              "      <td>0.928611</td>\n",
              "      <td>1.755000</td>\n",
              "      <td>-37941.000000</td>\n",
              "    </tr>\n",
              "    <tr>\n",
              "      <th>75%</th>\n",
              "      <td>541.750000</td>\n",
              "      <td>NaN</td>\n",
              "      <td>11598.925000</td>\n",
              "      <td>0.959206</td>\n",
              "      <td>3.920000</td>\n",
              "      <td>-31169.750000</td>\n",
              "    </tr>\n",
              "    <tr>\n",
              "      <th>max</th>\n",
              "      <td>558.000000</td>\n",
              "      <td>NaN</td>\n",
              "      <td>12589.600000</td>\n",
              "      <td>0.997994</td>\n",
              "      <td>6.540000</td>\n",
              "      <td>-26839.000000</td>\n",
              "    </tr>\n",
              "  </tbody>\n",
              "</table>\n",
              "</div>"
            ],
            "text/plain": [
              "        Unnamed: 0        date           gdp        cpi        int  \\\n",
              "count    66.000000          66     62.000000  62.000000  66.000000   \n",
              "unique         NaN          66           NaN        NaN        NaN   \n",
              "top            NaN  2002-09-01           NaN        NaN        NaN   \n",
              "freq           NaN           1           NaN        NaN        NaN   \n",
              "mean    525.500000         NaN  10867.387097   0.932129   2.806818   \n",
              "std      19.196354         NaN    802.593775   0.035268   1.953010   \n",
              "min     493.000000         NaN   9697.200000   0.870493   0.980000   \n",
              "25%     509.250000         NaN  10221.600000   0.908385   1.260000   \n",
              "50%     525.500000         NaN  10572.300000   0.928611   1.755000   \n",
              "75%     541.750000         NaN  11598.925000   0.959206   3.920000   \n",
              "max     558.000000         NaN  12589.600000   0.997994   6.540000   \n",
              "\n",
              "            nettrade  \n",
              "count      66.000000  \n",
              "unique           NaN  \n",
              "top              NaN  \n",
              "freq             NaN  \n",
              "mean   -39772.803030  \n",
              "std      9715.739331  \n",
              "min    -58819.000000  \n",
              "25%    -45951.000000  \n",
              "50%    -37941.000000  \n",
              "75%    -31169.750000  \n",
              "max    -26839.000000  "
            ]
          },
          "metadata": {
            "tags": []
          }
        }
      ]
    },
    {
      "metadata": {
        "id": "x5mcalcDall6",
        "colab_type": "text"
      },
      "cell_type": "markdown",
      "source": [
        "# Data Cleaning and Feature Engineering"
      ]
    },
    {
      "metadata": {
        "id": "9w5d3ZMwfpib",
        "colab_type": "text"
      },
      "cell_type": "markdown",
      "source": [
        "creating Month field for all tables"
      ]
    },
    {
      "metadata": {
        "id": "78FYoxEzftXU",
        "colab_type": "code",
        "colab": {}
      },
      "cell_type": "code",
      "source": [
        "GC1['Month'] = pd.DatetimeIndex(GC1['GC1 Comdty']).month\n",
        "C1['Month'] = pd.DatetimeIndex(C1['C 1 Comdty']).month\n",
        "chicago_weather['Month'] = pd.DatetimeIndex(chicago_weather['DATE']).month\n",
        "us_macro['Month'] = pd.DatetimeIndex(us_macro['date']).month"
      ],
      "execution_count": 0,
      "outputs": []
    },
    {
      "metadata": {
        "id": "aTBrMJU4gtNm",
        "colab_type": "text"
      },
      "cell_type": "markdown",
      "source": [
        "creating year field for year to join chicago_weather and us_macro"
      ]
    },
    {
      "metadata": {
        "id": "iFl3XIWsf_z2",
        "colab_type": "code",
        "colab": {}
      },
      "cell_type": "code",
      "source": [
        "# us_macro['Year'] =  pd.DatetimeIndex(us_macro['date']).year\n",
        "# chicago_weather['Year'] = pd.DatetimeIndex(chicago_weather['DATE']).year\n",
        "\n",
        "chicago_weather['Month_Year'] = pd.to_datetime(chicago_weather['DATE']).dt.to_period('M')\n",
        "us_macro['Month_Year'] = pd.to_datetime(us_macro['date']).dt.to_period('M')\n"
      ],
      "execution_count": 0,
      "outputs": []
    },
    {
      "metadata": {
        "id": "4dwFDgRRhLeh",
        "colab_type": "code",
        "colab": {}
      },
      "cell_type": "code",
      "source": [
        "#GC1"
      ],
      "execution_count": 0,
      "outputs": []
    },
    {
      "metadata": {
        "id": "C3iv1gnybAYq",
        "colab_type": "text"
      },
      "cell_type": "markdown",
      "source": [
        "Join function to join pandas dataframes\n",
        "\n",
        "We don't use an inner join because we won't want to delete any values (yet), we just want them to appear as null, so we can analyze them later"
      ]
    },
    {
      "metadata": {
        "id": "8kba5_s1Z_IM",
        "colab_type": "code",
        "colab": {}
      },
      "cell_type": "code",
      "source": [
        "def join_df(left, right, left_on, right_on=None, suffix='_y'):\n",
        "    if right_on is None: right_on = left_on\n",
        "    return left.merge(right, how='left', left_on=left_on, right_on=right_on, \n",
        "                      suffixes=(\"\", suffix))"
      ],
      "execution_count": 0,
      "outputs": []
    },
    {
      "metadata": {
        "id": "ToubLN69bDcI",
        "colab_type": "code",
        "colab": {}
      },
      "cell_type": "code",
      "source": [
        "# joining corn and gold based on date\n",
        "gold = join_df(GC1,C1, 'GC1 Comdty', 'C 1 Comdty', suffix = '_corn')\n"
      ],
      "execution_count": 0,
      "outputs": []
    },
    {
      "metadata": {
        "id": "5IxJVfJKcUkG",
        "colab_type": "code",
        "colab": {}
      },
      "cell_type": "code",
      "source": [
        "gold"
      ],
      "execution_count": 0,
      "outputs": []
    },
    {
      "metadata": {
        "id": "Av8Vw6-Vhyzy",
        "colab_type": "code",
        "colab": {}
      },
      "cell_type": "code",
      "source": [
        "# joining chicago weather and us macro\n",
        "us_stats = join_df(chicago_weather, us_macro, 'Month_Year', 'Month_Year', suffix = '_us')"
      ],
      "execution_count": 0,
      "outputs": []
    },
    {
      "metadata": {
        "id": "hQney5fpiCkh",
        "colab_type": "code",
        "colab": {}
      },
      "cell_type": "code",
      "source": [
        "us_stats"
      ],
      "execution_count": 0,
      "outputs": []
    },
    {
      "metadata": {
        "id": "c8AR1HVsjQxI",
        "colab_type": "text"
      },
      "cell_type": "markdown",
      "source": [
        "Finally, combine the 2 tables together"
      ]
    },
    {
      "metadata": {
        "id": "qA3mV3VHcZIy",
        "colab_type": "code",
        "colab": {}
      },
      "cell_type": "code",
      "source": [
        "concat_data = join_df(gold, us_stats, 'GC1 Comdty', 'DATE', suffix = '_y')"
      ],
      "execution_count": 0,
      "outputs": []
    },
    {
      "metadata": {
        "id": "yMJpYqzGc6pa",
        "colab_type": "code",
        "colab": {
          "base_uri": "https://localhost:8080/",
          "height": 270
        },
        "outputId": "82f4c8ae-26f4-4fb6-8448-370400df6ef1"
      },
      "cell_type": "code",
      "source": [
        "concat_data.head()"
      ],
      "execution_count": 18,
      "outputs": [
        {
          "output_type": "execute_result",
          "data": {
            "text/html": [
              "<div>\n",
              "<style scoped>\n",
              "    .dataframe tbody tr th:only-of-type {\n",
              "        vertical-align: middle;\n",
              "    }\n",
              "\n",
              "    .dataframe tbody tr th {\n",
              "        vertical-align: top;\n",
              "    }\n",
              "\n",
              "    .dataframe thead th {\n",
              "        text-align: right;\n",
              "    }\n",
              "</style>\n",
              "<table border=\"1\" class=\"dataframe\">\n",
              "  <thead>\n",
              "    <tr style=\"text-align: right;\">\n",
              "      <th></th>\n",
              "      <th>Unnamed: 0</th>\n",
              "      <th>GC1 Comdty</th>\n",
              "      <th>Bid</th>\n",
              "      <th>Ask</th>\n",
              "      <th>Last</th>\n",
              "      <th>High</th>\n",
              "      <th>Low</th>\n",
              "      <th>Volume</th>\n",
              "      <th>Open_Interest</th>\n",
              "      <th>Month</th>\n",
              "      <th>...</th>\n",
              "      <th>TAVG</th>\n",
              "      <th>Month_y</th>\n",
              "      <th>Month_Year</th>\n",
              "      <th>Unnamed: 0_us</th>\n",
              "      <th>date</th>\n",
              "      <th>gdp</th>\n",
              "      <th>cpi</th>\n",
              "      <th>int</th>\n",
              "      <th>nettrade</th>\n",
              "      <th>Month_us</th>\n",
              "    </tr>\n",
              "  </thead>\n",
              "  <tbody>\n",
              "    <tr>\n",
              "      <th>0</th>\n",
              "      <td>2</td>\n",
              "      <td>1/6/2000</td>\n",
              "      <td>NaN</td>\n",
              "      <td>NaN</td>\n",
              "      <td>282.4</td>\n",
              "      <td>282.8</td>\n",
              "      <td>280.2</td>\n",
              "      <td>26026.0</td>\n",
              "      <td>67505.0</td>\n",
              "      <td>1</td>\n",
              "      <td>...</td>\n",
              "      <td>30.0</td>\n",
              "      <td>1.0</td>\n",
              "      <td>2000-01</td>\n",
              "      <td>NaN</td>\n",
              "      <td>NaN</td>\n",
              "      <td>NaN</td>\n",
              "      <td>NaN</td>\n",
              "      <td>NaN</td>\n",
              "      <td>NaN</td>\n",
              "      <td>NaN</td>\n",
              "    </tr>\n",
              "    <tr>\n",
              "      <th>1</th>\n",
              "      <td>3</td>\n",
              "      <td>1/7/2000</td>\n",
              "      <td>NaN</td>\n",
              "      <td>NaN</td>\n",
              "      <td>282.9</td>\n",
              "      <td>284.5</td>\n",
              "      <td>282.0</td>\n",
              "      <td>19396.0</td>\n",
              "      <td>68731.0</td>\n",
              "      <td>1</td>\n",
              "      <td>...</td>\n",
              "      <td>24.0</td>\n",
              "      <td>1.0</td>\n",
              "      <td>2000-01</td>\n",
              "      <td>NaN</td>\n",
              "      <td>NaN</td>\n",
              "      <td>NaN</td>\n",
              "      <td>NaN</td>\n",
              "      <td>NaN</td>\n",
              "      <td>NaN</td>\n",
              "      <td>NaN</td>\n",
              "    </tr>\n",
              "    <tr>\n",
              "      <th>2</th>\n",
              "      <td>4</td>\n",
              "      <td>1/10/2000</td>\n",
              "      <td>NaN</td>\n",
              "      <td>NaN</td>\n",
              "      <td>282.7</td>\n",
              "      <td>283.9</td>\n",
              "      <td>281.8</td>\n",
              "      <td>11612.0</td>\n",
              "      <td>66778.0</td>\n",
              "      <td>1</td>\n",
              "      <td>...</td>\n",
              "      <td>40.0</td>\n",
              "      <td>1.0</td>\n",
              "      <td>2000-01</td>\n",
              "      <td>NaN</td>\n",
              "      <td>NaN</td>\n",
              "      <td>NaN</td>\n",
              "      <td>NaN</td>\n",
              "      <td>NaN</td>\n",
              "      <td>NaN</td>\n",
              "      <td>NaN</td>\n",
              "    </tr>\n",
              "    <tr>\n",
              "      <th>3</th>\n",
              "      <td>5</td>\n",
              "      <td>1/11/2000</td>\n",
              "      <td>NaN</td>\n",
              "      <td>NaN</td>\n",
              "      <td>284.4</td>\n",
              "      <td>285.3</td>\n",
              "      <td>281.9</td>\n",
              "      <td>30928.0</td>\n",
              "      <td>64731.0</td>\n",
              "      <td>1</td>\n",
              "      <td>...</td>\n",
              "      <td>NaN</td>\n",
              "      <td>1.0</td>\n",
              "      <td>2000-01</td>\n",
              "      <td>NaN</td>\n",
              "      <td>NaN</td>\n",
              "      <td>NaN</td>\n",
              "      <td>NaN</td>\n",
              "      <td>NaN</td>\n",
              "      <td>NaN</td>\n",
              "      <td>NaN</td>\n",
              "    </tr>\n",
              "    <tr>\n",
              "      <th>4</th>\n",
              "      <td>6</td>\n",
              "      <td>1/12/2000</td>\n",
              "      <td>NaN</td>\n",
              "      <td>NaN</td>\n",
              "      <td>283.7</td>\n",
              "      <td>285.0</td>\n",
              "      <td>282.5</td>\n",
              "      <td>13678.0</td>\n",
              "      <td>64629.0</td>\n",
              "      <td>1</td>\n",
              "      <td>...</td>\n",
              "      <td>29.0</td>\n",
              "      <td>1.0</td>\n",
              "      <td>2000-01</td>\n",
              "      <td>NaN</td>\n",
              "      <td>NaN</td>\n",
              "      <td>NaN</td>\n",
              "      <td>NaN</td>\n",
              "      <td>NaN</td>\n",
              "      <td>NaN</td>\n",
              "      <td>NaN</td>\n",
              "    </tr>\n",
              "  </tbody>\n",
              "</table>\n",
              "<p>5 rows × 36 columns</p>\n",
              "</div>"
            ],
            "text/plain": [
              "   Unnamed: 0 GC1 Comdty  Bid  Ask   Last   High    Low   Volume  \\\n",
              "0           2   1/6/2000  NaN  NaN  282.4  282.8  280.2  26026.0   \n",
              "1           3   1/7/2000  NaN  NaN  282.9  284.5  282.0  19396.0   \n",
              "2           4  1/10/2000  NaN  NaN  282.7  283.9  281.8  11612.0   \n",
              "3           5  1/11/2000  NaN  NaN  284.4  285.3  281.9  30928.0   \n",
              "4           6  1/12/2000  NaN  NaN  283.7  285.0  282.5  13678.0   \n",
              "\n",
              "   Open_Interest  Month    ...     TAVG  Month_y Month_Year  Unnamed: 0_us  \\\n",
              "0        67505.0      1    ...     30.0      1.0    2000-01            NaN   \n",
              "1        68731.0      1    ...     24.0      1.0    2000-01            NaN   \n",
              "2        66778.0      1    ...     40.0      1.0    2000-01            NaN   \n",
              "3        64731.0      1    ...      NaN      1.0    2000-01            NaN   \n",
              "4        64629.0      1    ...     29.0      1.0    2000-01            NaN   \n",
              "\n",
              "   date  gdp  cpi  int  nettrade  Month_us  \n",
              "0   NaN  NaN  NaN  NaN       NaN       NaN  \n",
              "1   NaN  NaN  NaN  NaN       NaN       NaN  \n",
              "2   NaN  NaN  NaN  NaN       NaN       NaN  \n",
              "3   NaN  NaN  NaN  NaN       NaN       NaN  \n",
              "4   NaN  NaN  NaN  NaN       NaN       NaN  \n",
              "\n",
              "[5 rows x 36 columns]"
            ]
          },
          "metadata": {
            "tags": []
          },
          "execution_count": 18
        }
      ]
    },
    {
      "metadata": {
        "id": "LH3zHznHkMjG",
        "colab_type": "code",
        "colab": {}
      },
      "cell_type": "code",
      "source": [
        "# saving data\n",
        "concat_data.to_csv('concat_data.csv')"
      ],
      "execution_count": 0,
      "outputs": []
    },
    {
      "metadata": {
        "id": "xTPWcu6kkr4x",
        "colab_type": "text"
      },
      "cell_type": "markdown",
      "source": [
        "Next, we want to drop all duplicate/useless information"
      ]
    },
    {
      "metadata": {
        "id": "ABw_PPXYkwMM",
        "colab_type": "code",
        "colab": {}
      },
      "cell_type": "code",
      "source": [
        "concat_clean = concat_data.drop(['Unnamed: 0', 'Bid', 'Ask', 'Unnamed: 0_corn', 'Unnamed: 0.1',\n",
        "                 'C 1 Comdty', 'Bid_corn', 'Ask_corn', 'Month_corn', 'Unnamed: 0_y', 'LATITUDE', 'LONGITUDE',\n",
        "                 'ELEVATION', 'DATE', 'Month_y', 'Month_Year', 'Unnamed: 0_us', 'date', 'Month_us'], axis=1)"
      ],
      "execution_count": 0,
      "outputs": []
    },
    {
      "metadata": {
        "id": "zWRaiOrnkyyl",
        "colab_type": "code",
        "colab": {}
      },
      "cell_type": "code",
      "source": [
        "concat_clean = concat_clean.rename(columns={'GC1 Comdty': 'Date', 'Last':'Price'})"
      ],
      "execution_count": 0,
      "outputs": []
    },
    {
      "metadata": {
        "id": "RD6T1hRspaNK",
        "colab_type": "text"
      },
      "cell_type": "markdown",
      "source": [
        "Optional: remove any instances where there is no price for gold"
      ]
    },
    {
      "metadata": {
        "id": "4BGXewGDpdKh",
        "colab_type": "code",
        "colab": {}
      },
      "cell_type": "code",
      "source": [
        "#concat_clean.dropna(subset=['Price'])\n",
        "\n",
        "#concat_clean = concat_clean.dropna(subset=['Price'])"
      ],
      "execution_count": 0,
      "outputs": []
    },
    {
      "metadata": {
        "id": "Lo8KmWt4rJ_C",
        "colab_type": "code",
        "colab": {
          "base_uri": "https://localhost:8080/",
          "height": 224
        },
        "outputId": "4d0ebff4-2ab4-4ab4-f73d-a90273f8d609"
      },
      "cell_type": "code",
      "source": [
        "concat_clean.head()"
      ],
      "execution_count": 21,
      "outputs": [
        {
          "output_type": "execute_result",
          "data": {
            "text/html": [
              "<div>\n",
              "<style scoped>\n",
              "    .dataframe tbody tr th:only-of-type {\n",
              "        vertical-align: middle;\n",
              "    }\n",
              "\n",
              "    .dataframe tbody tr th {\n",
              "        vertical-align: top;\n",
              "    }\n",
              "\n",
              "    .dataframe thead th {\n",
              "        text-align: right;\n",
              "    }\n",
              "</style>\n",
              "<table border=\"1\" class=\"dataframe\">\n",
              "  <thead>\n",
              "    <tr style=\"text-align: right;\">\n",
              "      <th></th>\n",
              "      <th>Date</th>\n",
              "      <th>Price</th>\n",
              "      <th>High</th>\n",
              "      <th>Low</th>\n",
              "      <th>Volume</th>\n",
              "      <th>Open_Interest</th>\n",
              "      <th>Month</th>\n",
              "      <th>Last_corn</th>\n",
              "      <th>High_corn</th>\n",
              "      <th>Low_corn</th>\n",
              "      <th>Volume_corn</th>\n",
              "      <th>Open_Interest_corn</th>\n",
              "      <th>TAVG</th>\n",
              "      <th>gdp</th>\n",
              "      <th>cpi</th>\n",
              "      <th>int</th>\n",
              "      <th>nettrade</th>\n",
              "    </tr>\n",
              "  </thead>\n",
              "  <tbody>\n",
              "    <tr>\n",
              "      <th>0</th>\n",
              "      <td>1/6/2000</td>\n",
              "      <td>282.4</td>\n",
              "      <td>282.8</td>\n",
              "      <td>280.2</td>\n",
              "      <td>26026.0</td>\n",
              "      <td>67505.0</td>\n",
              "      <td>1</td>\n",
              "      <td>203.75</td>\n",
              "      <td>205.75</td>\n",
              "      <td>203.00</td>\n",
              "      <td>37490.0</td>\n",
              "      <td>216368.0</td>\n",
              "      <td>30.0</td>\n",
              "      <td>NaN</td>\n",
              "      <td>NaN</td>\n",
              "      <td>NaN</td>\n",
              "      <td>NaN</td>\n",
              "    </tr>\n",
              "    <tr>\n",
              "      <th>1</th>\n",
              "      <td>1/7/2000</td>\n",
              "      <td>282.9</td>\n",
              "      <td>284.5</td>\n",
              "      <td>282.0</td>\n",
              "      <td>19396.0</td>\n",
              "      <td>68731.0</td>\n",
              "      <td>1</td>\n",
              "      <td>NaN</td>\n",
              "      <td>NaN</td>\n",
              "      <td>202.50</td>\n",
              "      <td>46637.0</td>\n",
              "      <td>219250.0</td>\n",
              "      <td>24.0</td>\n",
              "      <td>NaN</td>\n",
              "      <td>NaN</td>\n",
              "      <td>NaN</td>\n",
              "      <td>NaN</td>\n",
              "    </tr>\n",
              "    <tr>\n",
              "      <th>2</th>\n",
              "      <td>1/10/2000</td>\n",
              "      <td>282.7</td>\n",
              "      <td>283.9</td>\n",
              "      <td>281.8</td>\n",
              "      <td>11612.0</td>\n",
              "      <td>66778.0</td>\n",
              "      <td>1</td>\n",
              "      <td>208.50</td>\n",
              "      <td>209.25</td>\n",
              "      <td>204.75</td>\n",
              "      <td>47788.0</td>\n",
              "      <td>218442.0</td>\n",
              "      <td>40.0</td>\n",
              "      <td>NaN</td>\n",
              "      <td>NaN</td>\n",
              "      <td>NaN</td>\n",
              "      <td>NaN</td>\n",
              "    </tr>\n",
              "    <tr>\n",
              "      <th>3</th>\n",
              "      <td>1/11/2000</td>\n",
              "      <td>284.4</td>\n",
              "      <td>285.3</td>\n",
              "      <td>281.9</td>\n",
              "      <td>30928.0</td>\n",
              "      <td>64731.0</td>\n",
              "      <td>1</td>\n",
              "      <td>207.25</td>\n",
              "      <td>209.25</td>\n",
              "      <td>206.25</td>\n",
              "      <td>41233.0</td>\n",
              "      <td>218977.0</td>\n",
              "      <td>NaN</td>\n",
              "      <td>NaN</td>\n",
              "      <td>NaN</td>\n",
              "      <td>NaN</td>\n",
              "      <td>NaN</td>\n",
              "    </tr>\n",
              "    <tr>\n",
              "      <th>4</th>\n",
              "      <td>1/12/2000</td>\n",
              "      <td>283.7</td>\n",
              "      <td>285.0</td>\n",
              "      <td>282.5</td>\n",
              "      <td>13678.0</td>\n",
              "      <td>64629.0</td>\n",
              "      <td>1</td>\n",
              "      <td>215.50</td>\n",
              "      <td>216.75</td>\n",
              "      <td>206.75</td>\n",
              "      <td>122388.0</td>\n",
              "      <td>229517.0</td>\n",
              "      <td>29.0</td>\n",
              "      <td>NaN</td>\n",
              "      <td>NaN</td>\n",
              "      <td>NaN</td>\n",
              "      <td>NaN</td>\n",
              "    </tr>\n",
              "  </tbody>\n",
              "</table>\n",
              "</div>"
            ],
            "text/plain": [
              "        Date  Price   High    Low   Volume  Open_Interest  Month  Last_corn  \\\n",
              "0   1/6/2000  282.4  282.8  280.2  26026.0        67505.0      1     203.75   \n",
              "1   1/7/2000  282.9  284.5  282.0  19396.0        68731.0      1        NaN   \n",
              "2  1/10/2000  282.7  283.9  281.8  11612.0        66778.0      1     208.50   \n",
              "3  1/11/2000  284.4  285.3  281.9  30928.0        64731.0      1     207.25   \n",
              "4  1/12/2000  283.7  285.0  282.5  13678.0        64629.0      1     215.50   \n",
              "\n",
              "   High_corn  Low_corn  Volume_corn  Open_Interest_corn  TAVG  gdp  cpi  int  \\\n",
              "0     205.75    203.00      37490.0            216368.0  30.0  NaN  NaN  NaN   \n",
              "1        NaN    202.50      46637.0            219250.0  24.0  NaN  NaN  NaN   \n",
              "2     209.25    204.75      47788.0            218442.0  40.0  NaN  NaN  NaN   \n",
              "3     209.25    206.25      41233.0            218977.0   NaN  NaN  NaN  NaN   \n",
              "4     216.75    206.75     122388.0            229517.0  29.0  NaN  NaN  NaN   \n",
              "\n",
              "   nettrade  \n",
              "0       NaN  \n",
              "1       NaN  \n",
              "2       NaN  \n",
              "3       NaN  \n",
              "4       NaN  "
            ]
          },
          "metadata": {
            "tags": []
          },
          "execution_count": 21
        }
      ]
    },
    {
      "metadata": {
        "id": "OXKIADNlmxbx",
        "colab_type": "text"
      },
      "cell_type": "markdown",
      "source": [
        "Save cleaned csv"
      ]
    },
    {
      "metadata": {
        "id": "v0cqC4x0mvFD",
        "colab_type": "code",
        "colab": {}
      },
      "cell_type": "code",
      "source": [
        "concat_clean.to_csv('concat_clean.csv')"
      ],
      "execution_count": 0,
      "outputs": []
    },
    {
      "metadata": {
        "id": "WJxdzfnJoRCx",
        "colab_type": "text"
      },
      "cell_type": "markdown",
      "source": [
        "## Dealing with NaNs"
      ]
    },
    {
      "metadata": {
        "id": "YMrJ6lh3sDu6",
        "colab_type": "text"
      },
      "cell_type": "markdown",
      "source": [
        "Possible Strategies\n",
        "- replace NA with a value not seen in the dataset\n",
        "- replace NA with an avg/median value `df.fillna(df.mean(), inplace=True`)\n",
        "- replace NA with last seen value `df.fillna(method='ffill', inplace=True)`"
      ]
    },
    {
      "metadata": {
        "id": "u-bHBqcluJNx",
        "colab_type": "text"
      },
      "cell_type": "markdown",
      "source": [
        "We try using last strategy (fill in with last seen value)\n",
        "\n",
        "First we want to fill in the 1st row for us_macro stats"
      ]
    },
    {
      "metadata": {
        "id": "UXhTXztcstEl",
        "colab_type": "code",
        "colab": {}
      },
      "cell_type": "code",
      "source": [
        "concat_clean['gdp'][0] = 9697.2\n",
        "concat_clean['cpi'][0] = 0.870492853\n",
        "concat_clean['int'][0] = 5.73\n",
        "concat_clean['nettrade'][0] = -29930"
      ],
      "execution_count": 0,
      "outputs": []
    },
    {
      "metadata": {
        "id": "GXbCjrvtsi5L",
        "colab_type": "code",
        "colab": {}
      },
      "cell_type": "code",
      "source": [
        "#concat_clean = concat_clean.fillna(concat_clean.mean.astype(np.int32))\n",
        "\n",
        "concat_clean.fillna(method='ffill', inplace=True)"
      ],
      "execution_count": 0,
      "outputs": []
    },
    {
      "metadata": {
        "id": "ccpP0qnhs1vn",
        "colab_type": "code",
        "colab": {
          "base_uri": "https://localhost:8080/",
          "height": 224
        },
        "outputId": "4bcebe13-72e0-417b-ed95-134b94f3e119"
      },
      "cell_type": "code",
      "source": [
        "concat_clean.head()"
      ],
      "execution_count": 24,
      "outputs": [
        {
          "output_type": "execute_result",
          "data": {
            "text/html": [
              "<div>\n",
              "<style scoped>\n",
              "    .dataframe tbody tr th:only-of-type {\n",
              "        vertical-align: middle;\n",
              "    }\n",
              "\n",
              "    .dataframe tbody tr th {\n",
              "        vertical-align: top;\n",
              "    }\n",
              "\n",
              "    .dataframe thead th {\n",
              "        text-align: right;\n",
              "    }\n",
              "</style>\n",
              "<table border=\"1\" class=\"dataframe\">\n",
              "  <thead>\n",
              "    <tr style=\"text-align: right;\">\n",
              "      <th></th>\n",
              "      <th>Date</th>\n",
              "      <th>Price</th>\n",
              "      <th>High</th>\n",
              "      <th>Low</th>\n",
              "      <th>Volume</th>\n",
              "      <th>Open_Interest</th>\n",
              "      <th>Month</th>\n",
              "      <th>Last_corn</th>\n",
              "      <th>High_corn</th>\n",
              "      <th>Low_corn</th>\n",
              "      <th>Volume_corn</th>\n",
              "      <th>Open_Interest_corn</th>\n",
              "      <th>TAVG</th>\n",
              "      <th>gdp</th>\n",
              "      <th>cpi</th>\n",
              "      <th>int</th>\n",
              "      <th>nettrade</th>\n",
              "    </tr>\n",
              "  </thead>\n",
              "  <tbody>\n",
              "    <tr>\n",
              "      <th>0</th>\n",
              "      <td>1/6/2000</td>\n",
              "      <td>282.4</td>\n",
              "      <td>282.8</td>\n",
              "      <td>280.2</td>\n",
              "      <td>26026.0</td>\n",
              "      <td>67505.0</td>\n",
              "      <td>1</td>\n",
              "      <td>203.75</td>\n",
              "      <td>205.75</td>\n",
              "      <td>203.00</td>\n",
              "      <td>37490.0</td>\n",
              "      <td>216368.0</td>\n",
              "      <td>30.0</td>\n",
              "      <td>9697.2</td>\n",
              "      <td>0.870493</td>\n",
              "      <td>5.73</td>\n",
              "      <td>-29930.0</td>\n",
              "    </tr>\n",
              "    <tr>\n",
              "      <th>1</th>\n",
              "      <td>1/7/2000</td>\n",
              "      <td>282.9</td>\n",
              "      <td>284.5</td>\n",
              "      <td>282.0</td>\n",
              "      <td>19396.0</td>\n",
              "      <td>68731.0</td>\n",
              "      <td>1</td>\n",
              "      <td>203.75</td>\n",
              "      <td>205.75</td>\n",
              "      <td>202.50</td>\n",
              "      <td>46637.0</td>\n",
              "      <td>219250.0</td>\n",
              "      <td>24.0</td>\n",
              "      <td>9697.2</td>\n",
              "      <td>0.870493</td>\n",
              "      <td>5.73</td>\n",
              "      <td>-29930.0</td>\n",
              "    </tr>\n",
              "    <tr>\n",
              "      <th>2</th>\n",
              "      <td>1/10/2000</td>\n",
              "      <td>282.7</td>\n",
              "      <td>283.9</td>\n",
              "      <td>281.8</td>\n",
              "      <td>11612.0</td>\n",
              "      <td>66778.0</td>\n",
              "      <td>1</td>\n",
              "      <td>208.50</td>\n",
              "      <td>209.25</td>\n",
              "      <td>204.75</td>\n",
              "      <td>47788.0</td>\n",
              "      <td>218442.0</td>\n",
              "      <td>40.0</td>\n",
              "      <td>9697.2</td>\n",
              "      <td>0.870493</td>\n",
              "      <td>5.73</td>\n",
              "      <td>-29930.0</td>\n",
              "    </tr>\n",
              "    <tr>\n",
              "      <th>3</th>\n",
              "      <td>1/11/2000</td>\n",
              "      <td>284.4</td>\n",
              "      <td>285.3</td>\n",
              "      <td>281.9</td>\n",
              "      <td>30928.0</td>\n",
              "      <td>64731.0</td>\n",
              "      <td>1</td>\n",
              "      <td>207.25</td>\n",
              "      <td>209.25</td>\n",
              "      <td>206.25</td>\n",
              "      <td>41233.0</td>\n",
              "      <td>218977.0</td>\n",
              "      <td>40.0</td>\n",
              "      <td>9697.2</td>\n",
              "      <td>0.870493</td>\n",
              "      <td>5.73</td>\n",
              "      <td>-29930.0</td>\n",
              "    </tr>\n",
              "    <tr>\n",
              "      <th>4</th>\n",
              "      <td>1/12/2000</td>\n",
              "      <td>283.7</td>\n",
              "      <td>285.0</td>\n",
              "      <td>282.5</td>\n",
              "      <td>13678.0</td>\n",
              "      <td>64629.0</td>\n",
              "      <td>1</td>\n",
              "      <td>215.50</td>\n",
              "      <td>216.75</td>\n",
              "      <td>206.75</td>\n",
              "      <td>122388.0</td>\n",
              "      <td>229517.0</td>\n",
              "      <td>29.0</td>\n",
              "      <td>9697.2</td>\n",
              "      <td>0.870493</td>\n",
              "      <td>5.73</td>\n",
              "      <td>-29930.0</td>\n",
              "    </tr>\n",
              "  </tbody>\n",
              "</table>\n",
              "</div>"
            ],
            "text/plain": [
              "        Date  Price   High    Low   Volume  Open_Interest  Month  Last_corn  \\\n",
              "0   1/6/2000  282.4  282.8  280.2  26026.0        67505.0      1     203.75   \n",
              "1   1/7/2000  282.9  284.5  282.0  19396.0        68731.0      1     203.75   \n",
              "2  1/10/2000  282.7  283.9  281.8  11612.0        66778.0      1     208.50   \n",
              "3  1/11/2000  284.4  285.3  281.9  30928.0        64731.0      1     207.25   \n",
              "4  1/12/2000  283.7  285.0  282.5  13678.0        64629.0      1     215.50   \n",
              "\n",
              "   High_corn  Low_corn  Volume_corn  Open_Interest_corn  TAVG     gdp  \\\n",
              "0     205.75    203.00      37490.0            216368.0  30.0  9697.2   \n",
              "1     205.75    202.50      46637.0            219250.0  24.0  9697.2   \n",
              "2     209.25    204.75      47788.0            218442.0  40.0  9697.2   \n",
              "3     209.25    206.25      41233.0            218977.0  40.0  9697.2   \n",
              "4     216.75    206.75     122388.0            229517.0  29.0  9697.2   \n",
              "\n",
              "        cpi   int  nettrade  \n",
              "0  0.870493  5.73  -29930.0  \n",
              "1  0.870493  5.73  -29930.0  \n",
              "2  0.870493  5.73  -29930.0  \n",
              "3  0.870493  5.73  -29930.0  \n",
              "4  0.870493  5.73  -29930.0  "
            ]
          },
          "metadata": {
            "tags": []
          },
          "execution_count": 24
        }
      ]
    },
    {
      "metadata": {
        "id": "17nAXlFtvwnG",
        "colab_type": "text"
      },
      "cell_type": "markdown",
      "source": [
        "saving data"
      ]
    },
    {
      "metadata": {
        "id": "KPywYO6ys8KG",
        "colab_type": "code",
        "colab": {}
      },
      "cell_type": "code",
      "source": [
        "concat_clean.to_csv('concat_clean_fillna.csv')"
      ],
      "execution_count": 0,
      "outputs": []
    },
    {
      "metadata": {
        "id": "9UWQqzABvy5m",
        "colab_type": "code",
        "colab": {
          "base_uri": "https://localhost:8080/",
          "height": 34
        },
        "outputId": "9c4fbb71-15c0-4f32-edea-d410f585d34d"
      },
      "cell_type": "code",
      "source": [
        "len(concat_clean)"
      ],
      "execution_count": 25,
      "outputs": [
        {
          "output_type": "execute_result",
          "data": {
            "text/plain": [
              "1396"
            ]
          },
          "metadata": {
            "tags": []
          },
          "execution_count": 25
        }
      ]
    },
    {
      "metadata": {
        "id": "y84MwCwwv1Yv",
        "colab_type": "text"
      },
      "cell_type": "markdown",
      "source": [
        "after cleaning the data, we are left with 1396 observations of 17 features"
      ]
    },
    {
      "metadata": {
        "id": "-cH8TlMVvict",
        "colab_type": "text"
      },
      "cell_type": "markdown",
      "source": [
        "## Engineering New Features"
      ]
    },
    {
      "metadata": {
        "id": "mCax0JolJOzI",
        "colab_type": "text"
      },
      "cell_type": "markdown",
      "source": [
        "changing price to float32"
      ]
    },
    {
      "metadata": {
        "id": "HA0cRArtJRGR",
        "colab_type": "code",
        "colab": {}
      },
      "cell_type": "code",
      "source": [
        "concat_clean['Price'] = concat_clean['Price'].astype('float32')"
      ],
      "execution_count": 0,
      "outputs": []
    },
    {
      "metadata": {
        "id": "PKzJgUaNGuin",
        "colab_type": "text"
      },
      "cell_type": "markdown",
      "source": [
        "Creating day of week feature"
      ]
    },
    {
      "metadata": {
        "id": "kGFYIG2OGwFK",
        "colab_type": "code",
        "colab": {}
      },
      "cell_type": "code",
      "source": [
        "concat_clean['Date-Time'] = pd.to_datetime(concat_clean['Date'])\n"
      ],
      "execution_count": 0,
      "outputs": []
    },
    {
      "metadata": {
        "id": "4G1i4q00Hf-V",
        "colab_type": "code",
        "colab": {}
      },
      "cell_type": "code",
      "source": [
        "concat_clean['Weekday'] = concat_clean['Date-Time'].dt.dayofweek"
      ],
      "execution_count": 0,
      "outputs": []
    },
    {
      "metadata": {
        "id": "f4yKdjPiHus8",
        "colab_type": "code",
        "colab": {}
      },
      "cell_type": "code",
      "source": [
        "# deleting date-time\n",
        "concat_clean = concat_clean.drop(['Date-Time'], axis = 1)"
      ],
      "execution_count": 0,
      "outputs": []
    },
    {
      "metadata": {
        "id": "9WK4Hq2QHpZC",
        "colab_type": "code",
        "colab": {}
      },
      "cell_type": "code",
      "source": [
        "concat_clean"
      ],
      "execution_count": 0,
      "outputs": []
    },
    {
      "metadata": {
        "id": "3NechewH3-Yq",
        "colab_type": "text"
      },
      "cell_type": "markdown",
      "source": [
        "(OPTIONAL)add Year+Month as feature"
      ]
    },
    {
      "metadata": {
        "id": "VPJbxhMvvhgQ",
        "colab_type": "code",
        "colab": {}
      },
      "cell_type": "code",
      "source": [
        "#concat_clean['Month_Year'] = pd.to_datetime(concat_clean['Date']).dt.to_period('M')"
      ],
      "execution_count": 0,
      "outputs": []
    },
    {
      "metadata": {
        "id": "m2dhcLwV4MMM",
        "colab_type": "code",
        "colab": {
          "base_uri": "https://localhost:8080/",
          "height": 410
        },
        "outputId": "a3c4832c-b5ef-4bde-8392-3cea78aefc71"
      },
      "cell_type": "code",
      "source": [
        "concat_clean.describe(include='all')\n"
      ],
      "execution_count": 30,
      "outputs": [
        {
          "output_type": "execute_result",
          "data": {
            "text/html": [
              "<div>\n",
              "<style scoped>\n",
              "    .dataframe tbody tr th:only-of-type {\n",
              "        vertical-align: middle;\n",
              "    }\n",
              "\n",
              "    .dataframe tbody tr th {\n",
              "        vertical-align: top;\n",
              "    }\n",
              "\n",
              "    .dataframe thead th {\n",
              "        text-align: right;\n",
              "    }\n",
              "</style>\n",
              "<table border=\"1\" class=\"dataframe\">\n",
              "  <thead>\n",
              "    <tr style=\"text-align: right;\">\n",
              "      <th></th>\n",
              "      <th>Date</th>\n",
              "      <th>Price</th>\n",
              "      <th>High</th>\n",
              "      <th>Low</th>\n",
              "      <th>Volume</th>\n",
              "      <th>Open_Interest</th>\n",
              "      <th>Month</th>\n",
              "      <th>Last_corn</th>\n",
              "      <th>High_corn</th>\n",
              "      <th>Low_corn</th>\n",
              "      <th>Volume_corn</th>\n",
              "      <th>Open_Interest_corn</th>\n",
              "      <th>TAVG</th>\n",
              "      <th>gdp</th>\n",
              "      <th>cpi</th>\n",
              "      <th>int</th>\n",
              "      <th>nettrade</th>\n",
              "      <th>Weekday</th>\n",
              "    </tr>\n",
              "  </thead>\n",
              "  <tbody>\n",
              "    <tr>\n",
              "      <th>count</th>\n",
              "      <td>1396</td>\n",
              "      <td>1396.000000</td>\n",
              "      <td>1396.000000</td>\n",
              "      <td>1396.000000</td>\n",
              "      <td>1396.00000</td>\n",
              "      <td>1396.000000</td>\n",
              "      <td>1396.000000</td>\n",
              "      <td>1396.000000</td>\n",
              "      <td>1396.000000</td>\n",
              "      <td>1396.000000</td>\n",
              "      <td>1396.000000</td>\n",
              "      <td>1396.000000</td>\n",
              "      <td>1396.000000</td>\n",
              "      <td>1396.000000</td>\n",
              "      <td>1396.000000</td>\n",
              "      <td>1396.000000</td>\n",
              "      <td>1396.000000</td>\n",
              "      <td>1396.000000</td>\n",
              "    </tr>\n",
              "    <tr>\n",
              "      <th>unique</th>\n",
              "      <td>1396</td>\n",
              "      <td>NaN</td>\n",
              "      <td>NaN</td>\n",
              "      <td>NaN</td>\n",
              "      <td>NaN</td>\n",
              "      <td>NaN</td>\n",
              "      <td>NaN</td>\n",
              "      <td>NaN</td>\n",
              "      <td>NaN</td>\n",
              "      <td>NaN</td>\n",
              "      <td>NaN</td>\n",
              "      <td>NaN</td>\n",
              "      <td>NaN</td>\n",
              "      <td>NaN</td>\n",
              "      <td>NaN</td>\n",
              "      <td>NaN</td>\n",
              "      <td>NaN</td>\n",
              "      <td>NaN</td>\n",
              "    </tr>\n",
              "    <tr>\n",
              "      <th>top</th>\n",
              "      <td>11/21/2003</td>\n",
              "      <td>NaN</td>\n",
              "      <td>NaN</td>\n",
              "      <td>NaN</td>\n",
              "      <td>NaN</td>\n",
              "      <td>NaN</td>\n",
              "      <td>NaN</td>\n",
              "      <td>NaN</td>\n",
              "      <td>NaN</td>\n",
              "      <td>NaN</td>\n",
              "      <td>NaN</td>\n",
              "      <td>NaN</td>\n",
              "      <td>NaN</td>\n",
              "      <td>NaN</td>\n",
              "      <td>NaN</td>\n",
              "      <td>NaN</td>\n",
              "      <td>NaN</td>\n",
              "      <td>NaN</td>\n",
              "    </tr>\n",
              "    <tr>\n",
              "      <th>freq</th>\n",
              "      <td>1</td>\n",
              "      <td>NaN</td>\n",
              "      <td>NaN</td>\n",
              "      <td>NaN</td>\n",
              "      <td>NaN</td>\n",
              "      <td>NaN</td>\n",
              "      <td>NaN</td>\n",
              "      <td>NaN</td>\n",
              "      <td>NaN</td>\n",
              "      <td>NaN</td>\n",
              "      <td>NaN</td>\n",
              "      <td>NaN</td>\n",
              "      <td>NaN</td>\n",
              "      <td>NaN</td>\n",
              "      <td>NaN</td>\n",
              "      <td>NaN</td>\n",
              "      <td>NaN</td>\n",
              "      <td>NaN</td>\n",
              "    </tr>\n",
              "    <tr>\n",
              "      <th>mean</th>\n",
              "      <td>NaN</td>\n",
              "      <td>337.893188</td>\n",
              "      <td>339.867622</td>\n",
              "      <td>335.943481</td>\n",
              "      <td>17583.46490</td>\n",
              "      <td>48992.016476</td>\n",
              "      <td>6.274355</td>\n",
              "      <td>224.952364</td>\n",
              "      <td>227.177113</td>\n",
              "      <td>222.804979</td>\n",
              "      <td>32740.053009</td>\n",
              "      <td>150963.580946</td>\n",
              "      <td>49.231375</td>\n",
              "      <td>10839.078510</td>\n",
              "      <td>0.930911</td>\n",
              "      <td>2.844427</td>\n",
              "      <td>-39704.636103</td>\n",
              "      <td>2.017908</td>\n",
              "    </tr>\n",
              "    <tr>\n",
              "      <th>std</th>\n",
              "      <td>NaN</td>\n",
              "      <td>60.512489</td>\n",
              "      <td>60.925923</td>\n",
              "      <td>59.887781</td>\n",
              "      <td>23267.96006</td>\n",
              "      <td>62312.826674</td>\n",
              "      <td>3.386027</td>\n",
              "      <td>28.609813</td>\n",
              "      <td>29.061847</td>\n",
              "      <td>27.950594</td>\n",
              "      <td>20566.028123</td>\n",
              "      <td>104003.747021</td>\n",
              "      <td>19.798379</td>\n",
              "      <td>789.261278</td>\n",
              "      <td>0.034888</td>\n",
              "      <td>1.951549</td>\n",
              "      <td>9664.234832</td>\n",
              "      <td>1.399578</td>\n",
              "    </tr>\n",
              "    <tr>\n",
              "      <th>min</th>\n",
              "      <td>NaN</td>\n",
              "      <td>255.100006</td>\n",
              "      <td>255.000000</td>\n",
              "      <td>255.000000</td>\n",
              "      <td>1.00000</td>\n",
              "      <td>2.000000</td>\n",
              "      <td>1.000000</td>\n",
              "      <td>174.750000</td>\n",
              "      <td>175.750000</td>\n",
              "      <td>174.000000</td>\n",
              "      <td>3.000000</td>\n",
              "      <td>58.000000</td>\n",
              "      <td>-5.000000</td>\n",
              "      <td>9697.200000</td>\n",
              "      <td>0.870493</td>\n",
              "      <td>0.980000</td>\n",
              "      <td>-58819.000000</td>\n",
              "      <td>0.000000</td>\n",
              "    </tr>\n",
              "    <tr>\n",
              "      <th>25%</th>\n",
              "      <td>NaN</td>\n",
              "      <td>279.200012</td>\n",
              "      <td>280.475000</td>\n",
              "      <td>277.700000</td>\n",
              "      <td>115.75000</td>\n",
              "      <td>496.000000</td>\n",
              "      <td>3.000000</td>\n",
              "      <td>206.000000</td>\n",
              "      <td>207.750000</td>\n",
              "      <td>204.750000</td>\n",
              "      <td>18599.250000</td>\n",
              "      <td>55380.250000</td>\n",
              "      <td>34.000000</td>\n",
              "      <td>10221.600000</td>\n",
              "      <td>0.907873</td>\n",
              "      <td>1.260000</td>\n",
              "      <td>-46484.000000</td>\n",
              "      <td>1.000000</td>\n",
              "    </tr>\n",
              "    <tr>\n",
              "      <th>50%</th>\n",
              "      <td>NaN</td>\n",
              "      <td>320.899994</td>\n",
              "      <td>322.950000</td>\n",
              "      <td>319.600000</td>\n",
              "      <td>1993.50000</td>\n",
              "      <td>11953.000000</td>\n",
              "      <td>6.000000</td>\n",
              "      <td>218.000000</td>\n",
              "      <td>220.000000</td>\n",
              "      <td>215.500000</td>\n",
              "      <td>31581.500000</td>\n",
              "      <td>157563.500000</td>\n",
              "      <td>51.000000</td>\n",
              "      <td>10572.300000</td>\n",
              "      <td>0.927843</td>\n",
              "      <td>1.760000</td>\n",
              "      <td>-36519.000000</td>\n",
              "      <td>2.000000</td>\n",
              "    </tr>\n",
              "    <tr>\n",
              "      <th>75%</th>\n",
              "      <td>NaN</td>\n",
              "      <td>398.025002</td>\n",
              "      <td>401.075000</td>\n",
              "      <td>394.600000</td>\n",
              "      <td>31402.75000</td>\n",
              "      <td>83600.750000</td>\n",
              "      <td>9.000000</td>\n",
              "      <td>237.750000</td>\n",
              "      <td>239.750000</td>\n",
              "      <td>235.500000</td>\n",
              "      <td>43074.750000</td>\n",
              "      <td>225783.500000</td>\n",
              "      <td>66.000000</td>\n",
              "      <td>11447.800000</td>\n",
              "      <td>0.958054</td>\n",
              "      <td>4.210000</td>\n",
              "      <td>-31150.750000</td>\n",
              "      <td>3.000000</td>\n",
              "    </tr>\n",
              "    <tr>\n",
              "      <th>max</th>\n",
              "      <td>NaN</td>\n",
              "      <td>456.000000</td>\n",
              "      <td>456.500000</td>\n",
              "      <td>451.500000</td>\n",
              "      <td>112943.00000</td>\n",
              "      <td>253662.000000</td>\n",
              "      <td>12.000000</td>\n",
              "      <td>330.500000</td>\n",
              "      <td>335.250000</td>\n",
              "      <td>329.000000</td>\n",
              "      <td>180995.000000</td>\n",
              "      <td>394859.000000</td>\n",
              "      <td>83.000000</td>\n",
              "      <td>12589.600000</td>\n",
              "      <td>0.997994</td>\n",
              "      <td>6.540000</td>\n",
              "      <td>-26839.000000</td>\n",
              "      <td>4.000000</td>\n",
              "    </tr>\n",
              "  </tbody>\n",
              "</table>\n",
              "</div>"
            ],
            "text/plain": [
              "              Date        Price         High          Low        Volume  \\\n",
              "count         1396  1396.000000  1396.000000  1396.000000    1396.00000   \n",
              "unique        1396          NaN          NaN          NaN           NaN   \n",
              "top     11/21/2003          NaN          NaN          NaN           NaN   \n",
              "freq             1          NaN          NaN          NaN           NaN   \n",
              "mean           NaN   337.893188   339.867622   335.943481   17583.46490   \n",
              "std            NaN    60.512489    60.925923    59.887781   23267.96006   \n",
              "min            NaN   255.100006   255.000000   255.000000       1.00000   \n",
              "25%            NaN   279.200012   280.475000   277.700000     115.75000   \n",
              "50%            NaN   320.899994   322.950000   319.600000    1993.50000   \n",
              "75%            NaN   398.025002   401.075000   394.600000   31402.75000   \n",
              "max            NaN   456.000000   456.500000   451.500000  112943.00000   \n",
              "\n",
              "        Open_Interest        Month    Last_corn    High_corn     Low_corn  \\\n",
              "count     1396.000000  1396.000000  1396.000000  1396.000000  1396.000000   \n",
              "unique            NaN          NaN          NaN          NaN          NaN   \n",
              "top               NaN          NaN          NaN          NaN          NaN   \n",
              "freq              NaN          NaN          NaN          NaN          NaN   \n",
              "mean     48992.016476     6.274355   224.952364   227.177113   222.804979   \n",
              "std      62312.826674     3.386027    28.609813    29.061847    27.950594   \n",
              "min          2.000000     1.000000   174.750000   175.750000   174.000000   \n",
              "25%        496.000000     3.000000   206.000000   207.750000   204.750000   \n",
              "50%      11953.000000     6.000000   218.000000   220.000000   215.500000   \n",
              "75%      83600.750000     9.000000   237.750000   239.750000   235.500000   \n",
              "max     253662.000000    12.000000   330.500000   335.250000   329.000000   \n",
              "\n",
              "          Volume_corn  Open_Interest_corn         TAVG           gdp  \\\n",
              "count     1396.000000         1396.000000  1396.000000   1396.000000   \n",
              "unique            NaN                 NaN          NaN           NaN   \n",
              "top               NaN                 NaN          NaN           NaN   \n",
              "freq              NaN                 NaN          NaN           NaN   \n",
              "mean     32740.053009       150963.580946    49.231375  10839.078510   \n",
              "std      20566.028123       104003.747021    19.798379    789.261278   \n",
              "min          3.000000           58.000000    -5.000000   9697.200000   \n",
              "25%      18599.250000        55380.250000    34.000000  10221.600000   \n",
              "50%      31581.500000       157563.500000    51.000000  10572.300000   \n",
              "75%      43074.750000       225783.500000    66.000000  11447.800000   \n",
              "max     180995.000000       394859.000000    83.000000  12589.600000   \n",
              "\n",
              "                cpi          int      nettrade      Weekday  \n",
              "count   1396.000000  1396.000000   1396.000000  1396.000000  \n",
              "unique          NaN          NaN           NaN          NaN  \n",
              "top             NaN          NaN           NaN          NaN  \n",
              "freq            NaN          NaN           NaN          NaN  \n",
              "mean       0.930911     2.844427 -39704.636103     2.017908  \n",
              "std        0.034888     1.951549   9664.234832     1.399578  \n",
              "min        0.870493     0.980000 -58819.000000     0.000000  \n",
              "25%        0.907873     1.260000 -46484.000000     1.000000  \n",
              "50%        0.927843     1.760000 -36519.000000     2.000000  \n",
              "75%        0.958054     4.210000 -31150.750000     3.000000  \n",
              "max        0.997994     6.540000 -26839.000000     4.000000  "
            ]
          },
          "metadata": {
            "tags": []
          },
          "execution_count": 30
        }
      ]
    },
    {
      "metadata": {
        "id": "B7nRop-t5llh",
        "colab_type": "text"
      },
      "cell_type": "markdown",
      "source": [
        "# Setting up training data"
      ]
    },
    {
      "metadata": {
        "id": "RzoETlC25pXI",
        "colab_type": "text"
      },
      "cell_type": "markdown",
      "source": [
        "List categorical and continuous variables"
      ]
    },
    {
      "metadata": {
        "id": "4M0m3X8R5oJD",
        "colab_type": "code",
        "colab": {}
      },
      "cell_type": "code",
      "source": [
        "cat_vars = ['Date', 'Month', 'Weekday']\n"
      ],
      "execution_count": 0,
      "outputs": []
    },
    {
      "metadata": {
        "id": "4rUeCbaD8A2r",
        "colab_type": "text"
      },
      "cell_type": "markdown",
      "source": [
        "In order to use categorical variables, we use entity embedding to find distributed representation of categorical data\n",
        "\n",
        "For this we use min(50, size(var)//2)\n",
        "\n",
        "So month => 6, Date =>50, and Month_Year => 3\n"
      ]
    },
    {
      "metadata": {
        "id": "h1bbjoSfKvhd",
        "colab_type": "text"
      },
      "cell_type": "markdown",
      "source": [
        "Because financial data is often heavy-tailed, instead of looking at the price of gold, we can look at the log of the price\n",
        "\n",
        "Creating Log of price"
      ]
    },
    {
      "metadata": {
        "id": "a54O4TDV8Ut5",
        "colab_type": "code",
        "colab": {}
      },
      "cell_type": "code",
      "source": [
        "concat_clean['Log_Price'] = np.log(concat_clean['Price'])"
      ],
      "execution_count": 0,
      "outputs": []
    },
    {
      "metadata": {
        "id": "uWlPM6NvLk7z",
        "colab_type": "code",
        "colab": {}
      },
      "cell_type": "code",
      "source": [
        "concat_clean['Log_Price'] = concat_clean['Log_Price'].astype('float32')"
      ],
      "execution_count": 0,
      "outputs": []
    },
    {
      "metadata": {
        "id": "crZ7rlidK_HB",
        "colab_type": "code",
        "colab": {}
      },
      "cell_type": "code",
      "source": [
        "concat_clean = concat_clean.drop(['Price'], axis = 1)"
      ],
      "execution_count": 0,
      "outputs": []
    },
    {
      "metadata": {
        "id": "fvEIigesK3cE",
        "colab_type": "code",
        "colab": {
          "base_uri": "https://localhost:8080/",
          "height": 224
        },
        "outputId": "b41f9d5c-88c5-42b8-ff9b-e6dec5abd4ba"
      },
      "cell_type": "code",
      "source": [
        "concat_clean.head()"
      ],
      "execution_count": 35,
      "outputs": [
        {
          "output_type": "execute_result",
          "data": {
            "text/html": [
              "<div>\n",
              "<style scoped>\n",
              "    .dataframe tbody tr th:only-of-type {\n",
              "        vertical-align: middle;\n",
              "    }\n",
              "\n",
              "    .dataframe tbody tr th {\n",
              "        vertical-align: top;\n",
              "    }\n",
              "\n",
              "    .dataframe thead th {\n",
              "        text-align: right;\n",
              "    }\n",
              "</style>\n",
              "<table border=\"1\" class=\"dataframe\">\n",
              "  <thead>\n",
              "    <tr style=\"text-align: right;\">\n",
              "      <th></th>\n",
              "      <th>Date</th>\n",
              "      <th>High</th>\n",
              "      <th>Low</th>\n",
              "      <th>Volume</th>\n",
              "      <th>Open_Interest</th>\n",
              "      <th>Month</th>\n",
              "      <th>Last_corn</th>\n",
              "      <th>High_corn</th>\n",
              "      <th>Low_corn</th>\n",
              "      <th>Volume_corn</th>\n",
              "      <th>Open_Interest_corn</th>\n",
              "      <th>TAVG</th>\n",
              "      <th>gdp</th>\n",
              "      <th>cpi</th>\n",
              "      <th>int</th>\n",
              "      <th>nettrade</th>\n",
              "      <th>Weekday</th>\n",
              "      <th>Log_Price</th>\n",
              "    </tr>\n",
              "  </thead>\n",
              "  <tbody>\n",
              "    <tr>\n",
              "      <th>0</th>\n",
              "      <td>1/6/2000</td>\n",
              "      <td>282.8</td>\n",
              "      <td>280.2</td>\n",
              "      <td>26026.0</td>\n",
              "      <td>67505.0</td>\n",
              "      <td>1</td>\n",
              "      <td>203.75</td>\n",
              "      <td>205.75</td>\n",
              "      <td>203.00</td>\n",
              "      <td>37490.0</td>\n",
              "      <td>216368.0</td>\n",
              "      <td>30.0</td>\n",
              "      <td>9697.2</td>\n",
              "      <td>0.870493</td>\n",
              "      <td>5.73</td>\n",
              "      <td>-29930.0</td>\n",
              "      <td>3</td>\n",
              "      <td>5.643324</td>\n",
              "    </tr>\n",
              "    <tr>\n",
              "      <th>1</th>\n",
              "      <td>1/7/2000</td>\n",
              "      <td>284.5</td>\n",
              "      <td>282.0</td>\n",
              "      <td>19396.0</td>\n",
              "      <td>68731.0</td>\n",
              "      <td>1</td>\n",
              "      <td>203.75</td>\n",
              "      <td>205.75</td>\n",
              "      <td>202.50</td>\n",
              "      <td>46637.0</td>\n",
              "      <td>219250.0</td>\n",
              "      <td>24.0</td>\n",
              "      <td>9697.2</td>\n",
              "      <td>0.870493</td>\n",
              "      <td>5.73</td>\n",
              "      <td>-29930.0</td>\n",
              "      <td>4</td>\n",
              "      <td>5.645093</td>\n",
              "    </tr>\n",
              "    <tr>\n",
              "      <th>2</th>\n",
              "      <td>1/10/2000</td>\n",
              "      <td>283.9</td>\n",
              "      <td>281.8</td>\n",
              "      <td>11612.0</td>\n",
              "      <td>66778.0</td>\n",
              "      <td>1</td>\n",
              "      <td>208.50</td>\n",
              "      <td>209.25</td>\n",
              "      <td>204.75</td>\n",
              "      <td>47788.0</td>\n",
              "      <td>218442.0</td>\n",
              "      <td>40.0</td>\n",
              "      <td>9697.2</td>\n",
              "      <td>0.870493</td>\n",
              "      <td>5.73</td>\n",
              "      <td>-29930.0</td>\n",
              "      <td>0</td>\n",
              "      <td>5.644386</td>\n",
              "    </tr>\n",
              "    <tr>\n",
              "      <th>3</th>\n",
              "      <td>1/11/2000</td>\n",
              "      <td>285.3</td>\n",
              "      <td>281.9</td>\n",
              "      <td>30928.0</td>\n",
              "      <td>64731.0</td>\n",
              "      <td>1</td>\n",
              "      <td>207.25</td>\n",
              "      <td>209.25</td>\n",
              "      <td>206.25</td>\n",
              "      <td>41233.0</td>\n",
              "      <td>218977.0</td>\n",
              "      <td>40.0</td>\n",
              "      <td>9697.2</td>\n",
              "      <td>0.870493</td>\n",
              "      <td>5.73</td>\n",
              "      <td>-29930.0</td>\n",
              "      <td>1</td>\n",
              "      <td>5.650382</td>\n",
              "    </tr>\n",
              "    <tr>\n",
              "      <th>4</th>\n",
              "      <td>1/12/2000</td>\n",
              "      <td>285.0</td>\n",
              "      <td>282.5</td>\n",
              "      <td>13678.0</td>\n",
              "      <td>64629.0</td>\n",
              "      <td>1</td>\n",
              "      <td>215.50</td>\n",
              "      <td>216.75</td>\n",
              "      <td>206.75</td>\n",
              "      <td>122388.0</td>\n",
              "      <td>229517.0</td>\n",
              "      <td>29.0</td>\n",
              "      <td>9697.2</td>\n",
              "      <td>0.870493</td>\n",
              "      <td>5.73</td>\n",
              "      <td>-29930.0</td>\n",
              "      <td>2</td>\n",
              "      <td>5.647917</td>\n",
              "    </tr>\n",
              "  </tbody>\n",
              "</table>\n",
              "</div>"
            ],
            "text/plain": [
              "        Date   High    Low   Volume  Open_Interest  Month  Last_corn  \\\n",
              "0   1/6/2000  282.8  280.2  26026.0        67505.0      1     203.75   \n",
              "1   1/7/2000  284.5  282.0  19396.0        68731.0      1     203.75   \n",
              "2  1/10/2000  283.9  281.8  11612.0        66778.0      1     208.50   \n",
              "3  1/11/2000  285.3  281.9  30928.0        64731.0      1     207.25   \n",
              "4  1/12/2000  285.0  282.5  13678.0        64629.0      1     215.50   \n",
              "\n",
              "   High_corn  Low_corn  Volume_corn  Open_Interest_corn  TAVG     gdp  \\\n",
              "0     205.75    203.00      37490.0            216368.0  30.0  9697.2   \n",
              "1     205.75    202.50      46637.0            219250.0  24.0  9697.2   \n",
              "2     209.25    204.75      47788.0            218442.0  40.0  9697.2   \n",
              "3     209.25    206.25      41233.0            218977.0  40.0  9697.2   \n",
              "4     216.75    206.75     122388.0            229517.0  29.0  9697.2   \n",
              "\n",
              "        cpi   int  nettrade  Weekday  Log_Price  \n",
              "0  0.870493  5.73  -29930.0        3   5.643324  \n",
              "1  0.870493  5.73  -29930.0        4   5.645093  \n",
              "2  0.870493  5.73  -29930.0        0   5.644386  \n",
              "3  0.870493  5.73  -29930.0        1   5.650382  \n",
              "4  0.870493  5.73  -29930.0        2   5.647917  "
            ]
          },
          "metadata": {
            "tags": []
          },
          "execution_count": 35
        }
      ]
    },
    {
      "metadata": {
        "id": "Cck4TWxOzYR7",
        "colab_type": "text"
      },
      "cell_type": "markdown",
      "source": [
        "## Splitting into Train/Val set\n",
        "\n",
        "Since we're working with time series data, the rule of thumb is typically to reserve the last 20% of training data for validation"
      ]
    },
    {
      "metadata": {
        "id": "3ipMHQU94zEs",
        "colab_type": "code",
        "colab": {}
      },
      "cell_type": "code",
      "source": [
        "sample_size = len(concat_clean)\n",
        "train_ratio = 0.8\n",
        "train_size = int(sample_size * train_ratio); train_size\n",
        "val_idx = list(range(train_size, len(concat_clean)))"
      ],
      "execution_count": 0,
      "outputs": []
    },
    {
      "metadata": {
        "id": "AAPeFxk15Nbb",
        "colab_type": "code",
        "colab": {
          "base_uri": "https://localhost:8080/",
          "height": 68
        },
        "outputId": "15ba43f4-10af-444e-ea80-d1a5412bebbb"
      },
      "cell_type": "code",
      "source": [
        "print(train_size)\n",
        "print(len(val_idx))\n",
        "print(train_size+len(val_idx))"
      ],
      "execution_count": 37,
      "outputs": [
        {
          "output_type": "stream",
          "text": [
            "1116\n",
            "280\n",
            "1396\n"
          ],
          "name": "stdout"
        }
      ]
    },
    {
      "metadata": {
        "id": "xH5qUs29621C",
        "colab_type": "code",
        "colab": {}
      },
      "cell_type": "code",
      "source": [
        "train_df, valid_df = concat_clean[:train_size].copy(),concat_clean[train_size:].copy()"
      ],
      "execution_count": 0,
      "outputs": []
    },
    {
      "metadata": {
        "id": "Xci54idyUG4Y",
        "colab_type": "code",
        "colab": {
          "base_uri": "https://localhost:8080/",
          "height": 224
        },
        "outputId": "9470cda3-2d60-462a-d900-a8435cb76f82"
      },
      "cell_type": "code",
      "source": [
        "valid_df.head()"
      ],
      "execution_count": 39,
      "outputs": [
        {
          "output_type": "execute_result",
          "data": {
            "text/html": [
              "<div>\n",
              "<style scoped>\n",
              "    .dataframe tbody tr th:only-of-type {\n",
              "        vertical-align: middle;\n",
              "    }\n",
              "\n",
              "    .dataframe tbody tr th {\n",
              "        vertical-align: top;\n",
              "    }\n",
              "\n",
              "    .dataframe thead th {\n",
              "        text-align: right;\n",
              "    }\n",
              "</style>\n",
              "<table border=\"1\" class=\"dataframe\">\n",
              "  <thead>\n",
              "    <tr style=\"text-align: right;\">\n",
              "      <th></th>\n",
              "      <th>Date</th>\n",
              "      <th>High</th>\n",
              "      <th>Low</th>\n",
              "      <th>Volume</th>\n",
              "      <th>Open_Interest</th>\n",
              "      <th>Month</th>\n",
              "      <th>Last_corn</th>\n",
              "      <th>High_corn</th>\n",
              "      <th>Low_corn</th>\n",
              "      <th>Volume_corn</th>\n",
              "      <th>Open_Interest_corn</th>\n",
              "      <th>TAVG</th>\n",
              "      <th>gdp</th>\n",
              "      <th>cpi</th>\n",
              "      <th>int</th>\n",
              "      <th>nettrade</th>\n",
              "      <th>Weekday</th>\n",
              "      <th>Log_Price</th>\n",
              "    </tr>\n",
              "  </thead>\n",
              "  <tbody>\n",
              "    <tr>\n",
              "      <th>1116</th>\n",
              "      <td>6/25/2004</td>\n",
              "      <td>403.6</td>\n",
              "      <td>401.3</td>\n",
              "      <td>190.0</td>\n",
              "      <td>491.0</td>\n",
              "      <td>6</td>\n",
              "      <td>276.25</td>\n",
              "      <td>276.75</td>\n",
              "      <td>273.00</td>\n",
              "      <td>22147.0</td>\n",
              "      <td>70955.0</td>\n",
              "      <td>60.0</td>\n",
              "      <td>11649.3</td>\n",
              "      <td>0.967271</td>\n",
              "      <td>1.03</td>\n",
              "      <td>-54702.0</td>\n",
              "      <td>4</td>\n",
              "      <td>5.998688</td>\n",
              "    </tr>\n",
              "    <tr>\n",
              "      <th>1117</th>\n",
              "      <td>6/28/2004</td>\n",
              "      <td>405.0</td>\n",
              "      <td>401.3</td>\n",
              "      <td>341.0</td>\n",
              "      <td>433.0</td>\n",
              "      <td>6</td>\n",
              "      <td>271.25</td>\n",
              "      <td>274.75</td>\n",
              "      <td>270.00</td>\n",
              "      <td>27965.0</td>\n",
              "      <td>52831.0</td>\n",
              "      <td>65.0</td>\n",
              "      <td>11649.3</td>\n",
              "      <td>0.967271</td>\n",
              "      <td>1.03</td>\n",
              "      <td>-54702.0</td>\n",
              "      <td>0</td>\n",
              "      <td>5.993961</td>\n",
              "    </tr>\n",
              "    <tr>\n",
              "      <th>1118</th>\n",
              "      <td>6/29/2004</td>\n",
              "      <td>402.2</td>\n",
              "      <td>391.0</td>\n",
              "      <td>61810.0</td>\n",
              "      <td>136471.0</td>\n",
              "      <td>6</td>\n",
              "      <td>268.00</td>\n",
              "      <td>274.00</td>\n",
              "      <td>266.25</td>\n",
              "      <td>39306.0</td>\n",
              "      <td>29250.0</td>\n",
              "      <td>67.0</td>\n",
              "      <td>11649.3</td>\n",
              "      <td>0.967271</td>\n",
              "      <td>1.03</td>\n",
              "      <td>-54702.0</td>\n",
              "      <td>1</td>\n",
              "      <td>5.973300</td>\n",
              "    </tr>\n",
              "    <tr>\n",
              "      <th>1119</th>\n",
              "      <td>6/30/2004</td>\n",
              "      <td>397.3</td>\n",
              "      <td>392.0</td>\n",
              "      <td>40666.0</td>\n",
              "      <td>132412.0</td>\n",
              "      <td>6</td>\n",
              "      <td>268.00</td>\n",
              "      <td>274.00</td>\n",
              "      <td>254.50</td>\n",
              "      <td>26657.0</td>\n",
              "      <td>18164.0</td>\n",
              "      <td>69.0</td>\n",
              "      <td>11649.3</td>\n",
              "      <td>0.967271</td>\n",
              "      <td>1.03</td>\n",
              "      <td>-54702.0</td>\n",
              "      <td>2</td>\n",
              "      <td>5.973810</td>\n",
              "    </tr>\n",
              "    <tr>\n",
              "      <th>1120</th>\n",
              "      <td>7/1/2004</td>\n",
              "      <td>396.7</td>\n",
              "      <td>393.2</td>\n",
              "      <td>27510.0</td>\n",
              "      <td>129298.0</td>\n",
              "      <td>7</td>\n",
              "      <td>257.50</td>\n",
              "      <td>259.25</td>\n",
              "      <td>252.50</td>\n",
              "      <td>15662.0</td>\n",
              "      <td>12306.0</td>\n",
              "      <td>71.0</td>\n",
              "      <td>11803.5</td>\n",
              "      <td>0.968295</td>\n",
              "      <td>1.26</td>\n",
              "      <td>-51293.0</td>\n",
              "      <td>3</td>\n",
              "      <td>5.982424</td>\n",
              "    </tr>\n",
              "  </tbody>\n",
              "</table>\n",
              "</div>"
            ],
            "text/plain": [
              "           Date   High    Low   Volume  Open_Interest  Month  Last_corn  \\\n",
              "1116  6/25/2004  403.6  401.3    190.0          491.0      6     276.25   \n",
              "1117  6/28/2004  405.0  401.3    341.0          433.0      6     271.25   \n",
              "1118  6/29/2004  402.2  391.0  61810.0       136471.0      6     268.00   \n",
              "1119  6/30/2004  397.3  392.0  40666.0       132412.0      6     268.00   \n",
              "1120   7/1/2004  396.7  393.2  27510.0       129298.0      7     257.50   \n",
              "\n",
              "      High_corn  Low_corn  Volume_corn  Open_Interest_corn  TAVG      gdp  \\\n",
              "1116     276.75    273.00      22147.0             70955.0  60.0  11649.3   \n",
              "1117     274.75    270.00      27965.0             52831.0  65.0  11649.3   \n",
              "1118     274.00    266.25      39306.0             29250.0  67.0  11649.3   \n",
              "1119     274.00    254.50      26657.0             18164.0  69.0  11649.3   \n",
              "1120     259.25    252.50      15662.0             12306.0  71.0  11803.5   \n",
              "\n",
              "           cpi   int  nettrade  Weekday  Log_Price  \n",
              "1116  0.967271  1.03  -54702.0        4   5.998688  \n",
              "1117  0.967271  1.03  -54702.0        0   5.993961  \n",
              "1118  0.967271  1.03  -54702.0        1   5.973300  \n",
              "1119  0.967271  1.03  -54702.0        2   5.973810  \n",
              "1120  0.968295  1.26  -51293.0        3   5.982424  "
            ]
          },
          "metadata": {
            "tags": []
          },
          "execution_count": 39
        }
      ]
    },
    {
      "metadata": {
        "id": "kmu2I1aD-VvV",
        "colab_type": "text"
      },
      "cell_type": "markdown",
      "source": [
        "# Deep Learning\n",
        "\n",
        "We can evaluate the performance of the model using Root Mean Square Percentage Error (RMSPE)\n",
        "\n",
        "This is a good metric to evaluate the performance of the model because we want penalize values that are more off more harshly (i.e. a big difference in predicted and actual price is more harmful to the investor than a small difference)\n",
        "\n",
        "Because we are using the log(Price) in our data, we need to take exp(RMSPE)"
      ]
    },
    {
      "metadata": {
        "id": "mO1oZJFg7gp9",
        "colab_type": "text"
      },
      "cell_type": "markdown",
      "source": [
        "defining variable transformations"
      ]
    },
    {
      "metadata": {
        "id": "aUCT0nXX7jbP",
        "colab_type": "code",
        "colab": {}
      },
      "cell_type": "code",
      "source": [
        "tfms = [Categorify]"
      ],
      "execution_count": 0,
      "outputs": []
    },
    {
      "metadata": {
        "id": "f0zz91V8719r",
        "colab_type": "text"
      },
      "cell_type": "markdown",
      "source": [
        "setting up databunch api from fastai"
      ]
    },
    {
      "metadata": {
        "id": "iGPvBCwW6-ec",
        "colab_type": "code",
        "colab": {}
      },
      "cell_type": "code",
      "source": [
        "#data = TabularDataBunch.from_df(path, train_df, valid_df, dep_var = 'Price',  tfms=tfms, cat_names=cat_vars, bs = 32)\n",
        "\n",
        "data = TabularDataBunch.from_df(path, train_df, valid_df, dep_var = 'Log_Price',  tfms=tfms, cat_names=cat_vars, bs = 32, c = 1)\n"
      ],
      "execution_count": 0,
      "outputs": []
    },
    {
      "metadata": {
        "id": "KuZ6OkNK74E9",
        "colab_type": "code",
        "colab": {}
      },
      "cell_type": "code",
      "source": [
        " learn = get_tabular_learner(data, layers = [1000,500], emb_szs = {'Date':50, 'Month':6, 'Month_Year':34},\n",
        "                           metrics = [exp_rmspe], ps = [0.5, 0.5])\n",
        "\n",
        "# learn = get_tabular_learner(data, layers = [1000,500])"
      ],
      "execution_count": 0,
      "outputs": []
    },
    {
      "metadata": {
        "id": "jwSJaNhuI87x",
        "colab_type": "text"
      },
      "cell_type": "markdown",
      "source": [
        "finding optimal learning rate"
      ]
    },
    {
      "metadata": {
        "id": "FZXEtRPL9-xQ",
        "colab_type": "code",
        "colab": {
          "base_uri": "https://localhost:8080/",
          "height": 495
        },
        "outputId": "96af1dc7-ced8-45ce-dc0c-cfcdea69a9bb"
      },
      "cell_type": "code",
      "source": [
        "lr_find(learn)\n",
        "learn.recorder.plot()"
      ],
      "execution_count": 35,
      "outputs": [
        {
          "output_type": "display_data",
          "data": {
            "text/html": [
              "\n",
              "    <div>\n",
              "        <style>\n",
              "        \t/* Turns off some styling */\n",
              "        \tprogress {\n",
              "\n",
              "            \t/* gets rid of default border in Firefox and Opera. */\n",
              "            \tborder: none;\n",
              "\n",
              "            \t/* Needs to be in here for Safari polyfill so background images work as expected. */\n",
              "            \tbackground-size: auto;\n",
              "            }\n",
              "\n",
              "            .progress-bar-interrupted, .progress-bar-interrupted::-webkit-progress-bar {\n",
              "                background: #F44336;\n",
              "            }\n",
              "        </style>\n",
              "      <progress value='2' class='' max='3', style='width:300px; height:20px; vertical-align: middle;'></progress>\n",
              "      66.67% [2/3 00:02<00:01]\n",
              "    </div>\n",
              "    \n",
              "<table style='width:300px; margin-bottom:10px'>\n",
              "  <tr>\n",
              "    <th>epoch</th>\n",
              "    <th>train_loss</th>\n",
              "    <th>valid_loss</th>\n",
              "    <th>exp_rmspe</th>\n",
              "  </tr>\n",
              "  <tr>\n",
              "    <th>1</th>\n",
              "    <th>33.654591</th>\n",
              "  </tr>\n",
              "  <tr>\n",
              "    <th>2</th>\n",
              "    <th>28.842100</th>\n",
              "  </tr>\n",
              "  <tr>\n",
              "\n",
              "  </tr>\n",
              "</table>\n",
              "\n",
              "\n",
              "    <div>\n",
              "        <style>\n",
              "        \t/* Turns off some styling */\n",
              "        \tprogress {\n",
              "\n",
              "            \t/* gets rid of default border in Firefox and Opera. */\n",
              "            \tborder: none;\n",
              "\n",
              "            \t/* Needs to be in here for Safari polyfill so background images work as expected. */\n",
              "            \tbackground-size: auto;\n",
              "            }\n",
              "\n",
              "            .progress-bar-interrupted, .progress-bar-interrupted::-webkit-progress-bar {\n",
              "                background: #F44336;\n",
              "            }\n",
              "        </style>\n",
              "      <progress value='0' class='progress-bar-interrupted' max='35', style='width:300px; height:20px; vertical-align: middle;'></progress>\n",
              "      Interrupted\n",
              "    </div>\n",
              "    "
            ],
            "text/plain": [
              "<IPython.core.display.HTML object>"
            ]
          },
          "metadata": {
            "tags": []
          }
        },
        {
          "output_type": "stream",
          "text": [
            "LR Finder complete, type {learner_name}.recorder.plot() to see the graph.\n"
          ],
          "name": "stdout"
        },
        {
          "output_type": "display_data",
          "data": {
            "image/png": "[encoded data removed]",
            "text/plain": [
              "<matplotlib.figure.Figure at 0x7f552c07d828>"
            ]
          },
          "metadata": {
            "tags": []
          }
        }
      ]
    },
    {
      "metadata": {
        "id": "mR_0CKmEJlOE",
        "colab_type": "text"
      },
      "cell_type": "markdown",
      "source": [
        "it looks like 1e-02 is a good learning rate to use, we can try ranges from 1e-02 to 1e-01\n",
        "\n",
        "We are using the one-cycle-policy, where we increase the learning rate while decreasing momentum for first half of training, then decrease learning rate and increase the momentum\n",
        "\n",
        "![Fast.ai one cycle policy](https://www.fast.ai/images/1cycle.png)"
      ]
    },
    {
      "metadata": {
        "id": "qKp32Fl6MJDV",
        "colab_type": "code",
        "colab": {}
      },
      "cell_type": "code",
      "source": [
        "learn.save('stage-0')"
      ],
      "execution_count": 0,
      "outputs": []
    },
    {
      "metadata": {
        "id": "YA_Auxq6NHy3",
        "colab_type": "code",
        "colab": {
          "base_uri": "https://localhost:8080/",
          "height": 615
        },
        "outputId": "2a8bb912-bf1f-468b-f942-0d062bf08a32"
      },
      "cell_type": "code",
      "source": [
        "learn.load('stage-0')"
      ],
      "execution_count": 50,
      "outputs": [
        {
          "output_type": "execute_result",
          "data": {
            "text/plain": [
              "Learner(data=<fastai.tabular.data.TabularDataBunch object at 0x7f552c084cf8>, model=TabularModel(\n",
              "  (embeds): ModuleList(\n",
              "    (0): Embedding(1117, 50)\n",
              "    (1): Embedding(13, 6)\n",
              "    (2): Embedding(6, 4)\n",
              "  )\n",
              "  (emb_drop): Dropout(p=0.0)\n",
              "  (bn_cont): BatchNorm1d(14, eps=1e-05, momentum=0.1, affine=True, track_running_stats=True)\n",
              "  (layers): Sequential(\n",
              "    (0): Linear(in_features=74, out_features=1000, bias=True)\n",
              "    (1): ReLU(inplace)\n",
              "    (2): BatchNorm1d(1000, eps=1e-05, momentum=0.1, affine=True, track_running_stats=True)\n",
              "    (3): Dropout(p=0.5)\n",
              "    (4): Linear(in_features=1000, out_features=500, bias=True)\n",
              "    (5): ReLU(inplace)\n",
              "    (6): BatchNorm1d(500, eps=1e-05, momentum=0.1, affine=True, track_running_stats=True)\n",
              "    (7): Dropout(p=0.5)\n",
              "    (8): Linear(in_features=500, out_features=1, bias=True)\n",
              "  )\n",
              "), opt_func=functools.partial(<class 'torch.optim.adam.Adam'>, betas=(0.9, 0.99)), loss_func=MSELossFlat(), metrics=[<function exp_rmspe at 0x7f552ca50f28>], true_wd=True, bn_wd=True, wd=0.01, train_bn=True, path=PosixPath('/content/data'), model_dir='models', callback_fns=[<class 'fastai.basic_train.Recorder'>], callbacks=[], layer_groups=[Sequential(\n",
              "  (0): Embedding(1117, 50)\n",
              "  (1): Embedding(13, 6)\n",
              "  (2): Embedding(6, 4)\n",
              "  (3): Dropout(p=0.0)\n",
              "  (4): BatchNorm1d(14, eps=1e-05, momentum=0.1, affine=True, track_running_stats=True)\n",
              "  (5): Linear(in_features=74, out_features=1000, bias=True)\n",
              "  (6): ReLU(inplace)\n",
              "  (7): BatchNorm1d(1000, eps=1e-05, momentum=0.1, affine=True, track_running_stats=True)\n",
              "  (8): Dropout(p=0.5)\n",
              "  (9): Linear(in_features=1000, out_features=500, bias=True)\n",
              "  (10): BatchNorm1d(500, eps=1e-05, momentum=0.1, affine=True, track_running_stats=True)\n",
              "  (11): Dropout(p=0.5)\n",
              "  (12): Linear(in_features=500, out_features=1, bias=True)\n",
              ")])"
            ]
          },
          "metadata": {
            "tags": []
          },
          "execution_count": 50
        }
      ]
    },
    {
      "metadata": {
        "id": "77kbFvldJghP",
        "colab_type": "code",
        "colab": {}
      },
      "cell_type": "code",
      "source": [
        "lr = 8e-02"
      ],
      "execution_count": 0,
      "outputs": []
    },
    {
      "metadata": {
        "id": "ddlRqF80Js_u",
        "colab_type": "text"
      },
      "cell_type": "markdown",
      "source": [
        "Fit the NN"
      ]
    },
    {
      "metadata": {
        "id": "S3hmn6NqJpCk",
        "colab_type": "code",
        "colab": {
          "base_uri": "https://localhost:8080/",
          "height": 908
        },
        "outputId": "639320b9-c4e8-412a-b921-b1afe52ba043"
      },
      "cell_type": "code",
      "source": [
        "learn.fit_one_cycle(30, slice(lr), wd=5e-03)\n",
        "learn.recorder.plot_losses()"
      ],
      "execution_count": 53,
      "outputs": [
        {
          "output_type": "stream",
          "text": [
            "Total time: 00:34\n",
            "epoch  train_loss  valid_loss  exp_rmspe\n",
            "1      14.756595   7.512108    16.303478  (00:01)\n",
            "2      6.153358    2.551725    0.784608   (00:01)\n",
            "3      3.039932    0.474777    0.491833   (00:01)\n",
            "4      1.656167    0.336055    0.436428   (00:01)\n",
            "5      0.963423    1.116545    1.884368   (00:01)\n",
            "6      0.644854    0.110802    0.396469   (00:01)\n",
            "7      0.441535    0.250689    0.651077   (00:01)\n",
            "8      0.337680    0.072860    0.234423   (00:01)\n",
            "9      0.384759    1.533162    0.707178   (00:01)\n",
            "10     0.485946    0.026185    0.174524   (00:01)\n",
            "11     0.503357    0.031473    0.158002   (00:01)\n",
            "12     0.435500    0.258451    0.664514   (00:01)\n",
            "13     0.345984    0.009747    0.089038   (00:01)\n",
            "14     0.348359    0.409968    0.898624   (00:01)\n",
            "15     0.276832    0.003033    0.052964   (00:01)\n",
            "16     0.222120    0.020414    0.153816   (00:01)\n",
            "17     0.170743    0.045546    0.238028   (00:01)\n",
            "18     0.160932    0.003753    0.058364   (00:01)\n",
            "19     0.158777    0.001946    0.041378   (00:01)\n",
            "20     0.126033    0.001686    0.039658   (00:01)\n",
            "21     0.101741    0.001779    0.039983   (00:01)\n",
            "22     0.087224    0.012628    0.104754   (00:01)\n",
            "23     0.072545    0.006210    0.081916   (00:01)\n",
            "24     0.062193    0.001610    0.038673   (00:01)\n",
            "25     0.050684    0.001046    0.030967   (00:01)\n",
            "26     0.047524    0.002995    0.052272   (00:01)\n",
            "27     0.044527    0.000186    0.013298   (00:01)\n",
            "28     0.039735    0.001853    0.041752   (00:01)\n",
            "29     0.036502    0.000277    0.015970   (00:01)\n",
            "30     0.033057    0.000433    0.020716   (00:01)\n",
            "\n"
          ],
          "name": "stdout"
        },
        {
          "output_type": "display_data",
          "data": {
            "image/png": "[encoded data removed]",
            "text/plain": [
              "<matplotlib.figure.Figure at 0x7f5528479be0>"
            ]
          },
          "metadata": {
            "tags": []
          }
        }
      ]
    },
    {
      "metadata": {
        "id": "SCuZhaINex5B",
        "colab_type": "text"
      },
      "cell_type": "markdown",
      "source": [
        "saving 1st stage model"
      ]
    },
    {
      "metadata": {
        "id": "wqCFDHbeeze7",
        "colab_type": "code",
        "colab": {}
      },
      "cell_type": "code",
      "source": [
        "learn.save('stage1') "
      ],
      "execution_count": 0,
      "outputs": []
    },
    {
      "metadata": {
        "id": "N48MKq2je1lk",
        "colab_type": "code",
        "colab": {
          "base_uri": "https://localhost:8080/",
          "height": 615
        },
        "outputId": "36884b30-60a2-427d-8378-f1beee059b19"
      },
      "cell_type": "code",
      "source": [
        "learn.load('stage1')"
      ],
      "execution_count": 55,
      "outputs": [
        {
          "output_type": "execute_result",
          "data": {
            "text/plain": [
              "Learner(data=<fastai.tabular.data.TabularDataBunch object at 0x7f552c084cf8>, model=TabularModel(\n",
              "  (embeds): ModuleList(\n",
              "    (0): Embedding(1117, 50)\n",
              "    (1): Embedding(13, 6)\n",
              "    (2): Embedding(6, 4)\n",
              "  )\n",
              "  (emb_drop): Dropout(p=0.0)\n",
              "  (bn_cont): BatchNorm1d(14, eps=1e-05, momentum=0.1, affine=True, track_running_stats=True)\n",
              "  (layers): Sequential(\n",
              "    (0): Linear(in_features=74, out_features=1000, bias=True)\n",
              "    (1): ReLU(inplace)\n",
              "    (2): BatchNorm1d(1000, eps=1e-05, momentum=0.1, affine=True, track_running_stats=True)\n",
              "    (3): Dropout(p=0.5)\n",
              "    (4): Linear(in_features=1000, out_features=500, bias=True)\n",
              "    (5): ReLU(inplace)\n",
              "    (6): BatchNorm1d(500, eps=1e-05, momentum=0.1, affine=True, track_running_stats=True)\n",
              "    (7): Dropout(p=0.5)\n",
              "    (8): Linear(in_features=500, out_features=1, bias=True)\n",
              "  )\n",
              "), opt_func=functools.partial(<class 'torch.optim.adam.Adam'>, betas=(0.9, 0.99)), loss_func=MSELossFlat(), metrics=[<function exp_rmspe at 0x7f552ca50f28>], true_wd=True, bn_wd=True, wd=0.01, train_bn=True, path=PosixPath('/content/data'), model_dir='models', callback_fns=[<class 'fastai.basic_train.Recorder'>], callbacks=[], layer_groups=[Sequential(\n",
              "  (0): Embedding(1117, 50)\n",
              "  (1): Embedding(13, 6)\n",
              "  (2): Embedding(6, 4)\n",
              "  (3): Dropout(p=0.0)\n",
              "  (4): BatchNorm1d(14, eps=1e-05, momentum=0.1, affine=True, track_running_stats=True)\n",
              "  (5): Linear(in_features=74, out_features=1000, bias=True)\n",
              "  (6): ReLU(inplace)\n",
              "  (7): BatchNorm1d(1000, eps=1e-05, momentum=0.1, affine=True, track_running_stats=True)\n",
              "  (8): Dropout(p=0.5)\n",
              "  (9): Linear(in_features=1000, out_features=500, bias=True)\n",
              "  (10): BatchNorm1d(500, eps=1e-05, momentum=0.1, affine=True, track_running_stats=True)\n",
              "  (11): Dropout(p=0.5)\n",
              "  (12): Linear(in_features=500, out_features=1, bias=True)\n",
              ")])"
            ]
          },
          "metadata": {
            "tags": []
          },
          "execution_count": 55
        }
      ]
    },
    {
      "metadata": {
        "id": "NYQCiqOzJzi2",
        "colab_type": "text"
      },
      "cell_type": "markdown",
      "source": [
        "plotting training loss (blue) and val loss (green)\n",
        "\n",
        "- should see loss increase a littel bit, then start to decrease\n",
        "- if loss is always decreasing, means we can probably increase the lr "
      ]
    },
    {
      "metadata": {
        "id": "sv1-VBuCeuWs",
        "colab_type": "text"
      },
      "cell_type": "markdown",
      "source": [
        "2nd stage training, divide lr by 5"
      ]
    },
    {
      "metadata": {
        "id": "pBXFghLAeYPC",
        "colab_type": "code",
        "colab": {
          "base_uri": "https://localhost:8080/",
          "height": 738
        },
        "outputId": "783ae43d-fad5-4523-ccf1-ba112acc5e28"
      },
      "cell_type": "code",
      "source": [
        "learn.fit_one_cycle(20, slice(lr/5))\n",
        "learn.recorder.plot_losses()"
      ],
      "execution_count": 56,
      "outputs": [
        {
          "output_type": "stream",
          "text": [
            "Total time: 00:23\n",
            "epoch  train_loss  valid_loss  exp_rmspe\n",
            "1      0.034130    0.004052    0.061176   (00:01)\n",
            "2      0.036988    0.024686    0.169907   (00:01)\n",
            "3      0.035582    0.000305    0.016096   (00:01)\n",
            "4      0.035362    0.013114    0.107092   (00:01)\n",
            "5      0.043953    0.000489    0.021018   (00:01)\n",
            "6      0.054161    0.108649    0.390695   (00:01)\n",
            "7      0.055289    0.005382    0.067248   (00:01)\n",
            "8      0.055348    0.071366    0.305842   (00:01)\n",
            "9      0.050813    0.041848    0.181137   (00:01)\n",
            "10     0.049731    0.003802    0.063555   (00:01)\n",
            "11     0.047975    0.001239    0.034278   (00:01)\n",
            "12     0.041344    0.011194    0.099353   (00:01)\n",
            "13     0.038381    0.000274    0.015656   (00:01)\n",
            "14     0.031513    0.000183    0.013154   (00:01)\n",
            "15     0.028341    0.000296    0.016355   (00:01)\n",
            "16     0.028433    0.005709    0.078464   (00:01)\n",
            "17     0.026450    0.000250    0.015364   (00:01)\n",
            "18     0.025065    0.004060    0.061582   (00:01)\n",
            "19     0.023540    0.000622    0.024409   (00:01)\n",
            "20     0.021855    0.000070    0.008267   (00:01)\n",
            "\n"
          ],
          "name": "stdout"
        },
        {
          "output_type": "display_data",
          "data": {
            "image/png": "[encoded data removed]",
            "text/plain": [
              "<matplotlib.figure.Figure at 0x7f55283c1898>"
            ]
          },
          "metadata": {
            "tags": []
          }
        }
      ]
    },
    {
      "metadata": {
        "id": "whzlm4umM-40",
        "colab_type": "text"
      },
      "cell_type": "markdown",
      "source": [
        "saving model"
      ]
    },
    {
      "metadata": {
        "id": "vijq2Nq5J2FU",
        "colab_type": "code",
        "colab": {}
      },
      "cell_type": "code",
      "source": [
        "learn.save('stage-2') #exp_rmspe = 0.008"
      ],
      "execution_count": 0,
      "outputs": []
    },
    {
      "metadata": {
        "id": "F7NNbUZ0Qh-W",
        "colab_type": "text"
      },
      "cell_type": "markdown",
      "source": [
        "## Results\n",
        "\n",
        "After tuning the hyperparameters, the NN was able to achieve a validation Root Mean Square Percentage Error of 0.0083"
      ]
    },
    {
      "metadata": {
        "id": "7ofWSsEhSbN5",
        "colab_type": "text"
      },
      "cell_type": "markdown",
      "source": [
        "# Tree-based Ensemble Classifiers\n",
        "\n",
        "For ensemble classifiers, we mainly focus on Random Forests. GBM's are typically more prone to overfitting to noise, due to the nature of the boosting meta-algorithm.\n",
        "\n",
        "By comparison, since Random Forests use bagging, they are typically more robust to variance in data.\n",
        "\n",
        "Because financial data is typically noisy and unstructured, we can expect there to be noise in the data, which makes RF more attractive option to predict our data compared to GBMs\n",
        "\n",
        "In the [Two Sigma Financial Modelling Challenge](http://blog.kaggle.com/2017/05/25/two-sigma-financial-modeling-challenge-winners-interview-2nd-place-nima-shahbazi-chahhou-mohamed/), the 2nd place solution did not use GMBs in the final model"
      ]
    },
    {
      "metadata": {
        "id": "57hieAHnSd_Z",
        "colab_type": "code",
        "colab": {}
      },
      "cell_type": "code",
      "source": [
        "from sklearn.ensemble import RandomForestRegressor"
      ],
      "execution_count": 0,
      "outputs": []
    },
    {
      "metadata": {
        "id": "FGkzNzCqTr6N",
        "colab_type": "code",
        "colab": {}
      },
      "cell_type": "code",
      "source": [
        "valid_df"
      ],
      "execution_count": 0,
      "outputs": []
    },
    {
      "metadata": {
        "id": "_6wOl1SgTiIu",
        "colab_type": "code",
        "colab": {}
      },
      "cell_type": "code",
      "source": [
        "train_df_y = train_df['Log_Price']\n",
        "valid_df_y = valid_df['Log_Price']"
      ],
      "execution_count": 0,
      "outputs": []
    },
    {
      "metadata": {
        "id": "7JHxKHeMTzGk",
        "colab_type": "code",
        "colab": {}
      },
      "cell_type": "code",
      "source": [
        "train_df_rf = train_df.drop(['Log_Price','Date'], axis = 1)\n",
        "valid_df_rf = valid_df.drop(['Log_Price','Date'], axis = 1)"
      ],
      "execution_count": 0,
      "outputs": []
    },
    {
      "metadata": {
        "id": "dRKtpxDsTz-y",
        "colab_type": "code",
        "colab": {}
      },
      "cell_type": "code",
      "source": [
        "# defining function to evaluate exp_rmspe\n",
        "def inv_y(a): return np.exp(a)\n",
        "\n",
        "def exp_rmspe(y_pred, targ):\n",
        "    targ = inv_y(targ)\n",
        "    pct_var = (targ - inv_y(y_pred))/targ\n",
        "    return math.sqrt((pct_var**2).mean())"
      ],
      "execution_count": 0,
      "outputs": []
    },
    {
      "metadata": {
        "id": "kjfFwoQDU2oz",
        "colab_type": "code",
        "colab": {
          "base_uri": "https://localhost:8080/",
          "height": 119
        },
        "outputId": "97f64ecd-e52e-4f4e-d9e6-d2a81c94d1e8"
      },
      "cell_type": "code",
      "source": [
        "m = RandomForestRegressor(n_estimators=100, max_features=0.99, min_samples_leaf=2,\n",
        "                          n_jobs=-1, oob_score=True)\n",
        "m.fit(train_df_rf, train_df_y)"
      ],
      "execution_count": 51,
      "outputs": [
        {
          "output_type": "execute_result",
          "data": {
            "text/plain": [
              "RandomForestRegressor(bootstrap=True, criterion='mse', max_depth=None,\n",
              "           max_features=0.99, max_leaf_nodes=None,\n",
              "           min_impurity_decrease=0.0, min_impurity_split=None,\n",
              "           min_samples_leaf=2, min_samples_split=2,\n",
              "           min_weight_fraction_leaf=0.0, n_estimators=100, n_jobs=-1,\n",
              "           oob_score=True, random_state=None, verbose=0, warm_start=False)"
            ]
          },
          "metadata": {
            "tags": []
          },
          "execution_count": 51
        }
      ]
    },
    {
      "metadata": {
        "id": "H8ZzgMSTWItZ",
        "colab_type": "text"
      },
      "cell_type": "markdown",
      "source": [
        "evaluating results from RandomForest"
      ]
    },
    {
      "metadata": {
        "id": "yZSYcdgaU-sm",
        "colab_type": "code",
        "colab": {
          "base_uri": "https://localhost:8080/",
          "height": 34
        },
        "outputId": "7f659b3f-c072-4d46-8121-43ef9f8e54c0"
      },
      "cell_type": "code",
      "source": [
        "preds = m.predict(valid_df_rf)\n",
        "exp_rmspe(preds, valid_df_y)"
      ],
      "execution_count": 52,
      "outputs": [
        {
          "output_type": "execute_result",
          "data": {
            "text/plain": [
              "0.019083818358923334"
            ]
          },
          "metadata": {
            "tags": []
          },
          "execution_count": 52
        }
      ]
    },
    {
      "metadata": {
        "id": "nB7PJGoCc9jA",
        "colab_type": "text"
      },
      "cell_type": "markdown",
      "source": [
        "## Results\n",
        "\n",
        "Random Forest is able to produce a exp_rmspe of 0.019 after hyperparameter tuning"
      ]
    },
    {
      "metadata": {
        "id": "rYjqRHBNfvJV",
        "colab_type": "text"
      },
      "cell_type": "markdown",
      "source": [
        "# Conclusion\n",
        "\n",
        "The properly tuned NN obtained a lower validation RMSPE than Random Forest\n",
        "\n",
        "However It should be noted that the validation RMSPE from RF is more stable when compared to NN, possibly due to the low sample size of the data. \n",
        "\n",
        "NN has an advantage over tree-based ensemble models in that it does not require as much manual feature engineering, due to the use of entity embedding.\n",
        "\n"
      ]
    },
    {
      "metadata": {
        "id": "I0SYsSCgc8bC",
        "colab_type": "code",
        "colab": {}
      },
      "cell_type": "code",
      "source": [
        ""
      ],
      "execution_count": 0,
      "outputs": []
    }
  ]
}