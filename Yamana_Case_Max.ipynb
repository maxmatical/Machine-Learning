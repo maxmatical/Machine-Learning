{
  "nbformat": 4,
  "nbformat_minor": 0,
  "metadata": {
    "colab": {
      "name": "Yamana Case - Max.ipynb",
      "version": "0.3.2",
      "provenance": [],
      "toc_visible": true,
      "include_colab_link": true
    },
    "kernelspec": {
      "name": "python3",
      "display_name": "Python 3"
    },
    "accelerator": "GPU"
  },
  "cells": [
    {
      "cell_type": "markdown",
      "metadata": {
        "id": "view-in-github",
        "colab_type": "text"
      },
      "source": [
        "<a href=\"https://colab.research.google.com/github/maxmatical/Machine-Learning/blob/master/Yamana_Case_Max.ipynb\" target=\"_parent\"><img src=\"https://colab.research.google.com/assets/colab-badge.svg\" alt=\"Open In Colab\"/></a>"
      ]
    },
    {
      "metadata": {
        "id": "8TLfSUVtEdxX",
        "colab_type": "text"
      },
      "cell_type": "markdown",
      "source": [
        "Given csv, we want to predict columns S/T/U/Y (aurec/agrec/nacnc/codt)\n",
        "\n",
        "- aurec: gold recovery rate (0-1)\n",
        "- agrec: silver recovery rate (0-1)\n",
        "- nacnc: amont of cyanide used\n",
        "- codt: classification\n",
        "\n",
        "-99 is a value that's below detection limit, NOT the same as 0\n",
        "\n",
        "<0.1 or whatever in data\n",
        "\n",
        "geocod (rock type) and bound are categorical"
      ]
    },
    {
      "metadata": {
        "id": "0ikb36mcLv-D",
        "colab_type": "text"
      },
      "cell_type": "markdown",
      "source": [
        "installing fastai library"
      ]
    },
    {
      "metadata": {
        "id": "YHl1zmhDEadD",
        "colab_type": "code",
        "colab": {}
      },
      "cell_type": "code",
      "source": [
        "# Set up environment and download course-v3\n",
        "!pip install torch_nightly -f https://download.pytorch.org/whl/nightly/cu92/torch_nightly.html\n",
        "!pip install fastai\n",
        "!pip install fastprogress\n",
        "!pip install pathlib\n",
        "\n",
        "!curl https://course-v3.fast.ai/setup/colab | bash"
      ],
      "execution_count": 0,
      "outputs": []
    },
    {
      "metadata": {
        "id": "2GqZNeJ4LmOQ",
        "colab_type": "code",
        "colab": {}
      },
      "cell_type": "code",
      "source": [
        "from fastai import *\n",
        "from fastai.tabular import *\n"
      ],
      "execution_count": 0,
      "outputs": []
    },
    {
      "metadata": {
        "id": "DHWvp-ObLnwK",
        "colab_type": "code",
        "colab": {}
      },
      "cell_type": "code",
      "source": [
        "import pandas as pd\n",
        "import matplotlib as plt\n",
        "import numpy as np"
      ],
      "execution_count": 0,
      "outputs": []
    },
    {
      "metadata": {
        "id": "Mxx2GGwgLr2e",
        "colab_type": "text"
      },
      "cell_type": "markdown",
      "source": [
        "load csv to /content/data"
      ]
    },
    {
      "metadata": {
        "id": "fY1JVBXVLpF-",
        "colab_type": "code",
        "colab": {}
      },
      "cell_type": "code",
      "source": [
        "path = '/content/data/'\n",
        "os.makedirs(path, exist_ok=True)\n",
        "fname = 'yamana'\n",
        "#path"
      ],
      "execution_count": 0,
      "outputs": []
    },
    {
      "metadata": {
        "id": "XCElpqpKM1IH",
        "colab_type": "code",
        "colab": {}
      },
      "cell_type": "code",
      "source": [
        "df = pd.read_csv(f'{path}{fname}.csv', low_memory=False)"
      ],
      "execution_count": 0,
      "outputs": []
    },
    {
      "metadata": {
        "id": "zgPJvpxrM5m3",
        "colab_type": "code",
        "colab": {}
      },
      "cell_type": "code",
      "source": [
        "df.head(20)"
      ],
      "execution_count": 0,
      "outputs": []
    },
    {
      "metadata": {
        "id": "QJyLPH5a-7yL",
        "colab_type": "code",
        "outputId": "c48af42b-df87-4f40-b46e-6be7deca813e",
        "colab": {
          "base_uri": "https://localhost:8080/",
          "height": 34
        }
      },
      "cell_type": "code",
      "source": [
        "df['aurec'].dtype"
      ],
      "execution_count": 0,
      "outputs": [
        {
          "output_type": "execute_result",
          "data": {
            "text/plain": [
              "dtype('float64')"
            ]
          },
          "metadata": {
            "tags": []
          },
          "execution_count": 6
        }
      ]
    },
    {
      "metadata": {
        "id": "FK-XyyVVM8tB",
        "colab_type": "code",
        "colab": {}
      },
      "cell_type": "code",
      "source": [
        "#df['aurec']=df['aurec'].replace(0.9,27, inplace =False)"
      ],
      "execution_count": 0,
      "outputs": []
    },
    {
      "metadata": {
        "id": "jaSSFkH_PUuX",
        "colab_type": "text"
      },
      "cell_type": "markdown",
      "source": [
        "First just try using columns C to P as covariates "
      ]
    },
    {
      "metadata": {
        "id": "iv355bbO8RGq",
        "colab_type": "code",
        "colab": {}
      },
      "cell_type": "code",
      "source": [
        "\n",
        "?? FillMissing"
      ],
      "execution_count": 0,
      "outputs": []
    },
    {
      "metadata": {
        "id": "FJQULOJdPahH",
        "colab_type": "code",
        "colab": {}
      },
      "cell_type": "code",
      "source": [
        "cat_names = ['geocod', 'bound']\n",
        "cont_names = ['midx', 'midy', 'midz', 'topx', 'topy', 'topz', 'botx', 'boty', 'botz',\n",
        "             'length', 'from', 'to']\n",
        "dep_var = 'codt'\n",
        "\n"
      ],
      "execution_count": 0,
      "outputs": []
    },
    {
      "metadata": {
        "id": "izKbAsDJ9fCp",
        "colab_type": "code",
        "colab": {}
      },
      "cell_type": "code",
      "source": [
        "# defining procs (without fillmissing)\n",
        "procs = [Categorify, Normalize]"
      ],
      "execution_count": 0,
      "outputs": []
    },
    {
      "metadata": {
        "id": "Am2WtbHFT9yq",
        "colab_type": "text"
      },
      "cell_type": "markdown",
      "source": [
        "## predicting codt class"
      ]
    },
    {
      "metadata": {
        "id": "rcxu3HJZD7SN",
        "colab_type": "text"
      },
      "cell_type": "markdown",
      "source": [
        "### Deep learning"
      ]
    },
    {
      "metadata": {
        "id": "G9k4hORuQBj9",
        "colab_type": "code",
        "colab": {}
      },
      "cell_type": "code",
      "source": [
        "bs = 256\n",
        "\n",
        "\n",
        "data = (TabularList.from_df(df, path=path, cat_names=cat_names, cont_names=cont_names, procs=procs)\n",
        "                   .random_split_by_pct(0.2)#split by percent \n",
        "                   .label_from_df(cols='codt')\n",
        "                   .databunch(bs = bs))"
      ],
      "execution_count": 0,
      "outputs": []
    },
    {
      "metadata": {
        "id": "jaHv-1n-Q2ar",
        "colab_type": "code",
        "colab": {}
      },
      "cell_type": "code",
      "source": [
        "learn = tabular_learner(data, layers = [1000,500], emb_drop = 0.05, metrics = [accuracy], ps = [0.5, 0.5])\n"
      ],
      "execution_count": 0,
      "outputs": []
    },
    {
      "metadata": {
        "id": "629pCKd9RBdY",
        "colab_type": "code",
        "colab": {}
      },
      "cell_type": "code",
      "source": [
        "learn.model"
      ],
      "execution_count": 0,
      "outputs": []
    },
    {
      "metadata": {
        "id": "4f9nPfw3SIVj",
        "colab_type": "code",
        "outputId": "ac65eec4-c858-4657-fea4-fdc471457c98",
        "colab": {
          "base_uri": "https://localhost:8080/",
          "height": 914
        }
      },
      "cell_type": "code",
      "source": [
        "lr_find(learn)\n",
        "learn.recorder.plot()"
      ],
      "execution_count": 0,
      "outputs": [
        {
          "output_type": "display_data",
          "data": {
            "text/html": [
              "\n",
              "    <div>\n",
              "        <style>\n",
              "            /* Turns off some styling */\n",
              "            progress {\n",
              "                /* gets rid of default border in Firefox and Opera. */\n",
              "                border: none;\n",
              "                /* Needs to be in here for Safari polyfill so background images work as expected. */\n",
              "                background-size: auto;\n",
              "            }\n",
              "            .progress-bar-interrupted, .progress-bar-interrupted::-webkit-progress-bar {\n",
              "                background: #F44336;\n",
              "            }\n",
              "        </style>\n",
              "      <progress value='22' class='' max='25', style='width:300px; height:20px; vertical-align: middle;'></progress>\n",
              "      88.00% [22/25 00:05<00:00]\n",
              "    </div>\n",
              "    \n",
              "<table style='width:300px; margin-bottom:10px'>\n",
              "  <tr>\n",
              "    <th>epoch</th>\n",
              "    <th>train_loss</th>\n",
              "    <th>valid_loss</th>\n",
              "    <th>accuracy</th>\n",
              "  </tr>\n",
              "  <tr>\n",
              "    <th>1</th>\n",
              "    <th>1.450361</th>\n",
              "  </tr>\n",
              "  <tr>\n",
              "    <th>2</th>\n",
              "    <th>1.461423</th>\n",
              "  </tr>\n",
              "  <tr>\n",
              "    <th>3</th>\n",
              "    <th>1.464690</th>\n",
              "  </tr>\n",
              "  <tr>\n",
              "    <th>4</th>\n",
              "    <th>1.462593</th>\n",
              "  </tr>\n",
              "  <tr>\n",
              "    <th>5</th>\n",
              "    <th>1.458583</th>\n",
              "  </tr>\n",
              "  <tr>\n",
              "    <th>6</th>\n",
              "    <th>1.457974</th>\n",
              "  </tr>\n",
              "  <tr>\n",
              "    <th>7</th>\n",
              "    <th>1.449695</th>\n",
              "  </tr>\n",
              "  <tr>\n",
              "    <th>8</th>\n",
              "    <th>1.439094</th>\n",
              "  </tr>\n",
              "  <tr>\n",
              "    <th>9</th>\n",
              "    <th>1.419022</th>\n",
              "  </tr>\n",
              "  <tr>\n",
              "    <th>10</th>\n",
              "    <th>1.380830</th>\n",
              "  </tr>\n",
              "  <tr>\n",
              "    <th>11</th>\n",
              "    <th>1.324712</th>\n",
              "  </tr>\n",
              "  <tr>\n",
              "    <th>12</th>\n",
              "    <th>1.254193</th>\n",
              "  </tr>\n",
              "  <tr>\n",
              "    <th>13</th>\n",
              "    <th>1.171300</th>\n",
              "  </tr>\n",
              "  <tr>\n",
              "    <th>14</th>\n",
              "    <th>1.084322</th>\n",
              "  </tr>\n",
              "  <tr>\n",
              "    <th>15</th>\n",
              "    <th>0.994259</th>\n",
              "  </tr>\n",
              "  <tr>\n",
              "    <th>16</th>\n",
              "    <th>0.911613</th>\n",
              "  </tr>\n",
              "  <tr>\n",
              "    <th>17</th>\n",
              "    <th>0.842662</th>\n",
              "  </tr>\n",
              "  <tr>\n",
              "    <th>18</th>\n",
              "    <th>0.775512</th>\n",
              "  </tr>\n",
              "  <tr>\n",
              "    <th>19</th>\n",
              "    <th>0.727819</th>\n",
              "  </tr>\n",
              "  <tr>\n",
              "    <th>20</th>\n",
              "    <th>0.695280</th>\n",
              "  </tr>\n",
              "  <tr>\n",
              "    <th>21</th>\n",
              "    <th>0.706535</th>\n",
              "  </tr>\n",
              "  <tr>\n",
              "    <th>22</th>\n",
              "    <th>2.159342</th>\n",
              "  </tr>\n",
              "</table>\n",
              "\n",
              "\n",
              "    <div>\n",
              "        <style>\n",
              "            /* Turns off some styling */\n",
              "            progress {\n",
              "                /* gets rid of default border in Firefox and Opera. */\n",
              "                border: none;\n",
              "                /* Needs to be in here for Safari polyfill so background images work as expected. */\n",
              "                background-size: auto;\n",
              "            }\n",
              "            .progress-bar-interrupted, .progress-bar-interrupted::-webkit-progress-bar {\n",
              "                background: #F44336;\n",
              "            }\n",
              "        </style>\n",
              "      <progress value='0' class='progress-bar-interrupted' max='4', style='width:300px; height:20px; vertical-align: middle;'></progress>\n",
              "      Interrupted\n",
              "    </div>\n",
              "    "
            ],
            "text/plain": [
              "<IPython.core.display.HTML object>"
            ]
          },
          "metadata": {
            "tags": []
          }
        },
        {
          "output_type": "stream",
          "text": [
            "LR Finder is complete, type {learner_name}.recorder.plot() to see the graph.\n"
          ],
          "name": "stdout"
        },
        {
          "output_type": "display_data",
          "data": {
            "image/png": "[encoded data removed]",
            "text/plain": [
              "<matplotlib.figure.Figure at 0x7fc008fd5c18>"
            ]
          },
          "metadata": {
            "tags": []
          }
        }
      ]
    },
    {
      "metadata": {
        "id": "zFp1jHjYSQkM",
        "colab_type": "code",
        "colab": {}
      },
      "cell_type": "code",
      "source": [
        "learn.save('stage-0-codt')"
      ],
      "execution_count": 0,
      "outputs": []
    },
    {
      "metadata": {
        "id": "q2XAGJh0SQ1r",
        "colab_type": "code",
        "outputId": "bc198f93-0185-4933-ddea-b6e4725c0324",
        "colab": {
          "base_uri": "https://localhost:8080/",
          "height": 887
        }
      },
      "cell_type": "code",
      "source": [
        "learn.load('stage-0-codt')"
      ],
      "execution_count": 0,
      "outputs": [
        {
          "output_type": "execute_result",
          "data": {
            "text/plain": [
              "Learner(data=TabularDataBunch;\n",
              "\n",
              "Train: LabelList\n",
              "y: CategoryList (1088 items)\n",
              "[Category 1, Category 1, Category 1, Category 1, Category 1]...\n",
              "Path: /content/data\n",
              "x: TabularList (1088 items)\n",
              "[TabularLine geocod 5; bound 5; midx -1.3836; midy -0.8472; midz 2.3243; topx -1.3834; topy -0.8472; topz 2.3243; botx -1.3839; boty -0.8472; botz 2.3243; length -0.2187; from 0.2696; to 0.1227; , TabularLine geocod 5; bound 5; midx -1.3937; midy -0.8137; midz 2.5319; topx -1.3946; topy -0.8136; topz 2.5319; botx -1.3928; boty -0.8137; botz 2.5319; length 1.5463; from 0.4772; to 1.4882; , TabularLine geocod 5; bound 5; midx -1.3941; midy -0.8047; midz 2.5325; topx -1.3944; topy -0.8048; topz 2.5325; botx -1.3938; boty -0.8047; botz 2.5325; length -0.4264; from -0.7685; to -1.0380; , TabularLine geocod 5; bound 5; midx -1.4271; midy -0.7735; midz 0.6713; topx -1.4277; topy -0.7735; topz 0.6713; botx -1.4264; boty -0.7735; botz 0.6713; length 0.8195; from -0.4225; to 0.1227; , TabularLine geocod 5; bound 5; midx -1.4211; midy -0.8017; midz -0.2184; topx -1.4215; topy -0.8017; topz -0.2184; botx -1.4207; boty -0.8017; botz -0.2184; length -0.0111; from 0.6848; to 0.6689; ]...\n",
              "Path: /content/data;\n",
              "\n",
              "Valid: LabelList\n",
              "y: CategoryList (272 items)\n",
              "[Category 3, Category 1, Category 4, Category 1, Category 4]...\n",
              "Path: /content/data\n",
              "x: TabularList (272 items)\n",
              "[TabularLine geocod 50; bound 50; midx -0.2709; midy -0.7601; midz -0.5403; topx -0.2708; topy -0.7601; topz -0.5403; botx -0.2710; boty -0.7601; botz -0.5403; length -0.9455; from 0.9616; to 0.3275; , TabularLine geocod 19; bound 19; midx 0.3325; midy 0.0573; midz 0.5828; topx 0.3327; topy 0.0574; topz 0.5828; botx 0.3322; boty 0.0573; botz 0.5828; length -0.4264; from 0.4772; to 0.1910; , TabularLine geocod 11; bound 11; midx 0.3455; midy 0.3845; midz -0.9213; topx 0.3453; topy 0.3845; topz -0.9213; botx 0.3457; boty 0.3845; botz -0.9213; length -0.7378; from 0.6848; to 0.1910; , TabularLine geocod 50; bound 50; midx -0.3110; midy -0.6677; midz 0.1304; topx -0.3115; topy -0.6677; topz 0.1304; botx -0.3105; boty -0.6677; botz 0.1304; length 0.4042; from -1.1837; to -0.9015; , TabularLine geocod 19; bound 19; midx 0.2800; midy 0.1496; midz 0.4390; topx 0.2801; topy 0.1496; topz 0.4390; botx 0.2798; boty 0.1496; botz 0.4390; length -0.8417; from 1.1692; to 0.6006; ]...\n",
              "Path: /content/data;\n",
              "\n",
              "Test: None, model=TabularModel(\n",
              "  (embeds): ModuleList(\n",
              "    (0): Embedding(27, 10)\n",
              "    (1): Embedding(27, 10)\n",
              "  )\n",
              "  (emb_drop): Dropout(p=0.05)\n",
              "  (bn_cont): BatchNorm1d(12, eps=1e-05, momentum=0.1, affine=True, track_running_stats=True)\n",
              "  (layers): Sequential(\n",
              "    (0): Linear(in_features=32, out_features=1000, bias=True)\n",
              "    (1): ReLU(inplace)\n",
              "    (2): BatchNorm1d(1000, eps=1e-05, momentum=0.1, affine=True, track_running_stats=True)\n",
              "    (3): Dropout(p=0.5)\n",
              "    (4): Linear(in_features=1000, out_features=500, bias=True)\n",
              "    (5): ReLU(inplace)\n",
              "    (6): BatchNorm1d(500, eps=1e-05, momentum=0.1, affine=True, track_running_stats=True)\n",
              "    (7): Dropout(p=0.5)\n",
              "    (8): Linear(in_features=500, out_features=4, bias=True)\n",
              "  )\n",
              "), opt_func=functools.partial(<class 'torch.optim.adam.Adam'>, betas=(0.9, 0.99)), loss_func=<fastai.layers.FlattenedLoss object at 0x7fc008fc19b0>, metrics=[<function accuracy at 0x7fc02034ed08>], true_wd=True, bn_wd=True, wd=0.01, train_bn=True, path=PosixPath('/content/data'), model_dir='models', callback_fns=[<class 'fastai.basic_train.Recorder'>], callbacks=[], layer_groups=[Sequential(\n",
              "  (0): Embedding(27, 10)\n",
              "  (1): Embedding(27, 10)\n",
              "  (2): Dropout(p=0.05)\n",
              "  (3): BatchNorm1d(12, eps=1e-05, momentum=0.1, affine=True, track_running_stats=True)\n",
              "  (4): Linear(in_features=32, out_features=1000, bias=True)\n",
              "  (5): ReLU(inplace)\n",
              "  (6): BatchNorm1d(1000, eps=1e-05, momentum=0.1, affine=True, track_running_stats=True)\n",
              "  (7): Dropout(p=0.5)\n",
              "  (8): Linear(in_features=1000, out_features=500, bias=True)\n",
              "  (9): BatchNorm1d(500, eps=1e-05, momentum=0.1, affine=True, track_running_stats=True)\n",
              "  (10): Dropout(p=0.5)\n",
              "  (11): Linear(in_features=500, out_features=4, bias=True)\n",
              ")])"
            ]
          },
          "metadata": {
            "tags": []
          },
          "execution_count": 129
        }
      ]
    },
    {
      "metadata": {
        "id": "TmRQpPQISIph",
        "colab_type": "code",
        "colab": {}
      },
      "cell_type": "code",
      "source": [
        "lr = 1e-02"
      ],
      "execution_count": 0,
      "outputs": []
    },
    {
      "metadata": {
        "id": "drC-EGlaSSGK",
        "colab_type": "code",
        "outputId": "971dbe04-5fb5-46e6-d9a1-308853418409",
        "colab": {
          "base_uri": "https://localhost:8080/",
          "height": 1005
        }
      },
      "cell_type": "code",
      "source": [
        "#learn.fit_one_cycle(5, slice(lr)) # can either use slice or no slice\n",
        "learn.fit_one_cycle(28, lr)\n",
        "\n",
        "learn.recorder.plot_losses()"
      ],
      "execution_count": 0,
      "outputs": [
        {
          "output_type": "display_data",
          "data": {
            "text/html": [
              "Total time: 00:22 <p><table style='width:300px; margin-bottom:10px'>\n",
              "  <tr>\n",
              "    <th>epoch</th>\n",
              "    <th>train_loss</th>\n",
              "    <th>valid_loss</th>\n",
              "    <th>accuracy</th>\n",
              "  </tr>\n",
              "  <tr>\n",
              "    <th>1</th>\n",
              "    <th>1.096037</th>\n",
              "    <th>1.324830</th>\n",
              "    <th>0.591912</th>\n",
              "  </tr>\n",
              "  <tr>\n",
              "    <th>2</th>\n",
              "    <th>0.858839</th>\n",
              "    <th>1.149203</th>\n",
              "    <th>0.823529</th>\n",
              "  </tr>\n",
              "  <tr>\n",
              "    <th>3</th>\n",
              "    <th>0.686723</th>\n",
              "    <th>0.817482</th>\n",
              "    <th>0.878676</th>\n",
              "  </tr>\n",
              "  <tr>\n",
              "    <th>4</th>\n",
              "    <th>0.563896</th>\n",
              "    <th>0.461997</th>\n",
              "    <th>0.882353</th>\n",
              "  </tr>\n",
              "  <tr>\n",
              "    <th>5</th>\n",
              "    <th>0.481301</th>\n",
              "    <th>0.313431</th>\n",
              "    <th>0.897059</th>\n",
              "  </tr>\n",
              "  <tr>\n",
              "    <th>6</th>\n",
              "    <th>0.422833</th>\n",
              "    <th>0.229367</th>\n",
              "    <th>0.926471</th>\n",
              "  </tr>\n",
              "  <tr>\n",
              "    <th>7</th>\n",
              "    <th>0.379149</th>\n",
              "    <th>0.225163</th>\n",
              "    <th>0.937500</th>\n",
              "  </tr>\n",
              "  <tr>\n",
              "    <th>8</th>\n",
              "    <th>0.339650</th>\n",
              "    <th>0.231334</th>\n",
              "    <th>0.922794</th>\n",
              "  </tr>\n",
              "  <tr>\n",
              "    <th>9</th>\n",
              "    <th>0.310564</th>\n",
              "    <th>0.209844</th>\n",
              "    <th>0.944853</th>\n",
              "  </tr>\n",
              "  <tr>\n",
              "    <th>10</th>\n",
              "    <th>0.290080</th>\n",
              "    <th>0.193453</th>\n",
              "    <th>0.955882</th>\n",
              "  </tr>\n",
              "  <tr>\n",
              "    <th>11</th>\n",
              "    <th>0.270797</th>\n",
              "    <th>0.187274</th>\n",
              "    <th>0.955882</th>\n",
              "  </tr>\n",
              "  <tr>\n",
              "    <th>12</th>\n",
              "    <th>0.251038</th>\n",
              "    <th>0.189286</th>\n",
              "    <th>0.955882</th>\n",
              "  </tr>\n",
              "  <tr>\n",
              "    <th>13</th>\n",
              "    <th>0.234369</th>\n",
              "    <th>0.179351</th>\n",
              "    <th>0.963235</th>\n",
              "  </tr>\n",
              "  <tr>\n",
              "    <th>14</th>\n",
              "    <th>0.218091</th>\n",
              "    <th>0.169502</th>\n",
              "    <th>0.959559</th>\n",
              "  </tr>\n",
              "  <tr>\n",
              "    <th>15</th>\n",
              "    <th>0.205886</th>\n",
              "    <th>0.167834</th>\n",
              "    <th>0.963235</th>\n",
              "  </tr>\n",
              "  <tr>\n",
              "    <th>16</th>\n",
              "    <th>0.196454</th>\n",
              "    <th>0.179727</th>\n",
              "    <th>0.944853</th>\n",
              "  </tr>\n",
              "  <tr>\n",
              "    <th>17</th>\n",
              "    <th>0.190114</th>\n",
              "    <th>0.167269</th>\n",
              "    <th>0.963235</th>\n",
              "  </tr>\n",
              "  <tr>\n",
              "    <th>18</th>\n",
              "    <th>0.182449</th>\n",
              "    <th>0.161593</th>\n",
              "    <th>0.959559</th>\n",
              "  </tr>\n",
              "  <tr>\n",
              "    <th>19</th>\n",
              "    <th>0.173642</th>\n",
              "    <th>0.173252</th>\n",
              "    <th>0.963235</th>\n",
              "  </tr>\n",
              "  <tr>\n",
              "    <th>20</th>\n",
              "    <th>0.164801</th>\n",
              "    <th>0.184351</th>\n",
              "    <th>0.966912</th>\n",
              "  </tr>\n",
              "  <tr>\n",
              "    <th>21</th>\n",
              "    <th>0.160212</th>\n",
              "    <th>0.180808</th>\n",
              "    <th>0.970588</th>\n",
              "  </tr>\n",
              "  <tr>\n",
              "    <th>22</th>\n",
              "    <th>0.155113</th>\n",
              "    <th>0.165592</th>\n",
              "    <th>0.974265</th>\n",
              "  </tr>\n",
              "  <tr>\n",
              "    <th>23</th>\n",
              "    <th>0.149067</th>\n",
              "    <th>0.161788</th>\n",
              "    <th>0.963235</th>\n",
              "  </tr>\n",
              "  <tr>\n",
              "    <th>24</th>\n",
              "    <th>0.143378</th>\n",
              "    <th>0.161437</th>\n",
              "    <th>0.963235</th>\n",
              "  </tr>\n",
              "  <tr>\n",
              "    <th>25</th>\n",
              "    <th>0.139024</th>\n",
              "    <th>0.162330</th>\n",
              "    <th>0.963235</th>\n",
              "  </tr>\n",
              "  <tr>\n",
              "    <th>26</th>\n",
              "    <th>0.134086</th>\n",
              "    <th>0.162874</th>\n",
              "    <th>0.963235</th>\n",
              "  </tr>\n",
              "  <tr>\n",
              "    <th>27</th>\n",
              "    <th>0.129614</th>\n",
              "    <th>0.163285</th>\n",
              "    <th>0.963235</th>\n",
              "  </tr>\n",
              "  <tr>\n",
              "    <th>28</th>\n",
              "    <th>0.126407</th>\n",
              "    <th>0.163124</th>\n",
              "    <th>0.963235</th>\n",
              "  </tr>\n",
              "</table>\n"
            ],
            "text/plain": [
              "<IPython.core.display.HTML object>"
            ]
          },
          "metadata": {
            "tags": []
          }
        },
        {
          "output_type": "display_data",
          "data": {
            "image/png": "[encoded data removed]",
            "text/plain": [
              "<matplotlib.figure.Figure at 0x7fc008ef42b0>"
            ]
          },
          "metadata": {
            "tags": []
          }
        }
      ]
    },
    {
      "metadata": {
        "id": "NNRKrGTtSr9Y",
        "colab_type": "code",
        "colab": {}
      },
      "cell_type": "code",
      "source": [
        "learn.save('stage-1-codt')"
      ],
      "execution_count": 0,
      "outputs": []
    },
    {
      "metadata": {
        "id": "t0KMmNq-D9uN",
        "colab_type": "text"
      },
      "cell_type": "markdown",
      "source": [
        "### sklearn"
      ]
    },
    {
      "metadata": {
        "id": "8cYvKPiuD_zX",
        "colab_type": "code",
        "colab": {}
      },
      "cell_type": "code",
      "source": [
        "from sklearn.ensemble import RandomForestClassifier\n",
        "from sklearn.model_selection import train_test_split"
      ],
      "execution_count": 0,
      "outputs": []
    },
    {
      "metadata": {
        "id": "MDgrc6QBEFLK",
        "colab_type": "code",
        "colab": {}
      },
      "cell_type": "code",
      "source": [
        "df_v1 = df[['geocod', 'bound','midx', 'midy', 'midz', 'topx', 'topy', 'topz', 'botx', 'boty', 'botz','length', 'from', 'to']]\n",
        "label_v1 = df['codt']"
      ],
      "execution_count": 0,
      "outputs": []
    },
    {
      "metadata": {
        "id": "jUvyg0jsEyRB",
        "colab_type": "code",
        "colab": {}
      },
      "cell_type": "code",
      "source": [
        "x_train, x_test, y_train, y_test = train_test_split(df_v1, label_v1, test_size = 0.2)"
      ],
      "execution_count": 0,
      "outputs": []
    },
    {
      "metadata": {
        "id": "hVYMbknaE-4k",
        "colab_type": "code",
        "outputId": "4beb4bc7-0ed3-4cd7-8cc4-554b64213f22",
        "colab": {
          "base_uri": "https://localhost:8080/",
          "height": 119
        }
      },
      "cell_type": "code",
      "source": [
        "m = RandomForestClassifier(n_estimators=100, max_features=0.99, min_samples_leaf=2,\n",
        "                          n_jobs=-1, oob_score=True)\n",
        "\n",
        "m.fit(x_train, y_train)"
      ],
      "execution_count": 0,
      "outputs": [
        {
          "output_type": "execute_result",
          "data": {
            "text/plain": [
              "RandomForestClassifier(bootstrap=True, class_weight=None, criterion='gini',\n",
              "            max_depth=None, max_features=0.99, max_leaf_nodes=None,\n",
              "            min_impurity_decrease=0.0, min_impurity_split=None,\n",
              "            min_samples_leaf=2, min_samples_split=2,\n",
              "            min_weight_fraction_leaf=0.0, n_estimators=100, n_jobs=-1,\n",
              "            oob_score=True, random_state=None, verbose=0, warm_start=False)"
            ]
          },
          "metadata": {
            "tags": []
          },
          "execution_count": 177
        }
      ]
    },
    {
      "metadata": {
        "id": "WmB5jIOCFWOI",
        "colab_type": "code",
        "outputId": "4ce6c079-4dfa-4c98-c10e-b98f1d76fe53",
        "colab": {
          "base_uri": "https://localhost:8080/",
          "height": 34
        }
      },
      "cell_type": "code",
      "source": [
        "m.score(x_test, y_test)"
      ],
      "execution_count": 0,
      "outputs": [
        {
          "output_type": "execute_result",
          "data": {
            "text/plain": [
              "0.9669117647058824"
            ]
          },
          "metadata": {
            "tags": []
          },
          "execution_count": 178
        }
      ]
    },
    {
      "metadata": {
        "id": "IK9WchiBIsCx",
        "colab_type": "code",
        "outputId": "fa11fb73-5b85-466b-b1c4-513afb9764af",
        "colab": {
          "base_uri": "https://localhost:8080/",
          "height": 85
        }
      },
      "cell_type": "code",
      "source": [
        "from sklearn.metrics import confusion_matrix\n",
        "\n",
        "confusion_matrix(m.predict(x_test), y_test)"
      ],
      "execution_count": 0,
      "outputs": [
        {
          "output_type": "execute_result",
          "data": {
            "text/plain": [
              "array([[115,   0,   2,   2],\n",
              "       [  0,   2,   0,   1],\n",
              "       [  0,   0,  31,   0],\n",
              "       [  3,   1,   0, 115]])"
            ]
          },
          "metadata": {
            "tags": []
          },
          "execution_count": 179
        }
      ]
    },
    {
      "metadata": {
        "id": "2rTus1gBI3Ea",
        "colab_type": "text"
      },
      "cell_type": "markdown",
      "source": [
        ""
      ]
    },
    {
      "metadata": {
        "id": "Pbt63L9iI3n0",
        "colab_type": "code",
        "outputId": "cb0954bd-282e-4237-8d9a-7aa4f0ae6d4a",
        "colab": {
          "base_uri": "https://localhost:8080/",
          "height": 204
        }
      },
      "cell_type": "code",
      "source": [
        "from sklearn.metrics import classification_report\n",
        "\n",
        "print(classification_report(m.predict(x_test), y_test))"
      ],
      "execution_count": 0,
      "outputs": [
        {
          "output_type": "stream",
          "text": [
            "              precision    recall  f1-score   support\n",
            "\n",
            "           1       0.97      0.97      0.97       119\n",
            "           2       0.67      0.67      0.67         3\n",
            "           3       0.94      1.00      0.97        31\n",
            "           4       0.97      0.97      0.97       119\n",
            "\n",
            "   micro avg       0.97      0.97      0.97       272\n",
            "   macro avg       0.89      0.90      0.89       272\n",
            "weighted avg       0.97      0.97      0.97       272\n",
            "\n"
          ],
          "name": "stdout"
        }
      ]
    },
    {
      "metadata": {
        "id": "Quh_T478TTs_",
        "colab_type": "text"
      },
      "cell_type": "markdown",
      "source": [
        "## predicting gold recovery rate"
      ]
    },
    {
      "metadata": {
        "id": "bdU69gE8Fxxn",
        "colab_type": "text"
      },
      "cell_type": "markdown",
      "source": [
        "### deep learning"
      ]
    },
    {
      "metadata": {
        "id": "2bv2vywLTU7U",
        "colab_type": "code",
        "colab": {}
      },
      "cell_type": "code",
      "source": [
        "bs = 256\n",
        "y_range = torch.tensor([0, 1])\n",
        "\n",
        "\n",
        "data = (TabularList.from_df(df, path=path, cat_names=cat_names, cont_names=cont_names, procs=procs)\n",
        "                   .random_split_by_pct(0.2)#split by percent \n",
        "                   .label_from_df(cols='aurec', label_cls=FloatList, log=False)\n",
        "                   .databunch(bs = bs))"
      ],
      "execution_count": 0,
      "outputs": []
    },
    {
      "metadata": {
        "id": "a3uYafqNTotK",
        "colab_type": "code",
        "colab": {}
      },
      "cell_type": "code",
      "source": [
        "learn = tabular_learner(data, layers = [1000,500], emb_drop = 0.05, metrics = [exp_rmspe], ps = [0.5, 0.5], y_range=y_range)\n"
      ],
      "execution_count": 0,
      "outputs": []
    },
    {
      "metadata": {
        "id": "OQC49UoUT5Qh",
        "colab_type": "code",
        "outputId": "09978a16-3074-4c15-e0f6-28da4720a4cc",
        "colab": {
          "base_uri": "https://localhost:8080/",
          "height": 336
        }
      },
      "cell_type": "code",
      "source": [
        "learn.model"
      ],
      "execution_count": 0,
      "outputs": [
        {
          "output_type": "execute_result",
          "data": {
            "text/plain": [
              "TabularModel(\n",
              "  (embeds): ModuleList(\n",
              "    (0): Embedding(27, 10)\n",
              "    (1): Embedding(27, 10)\n",
              "  )\n",
              "  (emb_drop): Dropout(p=0.05)\n",
              "  (bn_cont): BatchNorm1d(12, eps=1e-05, momentum=0.1, affine=True, track_running_stats=True)\n",
              "  (layers): Sequential(\n",
              "    (0): Linear(in_features=32, out_features=1000, bias=True)\n",
              "    (1): ReLU(inplace)\n",
              "    (2): BatchNorm1d(1000, eps=1e-05, momentum=0.1, affine=True, track_running_stats=True)\n",
              "    (3): Dropout(p=0.5)\n",
              "    (4): Linear(in_features=1000, out_features=500, bias=True)\n",
              "    (5): ReLU(inplace)\n",
              "    (6): BatchNorm1d(500, eps=1e-05, momentum=0.1, affine=True, track_running_stats=True)\n",
              "    (7): Dropout(p=0.5)\n",
              "    (8): Linear(in_features=500, out_features=1, bias=True)\n",
              "  )\n",
              ")"
            ]
          },
          "metadata": {
            "tags": []
          },
          "execution_count": 45
        }
      ]
    },
    {
      "metadata": {
        "id": "g2wdNI47UBHP",
        "colab_type": "code",
        "outputId": "054a166c-e75f-4841-8336-bef1f8b2ecc4",
        "colab": {
          "base_uri": "https://localhost:8080/",
          "height": 550
        }
      },
      "cell_type": "code",
      "source": [
        "lr_find(learn)\n",
        "learn.recorder.plot()"
      ],
      "execution_count": 0,
      "outputs": [
        {
          "output_type": "display_data",
          "data": {
            "text/html": [
              "\n",
              "    <div>\n",
              "        <style>\n",
              "            /* Turns off some styling */\n",
              "            progress {\n",
              "                /* gets rid of default border in Firefox and Opera. */\n",
              "                border: none;\n",
              "                /* Needs to be in here for Safari polyfill so background images work as expected. */\n",
              "                background-size: auto;\n",
              "            }\n",
              "            .progress-bar-interrupted, .progress-bar-interrupted::-webkit-progress-bar {\n",
              "                background: #F44336;\n",
              "            }\n",
              "        </style>\n",
              "      <progress value='5' class='' max='6', style='width:300px; height:20px; vertical-align: middle;'></progress>\n",
              "      83.33% [5/6 00:02<00:00]\n",
              "    </div>\n",
              "    \n",
              "<table style='width:300px; margin-bottom:10px'>\n",
              "  <tr>\n",
              "    <th>epoch</th>\n",
              "    <th>train_loss</th>\n",
              "    <th>valid_loss</th>\n",
              "    <th>exp_rmspe</th>\n",
              "  </tr>\n",
              "  <tr>\n",
              "    <th>1</th>\n",
              "    <th>0.171210</th>\n",
              "  </tr>\n",
              "  <tr>\n",
              "    <th>2</th>\n",
              "    <th>0.171020</th>\n",
              "  </tr>\n",
              "  <tr>\n",
              "    <th>3</th>\n",
              "    <th>0.168449</th>\n",
              "  </tr>\n",
              "  <tr>\n",
              "    <th>4</th>\n",
              "    <th>0.142918</th>\n",
              "  </tr>\n",
              "  <tr>\n",
              "    <th>5</th>\n",
              "    <th>0.107630</th>\n",
              "  </tr>\n",
              "</table>\n",
              "\n",
              "\n",
              "    <div>\n",
              "        <style>\n",
              "            /* Turns off some styling */\n",
              "            progress {\n",
              "                /* gets rid of default border in Firefox and Opera. */\n",
              "                border: none;\n",
              "                /* Needs to be in here for Safari polyfill so background images work as expected. */\n",
              "                background-size: auto;\n",
              "            }\n",
              "            .progress-bar-interrupted, .progress-bar-interrupted::-webkit-progress-bar {\n",
              "                background: #F44336;\n",
              "            }\n",
              "        </style>\n",
              "      <progress value='0' class='progress-bar-interrupted' max='17', style='width:300px; height:20px; vertical-align: middle;'></progress>\n",
              "      Interrupted\n",
              "    </div>\n",
              "    "
            ],
            "text/plain": [
              "<IPython.core.display.HTML object>"
            ]
          },
          "metadata": {
            "tags": []
          }
        },
        {
          "output_type": "stream",
          "text": [
            "LR Finder is complete, type {learner_name}.recorder.plot() to see the graph.\n"
          ],
          "name": "stdout"
        },
        {
          "output_type": "display_data",
          "data": {
            "image/png": "[encoded data removed]",
            "text/plain": [
              "<matplotlib.figure.Figure at 0x7f0f60e682b0>"
            ]
          },
          "metadata": {
            "tags": []
          }
        }
      ]
    },
    {
      "metadata": {
        "id": "rxK5v1xwUBf2",
        "colab_type": "code",
        "colab": {}
      },
      "cell_type": "code",
      "source": [
        "learn.save('stage-0-aurec')"
      ],
      "execution_count": 0,
      "outputs": []
    },
    {
      "metadata": {
        "id": "BGa_QZsyUQFp",
        "colab_type": "code",
        "outputId": "2acb5e10-7b6e-45bb-9396-dd75536e27a2",
        "colab": {
          "base_uri": "https://localhost:8080/",
          "height": 877
        }
      },
      "cell_type": "code",
      "source": [
        "learn.load('stage-0-aurec')"
      ],
      "execution_count": 0,
      "outputs": [
        {
          "output_type": "execute_result",
          "data": {
            "text/plain": [
              "Learner(data=TabularDataBunch;\n",
              "\n",
              "Train: LabelList\n",
              "y: FloatList (1088 items)\n",
              "[FloatItem 0.8999999761581421, FloatItem 0.8100000023841858, FloatItem 0.7699999809265137, FloatItem 0.7900000214576721, FloatItem 0.8700000047683716]...\n",
              "Path: /content/data\n",
              "x: TabularList (1088 items)\n",
              "[TabularLine geocod 5; bound 5; midx -1.3907; midy -0.8565; midz 2.3147; topx -1.3904; topy -0.8565; topz 2.3147; botx -1.3910; boty -0.8565; botz 2.3147; length -0.2174; from 0.2805; to 0.1315; , TabularLine geocod 5; bound 5; midx -1.4345; midy -0.7813; midz 0.6602; topx -1.4352; topy -0.7813; topz 0.6602; botx -1.4339; boty -0.7813; botz 0.6602; length 0.8251; from -0.4331; to 0.1315; , TabularLine geocod 5; bound 5; midx -1.4073; midy -0.7872; midz 1.7829; topx -1.4075; topy -0.7872; topz 1.7829; botx -1.4071; boty -0.7872; botz 1.7829; length -0.7387; from 0.9228; to 0.4148; , TabularLine geocod 5; bound 5; midx -1.4181; midy -0.7644; midz 2.7346; topx -1.4192; topy -0.7645; topz 2.7346; botx -1.4170; boty -0.7643; botz 2.7346; length 2.2848; from 0.4233; to 1.9728; , TabularLine geocod 5; bound 5; midx -1.4490; midy -0.7844; midz -0.2319; topx -1.4497; topy -0.7845; topz -0.2319; botx -1.4482; boty -0.7843; botz -0.2319; length 1.1379; from -1.2181; to -0.4351; ]...\n",
              "Path: /content/data;\n",
              "\n",
              "Valid: LabelList\n",
              "y: FloatList (272 items)\n",
              "[FloatItem 0.9700000286102295, FloatItem 0.9800000190734863, FloatItem 0.8999999761581421, FloatItem 0.9399999976158142, FloatItem 0.9700000286102295]...\n",
              "Path: /content/data\n",
              "x: TabularList (272 items)\n",
              "[TabularLine geocod 11; bound 11; midx 0.3931; midy 0.3352; midz 0.6977; topx 0.3925; topy 0.3352; topz 0.6977; botx 0.3937; boty 0.3352; botz 0.6977; length 0.6166; from -0.8613; to -0.4351; , TabularLine geocod 60; bound 60; midx -0.4446; midy -0.6674; midz -0.5326; topx -0.4451; topy -0.6674; topz -0.5326; botx -0.4442; boty -0.6674; botz -0.5326; length 0.1996; from 0.6373; to 0.7689; , TabularLine geocod 18; bound 18; midx 0.3022; midy -0.0289; midz 0.1179; topx 0.3021; topy -0.0289; topz 0.1179; botx 0.3022; boty -0.0289; botz 0.1179; length -1.1557; from 0.2805; to -0.5059; , TabularLine geocod 60; bound 60; midx -0.4044; midy -0.8466; midz -2.0021; topx -0.4040; topy -0.8465; topz -2.0021; botx -0.4047; boty -0.8466; botz -2.0021; length -0.0089; from -0.5758; to -0.5767; , TabularLine geocod 40; bound 40; midx -1.2615; midy -0.5756; midz 0.3959; topx -1.2611; topy -0.5756; topz 0.3959; botx -1.2619; boty -0.5755; botz 0.3959; length 0.0953; from 1.4937; to 1.5479; ]...\n",
              "Path: /content/data;\n",
              "\n",
              "Test: None, model=TabularModel(\n",
              "  (embeds): ModuleList(\n",
              "    (0): Embedding(27, 10)\n",
              "    (1): Embedding(27, 10)\n",
              "  )\n",
              "  (emb_drop): Dropout(p=0.05)\n",
              "  (bn_cont): BatchNorm1d(12, eps=1e-05, momentum=0.1, affine=True, track_running_stats=True)\n",
              "  (layers): Sequential(\n",
              "    (0): Linear(in_features=32, out_features=1000, bias=True)\n",
              "    (1): ReLU(inplace)\n",
              "    (2): BatchNorm1d(1000, eps=1e-05, momentum=0.1, affine=True, track_running_stats=True)\n",
              "    (3): Dropout(p=0.5)\n",
              "    (4): Linear(in_features=1000, out_features=500, bias=True)\n",
              "    (5): ReLU(inplace)\n",
              "    (6): BatchNorm1d(500, eps=1e-05, momentum=0.1, affine=True, track_running_stats=True)\n",
              "    (7): Dropout(p=0.5)\n",
              "    (8): Linear(in_features=500, out_features=1, bias=True)\n",
              "  )\n",
              "), opt_func=functools.partial(<class 'torch.optim.adam.Adam'>, betas=(0.9, 0.99)), loss_func=MSELossFlat(), metrics=[<function exp_rmspe at 0x7f0f675d4620>], true_wd=True, bn_wd=True, wd=0.01, train_bn=True, path=PosixPath('/content/data'), model_dir='models', callback_fns=[<class 'fastai.basic_train.Recorder'>], callbacks=[], layer_groups=[Sequential(\n",
              "  (0): Embedding(27, 10)\n",
              "  (1): Embedding(27, 10)\n",
              "  (2): Dropout(p=0.05)\n",
              "  (3): BatchNorm1d(12, eps=1e-05, momentum=0.1, affine=True, track_running_stats=True)\n",
              "  (4): Linear(in_features=32, out_features=1000, bias=True)\n",
              "  (5): ReLU(inplace)\n",
              "  (6): BatchNorm1d(1000, eps=1e-05, momentum=0.1, affine=True, track_running_stats=True)\n",
              "  (7): Dropout(p=0.5)\n",
              "  (8): Linear(in_features=1000, out_features=500, bias=True)\n",
              "  (9): BatchNorm1d(500, eps=1e-05, momentum=0.1, affine=True, track_running_stats=True)\n",
              "  (10): Dropout(p=0.5)\n",
              "  (11): Linear(in_features=500, out_features=1, bias=True)\n",
              ")])"
            ]
          },
          "metadata": {
            "tags": []
          },
          "execution_count": 68
        }
      ]
    },
    {
      "metadata": {
        "id": "4oAynm0xUS4J",
        "colab_type": "code",
        "colab": {}
      },
      "cell_type": "code",
      "source": [
        "lr = 1e-02\n",
        "wd = 0.1"
      ],
      "execution_count": 0,
      "outputs": []
    },
    {
      "metadata": {
        "id": "ufqiCgxOUV6w",
        "colab_type": "code",
        "outputId": "cad1be77-5d70-459f-dd77-b452eef7fce4",
        "colab": {
          "base_uri": "https://localhost:8080/",
          "height": 715
        }
      },
      "cell_type": "code",
      "source": [
        "#learn.fit_one_cycle(5, slice(lr)) # can either use slice or no slice\n",
        "#learn.fit_one_cycle(15, lr, wd = wd)\n",
        "learn.fit_one_cycle(15, lr)\n",
        "\n",
        "learn.recorder.plot_losses()"
      ],
      "execution_count": 0,
      "outputs": [
        {
          "output_type": "display_data",
          "data": {
            "text/html": [
              "Total time: 00:16 <p><table style='width:300px; margin-bottom:10px'>\n",
              "  <tr>\n",
              "    <th>epoch</th>\n",
              "    <th>train_loss</th>\n",
              "    <th>valid_loss</th>\n",
              "    <th>exp_rmspe</th>\n",
              "  </tr>\n",
              "  <tr>\n",
              "    <th>1</th>\n",
              "    <th>0.130897</th>\n",
              "    <th>0.100778</th>\n",
              "    <th>0.258007</th>\n",
              "  </tr>\n",
              "  <tr>\n",
              "    <th>2</th>\n",
              "    <th>0.097700</th>\n",
              "    <th>0.059137</th>\n",
              "    <th>0.233217</th>\n",
              "  </tr>\n",
              "  <tr>\n",
              "    <th>3</th>\n",
              "    <th>0.078714</th>\n",
              "    <th>0.057617</th>\n",
              "    <th>0.224742</th>\n",
              "  </tr>\n",
              "  <tr>\n",
              "    <th>4</th>\n",
              "    <th>0.058294</th>\n",
              "    <th>0.022876</th>\n",
              "    <th>0.186116</th>\n",
              "  </tr>\n",
              "  <tr>\n",
              "    <th>5</th>\n",
              "    <th>0.045512</th>\n",
              "    <th>0.022961</th>\n",
              "    <th>0.183987</th>\n",
              "  </tr>\n",
              "  <tr>\n",
              "    <th>6</th>\n",
              "    <th>0.037705</th>\n",
              "    <th>0.024671</th>\n",
              "    <th>0.197728</th>\n",
              "  </tr>\n",
              "  <tr>\n",
              "    <th>7</th>\n",
              "    <th>0.032727</th>\n",
              "    <th>0.022468</th>\n",
              "    <th>0.178489</th>\n",
              "  </tr>\n",
              "  <tr>\n",
              "    <th>8</th>\n",
              "    <th>0.029219</th>\n",
              "    <th>0.024128</th>\n",
              "    <th>0.196044</th>\n",
              "  </tr>\n",
              "  <tr>\n",
              "    <th>9</th>\n",
              "    <th>0.026789</th>\n",
              "    <th>0.021828</th>\n",
              "    <th>0.183793</th>\n",
              "  </tr>\n",
              "  <tr>\n",
              "    <th>10</th>\n",
              "    <th>0.024887</th>\n",
              "    <th>0.022162</th>\n",
              "    <th>0.186464</th>\n",
              "  </tr>\n",
              "  <tr>\n",
              "    <th>11</th>\n",
              "    <th>0.023746</th>\n",
              "    <th>0.021609</th>\n",
              "    <th>0.182266</th>\n",
              "  </tr>\n",
              "  <tr>\n",
              "    <th>12</th>\n",
              "    <th>0.022607</th>\n",
              "    <th>0.021462</th>\n",
              "    <th>0.181158</th>\n",
              "  </tr>\n",
              "  <tr>\n",
              "    <th>13</th>\n",
              "    <th>0.021766</th>\n",
              "    <th>0.021617</th>\n",
              "    <th>0.182560</th>\n",
              "  </tr>\n",
              "  <tr>\n",
              "    <th>14</th>\n",
              "    <th>0.021107</th>\n",
              "    <th>0.021257</th>\n",
              "    <th>0.178552</th>\n",
              "  </tr>\n",
              "  <tr>\n",
              "    <th>15</th>\n",
              "    <th>0.020592</th>\n",
              "    <th>0.021243</th>\n",
              "    <th>0.178842</th>\n",
              "  </tr>\n",
              "</table>\n"
            ],
            "text/plain": [
              "<IPython.core.display.HTML object>"
            ]
          },
          "metadata": {
            "tags": []
          }
        },
        {
          "output_type": "display_data",
          "data": {
            "image/png": "[encoded data removed]",
            "text/plain": [
              "<matplotlib.figure.Figure at 0x7f0f609e1fd0>"
            ]
          },
          "metadata": {
            "tags": []
          }
        }
      ]
    },
    {
      "metadata": {
        "id": "kORESZ6RUZ3B",
        "colab_type": "code",
        "colab": {}
      },
      "cell_type": "code",
      "source": [
        "learn.save('stage-1-aurec')"
      ],
      "execution_count": 0,
      "outputs": []
    },
    {
      "metadata": {
        "id": "fzfIExn2VSl9",
        "colab_type": "code",
        "colab": {}
      },
      "cell_type": "code",
      "source": [
        ""
      ],
      "execution_count": 0,
      "outputs": []
    },
    {
      "metadata": {
        "colab_type": "text",
        "id": "zVRb6lCcF053"
      },
      "cell_type": "markdown",
      "source": [
        "### sklearn"
      ]
    },
    {
      "metadata": {
        "id": "jKr9x5ryF7R1",
        "colab_type": "code",
        "colab": {}
      },
      "cell_type": "code",
      "source": [
        "# defining function to evaluate exp_rmspe\n",
        "def inv_y(a): return np.exp(a)\n",
        "\n",
        "def exp_rmspe(y_pred, targ):\n",
        "    targ = inv_y(targ)\n",
        "    pct_var = (targ - inv_y(y_pred))/targ\n",
        "    return math.sqrt((pct_var**2).mean())"
      ],
      "execution_count": 0,
      "outputs": []
    },
    {
      "metadata": {
        "colab_type": "code",
        "id": "jjZ1EK_8F054",
        "colab": {}
      },
      "cell_type": "code",
      "source": [
        "from sklearn.ensemble import RandomForestRegressor\n",
        "from sklearn.model_selection import train_test_split"
      ],
      "execution_count": 0,
      "outputs": []
    },
    {
      "metadata": {
        "colab_type": "code",
        "id": "DBcZpqUPF056",
        "colab": {}
      },
      "cell_type": "code",
      "source": [
        "df_v1 = df[['geocod', 'bound','midx', 'midy', 'midz', 'topx', 'topy', 'topz', 'botx', 'boty', 'botz','length', 'from', 'to']]\n",
        "label_v1 = df['aurec']"
      ],
      "execution_count": 0,
      "outputs": []
    },
    {
      "metadata": {
        "colab_type": "code",
        "id": "DJWnfk0LF058",
        "colab": {}
      },
      "cell_type": "code",
      "source": [
        "x_train, x_test, y_train, y_test = train_test_split(df_v1, label_v1, test_size = 0.2)"
      ],
      "execution_count": 0,
      "outputs": []
    },
    {
      "metadata": {
        "colab_type": "code",
        "outputId": "8b8447b1-f5ab-4534-86ce-77af2e4b8f46",
        "id": "JCNV6Dt3F05-",
        "colab": {
          "base_uri": "https://localhost:8080/",
          "height": 119
        }
      },
      "cell_type": "code",
      "source": [
        "m = RandomForestRegressor(n_estimators=100, max_features=0.99, min_samples_leaf=2,\n",
        "                          n_jobs=-1, oob_score=True)\n",
        "\n",
        "m.fit(x_train, y_train)"
      ],
      "execution_count": 0,
      "outputs": [
        {
          "output_type": "execute_result",
          "data": {
            "text/plain": [
              "RandomForestRegressor(bootstrap=True, criterion='mse', max_depth=None,\n",
              "           max_features=0.99, max_leaf_nodes=None,\n",
              "           min_impurity_decrease=0.0, min_impurity_split=None,\n",
              "           min_samples_leaf=2, min_samples_split=2,\n",
              "           min_weight_fraction_leaf=0.0, n_estimators=100, n_jobs=-1,\n",
              "           oob_score=True, random_state=None, verbose=0, warm_start=False)"
            ]
          },
          "metadata": {
            "tags": []
          },
          "execution_count": 163
        }
      ]
    },
    {
      "metadata": {
        "colab_type": "code",
        "outputId": "a0eb7f9c-adfd-446a-917c-18d800c3071a",
        "id": "FAbhhXMKF06C",
        "colab": {
          "base_uri": "https://localhost:8080/",
          "height": 34
        }
      },
      "cell_type": "code",
      "source": [
        "preds = m.predict(x_test)\n",
        "exp_rmspe(preds, y_test)"
      ],
      "execution_count": 0,
      "outputs": [
        {
          "output_type": "execute_result",
          "data": {
            "text/plain": [
              "0.1748707590138054"
            ]
          },
          "metadata": {
            "tags": []
          },
          "execution_count": 164
        }
      ]
    },
    {
      "metadata": {
        "id": "RjQ9TAgFHfsQ",
        "colab_type": "code",
        "outputId": "877e63a0-b85d-44a5-9f1f-fa8095e7faeb",
        "colab": {
          "base_uri": "https://localhost:8080/",
          "height": 34
        }
      },
      "cell_type": "code",
      "source": [
        "from sklearn.metrics import mean_squared_error\n",
        "\n",
        "mean_squared_error(preds, y_test)"
      ],
      "execution_count": 0,
      "outputs": [
        {
          "output_type": "execute_result",
          "data": {
            "text/plain": [
              "0.019864753178175567"
            ]
          },
          "metadata": {
            "tags": []
          },
          "execution_count": 166
        }
      ]
    },
    {
      "metadata": {
        "id": "ZRT2DCfpHJ9e",
        "colab_type": "code",
        "outputId": "02608396-ae0c-4a44-bfd0-9904bc073479",
        "colab": {
          "base_uri": "https://localhost:8080/",
          "height": 34
        }
      },
      "cell_type": "code",
      "source": [
        "m.score(x_test, y_test)"
      ],
      "execution_count": 0,
      "outputs": [
        {
          "output_type": "execute_result",
          "data": {
            "text/plain": [
              "-0.029517996103734623"
            ]
          },
          "metadata": {
            "tags": []
          },
          "execution_count": 165
        }
      ]
    },
    {
      "metadata": {
        "colab_type": "text",
        "id": "GzP8pXmzZHtg"
      },
      "cell_type": "markdown",
      "source": [
        "## predicting silver recovery rate"
      ]
    },
    {
      "metadata": {
        "id": "5adIvgIEGPxO",
        "colab_type": "text"
      },
      "cell_type": "markdown",
      "source": [
        "### deep learning\n"
      ]
    },
    {
      "metadata": {
        "id": "AdenMZrMZpKL",
        "colab_type": "code",
        "colab": {}
      },
      "cell_type": "code",
      "source": [
        "df['agrec']=df['agrec'].replace(-99,0.001, inplace = False)"
      ],
      "execution_count": 0,
      "outputs": []
    },
    {
      "metadata": {
        "id": "I8W9IbUUAr0S",
        "colab_type": "code",
        "outputId": "64d265d4-6ff2-402c-aef5-0bc9976539bd",
        "colab": {
          "base_uri": "https://localhost:8080/",
          "height": 34
        }
      },
      "cell_type": "code",
      "source": [
        "df['agrec'][131]"
      ],
      "execution_count": 0,
      "outputs": [
        {
          "output_type": "execute_result",
          "data": {
            "text/plain": [
              "0.001"
            ]
          },
          "metadata": {
            "tags": []
          },
          "execution_count": 17
        }
      ]
    },
    {
      "metadata": {
        "id": "8y-0XQ9ijGdE",
        "colab_type": "code",
        "outputId": "63637f74-cf0a-4b79-808c-08d39760e7d0",
        "colab": {
          "base_uri": "https://localhost:8080/",
          "height": 34
        }
      },
      "cell_type": "code",
      "source": [
        "df['nacnc'][209]"
      ],
      "execution_count": 0,
      "outputs": [
        {
          "output_type": "execute_result",
          "data": {
            "text/plain": [
              "0.001"
            ]
          },
          "metadata": {
            "tags": []
          },
          "execution_count": 22
        }
      ]
    },
    {
      "metadata": {
        "id": "EWW4mjTrAahC",
        "colab_type": "code",
        "colab": {}
      },
      "cell_type": "code",
      "source": [
        ""
      ],
      "execution_count": 0,
      "outputs": []
    },
    {
      "metadata": {
        "colab_type": "code",
        "id": "HuRh1uaaZHti",
        "colab": {}
      },
      "cell_type": "code",
      "source": [
        "bs = 256\n",
        "y_range = torch.tensor([0, 1])\n",
        "\n",
        "\n",
        "data = (TabularList.from_df(df, path=path, cat_names=cat_names, cont_names=cont_names, procs=procs)\n",
        "                   .random_split_by_pct(0.2)#split by percent \n",
        "                   .label_from_df(cols='agrec', label_cls=FloatList, log=False)\n",
        "                   .databunch(bs = bs))"
      ],
      "execution_count": 0,
      "outputs": []
    },
    {
      "metadata": {
        "colab_type": "code",
        "id": "tH9WfmJeZHtn",
        "colab": {}
      },
      "cell_type": "code",
      "source": [
        "learn = tabular_learner(data, layers = [1000,500], emb_drop = 0.05, metrics = [exp_rmspe], ps = [0.5, 0.5], y_range=y_range)\n"
      ],
      "execution_count": 0,
      "outputs": []
    },
    {
      "metadata": {
        "colab_type": "code",
        "id": "V4y6mUukZHtp",
        "colab": {}
      },
      "cell_type": "code",
      "source": [
        "learn.model"
      ],
      "execution_count": 0,
      "outputs": []
    },
    {
      "metadata": {
        "colab_type": "code",
        "outputId": "20661454-df25-4e7c-d481-3d7f1a308080",
        "id": "CTXU59FMZHtu",
        "colab": {
          "base_uri": "https://localhost:8080/",
          "height": 955
        }
      },
      "cell_type": "code",
      "source": [
        "lr_find(learn)\n",
        "learn.recorder.plot()"
      ],
      "execution_count": 0,
      "outputs": [
        {
          "output_type": "display_data",
          "data": {
            "text/html": [
              "\n",
              "    <div>\n",
              "        <style>\n",
              "            /* Turns off some styling */\n",
              "            progress {\n",
              "                /* gets rid of default border in Firefox and Opera. */\n",
              "                border: none;\n",
              "                /* Needs to be in here for Safari polyfill so background images work as expected. */\n",
              "                background-size: auto;\n",
              "            }\n",
              "            .progress-bar-interrupted, .progress-bar-interrupted::-webkit-progress-bar {\n",
              "                background: #F44336;\n",
              "            }\n",
              "        </style>\n",
              "      <progress value='24' class='' max='25', style='width:300px; height:20px; vertical-align: middle;'></progress>\n",
              "      96.00% [24/25 00:06<00:00]\n",
              "    </div>\n",
              "    \n",
              "<table style='width:300px; margin-bottom:10px'>\n",
              "  <tr>\n",
              "    <th>epoch</th>\n",
              "    <th>train_loss</th>\n",
              "    <th>valid_loss</th>\n",
              "    <th>exp_rmspe</th>\n",
              "  </tr>\n",
              "  <tr>\n",
              "    <th>1</th>\n",
              "    <th>0.117303</th>\n",
              "  </tr>\n",
              "  <tr>\n",
              "    <th>2</th>\n",
              "    <th>0.115769</th>\n",
              "  </tr>\n",
              "  <tr>\n",
              "    <th>3</th>\n",
              "    <th>0.115564</th>\n",
              "  </tr>\n",
              "  <tr>\n",
              "    <th>4</th>\n",
              "    <th>0.115937</th>\n",
              "  </tr>\n",
              "  <tr>\n",
              "    <th>5</th>\n",
              "    <th>0.116739</th>\n",
              "  </tr>\n",
              "  <tr>\n",
              "    <th>6</th>\n",
              "    <th>0.115824</th>\n",
              "  </tr>\n",
              "  <tr>\n",
              "    <th>7</th>\n",
              "    <th>0.115836</th>\n",
              "  </tr>\n",
              "  <tr>\n",
              "    <th>8</th>\n",
              "    <th>0.115784</th>\n",
              "  </tr>\n",
              "  <tr>\n",
              "    <th>9</th>\n",
              "    <th>0.115162</th>\n",
              "  </tr>\n",
              "  <tr>\n",
              "    <th>10</th>\n",
              "    <th>0.114477</th>\n",
              "  </tr>\n",
              "  <tr>\n",
              "    <th>11</th>\n",
              "    <th>0.113558</th>\n",
              "  </tr>\n",
              "  <tr>\n",
              "    <th>12</th>\n",
              "    <th>0.112124</th>\n",
              "  </tr>\n",
              "  <tr>\n",
              "    <th>13</th>\n",
              "    <th>0.110220</th>\n",
              "  </tr>\n",
              "  <tr>\n",
              "    <th>14</th>\n",
              "    <th>0.107332</th>\n",
              "  </tr>\n",
              "  <tr>\n",
              "    <th>15</th>\n",
              "    <th>0.102837</th>\n",
              "  </tr>\n",
              "  <tr>\n",
              "    <th>16</th>\n",
              "    <th>0.097985</th>\n",
              "  </tr>\n",
              "  <tr>\n",
              "    <th>17</th>\n",
              "    <th>0.093970</th>\n",
              "  </tr>\n",
              "  <tr>\n",
              "    <th>18</th>\n",
              "    <th>0.090463</th>\n",
              "  </tr>\n",
              "  <tr>\n",
              "    <th>19</th>\n",
              "    <th>0.087643</th>\n",
              "  </tr>\n",
              "  <tr>\n",
              "    <th>20</th>\n",
              "    <th>0.086439</th>\n",
              "  </tr>\n",
              "  <tr>\n",
              "    <th>21</th>\n",
              "    <th>0.087655</th>\n",
              "  </tr>\n",
              "  <tr>\n",
              "    <th>22</th>\n",
              "    <th>0.094908</th>\n",
              "  </tr>\n",
              "  <tr>\n",
              "    <th>23</th>\n",
              "    <th>0.096253</th>\n",
              "  </tr>\n",
              "  <tr>\n",
              "    <th>24</th>\n",
              "    <th>0.098238</th>\n",
              "  </tr>\n",
              "</table>\n",
              "\n",
              "\n",
              "    <div>\n",
              "        <style>\n",
              "            /* Turns off some styling */\n",
              "            progress {\n",
              "                /* gets rid of default border in Firefox and Opera. */\n",
              "                border: none;\n",
              "                /* Needs to be in here for Safari polyfill so background images work as expected. */\n",
              "                background-size: auto;\n",
              "            }\n",
              "            .progress-bar-interrupted, .progress-bar-interrupted::-webkit-progress-bar {\n",
              "                background: #F44336;\n",
              "            }\n",
              "        </style>\n",
              "      <progress value='0' class='progress-bar-interrupted' max='4', style='width:300px; height:20px; vertical-align: middle;'></progress>\n",
              "      Interrupted\n",
              "    </div>\n",
              "    "
            ],
            "text/plain": [
              "<IPython.core.display.HTML object>"
            ]
          },
          "metadata": {
            "tags": []
          }
        },
        {
          "output_type": "stream",
          "text": [
            "LR Finder is complete, type {learner_name}.recorder.plot() to see the graph.\n"
          ],
          "name": "stdout"
        },
        {
          "output_type": "display_data",
          "data": {
            "image/png": "[encoded data removed]",
            "text/plain": [
              "<matplotlib.figure.Figure at 0x7fc00dd9a438>"
            ]
          },
          "metadata": {
            "tags": []
          }
        }
      ]
    },
    {
      "metadata": {
        "colab_type": "code",
        "id": "yfycw9nhZHty",
        "colab": {}
      },
      "cell_type": "code",
      "source": [
        "learn.save('stage-0-agrec')"
      ],
      "execution_count": 0,
      "outputs": []
    },
    {
      "metadata": {
        "colab_type": "code",
        "outputId": "9ff88271-8f85-445b-91ca-d8bbe0b749cc",
        "id": "Kt31tTcgZHt0",
        "colab": {
          "base_uri": "https://localhost:8080/",
          "height": 887
        }
      },
      "cell_type": "code",
      "source": [
        "learn.load('stage-0-agrec')"
      ],
      "execution_count": 0,
      "outputs": [
        {
          "output_type": "execute_result",
          "data": {
            "text/plain": [
              "Learner(data=TabularDataBunch;\n",
              "\n",
              "Train: LabelList\n",
              "y: FloatList (1088 items)\n",
              "[FloatItem 0.76, FloatItem 0.97, FloatItem 0.56, FloatItem 0.92, FloatItem 0.57]...\n",
              "Path: /content/data\n",
              "x: TabularList (1088 items)\n",
              "[TabularLine geocod 5; bound 5; midx -1.3946; midy -0.8561; midz 2.3096; topx -1.3943; topy -0.8561; topz 2.3096; botx -1.3949; boty -0.8561; botz 2.3096; length -0.2352; from 0.2485; to 0.1000; , TabularLine geocod 5; bound 5; midx -1.4049; midy -0.8215; midz 2.5164; topx -1.4057; topy -0.8214; topz 2.5164; botx -1.4040; boty -0.8215; botz 2.5164; length 1.5296; from 0.4452; to 1.4044; , TabularLine geocod 5; bound 5; midx -1.4053; midy -0.8122; midz 2.5169; topx -1.4055; topy -0.8122; topz 2.5169; botx -1.4050; boty -0.8122; botz 2.5169; length -0.4428; from -0.7348; to -1.0088; , TabularLine geocod 5; bound 5; midx -1.4389; midy -0.7799; midz 0.6636; topx -1.4396; topy -0.7799; topz 0.6636; botx -1.4383; boty -0.7799; botz 0.6636; length 0.8029; from -0.4070; to 0.1000; , TabularLine geocod 5; bound 5; midx -1.4114; midy -0.7859; midz 1.7805; topx -1.4116; topy -0.7859; topz 1.7805; botx -1.4112; boty -0.7859; botz 1.7805; length -0.7542; from 0.8385; to 0.3609; ]...\n",
              "Path: /content/data;\n",
              "\n",
              "Valid: LabelList\n",
              "y: FloatList (272 items)\n",
              "[FloatItem 0.95, FloatItem 0.52, FloatItem 0.77, FloatItem 0.78, FloatItem 0.89]...\n",
              "Path: /content/data\n",
              "x: TabularList (272 items)\n",
              "[TabularLine geocod 19; bound 19; midx 0.3339; midy 0.0987; midz 0.2887; topx 0.3336; topy 0.0986; topz 0.2887; botx 0.3342; boty 0.0987; botz 0.2887; length -0.1314; from 0.1174; to 0.0348; , TabularLine geocod 11; bound 11; midx 0.3843; midy 0.3128; midz -0.6809; topx 0.3840; topy 0.3128; topz -0.6809; botx 0.3847; boty 0.3128; botz -0.6809; length -0.1314; from -0.2103; to -0.2913; , TabularLine geocod 76; bound 76; midx 1.0933; midy 0.3813; midz 0.6112; topx 1.0936; topy 0.3813; topz 0.6112; botx 1.0930; boty 0.3813; botz 0.6112; length -0.4428; from 0.1174; to -0.1609; , TabularLine geocod 7; bound 7; midx -1.3611; midy -1.1704; midz -1.4579; topx -1.3609; topy -1.1704; topz -1.4579; botx -1.3613; boty -1.1704; botz -1.4579; length -0.6504; from 1.2318; to 0.8174; , TabularLine geocod 50; bound 50; midx -0.2574; midy -0.7437; midz -0.8507; topx -0.2572; topy -0.7437; topz -0.8507; botx -0.2576; boty -0.7437; botz -0.8507; length -0.7542; from 0.5108; to 0.0348; ]...\n",
              "Path: /content/data;\n",
              "\n",
              "Test: None, model=TabularModel(\n",
              "  (embeds): ModuleList(\n",
              "    (0): Embedding(26, 10)\n",
              "    (1): Embedding(26, 10)\n",
              "  )\n",
              "  (emb_drop): Dropout(p=0.05)\n",
              "  (bn_cont): BatchNorm1d(12, eps=1e-05, momentum=0.1, affine=True, track_running_stats=True)\n",
              "  (layers): Sequential(\n",
              "    (0): Linear(in_features=32, out_features=1000, bias=True)\n",
              "    (1): ReLU(inplace)\n",
              "    (2): BatchNorm1d(1000, eps=1e-05, momentum=0.1, affine=True, track_running_stats=True)\n",
              "    (3): Dropout(p=0.5)\n",
              "    (4): Linear(in_features=1000, out_features=500, bias=True)\n",
              "    (5): ReLU(inplace)\n",
              "    (6): BatchNorm1d(500, eps=1e-05, momentum=0.1, affine=True, track_running_stats=True)\n",
              "    (7): Dropout(p=0.5)\n",
              "    (8): Linear(in_features=500, out_features=1, bias=True)\n",
              "  )\n",
              "), opt_func=functools.partial(<class 'torch.optim.adam.Adam'>, betas=(0.9, 0.99)), loss_func=<fastai.layers.FlattenedLoss object at 0x7fc00f1f2668>, metrics=[<function exp_rmspe at 0x7fc02034ee18>], true_wd=True, bn_wd=True, wd=0.01, train_bn=True, path=PosixPath('/content/data'), model_dir='models', callback_fns=[<class 'fastai.basic_train.Recorder'>], callbacks=[], layer_groups=[Sequential(\n",
              "  (0): Embedding(26, 10)\n",
              "  (1): Embedding(26, 10)\n",
              "  (2): Dropout(p=0.05)\n",
              "  (3): BatchNorm1d(12, eps=1e-05, momentum=0.1, affine=True, track_running_stats=True)\n",
              "  (4): Linear(in_features=32, out_features=1000, bias=True)\n",
              "  (5): ReLU(inplace)\n",
              "  (6): BatchNorm1d(1000, eps=1e-05, momentum=0.1, affine=True, track_running_stats=True)\n",
              "  (7): Dropout(p=0.5)\n",
              "  (8): Linear(in_features=1000, out_features=500, bias=True)\n",
              "  (9): BatchNorm1d(500, eps=1e-05, momentum=0.1, affine=True, track_running_stats=True)\n",
              "  (10): Dropout(p=0.5)\n",
              "  (11): Linear(in_features=500, out_features=1, bias=True)\n",
              ")])"
            ]
          },
          "metadata": {
            "tags": []
          },
          "execution_count": 92
        }
      ]
    },
    {
      "metadata": {
        "colab_type": "code",
        "id": "C7bfcLdyZHt4",
        "colab": {}
      },
      "cell_type": "code",
      "source": [
        "lr = 1e-02\n",
        "wd = 0.1"
      ],
      "execution_count": 0,
      "outputs": []
    },
    {
      "metadata": {
        "colab_type": "code",
        "outputId": "f79c2152-305d-4c66-da3c-d34ddb77ddac",
        "id": "MAxTPK07ZHt7",
        "colab": {
          "base_uri": "https://localhost:8080/",
          "height": 1467
        }
      },
      "cell_type": "code",
      "source": [
        "#learn.fit_one_cycle(5, slice(lr)) # can either use slice or no slice\n",
        "#learn.fit_one_cycle(15, lr, wd = wd)\n",
        "learn.fit_one_cycle(50, lr)\n",
        "\n",
        "learn.recorder.plot_losses()"
      ],
      "execution_count": 0,
      "outputs": [
        {
          "output_type": "display_data",
          "data": {
            "text/html": [
              "Total time: 00:21 <p><table style='width:300px; margin-bottom:10px'>\n",
              "  <tr>\n",
              "    <th>epoch</th>\n",
              "    <th>train_loss</th>\n",
              "    <th>valid_loss</th>\n",
              "    <th>exp_rmspe</th>\n",
              "  </tr>\n",
              "  <tr>\n",
              "    <th>1</th>\n",
              "    <th>0.107474</th>\n",
              "    <th>0.107763</th>\n",
              "    <th>0.280480</th>\n",
              "  </tr>\n",
              "  <tr>\n",
              "    <th>2</th>\n",
              "    <th>0.101217</th>\n",
              "    <th>0.102077</th>\n",
              "    <th>0.273621</th>\n",
              "  </tr>\n",
              "  <tr>\n",
              "    <th>3</th>\n",
              "    <th>0.092207</th>\n",
              "    <th>0.092430</th>\n",
              "    <th>0.260413</th>\n",
              "  </tr>\n",
              "  <tr>\n",
              "    <th>4</th>\n",
              "    <th>0.084343</th>\n",
              "    <th>0.074060</th>\n",
              "    <th>0.238365</th>\n",
              "  </tr>\n",
              "  <tr>\n",
              "    <th>5</th>\n",
              "    <th>0.078662</th>\n",
              "    <th>0.060205</th>\n",
              "    <th>0.225744</th>\n",
              "  </tr>\n",
              "  <tr>\n",
              "    <th>6</th>\n",
              "    <th>0.074897</th>\n",
              "    <th>0.053012</th>\n",
              "    <th>0.224117</th>\n",
              "  </tr>\n",
              "  <tr>\n",
              "    <th>7</th>\n",
              "    <th>0.071782</th>\n",
              "    <th>0.050570</th>\n",
              "    <th>0.222533</th>\n",
              "  </tr>\n",
              "  <tr>\n",
              "    <th>8</th>\n",
              "    <th>0.069770</th>\n",
              "    <th>0.050812</th>\n",
              "    <th>0.217715</th>\n",
              "  </tr>\n",
              "  <tr>\n",
              "    <th>9</th>\n",
              "    <th>0.067782</th>\n",
              "    <th>0.050512</th>\n",
              "    <th>0.214889</th>\n",
              "  </tr>\n",
              "  <tr>\n",
              "    <th>10</th>\n",
              "    <th>0.065909</th>\n",
              "    <th>0.050672</th>\n",
              "    <th>0.215019</th>\n",
              "  </tr>\n",
              "  <tr>\n",
              "    <th>11</th>\n",
              "    <th>0.064220</th>\n",
              "    <th>0.050175</th>\n",
              "    <th>0.211560</th>\n",
              "  </tr>\n",
              "  <tr>\n",
              "    <th>12</th>\n",
              "    <th>0.062817</th>\n",
              "    <th>0.048739</th>\n",
              "    <th>0.210432</th>\n",
              "  </tr>\n",
              "  <tr>\n",
              "    <th>13</th>\n",
              "    <th>0.062287</th>\n",
              "    <th>0.051925</th>\n",
              "    <th>0.226939</th>\n",
              "  </tr>\n",
              "  <tr>\n",
              "    <th>14</th>\n",
              "    <th>0.061406</th>\n",
              "    <th>0.051483</th>\n",
              "    <th>0.211593</th>\n",
              "  </tr>\n",
              "  <tr>\n",
              "    <th>15</th>\n",
              "    <th>0.060502</th>\n",
              "    <th>0.048818</th>\n",
              "    <th>0.220393</th>\n",
              "  </tr>\n",
              "  <tr>\n",
              "    <th>16</th>\n",
              "    <th>0.059874</th>\n",
              "    <th>0.049675</th>\n",
              "    <th>0.212529</th>\n",
              "  </tr>\n",
              "  <tr>\n",
              "    <th>17</th>\n",
              "    <th>0.059060</th>\n",
              "    <th>0.049049</th>\n",
              "    <th>0.212127</th>\n",
              "  </tr>\n",
              "  <tr>\n",
              "    <th>18</th>\n",
              "    <th>0.058683</th>\n",
              "    <th>0.049822</th>\n",
              "    <th>0.218653</th>\n",
              "  </tr>\n",
              "  <tr>\n",
              "    <th>19</th>\n",
              "    <th>0.058297</th>\n",
              "    <th>0.050215</th>\n",
              "    <th>0.209681</th>\n",
              "  </tr>\n",
              "  <tr>\n",
              "    <th>20</th>\n",
              "    <th>0.057792</th>\n",
              "    <th>0.048982</th>\n",
              "    <th>0.212775</th>\n",
              "  </tr>\n",
              "  <tr>\n",
              "    <th>21</th>\n",
              "    <th>0.057408</th>\n",
              "    <th>0.049923</th>\n",
              "    <th>0.210692</th>\n",
              "  </tr>\n",
              "  <tr>\n",
              "    <th>22</th>\n",
              "    <th>0.056962</th>\n",
              "    <th>0.048595</th>\n",
              "    <th>0.216299</th>\n",
              "  </tr>\n",
              "  <tr>\n",
              "    <th>23</th>\n",
              "    <th>0.056456</th>\n",
              "    <th>0.049763</th>\n",
              "    <th>0.211858</th>\n",
              "  </tr>\n",
              "  <tr>\n",
              "    <th>24</th>\n",
              "    <th>0.056171</th>\n",
              "    <th>0.048138</th>\n",
              "    <th>0.208756</th>\n",
              "  </tr>\n",
              "  <tr>\n",
              "    <th>25</th>\n",
              "    <th>0.055647</th>\n",
              "    <th>0.048226</th>\n",
              "    <th>0.214189</th>\n",
              "  </tr>\n",
              "  <tr>\n",
              "    <th>26</th>\n",
              "    <th>0.055277</th>\n",
              "    <th>0.048480</th>\n",
              "    <th>0.212302</th>\n",
              "  </tr>\n",
              "  <tr>\n",
              "    <th>27</th>\n",
              "    <th>0.054775</th>\n",
              "    <th>0.048194</th>\n",
              "    <th>0.209050</th>\n",
              "  </tr>\n",
              "  <tr>\n",
              "    <th>28</th>\n",
              "    <th>0.054401</th>\n",
              "    <th>0.048284</th>\n",
              "    <th>0.211919</th>\n",
              "  </tr>\n",
              "  <tr>\n",
              "    <th>29</th>\n",
              "    <th>0.054139</th>\n",
              "    <th>0.049053</th>\n",
              "    <th>0.207249</th>\n",
              "  </tr>\n",
              "  <tr>\n",
              "    <th>30</th>\n",
              "    <th>0.053833</th>\n",
              "    <th>0.048574</th>\n",
              "    <th>0.208040</th>\n",
              "  </tr>\n",
              "  <tr>\n",
              "    <th>31</th>\n",
              "    <th>0.053491</th>\n",
              "    <th>0.046660</th>\n",
              "    <th>0.206503</th>\n",
              "  </tr>\n",
              "  <tr>\n",
              "    <th>32</th>\n",
              "    <th>0.052278</th>\n",
              "    <th>0.045689</th>\n",
              "    <th>0.248035</th>\n",
              "  </tr>\n",
              "  <tr>\n",
              "    <th>33</th>\n",
              "    <th>0.051030</th>\n",
              "    <th>0.038388</th>\n",
              "    <th>0.251157</th>\n",
              "  </tr>\n",
              "  <tr>\n",
              "    <th>34</th>\n",
              "    <th>0.049826</th>\n",
              "    <th>0.036739</th>\n",
              "    <th>0.238205</th>\n",
              "  </tr>\n",
              "  <tr>\n",
              "    <th>35</th>\n",
              "    <th>0.048604</th>\n",
              "    <th>0.039043</th>\n",
              "    <th>0.241390</th>\n",
              "  </tr>\n",
              "  <tr>\n",
              "    <th>36</th>\n",
              "    <th>0.047414</th>\n",
              "    <th>0.032178</th>\n",
              "    <th>0.207909</th>\n",
              "  </tr>\n",
              "  <tr>\n",
              "    <th>37</th>\n",
              "    <th>0.046285</th>\n",
              "    <th>0.032275</th>\n",
              "    <th>0.206645</th>\n",
              "  </tr>\n",
              "  <tr>\n",
              "    <th>38</th>\n",
              "    <th>0.045153</th>\n",
              "    <th>0.034154</th>\n",
              "    <th>0.213062</th>\n",
              "  </tr>\n",
              "  <tr>\n",
              "    <th>39</th>\n",
              "    <th>0.043921</th>\n",
              "    <th>0.032702</th>\n",
              "    <th>0.206555</th>\n",
              "  </tr>\n",
              "  <tr>\n",
              "    <th>40</th>\n",
              "    <th>0.042889</th>\n",
              "    <th>0.032001</th>\n",
              "    <th>0.204104</th>\n",
              "  </tr>\n",
              "  <tr>\n",
              "    <th>41</th>\n",
              "    <th>0.042037</th>\n",
              "    <th>0.031045</th>\n",
              "    <th>0.199299</th>\n",
              "  </tr>\n",
              "  <tr>\n",
              "    <th>42</th>\n",
              "    <th>0.041180</th>\n",
              "    <th>0.030815</th>\n",
              "    <th>0.197757</th>\n",
              "  </tr>\n",
              "  <tr>\n",
              "    <th>43</th>\n",
              "    <th>0.040446</th>\n",
              "    <th>0.030606</th>\n",
              "    <th>0.197531</th>\n",
              "  </tr>\n",
              "  <tr>\n",
              "    <th>44</th>\n",
              "    <th>0.039777</th>\n",
              "    <th>0.031475</th>\n",
              "    <th>0.202612</th>\n",
              "  </tr>\n",
              "  <tr>\n",
              "    <th>45</th>\n",
              "    <th>0.039132</th>\n",
              "    <th>0.032908</th>\n",
              "    <th>0.209578</th>\n",
              "  </tr>\n",
              "  <tr>\n",
              "    <th>46</th>\n",
              "    <th>0.038623</th>\n",
              "    <th>0.033380</th>\n",
              "    <th>0.211851</th>\n",
              "  </tr>\n",
              "  <tr>\n",
              "    <th>47</th>\n",
              "    <th>0.038215</th>\n",
              "    <th>0.033439</th>\n",
              "    <th>0.212813</th>\n",
              "  </tr>\n",
              "  <tr>\n",
              "    <th>48</th>\n",
              "    <th>0.037718</th>\n",
              "    <th>0.033310</th>\n",
              "    <th>0.212108</th>\n",
              "  </tr>\n",
              "  <tr>\n",
              "    <th>49</th>\n",
              "    <th>0.037184</th>\n",
              "    <th>0.033173</th>\n",
              "    <th>0.210940</th>\n",
              "  </tr>\n",
              "  <tr>\n",
              "    <th>50</th>\n",
              "    <th>0.036790</th>\n",
              "    <th>0.033078</th>\n",
              "    <th>0.210351</th>\n",
              "  </tr>\n",
              "</table>\n"
            ],
            "text/plain": [
              "<IPython.core.display.HTML object>"
            ]
          },
          "metadata": {
            "tags": []
          }
        },
        {
          "output_type": "display_data",
          "data": {
            "image/png": "[encoded data removed]",
            "text/plain": [
              "<matplotlib.figure.Figure at 0x7fd8e41c0668>"
            ]
          },
          "metadata": {
            "tags": []
          }
        }
      ]
    },
    {
      "metadata": {
        "colab_type": "code",
        "id": "lWILU5kpZHuB",
        "colab": {}
      },
      "cell_type": "code",
      "source": [
        "learn.save('stage-1-agrec')"
      ],
      "execution_count": 0,
      "outputs": []
    },
    {
      "metadata": {
        "colab_type": "code",
        "id": "9y-fwrINZHuC",
        "colab": {}
      },
      "cell_type": "code",
      "source": [
        ""
      ],
      "execution_count": 0,
      "outputs": []
    },
    {
      "metadata": {
        "colab_type": "text",
        "id": "UORV7mZhazSY"
      },
      "cell_type": "markdown",
      "source": [
        "## predicting cyanide use"
      ]
    },
    {
      "metadata": {
        "id": "Ui7CaBPrGTSv",
        "colab_type": "text"
      },
      "cell_type": "markdown",
      "source": [
        "### dl"
      ]
    },
    {
      "metadata": {
        "id": "lZgfIU9_a5Bu",
        "colab_type": "code",
        "colab": {}
      },
      "cell_type": "code",
      "source": [
        "# replace -99 with 0\n",
        "df['nacnc'] = df['nacnc'].replace(-99,0.001, inplace = False)"
      ],
      "execution_count": 0,
      "outputs": []
    },
    {
      "metadata": {
        "id": "2scvcvwKBqal",
        "colab_type": "code",
        "outputId": "b54353f4-6c49-4c45-e5f0-a2cc53b3f3d0",
        "colab": {
          "base_uri": "https://localhost:8080/",
          "height": 34
        }
      },
      "cell_type": "code",
      "source": [
        "df['nacnc'][209]\n",
        "\n"
      ],
      "execution_count": 0,
      "outputs": [
        {
          "output_type": "execute_result",
          "data": {
            "text/plain": [
              "0.001"
            ]
          },
          "metadata": {
            "tags": []
          },
          "execution_count": 11
        }
      ]
    },
    {
      "metadata": {
        "colab_type": "code",
        "id": "sujXVFT5azSY",
        "colab": {}
      },
      "cell_type": "code",
      "source": [
        "bs = 256\n",
        "y_range = torch.tensor([0, 15]) # most of values are between 0 to 12.7, chose 15 to be safe\n",
        "\n",
        "\n",
        "data = (TabularList.from_df(df, path=path, cat_names=cat_names, cont_names=cont_names, procs=procs)\n",
        "                   .random_split_by_pct(0.2)#split by percent \n",
        "                   .label_from_df(cols='nacnc', label_cls=FloatList, log=False)\n",
        "                   .databunch(bs = bs))"
      ],
      "execution_count": 0,
      "outputs": []
    },
    {
      "metadata": {
        "colab_type": "code",
        "id": "Y3D9LO-tazSa",
        "colab": {}
      },
      "cell_type": "code",
      "source": [
        "learn = tabular_learner(data, layers = [1000,500], emb_drop = 0.05, metrics = [exp_rmspe], ps = [0.5, 0.5], y_range=y_range)\n"
      ],
      "execution_count": 0,
      "outputs": []
    },
    {
      "metadata": {
        "colab_type": "code",
        "outputId": "bf7175bf-d64d-4a70-c237-e3af0d091f0c",
        "id": "IWoYVzbQazSk",
        "colab": {
          "base_uri": "https://localhost:8080/",
          "height": 340
        }
      },
      "cell_type": "code",
      "source": [
        "learn.model"
      ],
      "execution_count": 0,
      "outputs": [
        {
          "output_type": "execute_result",
          "data": {
            "text/plain": [
              "TabularModel(\n",
              "  (embeds): ModuleList(\n",
              "    (0): Embedding(27, 10)\n",
              "    (1): Embedding(27, 10)\n",
              "  )\n",
              "  (emb_drop): Dropout(p=0.05)\n",
              "  (bn_cont): BatchNorm1d(12, eps=1e-05, momentum=0.1, affine=True, track_running_stats=True)\n",
              "  (layers): Sequential(\n",
              "    (0): Linear(in_features=32, out_features=1000, bias=True)\n",
              "    (1): ReLU(inplace)\n",
              "    (2): BatchNorm1d(1000, eps=1e-05, momentum=0.1, affine=True, track_running_stats=True)\n",
              "    (3): Dropout(p=0.5)\n",
              "    (4): Linear(in_features=1000, out_features=500, bias=True)\n",
              "    (5): ReLU(inplace)\n",
              "    (6): BatchNorm1d(500, eps=1e-05, momentum=0.1, affine=True, track_running_stats=True)\n",
              "    (7): Dropout(p=0.5)\n",
              "    (8): Linear(in_features=500, out_features=1, bias=True)\n",
              "  )\n",
              ")"
            ]
          },
          "metadata": {
            "tags": []
          },
          "execution_count": 29
        }
      ]
    },
    {
      "metadata": {
        "colab_type": "code",
        "outputId": "85098d03-aad3-474b-838b-70023d8b3278",
        "id": "yoUoF6xNazSo",
        "colab": {
          "base_uri": "https://localhost:8080/",
          "height": 955
        }
      },
      "cell_type": "code",
      "source": [
        "lr_find(learn)\n",
        "learn.recorder.plot()"
      ],
      "execution_count": 0,
      "outputs": [
        {
          "output_type": "display_data",
          "data": {
            "text/html": [
              "\n",
              "    <div>\n",
              "        <style>\n",
              "            /* Turns off some styling */\n",
              "            progress {\n",
              "                /* gets rid of default border in Firefox and Opera. */\n",
              "                border: none;\n",
              "                /* Needs to be in here for Safari polyfill so background images work as expected. */\n",
              "                background-size: auto;\n",
              "            }\n",
              "            .progress-bar-interrupted, .progress-bar-interrupted::-webkit-progress-bar {\n",
              "                background: #F44336;\n",
              "            }\n",
              "        </style>\n",
              "      <progress value='24' class='' max='25', style='width:300px; height:20px; vertical-align: middle;'></progress>\n",
              "      96.00% [24/25 00:05<00:00]\n",
              "    </div>\n",
              "    \n",
              "<table style='width:300px; margin-bottom:10px'>\n",
              "  <tr>\n",
              "    <th>epoch</th>\n",
              "    <th>train_loss</th>\n",
              "    <th>valid_loss</th>\n",
              "    <th>exp_rmspe</th>\n",
              "  </tr>\n",
              "  <tr>\n",
              "    <th>1</th>\n",
              "    <th>19.591454</th>\n",
              "  </tr>\n",
              "  <tr>\n",
              "    <th>2</th>\n",
              "    <th>19.689260</th>\n",
              "  </tr>\n",
              "  <tr>\n",
              "    <th>3</th>\n",
              "    <th>19.522285</th>\n",
              "  </tr>\n",
              "  <tr>\n",
              "    <th>4</th>\n",
              "    <th>19.523645</th>\n",
              "  </tr>\n",
              "  <tr>\n",
              "    <th>5</th>\n",
              "    <th>19.531380</th>\n",
              "  </tr>\n",
              "  <tr>\n",
              "    <th>6</th>\n",
              "    <th>19.450033</th>\n",
              "  </tr>\n",
              "  <tr>\n",
              "    <th>7</th>\n",
              "    <th>19.400467</th>\n",
              "  </tr>\n",
              "  <tr>\n",
              "    <th>8</th>\n",
              "    <th>19.226542</th>\n",
              "  </tr>\n",
              "  <tr>\n",
              "    <th>9</th>\n",
              "    <th>19.047609</th>\n",
              "  </tr>\n",
              "  <tr>\n",
              "    <th>10</th>\n",
              "    <th>18.885757</th>\n",
              "  </tr>\n",
              "  <tr>\n",
              "    <th>11</th>\n",
              "    <th>18.838409</th>\n",
              "  </tr>\n",
              "  <tr>\n",
              "    <th>12</th>\n",
              "    <th>18.708704</th>\n",
              "  </tr>\n",
              "  <tr>\n",
              "    <th>13</th>\n",
              "    <th>18.509378</th>\n",
              "  </tr>\n",
              "  <tr>\n",
              "    <th>14</th>\n",
              "    <th>18.097544</th>\n",
              "  </tr>\n",
              "  <tr>\n",
              "    <th>15</th>\n",
              "    <th>17.414188</th>\n",
              "  </tr>\n",
              "  <tr>\n",
              "    <th>16</th>\n",
              "    <th>16.449219</th>\n",
              "  </tr>\n",
              "  <tr>\n",
              "    <th>17</th>\n",
              "    <th>15.294341</th>\n",
              "  </tr>\n",
              "  <tr>\n",
              "    <th>18</th>\n",
              "    <th>14.510856</th>\n",
              "  </tr>\n",
              "  <tr>\n",
              "    <th>19</th>\n",
              "    <th>13.847908</th>\n",
              "  </tr>\n",
              "  <tr>\n",
              "    <th>20</th>\n",
              "    <th>13.882108</th>\n",
              "  </tr>\n",
              "  <tr>\n",
              "    <th>21</th>\n",
              "    <th>14.089314</th>\n",
              "  </tr>\n",
              "  <tr>\n",
              "    <th>22</th>\n",
              "    <th>14.535793</th>\n",
              "  </tr>\n",
              "  <tr>\n",
              "    <th>23</th>\n",
              "    <th>15.157609</th>\n",
              "  </tr>\n",
              "  <tr>\n",
              "    <th>24</th>\n",
              "    <th>16.371967</th>\n",
              "  </tr>\n",
              "</table>\n",
              "\n",
              "\n",
              "    <div>\n",
              "        <style>\n",
              "            /* Turns off some styling */\n",
              "            progress {\n",
              "                /* gets rid of default border in Firefox and Opera. */\n",
              "                border: none;\n",
              "                /* Needs to be in here for Safari polyfill so background images work as expected. */\n",
              "                background-size: auto;\n",
              "            }\n",
              "            .progress-bar-interrupted, .progress-bar-interrupted::-webkit-progress-bar {\n",
              "                background: #F44336;\n",
              "            }\n",
              "        </style>\n",
              "      <progress value='0' class='progress-bar-interrupted' max='4', style='width:300px; height:20px; vertical-align: middle;'></progress>\n",
              "      Interrupted\n",
              "    </div>\n",
              "    "
            ],
            "text/plain": [
              "<IPython.core.display.HTML object>"
            ]
          },
          "metadata": {
            "tags": []
          }
        },
        {
          "output_type": "stream",
          "text": [
            "LR Finder is complete, type {learner_name}.recorder.plot() to see the graph.\n"
          ],
          "name": "stdout"
        },
        {
          "output_type": "display_data",
          "data": {
            "image/png": "[encoded data removed]",
            "text/plain": [
              "<matplotlib.figure.Figure at 0x7f3ad5ba6550>"
            ]
          },
          "metadata": {
            "tags": []
          }
        }
      ]
    },
    {
      "metadata": {
        "colab_type": "code",
        "id": "2dAzVP3PazSr",
        "colab": {}
      },
      "cell_type": "code",
      "source": [
        "learn.save('stage-0-nacnc')"
      ],
      "execution_count": 0,
      "outputs": []
    },
    {
      "metadata": {
        "colab_type": "code",
        "outputId": "bd20b872-cd15-4784-8c83-ce76dbfb4a63",
        "id": "PvjW5xpGazSt",
        "colab": {
          "base_uri": "https://localhost:8080/",
          "height": 887
        }
      },
      "cell_type": "code",
      "source": [
        "learn.load('stage-0-nacnc')"
      ],
      "execution_count": 0,
      "outputs": [
        {
          "output_type": "execute_result",
          "data": {
            "text/plain": [
              "Learner(data=TabularDataBunch;\n",
              "\n",
              "Train: LabelList\n",
              "y: FloatList (1088 items)\n",
              "[FloatItem 5.92, FloatItem 4.14, FloatItem 6.01, FloatItem 0.8, FloatItem 3.85]...\n",
              "Path: /content/data\n",
              "x: TabularList (1088 items)\n",
              "[TabularLine geocod 5; bound 5; midx -1.3494; midy -0.8216; midz 2.2772; topx -1.3491; topy -0.8216; topz 2.2772; botx -1.3497; boty -0.8216; botz 2.2772; length -0.2347; from 0.3393; to 0.1599; , TabularLine geocod 5; bound 5; midx -1.3593; midy -0.7887; midz 2.4800; topx -1.3602; topy -0.7887; topz 2.4800; botx -1.3585; boty -0.7888; botz 2.4800; length 1.4915; from 0.5707; to 1.6868; , TabularLine geocod 5; bound 5; midx -1.3597; midy -0.7799; midz 2.4806; topx -1.3600; topy -0.7799; topz 2.4806; botx -1.3594; boty -0.7799; botz 2.4806; length -0.4378; from -0.8177; to -1.1380; , TabularLine geocod 5; bound 5; midx -1.3922; midy -0.7493; midz 0.6619; topx -1.3928; topy -0.7493; topz 0.6619; botx -1.3915; boty -0.7492; botz 0.6619; length 0.7807; from -0.4320; to 0.1599; , TabularLine geocod 5; bound 5; midx -1.3863; midy -0.7770; midz -0.2075; topx -1.3867; topy -0.7770; topz -0.2075; botx -1.3859; boty -0.7770; botz -0.2075; length -0.0316; from 0.8021; to 0.7707; ]...\n",
              "Path: /content/data;\n",
              "\n",
              "Valid: LabelList\n",
              "y: FloatList (272 items)\n",
              "[FloatItem 3.34, FloatItem 4.01, FloatItem 5.26, FloatItem 4.01, FloatItem 1.81]...\n",
              "Path: /content/data\n",
              "x: TabularList (272 items)\n",
              "[TabularLine geocod 11; bound 11; midx 0.3821; midy 0.2940; midz 0.0208; topx 0.3818; topy 0.2940; topz 0.0208; botx 0.3824; boty 0.2940; botz 0.0208; length -0.2347; from -1.2805; to -1.4433; , TabularLine geocod 16; bound 16; midx -0.0641; midy -0.0365; midz 0.4750; topx -0.0638; topy -0.0364; topz 0.4750; botx -0.0644; boty -0.0365; botz 0.4750; length -0.3363; from 1.2649; to 0.9997; , TabularLine geocod 11; bound 11; midx 0.3557; midy 0.2881; midz -1.0280; topx 0.3551; topy 0.2881; topz -1.0280; botx 0.3563; boty 0.2881; botz -1.0280; length 0.6792; from -0.6634; to -0.1455; , TabularLine geocod 16; bound 16; midx -0.0627; midy -0.0364; midz 0.4750; topx -0.0625; topy -0.0363; topz 0.4750; botx -0.0629; boty -0.0364; botz 0.4750; length -0.8440; from -0.4320; to -1.0616; , TabularLine geocod 74; bound 74; midx 0.6816; midy 0.4991; midz 1.1830; topx 0.6819; topy 0.4991; topz 1.1830; botx 0.6814; boty 0.4991; botz 1.1830; length -0.6409; from 0.8021; to 0.3126; ]...\n",
              "Path: /content/data;\n",
              "\n",
              "Test: None, model=TabularModel(\n",
              "  (embeds): ModuleList(\n",
              "    (0): Embedding(27, 10)\n",
              "    (1): Embedding(27, 10)\n",
              "  )\n",
              "  (emb_drop): Dropout(p=0.05)\n",
              "  (bn_cont): BatchNorm1d(12, eps=1e-05, momentum=0.1, affine=True, track_running_stats=True)\n",
              "  (layers): Sequential(\n",
              "    (0): Linear(in_features=32, out_features=1000, bias=True)\n",
              "    (1): ReLU(inplace)\n",
              "    (2): BatchNorm1d(1000, eps=1e-05, momentum=0.1, affine=True, track_running_stats=True)\n",
              "    (3): Dropout(p=0.5)\n",
              "    (4): Linear(in_features=1000, out_features=500, bias=True)\n",
              "    (5): ReLU(inplace)\n",
              "    (6): BatchNorm1d(500, eps=1e-05, momentum=0.1, affine=True, track_running_stats=True)\n",
              "    (7): Dropout(p=0.5)\n",
              "    (8): Linear(in_features=500, out_features=1, bias=True)\n",
              "  )\n",
              "), opt_func=functools.partial(<class 'torch.optim.adam.Adam'>, betas=(0.9, 0.99)), loss_func=<fastai.layers.FlattenedLoss object at 0x7f3ad5b4f1d0>, metrics=[<function exp_rmspe at 0x7f3adc0af730>], true_wd=True, bn_wd=True, wd=0.01, train_bn=True, path=PosixPath('/content/data'), model_dir='models', callback_fns=[<class 'fastai.basic_train.Recorder'>], callbacks=[], layer_groups=[Sequential(\n",
              "  (0): Embedding(27, 10)\n",
              "  (1): Embedding(27, 10)\n",
              "  (2): Dropout(p=0.05)\n",
              "  (3): BatchNorm1d(12, eps=1e-05, momentum=0.1, affine=True, track_running_stats=True)\n",
              "  (4): Linear(in_features=32, out_features=1000, bias=True)\n",
              "  (5): ReLU(inplace)\n",
              "  (6): BatchNorm1d(1000, eps=1e-05, momentum=0.1, affine=True, track_running_stats=True)\n",
              "  (7): Dropout(p=0.5)\n",
              "  (8): Linear(in_features=1000, out_features=500, bias=True)\n",
              "  (9): BatchNorm1d(500, eps=1e-05, momentum=0.1, affine=True, track_running_stats=True)\n",
              "  (10): Dropout(p=0.5)\n",
              "  (11): Linear(in_features=500, out_features=1, bias=True)\n",
              ")])"
            ]
          },
          "metadata": {
            "tags": []
          },
          "execution_count": 32
        }
      ]
    },
    {
      "metadata": {
        "colab_type": "code",
        "id": "4plK_9TgazSx",
        "colab": {}
      },
      "cell_type": "code",
      "source": [
        "lr = 2e-02\n",
        "wd = 0.1"
      ],
      "execution_count": 0,
      "outputs": []
    },
    {
      "metadata": {
        "colab_type": "code",
        "outputId": "648bd069-2539-4eb0-9a6a-57642f7a7983",
        "id": "_MY2mvasazS0",
        "colab": {
          "base_uri": "https://localhost:8080/",
          "height": 1467
        }
      },
      "cell_type": "code",
      "source": [
        "#learn.fit_one_cycle(5, slice(lr)) # can either use slice or no slice\n",
        "#learn.fit_one_cycle(15, lr, wd = wd)\n",
        "learn.fit_one_cycle(50, lr)\n",
        "\n",
        "learn.recorder.plot_losses()"
      ],
      "execution_count": 0,
      "outputs": [
        {
          "output_type": "display_data",
          "data": {
            "text/html": [
              "Total time: 00:22 <p><table style='width:300px; margin-bottom:10px'>\n",
              "  <tr>\n",
              "    <th>epoch</th>\n",
              "    <th>train_loss</th>\n",
              "    <th>valid_loss</th>\n",
              "    <th>exp_rmspe</th>\n",
              "  </tr>\n",
              "  <tr>\n",
              "    <th>1</th>\n",
              "    <th>20.710394</th>\n",
              "    <th>16.125023</th>\n",
              "    <th>425.167236</th>\n",
              "  </tr>\n",
              "  <tr>\n",
              "    <th>2</th>\n",
              "    <th>18.739710</th>\n",
              "    <th>14.805154</th>\n",
              "    <th>6834.500977</th>\n",
              "  </tr>\n",
              "  <tr>\n",
              "    <th>3</th>\n",
              "    <th>17.032171</th>\n",
              "    <th>11.510360</th>\n",
              "    <th>44525.324219</th>\n",
              "  </tr>\n",
              "  <tr>\n",
              "    <th>4</th>\n",
              "    <th>15.690928</th>\n",
              "    <th>8.558342</th>\n",
              "    <th>52436.230469</th>\n",
              "  </tr>\n",
              "  <tr>\n",
              "    <th>5</th>\n",
              "    <th>14.646087</th>\n",
              "    <th>7.607756</th>\n",
              "    <th>53024.683594</th>\n",
              "  </tr>\n",
              "  <tr>\n",
              "    <th>6</th>\n",
              "    <th>13.942897</th>\n",
              "    <th>7.249005</th>\n",
              "    <th>53051.023438</th>\n",
              "  </tr>\n",
              "  <tr>\n",
              "    <th>7</th>\n",
              "    <th>13.426142</th>\n",
              "    <th>7.152631</th>\n",
              "    <th>52960.093750</th>\n",
              "  </tr>\n",
              "  <tr>\n",
              "    <th>8</th>\n",
              "    <th>12.957146</th>\n",
              "    <th>7.193572</th>\n",
              "    <th>52922.937500</th>\n",
              "  </tr>\n",
              "  <tr>\n",
              "    <th>9</th>\n",
              "    <th>12.651632</th>\n",
              "    <th>7.262598</th>\n",
              "    <th>53059.406250</th>\n",
              "  </tr>\n",
              "  <tr>\n",
              "    <th>10</th>\n",
              "    <th>12.341368</th>\n",
              "    <th>7.130684</th>\n",
              "    <th>52869.562500</th>\n",
              "  </tr>\n",
              "  <tr>\n",
              "    <th>11</th>\n",
              "    <th>12.074006</th>\n",
              "    <th>7.031295</th>\n",
              "    <th>52754.285156</th>\n",
              "  </tr>\n",
              "  <tr>\n",
              "    <th>12</th>\n",
              "    <th>11.922664</th>\n",
              "    <th>7.051712</th>\n",
              "    <th>51501.250000</th>\n",
              "  </tr>\n",
              "  <tr>\n",
              "    <th>13</th>\n",
              "    <th>11.750416</th>\n",
              "    <th>5.290518</th>\n",
              "    <th>63.519310</th>\n",
              "  </tr>\n",
              "  <tr>\n",
              "    <th>14</th>\n",
              "    <th>11.179697</th>\n",
              "    <th>7.667554</th>\n",
              "    <th>1.513001</th>\n",
              "  </tr>\n",
              "  <tr>\n",
              "    <th>15</th>\n",
              "    <th>10.675426</th>\n",
              "    <th>5.882977</th>\n",
              "    <th>26.686369</th>\n",
              "  </tr>\n",
              "  <tr>\n",
              "    <th>16</th>\n",
              "    <th>9.965865</th>\n",
              "    <th>4.418909</th>\n",
              "    <th>63.595760</th>\n",
              "  </tr>\n",
              "  <tr>\n",
              "    <th>17</th>\n",
              "    <th>9.360739</th>\n",
              "    <th>4.121693</th>\n",
              "    <th>11.421086</th>\n",
              "  </tr>\n",
              "  <tr>\n",
              "    <th>18</th>\n",
              "    <th>8.821997</th>\n",
              "    <th>3.860238</th>\n",
              "    <th>20.318285</th>\n",
              "  </tr>\n",
              "  <tr>\n",
              "    <th>19</th>\n",
              "    <th>8.319194</th>\n",
              "    <th>4.204495</th>\n",
              "    <th>30.703386</th>\n",
              "  </tr>\n",
              "  <tr>\n",
              "    <th>20</th>\n",
              "    <th>7.904974</th>\n",
              "    <th>3.856802</th>\n",
              "    <th>13.201170</th>\n",
              "  </tr>\n",
              "  <tr>\n",
              "    <th>21</th>\n",
              "    <th>7.517787</th>\n",
              "    <th>3.598817</th>\n",
              "    <th>16.781860</th>\n",
              "  </tr>\n",
              "  <tr>\n",
              "    <th>22</th>\n",
              "    <th>7.156352</th>\n",
              "    <th>3.614362</th>\n",
              "    <th>17.135954</th>\n",
              "  </tr>\n",
              "  <tr>\n",
              "    <th>23</th>\n",
              "    <th>6.838198</th>\n",
              "    <th>3.713217</th>\n",
              "    <th>19.661747</th>\n",
              "  </tr>\n",
              "  <tr>\n",
              "    <th>24</th>\n",
              "    <th>6.543392</th>\n",
              "    <th>3.609877</th>\n",
              "    <th>27.548157</th>\n",
              "  </tr>\n",
              "  <tr>\n",
              "    <th>25</th>\n",
              "    <th>6.287612</th>\n",
              "    <th>3.650820</th>\n",
              "    <th>16.673958</th>\n",
              "  </tr>\n",
              "  <tr>\n",
              "    <th>26</th>\n",
              "    <th>6.045797</th>\n",
              "    <th>3.525111</th>\n",
              "    <th>14.639439</th>\n",
              "  </tr>\n",
              "  <tr>\n",
              "    <th>27</th>\n",
              "    <th>5.828933</th>\n",
              "    <th>3.536489</th>\n",
              "    <th>19.238199</th>\n",
              "  </tr>\n",
              "  <tr>\n",
              "    <th>28</th>\n",
              "    <th>5.635592</th>\n",
              "    <th>3.682007</th>\n",
              "    <th>24.436598</th>\n",
              "  </tr>\n",
              "  <tr>\n",
              "    <th>29</th>\n",
              "    <th>5.453118</th>\n",
              "    <th>3.582586</th>\n",
              "    <th>15.688938</th>\n",
              "  </tr>\n",
              "  <tr>\n",
              "    <th>30</th>\n",
              "    <th>5.281888</th>\n",
              "    <th>3.493287</th>\n",
              "    <th>15.930544</th>\n",
              "  </tr>\n",
              "  <tr>\n",
              "    <th>31</th>\n",
              "    <th>5.125655</th>\n",
              "    <th>3.631102</th>\n",
              "    <th>20.611025</th>\n",
              "  </tr>\n",
              "  <tr>\n",
              "    <th>32</th>\n",
              "    <th>4.996737</th>\n",
              "    <th>3.513791</th>\n",
              "    <th>14.436841</th>\n",
              "  </tr>\n",
              "  <tr>\n",
              "    <th>33</th>\n",
              "    <th>4.861566</th>\n",
              "    <th>3.520949</th>\n",
              "    <th>20.579792</th>\n",
              "  </tr>\n",
              "  <tr>\n",
              "    <th>34</th>\n",
              "    <th>4.736655</th>\n",
              "    <th>3.581987</th>\n",
              "    <th>29.888399</th>\n",
              "  </tr>\n",
              "  <tr>\n",
              "    <th>35</th>\n",
              "    <th>4.619470</th>\n",
              "    <th>3.518043</th>\n",
              "    <th>17.837942</th>\n",
              "  </tr>\n",
              "  <tr>\n",
              "    <th>36</th>\n",
              "    <th>4.527526</th>\n",
              "    <th>3.491679</th>\n",
              "    <th>15.241191</th>\n",
              "  </tr>\n",
              "  <tr>\n",
              "    <th>37</th>\n",
              "    <th>4.424164</th>\n",
              "    <th>3.493959</th>\n",
              "    <th>17.239861</th>\n",
              "  </tr>\n",
              "  <tr>\n",
              "    <th>38</th>\n",
              "    <th>4.337689</th>\n",
              "    <th>3.508086</th>\n",
              "    <th>20.768869</th>\n",
              "  </tr>\n",
              "  <tr>\n",
              "    <th>39</th>\n",
              "    <th>4.258521</th>\n",
              "    <th>3.479425</th>\n",
              "    <th>19.641832</th>\n",
              "  </tr>\n",
              "  <tr>\n",
              "    <th>40</th>\n",
              "    <th>4.182200</th>\n",
              "    <th>3.436143</th>\n",
              "    <th>17.837749</th>\n",
              "  </tr>\n",
              "  <tr>\n",
              "    <th>41</th>\n",
              "    <th>4.105660</th>\n",
              "    <th>3.464386</th>\n",
              "    <th>18.014690</th>\n",
              "  </tr>\n",
              "  <tr>\n",
              "    <th>42</th>\n",
              "    <th>4.043445</th>\n",
              "    <th>3.460959</th>\n",
              "    <th>17.194744</th>\n",
              "  </tr>\n",
              "  <tr>\n",
              "    <th>43</th>\n",
              "    <th>3.984793</th>\n",
              "    <th>3.443791</th>\n",
              "    <th>16.699919</th>\n",
              "  </tr>\n",
              "  <tr>\n",
              "    <th>44</th>\n",
              "    <th>3.927417</th>\n",
              "    <th>3.434667</th>\n",
              "    <th>16.448956</th>\n",
              "  </tr>\n",
              "  <tr>\n",
              "    <th>45</th>\n",
              "    <th>3.871397</th>\n",
              "    <th>3.445077</th>\n",
              "    <th>16.723829</th>\n",
              "  </tr>\n",
              "  <tr>\n",
              "    <th>46</th>\n",
              "    <th>3.819381</th>\n",
              "    <th>3.455276</th>\n",
              "    <th>16.907808</th>\n",
              "  </tr>\n",
              "  <tr>\n",
              "    <th>47</th>\n",
              "    <th>3.768209</th>\n",
              "    <th>3.456439</th>\n",
              "    <th>16.957579</th>\n",
              "  </tr>\n",
              "  <tr>\n",
              "    <th>48</th>\n",
              "    <th>3.727049</th>\n",
              "    <th>3.457786</th>\n",
              "    <th>17.018833</th>\n",
              "  </tr>\n",
              "  <tr>\n",
              "    <th>49</th>\n",
              "    <th>3.677698</th>\n",
              "    <th>3.457048</th>\n",
              "    <th>17.178816</th>\n",
              "  </tr>\n",
              "  <tr>\n",
              "    <th>50</th>\n",
              "    <th>3.646923</th>\n",
              "    <th>3.453622</th>\n",
              "    <th>17.294266</th>\n",
              "  </tr>\n",
              "</table>\n"
            ],
            "text/plain": [
              "<IPython.core.display.HTML object>"
            ]
          },
          "metadata": {
            "tags": []
          }
        },
        {
          "output_type": "display_data",
          "data": {
            "image/png": "[encoded data removed]",
            "text/plain": [
              "<matplotlib.figure.Figure at 0x7fd8e7c96358>"
            ]
          },
          "metadata": {
            "tags": []
          }
        }
      ]
    },
    {
      "metadata": {
        "id": "lo01OoYpbfJZ",
        "colab_type": "code",
        "outputId": "bc43e566-ff4d-40a5-b4bc-28a61220eb50",
        "colab": {
          "base_uri": "https://localhost:8080/",
          "height": 837
        }
      },
      "cell_type": "code",
      "source": [
        "learn.fit_one_cycle(20, lr)\n",
        "\n",
        "learn.recorder.plot_losses()"
      ],
      "execution_count": 0,
      "outputs": [
        {
          "output_type": "display_data",
          "data": {
            "text/html": [
              "Total time: 00:08 <p><table style='width:300px; margin-bottom:10px'>\n",
              "  <tr>\n",
              "    <th>epoch</th>\n",
              "    <th>train_loss</th>\n",
              "    <th>valid_loss</th>\n",
              "    <th>exp_rmspe</th>\n",
              "  </tr>\n",
              "  <tr>\n",
              "    <th>1</th>\n",
              "    <th>2.929053</th>\n",
              "    <th>3.974011</th>\n",
              "    <th>13.329939</th>\n",
              "  </tr>\n",
              "  <tr>\n",
              "    <th>2</th>\n",
              "    <th>2.962072</th>\n",
              "    <th>4.002772</th>\n",
              "    <th>15.653371</th>\n",
              "  </tr>\n",
              "  <tr>\n",
              "    <th>3</th>\n",
              "    <th>2.978585</th>\n",
              "    <th>4.017476</th>\n",
              "    <th>12.931501</th>\n",
              "  </tr>\n",
              "  <tr>\n",
              "    <th>4</th>\n",
              "    <th>2.984585</th>\n",
              "    <th>3.989425</th>\n",
              "    <th>12.234688</th>\n",
              "  </tr>\n",
              "  <tr>\n",
              "    <th>5</th>\n",
              "    <th>2.995338</th>\n",
              "    <th>3.997396</th>\n",
              "    <th>9.914035</th>\n",
              "  </tr>\n",
              "  <tr>\n",
              "    <th>6</th>\n",
              "    <th>3.036026</th>\n",
              "    <th>4.185281</th>\n",
              "    <th>9.985768</th>\n",
              "  </tr>\n",
              "  <tr>\n",
              "    <th>7</th>\n",
              "    <th>3.054359</th>\n",
              "    <th>4.146594</th>\n",
              "    <th>17.069748</th>\n",
              "  </tr>\n",
              "  <tr>\n",
              "    <th>8</th>\n",
              "    <th>3.063830</th>\n",
              "    <th>4.230459</th>\n",
              "    <th>8.430900</th>\n",
              "  </tr>\n",
              "  <tr>\n",
              "    <th>9</th>\n",
              "    <th>3.085938</th>\n",
              "    <th>4.041392</th>\n",
              "    <th>11.306097</th>\n",
              "  </tr>\n",
              "  <tr>\n",
              "    <th>10</th>\n",
              "    <th>3.096784</th>\n",
              "    <th>4.058655</th>\n",
              "    <th>13.312190</th>\n",
              "  </tr>\n",
              "  <tr>\n",
              "    <th>11</th>\n",
              "    <th>3.080165</th>\n",
              "    <th>4.221157</th>\n",
              "    <th>20.187113</th>\n",
              "  </tr>\n",
              "  <tr>\n",
              "    <th>12</th>\n",
              "    <th>3.075207</th>\n",
              "    <th>4.013645</th>\n",
              "    <th>13.635961</th>\n",
              "  </tr>\n",
              "  <tr>\n",
              "    <th>13</th>\n",
              "    <th>3.079260</th>\n",
              "    <th>4.023240</th>\n",
              "    <th>13.224747</th>\n",
              "  </tr>\n",
              "  <tr>\n",
              "    <th>14</th>\n",
              "    <th>3.071375</th>\n",
              "    <th>4.094497</th>\n",
              "    <th>18.090744</th>\n",
              "  </tr>\n",
              "  <tr>\n",
              "    <th>15</th>\n",
              "    <th>3.077364</th>\n",
              "    <th>4.180439</th>\n",
              "    <th>11.656185</th>\n",
              "  </tr>\n",
              "  <tr>\n",
              "    <th>16</th>\n",
              "    <th>3.063687</th>\n",
              "    <th>4.137235</th>\n",
              "    <th>12.740582</th>\n",
              "  </tr>\n",
              "  <tr>\n",
              "    <th>17</th>\n",
              "    <th>3.044919</th>\n",
              "    <th>4.092066</th>\n",
              "    <th>14.502761</th>\n",
              "  </tr>\n",
              "  <tr>\n",
              "    <th>18</th>\n",
              "    <th>3.025905</th>\n",
              "    <th>4.075679</th>\n",
              "    <th>14.927601</th>\n",
              "  </tr>\n",
              "  <tr>\n",
              "    <th>19</th>\n",
              "    <th>3.021967</th>\n",
              "    <th>4.064400</th>\n",
              "    <th>15.024923</th>\n",
              "  </tr>\n",
              "  <tr>\n",
              "    <th>20</th>\n",
              "    <th>3.006778</th>\n",
              "    <th>4.062217</th>\n",
              "    <th>14.873755</th>\n",
              "  </tr>\n",
              "</table>\n"
            ],
            "text/plain": [
              "<IPython.core.display.HTML object>"
            ]
          },
          "metadata": {
            "tags": []
          }
        },
        {
          "output_type": "display_data",
          "data": {
            "image/png": "[encoded data removed]",
            "text/plain": [
              "<matplotlib.figure.Figure at 0x7fc009085668>"
            ]
          },
          "metadata": {
            "tags": []
          }
        }
      ]
    },
    {
      "metadata": {
        "colab_type": "code",
        "id": "XB6ntcSIazS4",
        "colab": {}
      },
      "cell_type": "code",
      "source": [
        "learn.save('stage-1-nacnc')"
      ],
      "execution_count": 0,
      "outputs": []
    },
    {
      "metadata": {
        "colab_type": "code",
        "id": "qgxgyfR8azS7",
        "colab": {}
      },
      "cell_type": "code",
      "source": [
        "# was 26, val loss was 3.21\n",
        "#"
      ],
      "execution_count": 0,
      "outputs": []
    },
    {
      "metadata": {
        "colab_type": "text",
        "id": "TQqgNi0qGVaS"
      },
      "cell_type": "markdown",
      "source": [
        "### sklearn"
      ]
    },
    {
      "metadata": {
        "colab_type": "code",
        "id": "itY9MXf1GVaT",
        "colab": {}
      },
      "cell_type": "code",
      "source": [
        "# defining function to evaluate exp_rmspe\n",
        "def inv_y(a): return np.exp(a)\n",
        "\n",
        "def exp_rmspe(y_pred, targ):\n",
        "    targ = inv_y(targ)\n",
        "    pct_var = (targ - inv_y(y_pred))/targ\n",
        "    return math.sqrt((pct_var**2).mean())"
      ],
      "execution_count": 0,
      "outputs": []
    },
    {
      "metadata": {
        "colab_type": "code",
        "id": "V35D0JmEGVaW",
        "colab": {}
      },
      "cell_type": "code",
      "source": [
        "from sklearn.ensemble import RandomForestRegressor\n",
        "from sklearn.model_selection import train_test_split"
      ],
      "execution_count": 0,
      "outputs": []
    },
    {
      "metadata": {
        "colab_type": "code",
        "id": "mASPtv2MGVaa",
        "colab": {}
      },
      "cell_type": "code",
      "source": [
        "df_v1 = df[['geocod', 'bound','midx', 'midy', 'midz', 'topx', 'topy', 'topz', 'botx', 'boty', 'botz','length', 'from', 'to']]\n",
        "label_v1 = df['nacnc']"
      ],
      "execution_count": 0,
      "outputs": []
    },
    {
      "metadata": {
        "colab_type": "code",
        "id": "fEqCiwInGVad",
        "colab": {}
      },
      "cell_type": "code",
      "source": [
        "x_train, x_test, y_train, y_test = train_test_split(df_v1, label_v1, test_size = 0.2)"
      ],
      "execution_count": 0,
      "outputs": []
    },
    {
      "metadata": {
        "colab_type": "code",
        "outputId": "48122c41-c10d-4a34-984d-82327d512051",
        "id": "i2HPVBWkGVaf",
        "colab": {
          "base_uri": "https://localhost:8080/",
          "height": 119
        }
      },
      "cell_type": "code",
      "source": [
        "m = RandomForestRegressor(n_estimators=100, max_features=0.99, min_samples_leaf=2,\n",
        "                          n_jobs=-1, oob_score=True)\n",
        "\n",
        "m.fit(x_train, y_train)"
      ],
      "execution_count": 0,
      "outputs": [
        {
          "output_type": "execute_result",
          "data": {
            "text/plain": [
              "RandomForestRegressor(bootstrap=True, criterion='mse', max_depth=None,\n",
              "           max_features=0.99, max_leaf_nodes=None,\n",
              "           min_impurity_decrease=0.0, min_impurity_split=None,\n",
              "           min_samples_leaf=2, min_samples_split=2,\n",
              "           min_weight_fraction_leaf=0.0, n_estimators=100, n_jobs=-1,\n",
              "           oob_score=True, random_state=None, verbose=0, warm_start=False)"
            ]
          },
          "metadata": {
            "tags": []
          },
          "execution_count": 171
        }
      ]
    },
    {
      "metadata": {
        "id": "a8zaLdxxGrql",
        "colab_type": "code",
        "outputId": "cb57edb1-6ba6-44e2-84a1-318925ea0fb3",
        "colab": {
          "base_uri": "https://localhost:8080/",
          "height": 34
        }
      },
      "cell_type": "code",
      "source": [
        "from sklearn.metrics import mean_squared_error\n",
        "\n",
        "mean_squared_error(preds, y_test)"
      ],
      "execution_count": 0,
      "outputs": [
        {
          "output_type": "execute_result",
          "data": {
            "text/plain": [
              "13.555636353378976"
            ]
          },
          "metadata": {
            "tags": []
          },
          "execution_count": 172
        }
      ]
    },
    {
      "metadata": {
        "colab_type": "code",
        "outputId": "4d964c0a-4d68-4054-cc30-a51a5de871f6",
        "id": "QsI9K85UGVai",
        "colab": {
          "base_uri": "https://localhost:8080/",
          "height": 34
        }
      },
      "cell_type": "code",
      "source": [
        "preds = m.predict(x_test)\n",
        "exp_rmspe(preds, y_test)"
      ],
      "execution_count": 0,
      "outputs": [
        {
          "output_type": "execute_result",
          "data": {
            "text/plain": [
              "9.094062539827226"
            ]
          },
          "metadata": {
            "tags": []
          },
          "execution_count": 173
        }
      ]
    },
    {
      "metadata": {
        "id": "JmLivvrpGYxb",
        "colab_type": "code",
        "colab": {}
      },
      "cell_type": "code",
      "source": [
        ""
      ],
      "execution_count": 0,
      "outputs": []
    },
    {
      "metadata": {
        "id": "PWgUpsl-gEEu",
        "colab_type": "text"
      },
      "cell_type": "markdown",
      "source": [
        ""
      ]
    },
    {
      "metadata": {
        "id": "f2fs9VxYgD3u",
        "colab_type": "code",
        "colab": {}
      },
      "cell_type": "code",
      "source": [
        ""
      ],
      "execution_count": 0,
      "outputs": []
    }
  ]
}